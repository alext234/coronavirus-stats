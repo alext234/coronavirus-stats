{
 "cells": [
  {
   "cell_type": "code",
   "execution_count": 1,
   "metadata": {},
   "outputs": [],
   "source": [
    "import requests\n",
    "import re\n",
    "import io\n",
    "from bs4 import BeautifulSoup\n",
    "from urllib.parse import urljoin\n",
    "from datetime import datetime\n",
    "# from PyPDF2 import PdfFileReader\n",
    "from pdfminer.high_level import extract_text\n",
    "import logging\n",
    "import sys\n",
    "import pandas as pd\n",
    "\n",
    "\n",
    "logger = logging.getLogger() \n",
    "logger.handlers = [logging.StreamHandler()]\n",
    "logger.setLevel(logging.INFO)\n"
   ]
  },
  {
   "cell_type": "code",
   "execution_count": 2,
   "metadata": {},
   "outputs": [],
   "source": [
    "csv_file = '../data/who-global-cases.csv'\n",
    "png_file = '../images/who-global-cases.png'"
   ]
  },
  {
   "cell_type": "code",
   "execution_count": 3,
   "metadata": {},
   "outputs": [
    {
     "data": {
      "text/plain": [
       "datetime.datetime(2020, 4, 14, 19, 7, 51, 34156)"
      ]
     },
     "execution_count": 3,
     "metadata": {},
     "output_type": "execute_result"
    }
   ],
   "source": [
    "# display the last execute time\n",
    "datetime.now()"
   ]
  },
  {
   "cell_type": "markdown",
   "metadata": {},
   "source": [
    "### Scraping"
   ]
  },
  {
   "cell_type": "code",
   "execution_count": 4,
   "metadata": {},
   "outputs": [],
   "source": [
    "def analyze_report(url):\n",
    "    '''\n",
    "    Analyze a situation report url\n",
    "    '''\n",
    "    response = requests.get(url)\n",
    "    # approach using Py2PDF\n",
    "    #     f_obj = io.BytesIO(response.content)\n",
    "    #     pdf = PdfFileReader(f_obj)\n",
    "    #     page_zero = pdf.getPage(0)  \n",
    "    #     text  = page_zero.extractText()\n",
    "\n",
    "    # using pdfminer\n",
    "    filename=re.sub(\"[\\:\\s\\.]\", \"\", str(datetime.now()))\n",
    "    open(filename, \"wb\").write(response.content)\n",
    "    text = extract_text(filename)\n",
    "    \n",
    "    try:\n",
    "        # use regular expression to extract date\n",
    "        p_date = re.compile(\"Data as .+ by .+ (\\d+ \\w+ 202\\d)\")\n",
    "        m_date = p_date.search(text)\n",
    "        print(m_date)\n",
    "        report_date_str = m_date.group(1).replace(\"\\n\",\"\")\n",
    "        print(report_date_str, m_date.group(1))\n",
    "        report_date = datetime.strptime(report_date_str, '%d %B %Y').strftime('%Y-%m-%d')\n",
    "        print(report_date)\n",
    "        # use regular expression to extract global cases\n",
    "        p_global = re.compile(\"Globally ([\\s\\n0-9]+)\", re.DOTALL)\n",
    "        m_global = p_global.search(text)\n",
    "        global_cases_str = re.sub(r'[\\n\\s]', '', m_global.group(1))\n",
    "\n",
    "        global_cases = int(global_cases_str)\n",
    "\n",
    "        return {\"date\":report_date, \"global_cases\": global_cases, \"report_url\": url}\n",
    "    except AttributeError as e:\n",
    "        logger.warning(f'Unable to extract from \"{url}\" : {e}\\n.')\n",
    "        raise e\n",
    "\n"
   ]
  },
  {
   "cell_type": "code",
   "execution_count": 5,
   "metadata": {},
   "outputs": [],
   "source": [
    "def get_reports_urls(home_url):\n",
    "    '''\n",
    "    Extract situation reports URL from WHO's page\n",
    "    '''\n",
    "    # unable to analyse these reports\n",
    "    skipped_urls = [\n",
    "        'https://www.who.int/docs/default-source/coronaviruse/situation-reports/20200126-sitrep-6-2019--ncov.pdf',\n",
    "        'https://www.who.int/docs/default-source/coronaviruse/situation-reports/20200125-sitrep-5-2019-ncov.pdf',\n",
    "        'https://www.who.int/docs/default-source/coronaviruse/situation-reports/20200124-sitrep-4-2019-ncov.pdf',\n",
    "        'https://www.who.int/docs/default-source/coronaviruse/situation-reports/20200123-sitrep-3-2019-ncov.pdf',\n",
    "        'https://www.who.int/docs/default-source/coronaviruse/situation-reports/20200122-sitrep-2-2019-ncov.pdf',\n",
    "        'https://www.who.int/docs/default-source/coronaviruse/situation-reports/20200121-sitrep-1-2019-ncov.pdf'\n",
    "    ]  \n",
    "    \n",
    "    urls = []\n",
    "    response = requests.get(home_url)\n",
    "    soup = BeautifulSoup(response.content, 'lxml')\n",
    "    tags = soup.find_all('a')\n",
    "    for tag in tags:\n",
    "        if len(tag.contents)>0:\n",
    "            content = str(tag.contents[0])\n",
    "            if \"Situation report - \" in content:\n",
    "                url = urljoin(home_url ,  tag.get('href')).split('?')[0]\n",
    "                \n",
    "                if url not in skipped_urls:\n",
    "                    urls.append(url)\n",
    "\n",
    "    return urls\n"
   ]
  },
  {
   "cell_type": "code",
   "execution_count": null,
   "metadata": {},
   "outputs": [],
   "source": []
  },
  {
   "cell_type": "code",
   "execution_count": 6,
   "metadata": {},
   "outputs": [],
   "source": [
    "def get_WHO_stats():\n",
    "    reports_home_url = 'https://www.who.int/emergencies/diseases/novel-coronavirus-2019/situation-reports/'\n",
    "    reports_urls = get_reports_urls(reports_home_url)\n",
    "    df = pd.read_csv(csv_file)\n",
    "    for url in reports_urls:\n",
    "        if df['report_url'].str.contains(url).any():\n",
    "            print('already processed ', url, ' in previous runs')\n",
    "            continue\n",
    "        stats = analyze_report(url)\n",
    "        df = df.append(stats, ignore_index = True)\n",
    "    return df"
   ]
  },
  {
   "cell_type": "code",
   "execution_count": 7,
   "metadata": {},
   "outputs": [
    {
     "name": "stdout",
     "output_type": "stream",
     "text": [
      "['https://www.who.int/docs/default-source/coronaviruse/situation-reports/20200414-sitrep-85-covid-19.pdf', 'https://www.who.int/docs/default-source/coronaviruse/situation-reports/20200413-sitrep-84-covid-19.pdf', 'https://www.who.int/docs/default-source/coronaviruse/situation-reports/20200412-sitrep-83-covid-19.pdf', 'https://www.who.int/docs/default-source/coronaviruse/situation-reports/20200411-sitrep-82-covid-19.pdf', 'https://www.who.int/docs/default-source/coronaviruse/situation-reports/20200410-sitrep-81-covid-19.pdf', 'https://www.who.int/docs/default-source/coronaviruse/situation-reports/20200409-sitrep-80-covid-19.pdf', 'https://www.who.int/docs/default-source/coronaviruse/situation-reports/20200408-sitrep-79-covid-19.pdf', 'https://www.who.int/docs/default-source/coronaviruse/situation-reports/20200407-sitrep-78-covid-19.pdf', 'https://www.who.int/docs/default-source/coronaviruse/situation-reports/20200406-sitrep-77-covid-19.pdf', 'https://www.who.int/docs/default-source/coronaviruse/situation-reports/20200405-sitrep-76-covid-19.pdf', 'https://www.who.int/docs/default-source/coronaviruse/situation-reports/20200404-sitrep-75-covid-19.pdf', 'https://www.who.int/docs/default-source/coronaviruse/situation-reports/20200403-sitrep-74-covid-19-mp.pdf', 'https://www.who.int/docs/default-source/coronaviruse/situation-reports/20200402-sitrep-73-covid-19.pdf', 'https://www.who.int/docs/default-source/coronaviruse/situation-reports/20200401-sitrep-72-covid-19.pdf', 'https://www.who.int/docs/default-source/coronaviruse/situation-reports/20200330-sitrep-70-covid-19.pdf', 'https://www.who.int/docs/default-source/coronaviruse/situation-reports/20200329-sitrep-69-covid-19.pdf', 'https://www.who.int/docs/default-source/coronaviruse/situation-reports/20200328-sitrep-68-covid-19.pdf', 'https://www.who.int/docs/default-source/coronaviruse/situation-reports/20200327-sitrep-67-covid-19.pdf', 'https://www.who.int/docs/default-source/coronaviruse/situation-reports/20200326-sitrep-66-covid-19.pdf', 'https://www.who.int/docs/default-source/coronaviruse/situation-reports/20200325-sitrep-65-covid-19.pdf', 'https://www.who.int/docs/default-source/coronaviruse/situation-reports/20200324-sitrep-64-covid-19.pdf', 'https://www.who.int/docs/default-source/coronaviruse/situation-reports/20200323-sitrep-63-covid-19.pdf', 'https://www.who.int/docs/default-source/coronaviruse/situation-reports/20200322-sitrep-62-covid-19.pdf', 'https://www.who.int/docs/default-source/coronaviruse/situation-reports/20200321-sitrep-61-covid-19.pdf', 'https://www.who.int/docs/default-source/coronaviruse/situation-reports/20200320-sitrep-60-covid-19.pdf', 'https://www.who.int/docs/default-source/coronaviruse/situation-reports/20200319-sitrep-59-covid-19.pdf', 'https://www.who.int/docs/default-source/coronaviruse/situation-reports/20200318-sitrep-58-covid-19.pdf', 'https://www.who.int/docs/default-source/coronaviruse/situation-reports/20200317-sitrep-57-covid-19.pdf', 'https://www.who.int/docs/default-source/coronaviruse/situation-reports/20200316-sitrep-56-covid-19.pdf', 'https://www.who.int/docs/default-source/coronaviruse/situation-reports/20200315-sitrep-55-covid-19.pdf', 'https://www.who.int/docs/default-source/coronaviruse/situation-reports/20200314-sitrep-54-covid-19.pdf', 'https://www.who.int/docs/default-source/coronaviruse/situation-reports/20200313-sitrep-53-covid-19.pdf', 'https://www.who.int/docs/default-source/coronaviruse/situation-reports/20200312-sitrep-52-covid-19.pdf', 'https://www.who.int/docs/default-source/coronaviruse/situation-reports/20200311-sitrep-51-covid-19.pdf', 'https://www.who.int/docs/default-source/coronaviruse/situation-reports/20200310-sitrep-50-covid-19.pdf', 'https://www.who.int/docs/default-source/coronaviruse/situation-reports/20200309-sitrep-49-covid-19.pdf', 'https://www.who.int/docs/default-source/coronaviruse/situation-reports/20200308-sitrep-48-covid-19.pdf', 'https://www.who.int/docs/default-source/coronaviruse/situation-reports/20200307-sitrep-47-covid-19.pdf', 'https://www.who.int/docs/default-source/coronaviruse/situation-reports/20200306-sitrep-46-covid-19.pdf', 'https://www.who.int/docs/default-source/coronaviruse/situation-reports/20200305-sitrep-45-covid-19.pdf', 'https://www.who.int/docs/default-source/coronaviruse/situation-reports/20200304-sitrep-44-covid-19.pdf', 'https://www.who.int/docs/default-source/coronaviruse/situation-reports/20200303-sitrep-43-covid-19.pdf', 'https://www.who.int/docs/default-source/coronaviruse/situation-reports/20200302-sitrep-42-covid-19.pdf', 'https://www.who.int/docs/default-source/coronaviruse/situation-reports/20200301-sitrep-41-covid-19.pdf', 'https://www.who.int/docs/default-source/coronaviruse/situation-reports/20200229-sitrep-40-covid-19.pdf', 'https://www.who.int/docs/default-source/coronaviruse/situation-reports/20200228-sitrep-39-covid-19.pdf', 'https://www.who.int/docs/default-source/coronaviruse/situation-reports/20200227-sitrep-38-covid-19.pdf', 'https://www.who.int/docs/default-source/coronaviruse/situation-reports/20200226-sitrep-37-covid-19.pdf', 'https://www.who.int/docs/default-source/coronaviruse/situation-reports/20200225-sitrep-36-covid-19.pdf', 'https://www.who.int/docs/default-source/coronaviruse/situation-reports/20200224-sitrep-35-covid-19.pdf', 'https://www.who.int/docs/default-source/coronaviruse/situation-reports/20200223-sitrep-34-covid-19.pdf', 'https://www.who.int/docs/default-source/coronaviruse/situation-reports/20200222-sitrep-33-covid-19.pdf', 'https://www.who.int/docs/default-source/coronaviruse/situation-reports/20200221-sitrep-32-covid-19.pdf', 'https://www.who.int/docs/default-source/coronaviruse/situation-reports/20200220-sitrep-31-covid-19.pdf', 'https://www.who.int/docs/default-source/coronaviruse/situation-reports/20200219-sitrep-30-covid-19.pdf', 'https://www.who.int/docs/default-source/coronaviruse/situation-reports/20200218-sitrep-29-covid-19.pdf', 'https://www.who.int/docs/default-source/coronaviruse/situation-reports/20200217-sitrep-28-covid-19.pdf', 'https://www.who.int/docs/default-source/coronaviruse/situation-reports/20200216-sitrep-27-covid-19.pdf', 'https://www.who.int/docs/default-source/coronaviruse/situation-reports/20200215-sitrep-26-covid-19.pdf', 'https://www.who.int/docs/default-source/coronaviruse/situation-reports/20200214-sitrep-25-covid-19.pdf', 'https://www.who.int/docs/default-source/coronaviruse/situation-reports/20200213-sitrep-24-covid-19.pdf', 'https://www.who.int/docs/default-source/coronaviruse/situation-reports/20200212-sitrep-23-ncov.pdf', 'https://www.who.int/docs/default-source/coronaviruse/situation-reports/20200211-sitrep-22-ncov.pdf', 'https://www.who.int/docs/default-source/coronaviruse/situation-reports/20200210-sitrep-21-ncov.pdf', 'https://www.who.int/docs/default-source/coronaviruse/situation-reports/20200209-sitrep-20-ncov.pdf', 'https://www.who.int/docs/default-source/coronaviruse/situation-reports/20200208-sitrep-19-ncov.pdf', 'https://www.who.int/docs/default-source/coronaviruse/situation-reports/20200207-sitrep-18-ncov.pdf', 'https://www.who.int/docs/default-source/coronaviruse/situation-reports/20200206-sitrep-17-ncov.pdf', 'https://www.who.int/docs/default-source/coronaviruse/situation-reports/20200205-sitrep-16-ncov.pdf', 'https://www.who.int/docs/default-source/coronaviruse/situation-reports/20200204-sitrep-15-ncov.pdf', 'https://www.who.int/docs/default-source/coronaviruse/situation-reports/20200203-sitrep-14-ncov.pdf', 'https://www.who.int/docs/default-source/coronaviruse/situation-reports/20200202-sitrep-13-ncov-v3.pdf', 'https://www.who.int/docs/default-source/coronaviruse/situation-reports/20200201-sitrep-12-ncov.pdf', 'https://www.who.int/docs/default-source/coronaviruse/situation-reports/20200131-sitrep-11-ncov.pdf', 'https://www.who.int/docs/default-source/coronaviruse/situation-reports/20200130-sitrep-10-ncov.pdf', 'https://www.who.int/docs/default-source/coronaviruse/situation-reports/20200129-sitrep-9-ncov-v2.pdf', 'https://www.who.int/docs/default-source/coronaviruse/situation-reports/20200128-sitrep-8-ncov-cleared.pdf', 'https://www.who.int/docs/default-source/coronaviruse/situation-reports/20200127-sitrep-7-2019--ncov.pdf']\n",
      "0     https://www.who.int/docs/default-source/corona...\n",
      "1     https://www.who.int/docs/default-source/corona...\n",
      "2     https://www.who.int/docs/default-source/corona...\n",
      "3     https://www.who.int/docs/default-source/corona...\n",
      "4     https://www.who.int/docs/default-source/corona...\n",
      "                            ...                        \n",
      "76    https://www.who.int/docs/default-source/corona...\n",
      "77    https://www.who.int/docs/default-source/corona...\n",
      "78    https://www.who.int/docs/default-source/corona...\n",
      "79    https://www.who.int/docs/default-source/corona...\n",
      "80    https://www.who.int/docs/default-source/corona...\n",
      "Name: report_url, Length: 81, dtype: object\n"
     ]
    }
   ],
   "source": [
    "reports_urls = get_reports_urls('https://www.who.int/emergencies/diseases/novel-coronavirus-2019/situation-reports')\n",
    "df = pd.read_csv(csv_file)\n",
    "print(reports_urls)\n",
    "print(df['report_url'])"
   ]
  },
  {
   "cell_type": "code",
   "execution_count": 8,
   "metadata": {},
   "outputs": [
    {
     "name": "stderr",
     "output_type": "stream",
     "text": [
      "xref found: pos=b'1226935'\n",
      "read_xref_from: start=1226935, token=/b'xref'\n",
      "xref objects: {}\n",
      "trailer: {'Size': 3897, 'Root': <PDFObjRef:1>, 'Info': <PDFObjRef:100>, 'ID': [b'\\xc1BR\\xe4fo\\xbeB\\xba\\xa3H\\x19sdX\\xe1', b'\\xc1BR\\xe4fo\\xbeB\\xba\\xa3H\\x19sdX\\xe1'], 'Prev': 1148831, 'XRefStm': 1141368}\n",
      "read_xref_from: start=1141368, token=3896\n",
      "xref stream: objid=(0, 3896), fields=1,4,2\n",
      "trailer: {'Type': /'XRef', 'Size': 3896, 'W': [1, 4, 2], 'Root': <PDFObjRef:1>, 'Info': <PDFObjRef:100>, 'ID': [b'\\xc1BR\\xe4fo\\xbeB\\xba\\xa3H\\x19sdX\\xe1', b'\\xc1BR\\xe4fo\\xbeB\\xba\\xa3H\\x19sdX\\xe1'], 'Filter': /'FlateDecode', 'Length': 7256}\n",
      "read_xref_from: start=1148831, token=/b'xref'\n",
      "xref objects: {1: (None, 17, 0), 2: (None, 171, 0), 3: (None, 305, 0), 4: (None, 742, 0), 5: (None, 6840, 0), 6: (None, 7002, 0), 7: (None, 7228, 0), 8: (None, 7281, 0), 9: (None, 7334, 0), 10: (None, 7505, 0), 11: (None, 7747, 0), 12: (None, 7921, 0), 13: (None, 8158, 0), 14: (None, 8329, 0), 15: (None, 8565, 0), 16: (None, 9000, 0), 17: (None, 9292, 0), 18: (None, 9462, 0), 19: (None, 9694, 0), 20: (None, 9826, 0), 21: (None, 9856, 0), 22: (None, 10016, 0), 23: (None, 10090, 0), 24: (None, 10341, 0), 25: (None, 10469, 0), 26: (None, 10499, 0), 27: (None, 10655, 0), 28: (None, 10729, 0), 29: (None, 10963, 0), 30: (None, 11097, 0), 31: (None, 11127, 0), 32: (None, 11289, 0), 33: (None, 11363, 0), 34: (None, 11605, 0), 35: (None, 11839, 0), 36: (None, 12098, 0), 37: (None, 12345, 0), 38: (None, 12522, 0), 39: (None, 12769, 0), 40: (None, 139494, 0), 41: (None, 153108, 0), 42: (None, 161632, 0), 43: (None, 161960, 0), 44: (None, 166577, 0), 45: (None, 166817, 0), 46: (None, 167120, 0), 47: (None, 180595, 0), 48: (None, 180734, 0), 49: (None, 180764, 0), 50: (None, 180931, 0), 51: (None, 181005, 0), 52: (None, 181252, 0), 53: (None, 181534, 0), 54: (None, 196241, 0), 55: (None, 196523, 0), 56: (None, 209869, 0), 57: (None, 210151, 0), 58: (None, 222930, 0), 59: (None, 223223, 0), 60: (None, 236923, 0), 61: (None, 237263, 0), 62: (None, 249489, 0), 63: (None, 249740, 0), 64: (None, 250089, 0), 65: (None, 252898, 0), 66: (None, 360439, 0), 67: (None, 360860, 0), 68: (None, 368053, 0), 69: (None, 368180, 0), 70: (None, 368210, 0), 71: (None, 368365, 0), 72: (None, 368439, 0), 73: (None, 368685, 0), 74: (None, 368902, 0), 75: (None, 369098, 0), 76: (None, 369327, 0), 77: (None, 369626, 0), 78: (None, 369835, 0), 79: (None, 370006, 0), 80: (None, 370197, 0), 81: (None, 370387, 0), 82: (None, 370568, 0), 83: (None, 370815, 0), 84: (None, 371053, 0), 85: (None, 371343, 0), 86: (None, 371631, 0), 87: (None, 371995, 0), 88: (None, 376900, 0), 89: (None, 377093, 0), 90: (None, 377309, 0), 91: (None, 377525, 0), 92: (None, 377740, 0), 93: (None, 377991, 0), 94: (None, 378228, 0), 95: (None, 378555, 0), 96: (None, 380793, 0), 97: (None, 380973, 0), 98: (None, 381224, 0), 99: (None, 381513, 0), 100: (None, 381801, 0), 123: (None, 388096, 0), 146: (None, 388147, 0), 272: (None, 388198, 0), 3607: (None, 424392, 0), 3618: (None, 424444, 0), 3656: (None, 432661, 0), 3678: (None, 432713, 0), 3737: (None, 432765, 0), 3800: (None, 432819, 0), 3805: (None, 432877, 0), 3810: (None, 432935, 0), 3816: (None, 432993, 0), 3821: (None, 433051, 0), 3826: (None, 433109, 0), 3833: (None, 433167, 0), 3850: (None, 433219, 0), 3869: (None, 433274, 0), 3870: (None, 433577, 0), 3871: (None, 501152, 0), 3872: (None, 501226, 0), 3873: (None, 501285, 0), 3874: (None, 501893, 0), 3875: (None, 697713, 0), 3876: (None, 698494, 0), 3877: (None, 699093, 0), 3878: (None, 699122, 0), 3879: (None, 699151, 0), 3880: (None, 699452, 0), 3881: (None, 788312, 0), 3882: (None, 788667, 0), 3883: (None, 789080, 0), 3884: (None, 789383, 0), 3885: (None, 802538, 0), 3886: (None, 802583, 0), 3887: (None, 802888, 0), 3888: (None, 981206, 0), 3889: (None, 981778, 0), 3890: (None, 982197, 0), 3891: (None, 982226, 0), 3892: (None, 1023573, 0), 3893: (None, 1023810, 0), 3894: (None, 1138155, 0), 3895: (None, 1141321, 0), 3896: (None, 1141368, 0)}\n",
      "trailer: {'Size': 3897, 'Root': <PDFObjRef:1>, 'Info': <PDFObjRef:100>, 'ID': [b'\\xc1BR\\xe4fo\\xbeB\\xba\\xa3H\\x19sdX\\xe1', b'\\xc1BR\\xe4fo\\xbeB\\xba\\xa3H\\x19sdX\\xe1']}\n",
      "trailer: {'Size': 3897, 'Root': <PDFObjRef:1>, 'Info': <PDFObjRef:100>, 'ID': [b'\\xc1BR\\xe4fo\\xbeB\\xba\\xa3H\\x19sdX\\xe1', b'\\xc1BR\\xe4fo\\xbeB\\xba\\xa3H\\x19sdX\\xe1']}\n",
      "Pages: Kids=[<PDFObjRef:3>, <PDFObjRef:42>, <PDFObjRef:45>, <PDFObjRef:52>, <PDFObjRef:54>, <PDFObjRef:56>, <PDFObjRef:58>, <PDFObjRef:60>, <PDFObjRef:63>, <PDFObjRef:66>, <PDFObjRef:86>, <PDFObjRef:94>]\n",
      "Page: {'Type': /'Page', 'Parent': <PDFObjRef:2>, 'Resources': {'Font': {'F1': <PDFObjRef:5>, 'F2': <PDFObjRef:9>, 'F3': <PDFObjRef:11>, 'F4': <PDFObjRef:13>, 'F5': <PDFObjRef:17>, 'F6': <PDFObjRef:19>, 'F7': <PDFObjRef:24>, 'F8': <PDFObjRef:29>, 'F9': <PDFObjRef:37>}, 'ExtGState': {'GS7': <PDFObjRef:7>, 'GS8': <PDFObjRef:8>}, 'XObject': {'Image15': <PDFObjRef:15>, 'Image39': <PDFObjRef:39>, 'Image40': <PDFObjRef:40>}, 'ProcSet': [/'PDF', /'Text', /'ImageB', /'ImageC', /'ImageI']}, 'Annots': [<PDFObjRef:34>, <PDFObjRef:35>, <PDFObjRef:36>], 'MediaBox': [0, 0, 595.56, 842.04], 'Contents': <PDFObjRef:4>, 'Group': {'Type': /'Group', 'S': /'Transparency', 'CS': /'DeviceRGB'}, 'Tabs': /'S', 'StructParents': 0}\n",
      "Processing page: <PDFPage: Resources={'Font': {'F1': <PDFObjRef:5>, 'F2': <PDFObjRef:9>, 'F3': <PDFObjRef:11>, 'F4': <PDFObjRef:13>, 'F5': <PDFObjRef:17>, 'F6': <PDFObjRef:19>, 'F7': <PDFObjRef:24>, 'F8': <PDFObjRef:29>, 'F9': <PDFObjRef:37>}, 'ExtGState': {'GS7': <PDFObjRef:7>, 'GS8': <PDFObjRef:8>}, 'XObject': {'Image15': <PDFObjRef:15>, 'Image39': <PDFObjRef:39>, 'Image40': <PDFObjRef:40>}, 'ProcSet': [/'PDF', /'Text', /'ImageB', /'ImageC', /'ImageI']}, MediaBox=[0, 0, 595.56, 842.04]>\n",
      "render_contents: resources={'Font': {'F1': <PDFObjRef:5>, 'F2': <PDFObjRef:9>, 'F3': <PDFObjRef:11>, 'F4': <PDFObjRef:13>, 'F5': <PDFObjRef:17>, 'F6': <PDFObjRef:19>, 'F7': <PDFObjRef:24>, 'F8': <PDFObjRef:29>, 'F9': <PDFObjRef:37>}, 'ExtGState': {'GS7': <PDFObjRef:7>, 'GS8': <PDFObjRef:8>}, 'XObject': {'Image15': <PDFObjRef:15>, 'Image39': <PDFObjRef:39>, 'Image40': <PDFObjRef:40>}, 'ProcSet': [/'PDF', /'Text', /'ImageB', /'ImageC', /'ImageI']}, streams=[<PDFStream(4): raw=6025, {'Filter': /'FlateDecode', 'Length': 6023}>], ctm=(1, 0, 0, 1, 0, 0)\n",
      "get_font: create: objid=5, spec={'Type': /'Font', 'Subtype': /'TrueType', 'Name': /'F1', 'BaseFont': /'ArialMT', 'Encoding': /'WinAnsiEncoding', 'FontDescriptor': <PDFObjRef:6>, 'FirstChar': 32, 'LastChar': 45, 'Widths': <PDFObjRef:3872>}\n",
      "get_font: create: objid=9, spec={'Type': /'Font', 'Subtype': /'TrueType', 'Name': /'F2', 'BaseFont': /'BCDEEE+Calibri', 'Encoding': /'WinAnsiEncoding', 'FontDescriptor': <PDFObjRef:10>, 'FirstChar': 32, 'LastChar': 237, 'Widths': <PDFObjRef:3876>}\n",
      "get_font: create: objid=11, spec={'Type': /'Font', 'Subtype': /'TrueType', 'Name': /'F3', 'BaseFont': /'TimesNewRomanPSMT', 'Encoding': /'WinAnsiEncoding', 'FontDescriptor': <PDFObjRef:12>, 'FirstChar': 32, 'LastChar': 32, 'Widths': <PDFObjRef:3877>}\n",
      "get_font: create: objid=13, spec={'Type': /'Font', 'Subtype': /'TrueType', 'Name': /'F4', 'BaseFont': /'Arial-ItalicMT', 'Encoding': /'WinAnsiEncoding', 'FontDescriptor': <PDFObjRef:14>, 'FirstChar': 32, 'LastChar': 32, 'Widths': <PDFObjRef:3878>}\n",
      "get_font: create: objid=17, spec={'Type': /'Font', 'Subtype': /'TrueType', 'Name': /'F5', 'BaseFont': /'Arial-BoldMT', 'Encoding': /'WinAnsiEncoding', 'FontDescriptor': <PDFObjRef:18>, 'FirstChar': 32, 'LastChar': 167, 'Widths': <PDFObjRef:3882>}\n",
      "get_font: create: objid=19, spec={'Type': /'Font', 'Subtype': /'Type0', 'BaseFont': /'Arial-BoldMT', 'Encoding': /'Identity-H', 'DescendantFonts': <PDFObjRef:20>, 'ToUnicode': <PDFObjRef:3879>}\n",
      "get_font: create: objid=None, spec={'BaseFont': /'Arial-BoldMT', 'Subtype': /'CIDFontType2', 'Type': /'Font', 'CIDToGIDMap': /'Identity', 'DW': 1000, 'CIDSystemInfo': <PDFObjRef:22>, 'FontDescriptor': <PDFObjRef:23>, 'W': <PDFObjRef:3881>, 'Encoding': /'Identity-H', 'ToUnicode': <PDFStream(3879): raw=226, {'Filter': /'FlateDecode', 'Length': 224}>}\n",
      "get_font: create: objid=24, spec={'Type': /'Font', 'Subtype': /'Type0', 'BaseFont': /'SymbolMT', 'Encoding': /'Identity-H', 'DescendantFonts': <PDFObjRef:25>, 'ToUnicode': <PDFObjRef:3883>}\n",
      "get_font: create: objid=None, spec={'BaseFont': /'SymbolMT', 'Subtype': /'CIDFontType2', 'Type': /'Font', 'CIDToGIDMap': /'Identity', 'DW': 1000, 'CIDSystemInfo': <PDFObjRef:27>, 'FontDescriptor': <PDFObjRef:28>, 'W': <PDFObjRef:3885>, 'Encoding': /'Identity-H', 'ToUnicode': <PDFStream(3883): raw=228, {'Filter': /'FlateDecode', 'Length': 226}>}\n",
      "get_font: create: objid=29, spec={'Type': /'Font', 'Subtype': /'Type0', 'BaseFont': /'BCDFEE+Calibri', 'Encoding': /'Identity-H', 'DescendantFonts': <PDFObjRef:30>, 'ToUnicode': <PDFObjRef:3873>}\n",
      "get_font: create: objid=None, spec={'BaseFont': /'BCDFEE+Calibri', 'Subtype': /'CIDFontType2', 'Type': /'Font', 'CIDToGIDMap': /'Identity', 'DW': 1000, 'CIDSystemInfo': <PDFObjRef:32>, 'FontDescriptor': <PDFObjRef:33>, 'W': <PDFObjRef:3875>, 'Encoding': /'Identity-H', 'ToUnicode': <PDFStream(3873): raw=533, {'Filter': /'FlateDecode', 'Length': 531}>}\n",
      "get_font: create: objid=37, spec={'Type': /'Font', 'Subtype': /'TrueType', 'Name': /'F9', 'BaseFont': /'BCDGEE+Calibri-Bold', 'Encoding': /'WinAnsiEncoding', 'FontDescriptor': <PDFObjRef:38>, 'FirstChar': 32, 'LastChar': 167, 'Widths': <PDFObjRef:3889>}\n",
      "Processing xobj: <PDFStream(15): raw=243, {'Type': /'XObject', 'Subtype': /'Image', 'Width': 1566, 'Height': 48, 'ColorSpace': /'DeviceRGB', 'BitsPerComponent': 8, 'Interpolate': False, 'SMask': <PDFObjRef:16>, 'Filter': /'FlateDecode', 'Length': 241}>\n",
      "Processing xobj: <PDFStream(39): raw=126545, {'Type': /'XObject', 'Subtype': /'Image', 'Width': 1409, 'Height': 792, 'ColorSpace': /'DeviceRGB', 'BitsPerComponent': 8, 'Filter': /'DCTDecode', 'Interpolate': True, 'Length': 126543}>\n",
      "Processing xobj: <PDFStream(40): raw=13421, {'Type': /'XObject', 'Subtype': /'Image', 'Width': 276, 'Height': 84, 'ColorSpace': /'DeviceRGB', 'BitsPerComponent': 8, 'Interpolate': False, 'SMask': <PDFObjRef:41>, 'Filter': /'FlateDecode', 'Length': 13419}>\n",
      "Page: {'Type': /'Page', 'Parent': <PDFObjRef:2>, 'Resources': {'Font': {'F5': <PDFObjRef:17>, 'F9': <PDFObjRef:37>, 'F2': <PDFObjRef:9>, 'F1': <PDFObjRef:5>, 'F8': <PDFObjRef:29>}, 'ExtGState': {'GS7': <PDFObjRef:7>, 'GS8': <PDFObjRef:8>}, 'ProcSet': [/'PDF', /'Text', /'ImageB', /'ImageC', /'ImageI']}, 'Annots': [<PDFObjRef:44>], 'MediaBox': [0, 0, 595.56, 842.04], 'Contents': <PDFObjRef:43>, 'Group': {'Type': /'Group', 'S': /'Transparency', 'CS': /'DeviceRGB'}, 'Tabs': /'S', 'StructParents': 4}\n",
      "Processing page: <PDFPage: Resources={'Font': {'F5': <PDFObjRef:17>, 'F9': <PDFObjRef:37>, 'F2': <PDFObjRef:9>, 'F1': <PDFObjRef:5>, 'F8': <PDFObjRef:29>}, 'ExtGState': {'GS7': <PDFObjRef:7>, 'GS8': <PDFObjRef:8>}, 'ProcSet': [/'PDF', /'Text', /'ImageB', /'ImageC', /'ImageI']}, MediaBox=[0, 0, 595.56, 842.04]>\n",
      "render_contents: resources={'Font': {'F5': <PDFObjRef:17>, 'F9': <PDFObjRef:37>, 'F2': <PDFObjRef:9>, 'F1': <PDFObjRef:5>, 'F8': <PDFObjRef:29>}, 'ExtGState': {'GS7': <PDFObjRef:7>, 'GS8': <PDFObjRef:8>}, 'ProcSet': [/'PDF', /'Text', /'ImageB', /'ImageC', /'ImageI']}, streams=[<PDFStream(43): raw=4543, {'Filter': /'FlateDecode', 'Length': 4541}>], ctm=(1, 0, 0, 1, 0, 0)\n",
      "Page: {'Type': /'Page', 'Parent': <PDFObjRef:2>, 'Resources': {'Font': {'F5': <PDFObjRef:17>, 'F9': <PDFObjRef:37>, 'F10': <PDFObjRef:47>, 'F2': <PDFObjRef:9>}, 'ExtGState': {'GS7': <PDFObjRef:7>, 'GS8': <PDFObjRef:8>}, 'ProcSet': [/'PDF', /'Text', /'ImageB', /'ImageC', /'ImageI']}, 'MediaBox': [0, 0, 595.56, 842.04], 'Contents': <PDFObjRef:46>, 'Group': {'Type': /'Group', 'S': /'Transparency', 'CS': /'DeviceRGB'}, 'Tabs': /'S', 'StructParents': 6}\n",
      "Processing page: <PDFPage: Resources={'Font': {'F5': <PDFObjRef:17>, 'F9': <PDFObjRef:37>, 'F10': <PDFObjRef:47>, 'F2': <PDFObjRef:9>}, 'ExtGState': {'GS7': <PDFObjRef:7>, 'GS8': <PDFObjRef:8>}, 'ProcSet': [/'PDF', /'Text', /'ImageB', /'ImageC', /'ImageI']}, MediaBox=[0, 0, 595.56, 842.04]>\n",
      "render_contents: resources={'Font': {'F5': <PDFObjRef:17>, 'F9': <PDFObjRef:37>, 'F10': <PDFObjRef:47>, 'F2': <PDFObjRef:9>}, 'ExtGState': {'GS7': <PDFObjRef:7>, 'GS8': <PDFObjRef:8>}, 'ProcSet': [/'PDF', /'Text', /'ImageB', /'ImageC', /'ImageI']}, streams=[<PDFStream(46): raw=13400, {'Filter': /'FlateDecode', 'Length': 13398}>], ctm=(1, 0, 0, 1, 0, 0)\n",
      "get_font: create: objid=47, spec={'Type': /'Font', 'Subtype': /'Type0', 'BaseFont': /'BCDHEE+Calibri-Bold', 'Encoding': /'Identity-H', 'DescendantFonts': <PDFObjRef:48>, 'ToUnicode': <PDFObjRef:3886>}\n",
      "get_font: create: objid=None, spec={'BaseFont': /'BCDHEE+Calibri-Bold', 'Subtype': /'CIDFontType2', 'Type': /'Font', 'CIDToGIDMap': /'Identity', 'DW': 1000, 'CIDSystemInfo': <PDFObjRef:50>, 'FontDescriptor': <PDFObjRef:51>, 'W': <PDFObjRef:3888>, 'Encoding': /'Identity-H', 'ToUnicode': <PDFStream(3886): raw=230, {'Filter': /'FlateDecode', 'Length': 228}>}\n",
      "Page: {'Type': /'Page', 'Parent': <PDFObjRef:2>, 'Resources': {'Font': {'F2': <PDFObjRef:9>, 'F9': <PDFObjRef:37>}, 'ExtGState': {'GS7': <PDFObjRef:7>, 'GS8': <PDFObjRef:8>}, 'ProcSet': [/'PDF', /'Text', /'ImageB', /'ImageC', /'ImageI']}, 'MediaBox': [0, 0, 595.56, 842.04], 'Contents': <PDFObjRef:53>, 'Group': {'Type': /'Group', 'S': /'Transparency', 'CS': /'DeviceRGB'}, 'Tabs': /'S', 'StructParents': 7}\n",
      "Processing page: <PDFPage: Resources={'Font': {'F2': <PDFObjRef:9>, 'F9': <PDFObjRef:37>}, 'ExtGState': {'GS7': <PDFObjRef:7>, 'GS8': <PDFObjRef:8>}, 'ProcSet': [/'PDF', /'Text', /'ImageB', /'ImageC', /'ImageI']}, MediaBox=[0, 0, 595.56, 842.04]>\n",
      "render_contents: resources={'Font': {'F2': <PDFObjRef:9>, 'F9': <PDFObjRef:37>}, 'ExtGState': {'GS7': <PDFObjRef:7>, 'GS8': <PDFObjRef:8>}, 'ProcSet': [/'PDF', /'Text', /'ImageB', /'ImageC', /'ImageI']}, streams=[<PDFStream(53): raw=14632, {'Filter': /'FlateDecode', 'Length': 14630}>], ctm=(1, 0, 0, 1, 0, 0)\n",
      "Page: {'Type': /'Page', 'Parent': <PDFObjRef:2>, 'Resources': {'Font': {'F2': <PDFObjRef:9>, 'F9': <PDFObjRef:37>}, 'ExtGState': {'GS7': <PDFObjRef:7>, 'GS8': <PDFObjRef:8>}, 'ProcSet': [/'PDF', /'Text', /'ImageB', /'ImageC', /'ImageI']}, 'MediaBox': [0, 0, 595.56, 842.04], 'Contents': <PDFObjRef:55>, 'Group': {'Type': /'Group', 'S': /'Transparency', 'CS': /'DeviceRGB'}, 'Tabs': /'S', 'StructParents': 8}\n",
      "Processing page: <PDFPage: Resources={'Font': {'F2': <PDFObjRef:9>, 'F9': <PDFObjRef:37>}, 'ExtGState': {'GS7': <PDFObjRef:7>, 'GS8': <PDFObjRef:8>}, 'ProcSet': [/'PDF', /'Text', /'ImageB', /'ImageC', /'ImageI']}, MediaBox=[0, 0, 595.56, 842.04]>\n",
      "render_contents: resources={'Font': {'F2': <PDFObjRef:9>, 'F9': <PDFObjRef:37>}, 'ExtGState': {'GS7': <PDFObjRef:7>, 'GS8': <PDFObjRef:8>}, 'ProcSet': [/'PDF', /'Text', /'ImageB', /'ImageC', /'ImageI']}, streams=[<PDFStream(55): raw=13271, {'Filter': /'FlateDecode', 'Length': 13269}>], ctm=(1, 0, 0, 1, 0, 0)\n",
      "Page: {'Type': /'Page', 'Parent': <PDFObjRef:2>, 'Resources': {'Font': {'F2': <PDFObjRef:9>, 'F9': <PDFObjRef:37>}, 'ExtGState': {'GS7': <PDFObjRef:7>, 'GS8': <PDFObjRef:8>}, 'ProcSet': [/'PDF', /'Text', /'ImageB', /'ImageC', /'ImageI']}, 'MediaBox': [0, 0, 595.56, 842.04], 'Contents': <PDFObjRef:57>, 'Group': {'Type': /'Group', 'S': /'Transparency', 'CS': /'DeviceRGB'}, 'Tabs': /'S', 'StructParents': 9}\n",
      "Processing page: <PDFPage: Resources={'Font': {'F2': <PDFObjRef:9>, 'F9': <PDFObjRef:37>}, 'ExtGState': {'GS7': <PDFObjRef:7>, 'GS8': <PDFObjRef:8>}, 'ProcSet': [/'PDF', /'Text', /'ImageB', /'ImageC', /'ImageI']}, MediaBox=[0, 0, 595.56, 842.04]>\n",
      "render_contents: resources={'Font': {'F2': <PDFObjRef:9>, 'F9': <PDFObjRef:37>}, 'ExtGState': {'GS7': <PDFObjRef:7>, 'GS8': <PDFObjRef:8>}, 'ProcSet': [/'PDF', /'Text', /'ImageB', /'ImageC', /'ImageI']}, streams=[<PDFStream(57): raw=12704, {'Filter': /'FlateDecode', 'Length': 12702}>], ctm=(1, 0, 0, 1, 0, 0)\n",
      "Page: {'Type': /'Page', 'Parent': <PDFObjRef:2>, 'Resources': {'Font': {'F2': <PDFObjRef:9>, 'F9': <PDFObjRef:37>, 'F8': <PDFObjRef:29>}, 'ExtGState': {'GS7': <PDFObjRef:7>, 'GS8': <PDFObjRef:8>}, 'ProcSet': [/'PDF', /'Text', /'ImageB', /'ImageC', /'ImageI']}, 'MediaBox': [0, 0, 595.56, 842.04], 'Contents': <PDFObjRef:59>, 'Group': {'Type': /'Group', 'S': /'Transparency', 'CS': /'DeviceRGB'}, 'Tabs': /'S', 'StructParents': 10}\n",
      "Processing page: <PDFPage: Resources={'Font': {'F2': <PDFObjRef:9>, 'F9': <PDFObjRef:37>, 'F8': <PDFObjRef:29>}, 'ExtGState': {'GS7': <PDFObjRef:7>, 'GS8': <PDFObjRef:8>}, 'ProcSet': [/'PDF', /'Text', /'ImageB', /'ImageC', /'ImageI']}, MediaBox=[0, 0, 595.56, 842.04]>\n",
      "render_contents: resources={'Font': {'F2': <PDFObjRef:9>, 'F9': <PDFObjRef:37>, 'F8': <PDFObjRef:29>}, 'ExtGState': {'GS7': <PDFObjRef:7>, 'GS8': <PDFObjRef:8>}, 'ProcSet': [/'PDF', /'Text', /'ImageB', /'ImageC', /'ImageI']}, streams=[<PDFStream(59): raw=13625, {'Filter': /'FlateDecode', 'Length': 13623}>], ctm=(1, 0, 0, 1, 0, 0)\n",
      "Page: {'Type': /'Page', 'Parent': <PDFObjRef:2>, 'Resources': {'Font': {'F2': <PDFObjRef:9>, 'F9': <PDFObjRef:37>, 'F8': <PDFObjRef:29>, 'F1': <PDFObjRef:5>, 'F10': <PDFObjRef:47>, 'F5': <PDFObjRef:17>}, 'ExtGState': {'GS7': <PDFObjRef:7>, 'GS8': <PDFObjRef:8>}, 'ProcSet': [/'PDF', /'Text', /'ImageB', /'ImageC', /'ImageI']}, 'Annots': [<PDFObjRef:62>], 'MediaBox': [0, 0, 595.56, 842.04], 'Contents': <PDFObjRef:61>, 'Group': {'Type': /'Group', 'S': /'Transparency', 'CS': /'DeviceRGB'}, 'Tabs': /'S', 'StructParents': 11}\n",
      "Processing page: <PDFPage: Resources={'Font': {'F2': <PDFObjRef:9>, 'F9': <PDFObjRef:37>, 'F8': <PDFObjRef:29>, 'F1': <PDFObjRef:5>, 'F10': <PDFObjRef:47>, 'F5': <PDFObjRef:17>}, 'ExtGState': {'GS7': <PDFObjRef:7>, 'GS8': <PDFObjRef:8>}, 'ProcSet': [/'PDF', /'Text', /'ImageB', /'ImageC', /'ImageI']}, MediaBox=[0, 0, 595.56, 842.04]>\n",
      "render_contents: resources={'Font': {'F2': <PDFObjRef:9>, 'F9': <PDFObjRef:37>, 'F8': <PDFObjRef:29>, 'F1': <PDFObjRef:5>, 'F10': <PDFObjRef:47>, 'F5': <PDFObjRef:17>}, 'ExtGState': {'GS7': <PDFObjRef:7>, 'GS8': <PDFObjRef:8>}, 'ProcSet': [/'PDF', /'Text', /'ImageB', /'ImageC', /'ImageI']}, streams=[<PDFStream(61): raw=12151, {'Filter': /'FlateDecode', 'Length': 12149}>], ctm=(1, 0, 0, 1, 0, 0)\n",
      "Page: {'Type': /'Page', 'Parent': <PDFObjRef:2>, 'Resources': {'Font': {'F2': <PDFObjRef:9>, 'F9': <PDFObjRef:37>, 'F1': <PDFObjRef:5>, 'F5': <PDFObjRef:17>, 'F8': <PDFObjRef:29>, 'F7': <PDFObjRef:24>}, 'ExtGState': {'GS7': <PDFObjRef:7>, 'GS8': <PDFObjRef:8>}, 'XObject': {'Image65': <PDFObjRef:65>}, 'ProcSet': [/'PDF', /'Text', /'ImageB', /'ImageC', /'ImageI']}, 'MediaBox': [0, 0, 595.56, 842.04], 'Contents': <PDFObjRef:64>, 'Group': {'Type': /'Group', 'S': /'Transparency', 'CS': /'DeviceRGB'}, 'Tabs': /'S', 'StructParents': 13}\n",
      "Processing page: <PDFPage: Resources={'Font': {'F2': <PDFObjRef:9>, 'F9': <PDFObjRef:37>, 'F1': <PDFObjRef:5>, 'F5': <PDFObjRef:17>, 'F8': <PDFObjRef:29>, 'F7': <PDFObjRef:24>}, 'ExtGState': {'GS7': <PDFObjRef:7>, 'GS8': <PDFObjRef:8>}, 'XObject': {'Image65': <PDFObjRef:65>}, 'ProcSet': [/'PDF', /'Text', /'ImageB', /'ImageC', /'ImageI']}, MediaBox=[0, 0, 595.56, 842.04]>\n",
      "render_contents: resources={'Font': {'F2': <PDFObjRef:9>, 'F9': <PDFObjRef:37>, 'F1': <PDFObjRef:5>, 'F5': <PDFObjRef:17>, 'F8': <PDFObjRef:29>, 'F7': <PDFObjRef:24>}, 'ExtGState': {'GS7': <PDFObjRef:7>, 'GS8': <PDFObjRef:8>}, 'XObject': {'Image65': <PDFObjRef:65>}, 'ProcSet': [/'PDF', /'Text', /'ImageB', /'ImageC', /'ImageI']}, streams=[<PDFStream(64): raw=2735, {'Filter': /'FlateDecode', 'Length': 2733}>], ctm=(1, 0, 0, 1, 0, 0)\n",
      "Processing xobj: <PDFStream(65): raw=107358, {'Type': /'XObject', 'Subtype': /'Image', 'Width': 1448, 'Height': 885, 'ColorSpace': /'DeviceRGB', 'BitsPerComponent': 8, 'Interpolate': False, 'Filter': /'FlateDecode', 'Length': 107356}>\n",
      "Page: {'Type': /'Page', 'Parent': <PDFObjRef:2>, 'Resources': {'Font': {'F5': <PDFObjRef:17>, 'F11': <PDFObjRef:68>, 'F1': <PDFObjRef:5>, 'F2': <PDFObjRef:9>, 'F12': <PDFObjRef:81>, 'F8': <PDFObjRef:29>, 'F9': <PDFObjRef:37>}, 'ExtGState': {'GS7': <PDFObjRef:7>, 'GS8': <PDFObjRef:8>}, 'ProcSet': [/'PDF', /'Text', /'ImageB', /'ImageC', /'ImageI']}, 'Annots': [<PDFObjRef:73>, <PDFObjRef:74>, <PDFObjRef:75>, <PDFObjRef:76>, <PDFObjRef:77>, <PDFObjRef:78>, <PDFObjRef:79>, <PDFObjRef:80>, <PDFObjRef:83>, <PDFObjRef:84>, <PDFObjRef:85>], 'MediaBox': [0, 0, 595.56, 842.04], 'Contents': <PDFObjRef:67>, 'Group': {'Type': /'Group', 'S': /'Transparency', 'CS': /'DeviceRGB'}, 'Tabs': /'S', 'StructParents': 14}\n",
      "Processing page: <PDFPage: Resources={'Font': {'F5': <PDFObjRef:17>, 'F11': <PDFObjRef:68>, 'F1': <PDFObjRef:5>, 'F2': <PDFObjRef:9>, 'F12': <PDFObjRef:81>, 'F8': <PDFObjRef:29>, 'F9': <PDFObjRef:37>}, 'ExtGState': {'GS7': <PDFObjRef:7>, 'GS8': <PDFObjRef:8>}, 'ProcSet': [/'PDF', /'Text', /'ImageB', /'ImageC', /'ImageI']}, MediaBox=[0, 0, 595.56, 842.04]>\n",
      "render_contents: resources={'Font': {'F5': <PDFObjRef:17>, 'F11': <PDFObjRef:68>, 'F1': <PDFObjRef:5>, 'F2': <PDFObjRef:9>, 'F12': <PDFObjRef:81>, 'F8': <PDFObjRef:29>, 'F9': <PDFObjRef:37>}, 'ExtGState': {'GS7': <PDFObjRef:7>, 'GS8': <PDFObjRef:8>}, 'ProcSet': [/'PDF', /'Text', /'ImageB', /'ImageC', /'ImageI']}, streams=[<PDFStream(67): raw=7119, {'Filter': /'FlateDecode', 'Length': 7117}>], ctm=(1, 0, 0, 1, 0, 0)\n",
      "get_font: create: objid=68, spec={'Type': /'Font', 'Subtype': /'Type0', 'BaseFont': /'ArialMT', 'Encoding': /'Identity-H', 'DescendantFonts': <PDFObjRef:69>, 'ToUnicode': <PDFObjRef:3869>}\n",
      "get_font: create: objid=None, spec={'BaseFont': /'ArialMT', 'Subtype': /'CIDFontType2', 'Type': /'Font', 'CIDToGIDMap': /'Identity', 'DW': 1000, 'CIDSystemInfo': <PDFObjRef:71>, 'FontDescriptor': <PDFObjRef:72>, 'W': <PDFObjRef:3871>, 'Encoding': /'Identity-H', 'ToUnicode': <PDFStream(3869): raw=228, {'Filter': /'FlateDecode', 'Length': 226}>}\n",
      "get_font: create: objid=81, spec={'Type': /'Font', 'Subtype': /'TrueType', 'Name': /'F12', 'BaseFont': /'BCDIEE+CourierNewPSMT', 'Encoding': /'WinAnsiEncoding', 'FontDescriptor': <PDFObjRef:82>, 'FirstChar': 111, 'LastChar': 111, 'Widths': <PDFObjRef:3890>}\n",
      "Page: {'Type': /'Page', 'Parent': <PDFObjRef:2>, 'Resources': {'Font': {'F2': <PDFObjRef:9>, 'F5': <PDFObjRef:17>, 'F9': <PDFObjRef:37>, 'F1': <PDFObjRef:5>, 'F7': <PDFObjRef:24>}, 'ExtGState': {'GS7': <PDFObjRef:7>, 'GS8': <PDFObjRef:8>}, 'ProcSet': [/'PDF', /'Text', /'ImageB', /'ImageC', /'ImageI']}, 'Annots': [<PDFObjRef:88>, <PDFObjRef:89>, <PDFObjRef:90>, <PDFObjRef:91>, <PDFObjRef:92>, <PDFObjRef:93>], 'MediaBox': [0, 0, 595.56, 842.04], 'Contents': <PDFObjRef:87>, 'Group': {'Type': /'Group', 'S': /'Transparency', 'CS': /'DeviceRGB'}, 'Tabs': /'S', 'StructParents': 26}\n",
      "Processing page: <PDFPage: Resources={'Font': {'F2': <PDFObjRef:9>, 'F5': <PDFObjRef:17>, 'F9': <PDFObjRef:37>, 'F1': <PDFObjRef:5>, 'F7': <PDFObjRef:24>}, 'ExtGState': {'GS7': <PDFObjRef:7>, 'GS8': <PDFObjRef:8>}, 'ProcSet': [/'PDF', /'Text', /'ImageB', /'ImageC', /'ImageI']}, MediaBox=[0, 0, 595.56, 842.04]>\n",
      "render_contents: resources={'Font': {'F2': <PDFObjRef:9>, 'F5': <PDFObjRef:17>, 'F9': <PDFObjRef:37>, 'F1': <PDFObjRef:5>, 'F7': <PDFObjRef:24>}, 'ExtGState': {'GS7': <PDFObjRef:7>, 'GS8': <PDFObjRef:8>}, 'ProcSet': [/'PDF', /'Text', /'ImageB', /'ImageC', /'ImageI']}, streams=[<PDFStream(87): raw=4831, {'Filter': /'FlateDecode', 'Length': 4829}>], ctm=(1, 0, 0, 1, 0, 0)\n",
      "Page: {'Type': /'Page', 'Parent': <PDFObjRef:2>, 'Resources': {'Font': {'F9': <PDFObjRef:37>, 'F2': <PDFObjRef:9>, 'F1': <PDFObjRef:5>, 'F13': <PDFObjRef:96>}, 'ExtGState': {'GS7': <PDFObjRef:7>, 'GS8': <PDFObjRef:8>}, 'ProcSet': [/'PDF', /'Text', /'ImageB', /'ImageC', /'ImageI']}, 'Annots': [<PDFObjRef:98>, <PDFObjRef:99>], 'MediaBox': [0, 0, 595.56, 842.04], 'Contents': <PDFObjRef:95>, 'Group': {'Type': /'Group', 'S': /'Transparency', 'CS': /'DeviceRGB'}, 'Tabs': /'S', 'StructParents': 33}\n",
      "Processing page: <PDFPage: Resources={'Font': {'F9': <PDFObjRef:37>, 'F2': <PDFObjRef:9>, 'F1': <PDFObjRef:5>, 'F13': <PDFObjRef:96>}, 'ExtGState': {'GS7': <PDFObjRef:7>, 'GS8': <PDFObjRef:8>}, 'ProcSet': [/'PDF', /'Text', /'ImageB', /'ImageC', /'ImageI']}, MediaBox=[0, 0, 595.56, 842.04]>\n",
      "render_contents: resources={'Font': {'F9': <PDFObjRef:37>, 'F2': <PDFObjRef:9>, 'F1': <PDFObjRef:5>, 'F13': <PDFObjRef:96>}, 'ExtGState': {'GS7': <PDFObjRef:7>, 'GS8': <PDFObjRef:8>}, 'ProcSet': [/'PDF', /'Text', /'ImageB', /'ImageC', /'ImageI']}, streams=[<PDFStream(95): raw=2164, {'Filter': /'FlateDecode', 'Length': 2162}>], ctm=(1, 0, 0, 1, 0, 0)\n",
      "get_font: create: objid=96, spec={'Type': /'Font', 'Subtype': /'TrueType', 'Name': /'F13', 'BaseFont': /'BCDJEE+Calibri-Italic', 'Encoding': /'WinAnsiEncoding', 'FontDescriptor': <PDFObjRef:97>, 'FirstChar': 32, 'LastChar': 119, 'Widths': <PDFObjRef:3892>}\n"
     ]
    },
    {
     "name": "stdout",
     "output_type": "stream",
     "text": [
      "<re.Match object; span=(71, 148), match='Data as received by WHO from national authorities>\n",
      "14 April 2020 14 April 2020\n",
      "2020-04-14\n",
      "already processed  https://www.who.int/docs/default-source/coronaviruse/situation-reports/20200413-sitrep-84-covid-19.pdf  in previous runs\n",
      "already processed  https://www.who.int/docs/default-source/coronaviruse/situation-reports/20200412-sitrep-83-covid-19.pdf  in previous runs\n",
      "already processed  https://www.who.int/docs/default-source/coronaviruse/situation-reports/20200411-sitrep-82-covid-19.pdf  in previous runs\n",
      "already processed  https://www.who.int/docs/default-source/coronaviruse/situation-reports/20200410-sitrep-81-covid-19.pdf  in previous runs\n",
      "already processed  https://www.who.int/docs/default-source/coronaviruse/situation-reports/20200409-sitrep-80-covid-19.pdf  in previous runs\n",
      "already processed  https://www.who.int/docs/default-source/coronaviruse/situation-reports/20200408-sitrep-79-covid-19.pdf  in previous runs\n",
      "already processed  https://www.who.int/docs/default-source/coronaviruse/situation-reports/20200407-sitrep-78-covid-19.pdf  in previous runs\n",
      "already processed  https://www.who.int/docs/default-source/coronaviruse/situation-reports/20200406-sitrep-77-covid-19.pdf  in previous runs\n",
      "already processed  https://www.who.int/docs/default-source/coronaviruse/situation-reports/20200405-sitrep-76-covid-19.pdf  in previous runs\n",
      "already processed  https://www.who.int/docs/default-source/coronaviruse/situation-reports/20200404-sitrep-75-covid-19.pdf  in previous runs\n",
      "already processed  https://www.who.int/docs/default-source/coronaviruse/situation-reports/20200403-sitrep-74-covid-19-mp.pdf  in previous runs\n",
      "already processed  https://www.who.int/docs/default-source/coronaviruse/situation-reports/20200402-sitrep-73-covid-19.pdf  in previous runs\n",
      "already processed  https://www.who.int/docs/default-source/coronaviruse/situation-reports/20200401-sitrep-72-covid-19.pdf  in previous runs\n",
      "already processed  https://www.who.int/docs/default-source/coronaviruse/situation-reports/20200330-sitrep-70-covid-19.pdf  in previous runs\n",
      "already processed  https://www.who.int/docs/default-source/coronaviruse/situation-reports/20200329-sitrep-69-covid-19.pdf  in previous runs\n",
      "already processed  https://www.who.int/docs/default-source/coronaviruse/situation-reports/20200328-sitrep-68-covid-19.pdf  in previous runs\n",
      "already processed  https://www.who.int/docs/default-source/coronaviruse/situation-reports/20200327-sitrep-67-covid-19.pdf  in previous runs\n",
      "already processed  https://www.who.int/docs/default-source/coronaviruse/situation-reports/20200326-sitrep-66-covid-19.pdf  in previous runs\n",
      "already processed  https://www.who.int/docs/default-source/coronaviruse/situation-reports/20200325-sitrep-65-covid-19.pdf  in previous runs\n",
      "already processed  https://www.who.int/docs/default-source/coronaviruse/situation-reports/20200324-sitrep-64-covid-19.pdf  in previous runs\n",
      "already processed  https://www.who.int/docs/default-source/coronaviruse/situation-reports/20200323-sitrep-63-covid-19.pdf  in previous runs\n",
      "already processed  https://www.who.int/docs/default-source/coronaviruse/situation-reports/20200322-sitrep-62-covid-19.pdf  in previous runs\n",
      "already processed  https://www.who.int/docs/default-source/coronaviruse/situation-reports/20200321-sitrep-61-covid-19.pdf  in previous runs\n",
      "already processed  https://www.who.int/docs/default-source/coronaviruse/situation-reports/20200320-sitrep-60-covid-19.pdf  in previous runs\n",
      "already processed  https://www.who.int/docs/default-source/coronaviruse/situation-reports/20200319-sitrep-59-covid-19.pdf  in previous runs\n",
      "already processed  https://www.who.int/docs/default-source/coronaviruse/situation-reports/20200318-sitrep-58-covid-19.pdf  in previous runs\n",
      "already processed  https://www.who.int/docs/default-source/coronaviruse/situation-reports/20200317-sitrep-57-covid-19.pdf  in previous runs\n",
      "already processed  https://www.who.int/docs/default-source/coronaviruse/situation-reports/20200316-sitrep-56-covid-19.pdf  in previous runs\n",
      "already processed  https://www.who.int/docs/default-source/coronaviruse/situation-reports/20200315-sitrep-55-covid-19.pdf  in previous runs\n",
      "already processed  https://www.who.int/docs/default-source/coronaviruse/situation-reports/20200314-sitrep-54-covid-19.pdf  in previous runs\n",
      "already processed  https://www.who.int/docs/default-source/coronaviruse/situation-reports/20200313-sitrep-53-covid-19.pdf  in previous runs\n",
      "already processed  https://www.who.int/docs/default-source/coronaviruse/situation-reports/20200312-sitrep-52-covid-19.pdf  in previous runs\n",
      "already processed  https://www.who.int/docs/default-source/coronaviruse/situation-reports/20200311-sitrep-51-covid-19.pdf  in previous runs\n",
      "already processed  https://www.who.int/docs/default-source/coronaviruse/situation-reports/20200310-sitrep-50-covid-19.pdf  in previous runs\n",
      "already processed  https://www.who.int/docs/default-source/coronaviruse/situation-reports/20200309-sitrep-49-covid-19.pdf  in previous runs\n",
      "already processed  https://www.who.int/docs/default-source/coronaviruse/situation-reports/20200308-sitrep-48-covid-19.pdf  in previous runs\n",
      "already processed  https://www.who.int/docs/default-source/coronaviruse/situation-reports/20200307-sitrep-47-covid-19.pdf  in previous runs\n",
      "already processed  https://www.who.int/docs/default-source/coronaviruse/situation-reports/20200306-sitrep-46-covid-19.pdf  in previous runs\n",
      "already processed  https://www.who.int/docs/default-source/coronaviruse/situation-reports/20200305-sitrep-45-covid-19.pdf  in previous runs\n",
      "already processed  https://www.who.int/docs/default-source/coronaviruse/situation-reports/20200304-sitrep-44-covid-19.pdf  in previous runs\n",
      "already processed  https://www.who.int/docs/default-source/coronaviruse/situation-reports/20200303-sitrep-43-covid-19.pdf  in previous runs\n",
      "already processed  https://www.who.int/docs/default-source/coronaviruse/situation-reports/20200302-sitrep-42-covid-19.pdf  in previous runs\n",
      "already processed  https://www.who.int/docs/default-source/coronaviruse/situation-reports/20200301-sitrep-41-covid-19.pdf  in previous runs\n",
      "already processed  https://www.who.int/docs/default-source/coronaviruse/situation-reports/20200229-sitrep-40-covid-19.pdf  in previous runs\n",
      "already processed  https://www.who.int/docs/default-source/coronaviruse/situation-reports/20200228-sitrep-39-covid-19.pdf  in previous runs\n",
      "already processed  https://www.who.int/docs/default-source/coronaviruse/situation-reports/20200227-sitrep-38-covid-19.pdf  in previous runs\n",
      "already processed  https://www.who.int/docs/default-source/coronaviruse/situation-reports/20200226-sitrep-37-covid-19.pdf  in previous runs\n",
      "already processed  https://www.who.int/docs/default-source/coronaviruse/situation-reports/20200225-sitrep-36-covid-19.pdf  in previous runs\n",
      "already processed  https://www.who.int/docs/default-source/coronaviruse/situation-reports/20200224-sitrep-35-covid-19.pdf  in previous runs\n",
      "already processed  https://www.who.int/docs/default-source/coronaviruse/situation-reports/20200223-sitrep-34-covid-19.pdf  in previous runs\n",
      "already processed  https://www.who.int/docs/default-source/coronaviruse/situation-reports/20200222-sitrep-33-covid-19.pdf  in previous runs\n",
      "already processed  https://www.who.int/docs/default-source/coronaviruse/situation-reports/20200221-sitrep-32-covid-19.pdf  in previous runs\n",
      "already processed  https://www.who.int/docs/default-source/coronaviruse/situation-reports/20200220-sitrep-31-covid-19.pdf  in previous runs\n",
      "already processed  https://www.who.int/docs/default-source/coronaviruse/situation-reports/20200219-sitrep-30-covid-19.pdf  in previous runs\n",
      "already processed  https://www.who.int/docs/default-source/coronaviruse/situation-reports/20200218-sitrep-29-covid-19.pdf  in previous runs\n",
      "already processed  https://www.who.int/docs/default-source/coronaviruse/situation-reports/20200217-sitrep-28-covid-19.pdf  in previous runs\n",
      "already processed  https://www.who.int/docs/default-source/coronaviruse/situation-reports/20200216-sitrep-27-covid-19.pdf  in previous runs\n",
      "already processed  https://www.who.int/docs/default-source/coronaviruse/situation-reports/20200215-sitrep-26-covid-19.pdf  in previous runs\n",
      "already processed  https://www.who.int/docs/default-source/coronaviruse/situation-reports/20200214-sitrep-25-covid-19.pdf  in previous runs\n",
      "already processed  https://www.who.int/docs/default-source/coronaviruse/situation-reports/20200213-sitrep-24-covid-19.pdf  in previous runs\n",
      "already processed  https://www.who.int/docs/default-source/coronaviruse/situation-reports/20200212-sitrep-23-ncov.pdf  in previous runs\n",
      "already processed  https://www.who.int/docs/default-source/coronaviruse/situation-reports/20200211-sitrep-22-ncov.pdf  in previous runs\n",
      "already processed  https://www.who.int/docs/default-source/coronaviruse/situation-reports/20200210-sitrep-21-ncov.pdf  in previous runs\n",
      "already processed  https://www.who.int/docs/default-source/coronaviruse/situation-reports/20200209-sitrep-20-ncov.pdf  in previous runs\n",
      "already processed  https://www.who.int/docs/default-source/coronaviruse/situation-reports/20200208-sitrep-19-ncov.pdf  in previous runs\n",
      "already processed  https://www.who.int/docs/default-source/coronaviruse/situation-reports/20200207-sitrep-18-ncov.pdf  in previous runs\n",
      "already processed  https://www.who.int/docs/default-source/coronaviruse/situation-reports/20200206-sitrep-17-ncov.pdf  in previous runs\n",
      "already processed  https://www.who.int/docs/default-source/coronaviruse/situation-reports/20200205-sitrep-16-ncov.pdf  in previous runs\n",
      "already processed  https://www.who.int/docs/default-source/coronaviruse/situation-reports/20200204-sitrep-15-ncov.pdf  in previous runs\n",
      "already processed  https://www.who.int/docs/default-source/coronaviruse/situation-reports/20200203-sitrep-14-ncov.pdf  in previous runs\n",
      "already processed  https://www.who.int/docs/default-source/coronaviruse/situation-reports/20200202-sitrep-13-ncov-v3.pdf  in previous runs\n",
      "already processed  https://www.who.int/docs/default-source/coronaviruse/situation-reports/20200201-sitrep-12-ncov.pdf  in previous runs\n",
      "already processed  https://www.who.int/docs/default-source/coronaviruse/situation-reports/20200131-sitrep-11-ncov.pdf  in previous runs\n",
      "already processed  https://www.who.int/docs/default-source/coronaviruse/situation-reports/20200130-sitrep-10-ncov.pdf  in previous runs\n",
      "already processed  https://www.who.int/docs/default-source/coronaviruse/situation-reports/20200129-sitrep-9-ncov-v2.pdf  in previous runs\n",
      "already processed  https://www.who.int/docs/default-source/coronaviruse/situation-reports/20200128-sitrep-8-ncov-cleared.pdf  in previous runs\n",
      "already processed  https://www.who.int/docs/default-source/coronaviruse/situation-reports/20200127-sitrep-7-2019--ncov.pdf  in previous runs\n"
     ]
    }
   ],
   "source": [
    "df = get_WHO_stats()"
   ]
  },
  {
   "cell_type": "code",
   "execution_count": 9,
   "metadata": {},
   "outputs": [
    {
     "data": {
      "text/html": [
       "<div>\n",
       "<style scoped>\n",
       "    .dataframe tbody tr th:only-of-type {\n",
       "        vertical-align: middle;\n",
       "    }\n",
       "\n",
       "    .dataframe tbody tr th {\n",
       "        vertical-align: top;\n",
       "    }\n",
       "\n",
       "    .dataframe thead th {\n",
       "        text-align: right;\n",
       "    }\n",
       "</style>\n",
       "<table border=\"1\" class=\"dataframe\">\n",
       "  <thead>\n",
       "    <tr style=\"text-align: right;\">\n",
       "      <th></th>\n",
       "      <th>date</th>\n",
       "      <th>global_cases</th>\n",
       "      <th>report_url</th>\n",
       "    </tr>\n",
       "  </thead>\n",
       "  <tbody>\n",
       "    <tr>\n",
       "      <th>0</th>\n",
       "      <td>2020-01-27</td>\n",
       "      <td>2798</td>\n",
       "      <td>https://www.who.int/docs/default-source/corona...</td>\n",
       "    </tr>\n",
       "    <tr>\n",
       "      <th>1</th>\n",
       "      <td>2020-01-28</td>\n",
       "      <td>4593</td>\n",
       "      <td>https://www.who.int/docs/default-source/corona...</td>\n",
       "    </tr>\n",
       "    <tr>\n",
       "      <th>2</th>\n",
       "      <td>2020-01-29</td>\n",
       "      <td>6065</td>\n",
       "      <td>https://www.who.int/docs/default-source/corona...</td>\n",
       "    </tr>\n",
       "    <tr>\n",
       "      <th>3</th>\n",
       "      <td>2020-01-30</td>\n",
       "      <td>7818</td>\n",
       "      <td>https://www.who.int/docs/default-source/corona...</td>\n",
       "    </tr>\n",
       "    <tr>\n",
       "      <th>4</th>\n",
       "      <td>2020-01-31</td>\n",
       "      <td>9826</td>\n",
       "      <td>https://www.who.int/docs/default-source/corona...</td>\n",
       "    </tr>\n",
       "    <tr>\n",
       "      <th>...</th>\n",
       "      <td>...</td>\n",
       "      <td>...</td>\n",
       "      <td>...</td>\n",
       "    </tr>\n",
       "    <tr>\n",
       "      <th>77</th>\n",
       "      <td>2020-04-10</td>\n",
       "      <td>1521252</td>\n",
       "      <td>https://www.who.int/docs/default-source/corona...</td>\n",
       "    </tr>\n",
       "    <tr>\n",
       "      <th>78</th>\n",
       "      <td>2020-04-11</td>\n",
       "      <td>1610909</td>\n",
       "      <td>https://www.who.int/docs/default-source/corona...</td>\n",
       "    </tr>\n",
       "    <tr>\n",
       "      <th>79</th>\n",
       "      <td>2020-04-12</td>\n",
       "      <td>1696588</td>\n",
       "      <td>https://www.who.int/docs/default-source/corona...</td>\n",
       "    </tr>\n",
       "    <tr>\n",
       "      <th>80</th>\n",
       "      <td>2020-04-13</td>\n",
       "      <td>1773084</td>\n",
       "      <td>https://www.who.int/docs/default-source/corona...</td>\n",
       "    </tr>\n",
       "    <tr>\n",
       "      <th>81</th>\n",
       "      <td>2020-04-14</td>\n",
       "      <td>1844863</td>\n",
       "      <td>https://www.who.int/docs/default-source/corona...</td>\n",
       "    </tr>\n",
       "  </tbody>\n",
       "</table>\n",
       "<p>82 rows × 3 columns</p>\n",
       "</div>"
      ],
      "text/plain": [
       "          date  global_cases  \\\n",
       "0   2020-01-27          2798   \n",
       "1   2020-01-28          4593   \n",
       "2   2020-01-29          6065   \n",
       "3   2020-01-30          7818   \n",
       "4   2020-01-31          9826   \n",
       "..         ...           ...   \n",
       "77  2020-04-10       1521252   \n",
       "78  2020-04-11       1610909   \n",
       "79  2020-04-12       1696588   \n",
       "80  2020-04-13       1773084   \n",
       "81  2020-04-14       1844863   \n",
       "\n",
       "                                           report_url  \n",
       "0   https://www.who.int/docs/default-source/corona...  \n",
       "1   https://www.who.int/docs/default-source/corona...  \n",
       "2   https://www.who.int/docs/default-source/corona...  \n",
       "3   https://www.who.int/docs/default-source/corona...  \n",
       "4   https://www.who.int/docs/default-source/corona...  \n",
       "..                                                ...  \n",
       "77  https://www.who.int/docs/default-source/corona...  \n",
       "78  https://www.who.int/docs/default-source/corona...  \n",
       "79  https://www.who.int/docs/default-source/corona...  \n",
       "80  https://www.who.int/docs/default-source/corona...  \n",
       "81  https://www.who.int/docs/default-source/corona...  \n",
       "\n",
       "[82 rows x 3 columns]"
      ]
     },
     "execution_count": 9,
     "metadata": {},
     "output_type": "execute_result"
    }
   ],
   "source": [
    "df"
   ]
  },
  {
   "cell_type": "markdown",
   "metadata": {},
   "source": [
    "### Plot graph and save to files"
   ]
  },
  {
   "cell_type": "code",
   "execution_count": 10,
   "metadata": {},
   "outputs": [],
   "source": [
    "import seaborn as sns\n",
    "from pathlib import Path"
   ]
  },
  {
   "cell_type": "code",
   "execution_count": 11,
   "metadata": {},
   "outputs": [],
   "source": [
    "df.sort_values(by=['date'], inplace=True)"
   ]
  },
  {
   "cell_type": "code",
   "execution_count": 12,
   "metadata": {},
   "outputs": [
    {
     "data": {
      "image/png": "[encoded data removed]",
      "text/plain": [
       "<Figure size 1152x612 with 1 Axes>"
      ]
     },
     "metadata": {},
     "output_type": "display_data"
    }
   ],
   "source": [
    "sns.set(rc={'figure.figsize':(16,8.5)})\n",
    "sns.set(style=\"whitegrid\")\n",
    "\n",
    "\n",
    "bar_chart = sns.barplot(x='date', y='global_cases', color='dodgerblue', data=df)\n",
    "bar_chart.tick_params(axis='x', labelrotation=70)\n"
   ]
  },
  {
   "cell_type": "code",
   "execution_count": 13,
   "metadata": {},
   "outputs": [],
   "source": [
    "bar_chart_fig = bar_chart.get_figure()\n"
   ]
  },
  {
   "cell_type": "code",
   "execution_count": 14,
   "metadata": {},
   "outputs": [],
   "source": [
    "df.to_csv(csv_file, index=False)\n",
    "bar_chart_fig.savefig(png_file)\n"
   ]
  },
  {
   "cell_type": "code",
   "execution_count": null,
   "metadata": {},
   "outputs": [],
   "source": []
  }
 ],
 "metadata": {
  "kernelspec": {
   "display_name": "Python 3",
   "language": "python",
   "name": "python3"
  },
  "language_info": {
   "codemirror_mode": {
    "name": "ipython",
    "version": 3
   },
   "file_extension": ".py",
   "mimetype": "text/x-python",
   "name": "python",
   "nbconvert_exporter": "python",
   "pygments_lexer": "ipython3",
   "version": "3.7.6"
  }
 },
 "nbformat": 4,
 "nbformat_minor": 2
}
