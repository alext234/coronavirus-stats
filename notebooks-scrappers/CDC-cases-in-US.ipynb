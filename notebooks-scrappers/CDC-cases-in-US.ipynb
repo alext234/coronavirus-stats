{
 "cells": [
  {
   "cell_type": "code",
   "execution_count": 14,
   "metadata": {},
   "outputs": [],
   "source": [
    "import pandas as pd\n",
    "import requests\n",
    "from bs4 import BeautifulSoup\n",
    "import re\n",
    "from datetime import datetime\n",
    "import unicodedata"
   ]
  },
  {
   "cell_type": "code",
   "execution_count": 15,
   "metadata": {},
   "outputs": [],
   "source": [
    "url = 'https://www.cdc.gov/coronavirus/2019-ncov/cases-updates/cases-in-us.html'"
   ]
  },
  {
   "cell_type": "markdown",
   "metadata": {},
   "source": [
    "### Extract date"
   ]
  },
  {
   "cell_type": "code",
   "execution_count": 16,
   "metadata": {},
   "outputs": [],
   "source": [
    "content = requests.get(url).content\n",
    "soup =BeautifulSoup(content, 'lxml')"
   ]
  },
  {
   "cell_type": "code",
   "execution_count": 22,
   "metadata": {},
   "outputs": [
    {
     "data": {
      "text/plain": [
       "['Last updated \\ufeffApril 17, 2020\\r\\n']"
      ]
     },
     "execution_count": 22,
     "metadata": {},
     "output_type": "execute_result"
    }
   ],
   "source": [
    "def _removeNonAscii(s): return \"\".join(i for i in s if ord(i)<128)\n",
    "\n",
    "data = soup.findAll(text=re.compile(\".*pdated .*202\"))\n",
    "data\n"
   ]
  },
  {
   "cell_type": "code",
   "execution_count": 23,
   "metadata": {},
   "outputs": [
    {
     "data": {
      "text/plain": [
       "'2020-04-17'"
      ]
     },
     "execution_count": 23,
     "metadata": {},
     "output_type": "execute_result"
    }
   ],
   "source": [
    "m = re.search(\".*pdated (\\w+ \\d+, 202\\d)\", _removeNonAscii(data[0]))\n",
    "data_date_str = m.group(1)\n",
    "data_date = datetime.strptime(data_date_str, '%B %d, %Y').strftime('%Y-%m-%d')\n",
    "data_date"
   ]
  },
  {
   "cell_type": "markdown",
   "metadata": {},
   "source": [
    "### Extract data and add into Dataframe"
   ]
  },
  {
   "cell_type": "code",
   "execution_count": 24,
   "metadata": {},
   "outputs": [],
   "source": [
    "dfs = pd.read_html(url)"
   ]
  },
  {
   "cell_type": "code",
   "execution_count": 25,
   "metadata": {},
   "outputs": [],
   "source": [
    "if len(dfs) == 0 :\n",
    "    raise Exception('There is no dataframes detected')"
   ]
  },
  {
   "cell_type": "code",
   "execution_count": 26,
   "metadata": {},
   "outputs": [
    {
     "data": {
      "text/plain": [
       "[                           Unnamed: 0_level_0  \\\n",
       "                             Age group (years)   \n",
       " 0                                      Totals   \n",
       " 1                    Race missing/unspecified   \n",
       " 2                              Race specified   \n",
       " 3             Among those with race specified   \n",
       " 4            American Indian or Alaska Native   \n",
       " 5                                       Asian   \n",
       " 6                   Black or African American   \n",
       " 7   Native Hawaiian or other Pacific Islander   \n",
       " 8                                       White   \n",
       " 9                              Multiple/other   \n",
       " 10                                        NaN   \n",
       " 11              Ethnicity missing/unspecified   \n",
       " 12                        Ethnicity specified   \n",
       " 13       Among those with ethnicity specified   \n",
       " 14                            Hispanic/Latino   \n",
       " 15                        Non-Hispanic/Latino   \n",
       " \n",
       "                No. of cases (% of total)  \\\n",
       "                                     < 18   \n",
       " 0                                   8930   \n",
       " 1                            7,400 (83%)   \n",
       " 2                            1,530 (17%)   \n",
       " 3        Among those with race specified   \n",
       " 4                              23 (1.5%)   \n",
       " 5                                59 (4%)   \n",
       " 6                            437 (28.5%)   \n",
       " 7                               7 (0.5%)   \n",
       " 8                            989 (64.5%)   \n",
       " 9                              15 (1.0%)   \n",
       " 10                                   NaN   \n",
       " 11                           7,387 (83%)   \n",
       " 12                           1,543 (17%)   \n",
       " 13  Among those with ethnicity specified   \n",
       " 14                             500 (32%)   \n",
       " 15                           1,043 (68%)   \n",
       " \n",
       "                                           \\\n",
       "                                    18-44   \n",
       " 0                                 179938   \n",
       " 1                          144,315 (80%)   \n",
       " 2                           35,623 (20%)   \n",
       " 3        Among those with race specified   \n",
       " 4                               310 (1%)   \n",
       " 5                             1,823 (5%)   \n",
       " 6                           11,018 (31%)   \n",
       " 7                             160 (0.5%)   \n",
       " 8                           22,170 (62%)   \n",
       " 9                             142 (0.5%)   \n",
       " 10                                   NaN   \n",
       " 11                         145,083 (81%)   \n",
       " 12                          34,855 (19%)   \n",
       " 13  Among those with ethnicity specified   \n",
       " 14                           8,637 (25%)   \n",
       " 15                          26,218 (75%)   \n",
       " \n",
       "                                           \\\n",
       "                                    45-64   \n",
       " 0                                 183722   \n",
       " 1                          141,222 (77%)   \n",
       " 2                           42,500 (23%)   \n",
       " 3        Among those with race specified   \n",
       " 4                             277 (0.7%)   \n",
       " 5                             2,003 (5%)   \n",
       " 6                           14,218 (33%)   \n",
       " 7                             136 (0.3%)   \n",
       " 8                         25,748 (60.7%)   \n",
       " 9                             118 (0.3%)   \n",
       " 10                                   NaN   \n",
       " 11                         144,184 (78%)   \n",
       " 12                          39,538 (22%)   \n",
       " 13  Among those with ethnicity specified   \n",
       " 14                           7,508 (19%)   \n",
       " 15                          32,030 (81%)   \n",
       " \n",
       "                                           \\\n",
       "                                    65-74   \n",
       " 0                                  53648   \n",
       " 1                           37,973 (71%)   \n",
       " 2                           15,675 (29%)   \n",
       " 3        Among those with race specified   \n",
       " 4                              87 (0.5%)   \n",
       " 5                               548 (3%)   \n",
       " 6                            5,293 (34%)   \n",
       " 7                              40 (0.3%)   \n",
       " 8                            9,674 (62%)   \n",
       " 9                              33 (0.2%)   \n",
       " 10                                   NaN   \n",
       " 11                          40,098 (75%)   \n",
       " 12                          13,550 (25%)   \n",
       " 13  Among those with ethnicity specified   \n",
       " 14                           1,603 (12%)   \n",
       " 15                          11,947 (88%)   \n",
       " \n",
       "                                           \\\n",
       "                                      75+   \n",
       " 0                                  57397   \n",
       " 1                           36,754 (64%)   \n",
       " 2                           20,643 (36%)   \n",
       " 3        Among those with race specified   \n",
       " 4                              54 (0.3%)   \n",
       " 5                               616 (3%)   \n",
       " 6                          4,601 (22.3%)   \n",
       " 7                              27 (0.2%)   \n",
       " 8                           15,313 (74%)   \n",
       " 9                              32 (0.2%)   \n",
       " 10                                   NaN   \n",
       " 11                          41,098 (72%)   \n",
       " 12                          16,299 (28%)   \n",
       " 13  Among those with ethnicity specified   \n",
       " 14                            1,318 (8%)   \n",
       " 15                          14,981 (92%)   \n",
       " \n",
       "                                                                                 \n",
       "                                  Unknown                                 Total  \n",
       " 0                                  13526                                497161  \n",
       " 1                            8,965 (66%)                         376,629 (76%)  \n",
       " 2                            4,561 (34%)                         120,532 (24%)  \n",
       " 3        Among those with race specified       Among those with race specified  \n",
       " 4                              14 (0.3%)                              765 (1%)  \n",
       " 5                               258 (6%)                          5,307 (4.4%)  \n",
       " 6                              931 (20%)                          36,498 (30%)  \n",
       " 7                              13 (0.3%)                            383 (0.3%)  \n",
       " 8                          3,341 (73.3%)                          77,235 (64%)  \n",
       " 9                               4 (0.1%)                            344 (0.3%)  \n",
       " 10                                   NaN                                   NaN  \n",
       " 11                           7,678 (57%)                         385,528 (78%)  \n",
       " 12                           5,848 (43%)                         111,633 (22%)  \n",
       " 13  Among those with ethnicity specified  Among those with ethnicity specified  \n",
       " 14                             678 (12%)                          20,244 (18%)  \n",
       " 15                           5,170 (88%)                          91,389 (82%)  ]"
      ]
     },
     "execution_count": 26,
     "metadata": {},
     "output_type": "execute_result"
    }
   ],
   "source": [
    "dfs"
   ]
  },
  {
   "cell_type": "code",
   "execution_count": 27,
   "metadata": {},
   "outputs": [
    {
     "ename": "IndexError",
     "evalue": "list index out of range",
     "output_type": "error",
     "traceback": [
      "\u001b[0;31m---------------------------------------------------------------------------\u001b[0m",
      "\u001b[0;31mIndexError\u001b[0m                                Traceback (most recent call last)",
      "\u001b[0;32m<ipython-input-27-42672d471b5d>\u001b[0m in \u001b[0;36m<module>\u001b[0;34m\u001b[0m\n\u001b[0;32m----> 1\u001b[0;31m \u001b[0mdf\u001b[0m \u001b[0;34m=\u001b[0m \u001b[0mdfs\u001b[0m\u001b[0;34m[\u001b[0m\u001b[0;36m1\u001b[0m\u001b[0;34m]\u001b[0m\u001b[0;34m\u001b[0m\u001b[0;34m\u001b[0m\u001b[0m\n\u001b[0m\u001b[1;32m      2\u001b[0m \u001b[0mdf\u001b[0m\u001b[0;34m\u001b[0m\u001b[0;34m\u001b[0m\u001b[0m\n",
      "\u001b[0;31mIndexError\u001b[0m: list index out of range"
     ]
    }
   ],
   "source": [
    "df = dfs[1]\n",
    "df"
   ]
  },
  {
   "cell_type": "code",
   "execution_count": null,
   "metadata": {},
   "outputs": [],
   "source": []
  },
  {
   "cell_type": "code",
   "execution_count": null,
   "metadata": {},
   "outputs": [],
   "source": []
  },
  {
   "cell_type": "code",
   "execution_count": 9,
   "metadata": {},
   "outputs": [
    {
     "data": {
      "text/html": [
       "<div>\n",
       "<style scoped>\n",
       "    .dataframe tbody tr th:only-of-type {\n",
       "        vertical-align: middle;\n",
       "    }\n",
       "\n",
       "    .dataframe tbody tr th {\n",
       "        vertical-align: top;\n",
       "    }\n",
       "\n",
       "    .dataframe thead th {\n",
       "        text-align: right;\n",
       "    }\n",
       "</style>\n",
       "<table border=\"1\" class=\"dataframe\">\n",
       "  <thead>\n",
       "    <tr style=\"text-align: right;\">\n",
       "      <th></th>\n",
       "      <th>Travel-related</th>\n",
       "      <th>Close contact</th>\n",
       "      <th>Under investigation</th>\n",
       "      <th>Total cases</th>\n",
       "    </tr>\n",
       "  </thead>\n",
       "  <tbody>\n",
       "    <tr>\n",
       "      <th>1</th>\n",
       "      <td>6814</td>\n",
       "      <td>14728</td>\n",
       "      <td>640170</td>\n",
       "      <td>661712</td>\n",
       "    </tr>\n",
       "  </tbody>\n",
       "</table>\n",
       "</div>"
      ],
      "text/plain": [
       "0  Travel-related  Close contact  Under investigation  Total cases\n",
       "1            6814          14728               640170       661712"
      ]
     },
     "execution_count": 9,
     "metadata": {},
     "output_type": "execute_result"
    }
   ],
   "source": [
    "# col0 = df.columns[0]\n",
    "# df = df.set_index(col0).T\n",
    "# df\n",
    "\n"
   ]
  },
  {
   "cell_type": "code",
   "execution_count": 10,
   "metadata": {},
   "outputs": [],
   "source": [
    "# # remove non alphanumeric characters from the columns\n",
    "# # also lowercase them\n",
    "# df.columns = df.columns.map(lambda x: re.sub('\\W+', '', str.lower(x)))\n",
    "\n",
    "# # add column date to the front\n",
    "# df.insert(0, 'date', data_date)\n"
   ]
  },
  {
   "cell_type": "code",
   "execution_count": 11,
   "metadata": {},
   "outputs": [
    {
     "data": {
      "text/html": [
       "<div>\n",
       "<style scoped>\n",
       "    .dataframe tbody tr th:only-of-type {\n",
       "        vertical-align: middle;\n",
       "    }\n",
       "\n",
       "    .dataframe tbody tr th {\n",
       "        vertical-align: top;\n",
       "    }\n",
       "\n",
       "    .dataframe thead th {\n",
       "        text-align: right;\n",
       "    }\n",
       "</style>\n",
       "<table border=\"1\" class=\"dataframe\">\n",
       "  <thead>\n",
       "    <tr style=\"text-align: right;\">\n",
       "      <th></th>\n",
       "      <th>date</th>\n",
       "      <th>travelrelated</th>\n",
       "      <th>closecontact</th>\n",
       "      <th>underinvestigation</th>\n",
       "      <th>totalcases</th>\n",
       "    </tr>\n",
       "  </thead>\n",
       "  <tbody>\n",
       "    <tr>\n",
       "      <th>1</th>\n",
       "      <td>2020-04-17</td>\n",
       "      <td>6814</td>\n",
       "      <td>14728</td>\n",
       "      <td>640170</td>\n",
       "      <td>661712</td>\n",
       "    </tr>\n",
       "  </tbody>\n",
       "</table>\n",
       "</div>"
      ],
      "text/plain": [
       "0        date  travelrelated  closecontact  underinvestigation  totalcases\n",
       "1  2020-04-17           6814         14728              640170      661712"
      ]
     },
     "execution_count": 11,
     "metadata": {},
     "output_type": "execute_result"
    }
   ],
   "source": [
    "# df"
   ]
  },
  {
   "cell_type": "markdown",
   "metadata": {},
   "source": [
    "### Save to file"
   ]
  },
  {
   "cell_type": "code",
   "execution_count": 12,
   "metadata": {},
   "outputs": [
    {
     "name": "stderr",
     "output_type": "stream",
     "text": [
      "/opt/conda/lib/python3.7/site-packages/pandas/core/frame.py:7138: FutureWarning: Sorting because non-concatenation axis is not aligned. A future version\n",
      "of pandas will change to not sort by default.\n",
      "\n",
      "To accept the future behavior, pass 'sort=False'.\n",
      "\n",
      "To retain the current behavior and silence the warning, pass 'sort=True'.\n",
      "\n",
      "  sort=sort,\n"
     ]
    }
   ],
   "source": [
    "# from pathlib import Path\n",
    "# csv_file = '../data/cdc-us-cases.csv'\n",
    "\n",
    "# if Path(csv_file).exists():\n",
    "#     # read out the old dat\n",
    "#     old_df = pd.read_csv(csv_file)\n",
    "#     df = df.append(old_df)\n",
    "# df.drop_duplicates(subset=['date'], inplace=True)"
   ]
  },
  {
   "cell_type": "code",
   "execution_count": 13,
   "metadata": {},
   "outputs": [],
   "source": [
    "# df.sort_values(by=['date'], inplace=True)\n",
    "# df\n",
    "# df.to_csv(csv_file, index=False)"
   ]
  },
  {
   "cell_type": "markdown",
   "metadata": {},
   "source": [
    "### Plot graph"
   ]
  },
  {
   "cell_type": "code",
   "execution_count": 14,
   "metadata": {},
   "outputs": [],
   "source": [
    "# import seaborn as sns\n",
    "# import matplotlib.pyplot as plt\n",
    "# from pandas.plotting import register_matplotlib_converters\n",
    "# register_matplotlib_converters()\n",
    "\n",
    "# png_file = '../images/cdc-us-cases.png'\n",
    "\n",
    "# # convert to pd.datetime\n",
    "# df['datetime_idx'] = pd.to_datetime(df['date'], format=\"%Y-%m-%d\")\n",
    "\n",
    "# df.set_index('datetime_idx', inplace=True)\n",
    "# df"
   ]
  },
  {
   "cell_type": "code",
   "execution_count": null,
   "metadata": {},
   "outputs": [],
   "source": []
  }
 ],
 "metadata": {
  "kernelspec": {
   "display_name": "Python 3",
   "language": "python",
   "name": "python3"
  },
  "language_info": {
   "codemirror_mode": {
    "name": "ipython",
    "version": 3
   },
   "file_extension": ".py",
   "mimetype": "text/x-python",
   "name": "python",
   "nbconvert_exporter": "python",
   "pygments_lexer": "ipython3",
   "version": "3.7.6"
  }
 },
 "nbformat": 4,
 "nbformat_minor": 2
}
