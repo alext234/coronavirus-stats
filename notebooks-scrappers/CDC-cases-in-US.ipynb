{
 "cells": [
  {
   "cell_type": "code",
   "execution_count": 1,
   "metadata": {},
   "outputs": [],
   "source": [
    "import pandas as pd\n",
    "import requests\n",
    "from bs4 import BeautifulSoup\n",
    "import re\n",
    "from datetime import datetime\n",
    "import unicodedata"
   ]
  },
  {
   "cell_type": "code",
   "execution_count": 2,
   "metadata": {},
   "outputs": [],
   "source": [
    "url = 'https://www.cdc.gov/coronavirus/2019-ncov/cases-updates/cases-in-us.html'"
   ]
  },
  {
   "cell_type": "markdown",
   "metadata": {},
   "source": [
    "### Extract date"
   ]
  },
  {
   "cell_type": "code",
   "execution_count": 3,
   "metadata": {},
   "outputs": [],
   "source": [
    "content = requests.get(url).content\n",
    "soup =BeautifulSoup(content, 'lxml')"
   ]
  },
  {
   "cell_type": "code",
   "execution_count": 4,
   "metadata": {},
   "outputs": [
    {
     "data": {
      "text/plain": [
       "['Last updated on June 1, 2020',\n",
       " 'Level of community transmission by jurisdiction — last updated May 18, 2020',\n",
       " 'Total number of cases by day — last updated April 28, 2020',\n",
       " 'Number of cases by source of exposure — last updated April 16, 2020',\n",
       " 'Number of cases from Wuhan, China and the Diamond Princess cruise — last updated April 16, 2020',\n",
       " 'Number of cases by illness start date — last updated April 15, 2020']"
      ]
     },
     "execution_count": 4,
     "metadata": {},
     "output_type": "execute_result"
    }
   ],
   "source": [
    "def _removeNonAscii(s): return \"\".join(i for i in s if ord(i)<128)\n",
    "\n",
    "data = soup.findAll(text=re.compile(\".*pdated .*202\"))\n",
    "data\n"
   ]
  },
  {
   "cell_type": "code",
   "execution_count": null,
   "metadata": {},
   "outputs": [],
   "source": []
  },
  {
   "cell_type": "code",
   "execution_count": 5,
   "metadata": {},
   "outputs": [
    {
     "data": {
      "text/plain": [
       "'2020-06-01'"
      ]
     },
     "execution_count": 5,
     "metadata": {},
     "output_type": "execute_result"
    }
   ],
   "source": [
    "if len(data)>0:\n",
    "    m = re.search(\".*pdated .* (\\w+ \\d+, 202\\d)\", _removeNonAscii(data[0]))\n",
    "    data_date_str = m.group(1)\n",
    "    data_date = datetime.strptime(data_date_str, '%B %d, %Y').strftime('%Y-%m-%d')\n",
    "else:\n",
    "    data_date = datetime.utcnow().strftime('%Y-%m-%d')\n",
    "data_date"
   ]
  },
  {
   "cell_type": "markdown",
   "metadata": {},
   "source": [
    "### Extract data and add into Dataframe"
   ]
  },
  {
   "cell_type": "code",
   "execution_count": 6,
   "metadata": {},
   "outputs": [
    {
     "data": {
      "text/plain": [
       "['[{\"@context\":\"https:\\\\/\\\\/schema.org\",\"@type\":\"SpecialAnnouncement\",\"name\":\"Cases in the U.S.\",\"text\":\"<h3>U.S. At A Glance<\\\\/h3>\\\\r\\\\n<ul>\\\\r\\\\n \\\\t<li>Total Cases = 1,787,680\\\\r\\\\n<ul>\\\\r\\\\n \\\\t<li>New Cases = 26,177<\\\\/li>\\\\r\\\\n<\\\\/ul>\\\\r\\\\n<\\\\/li>\\\\r\\\\n \\\\t<li>Total Deaths = 104,396\\\\r\\\\n<ul>\\\\r\\\\n \\\\t<li>New Deaths = 696<\\\\/li>\\\\r\\\\n<\\\\/ul>\\\\r\\\\n<\\\\/li>\\\\r\\\\n<\\\\/ul>\",\"category\":\"https:\\\\/\\\\/www.wikidata.org\\\\/wiki\\\\/Q81068910\",\"datePosted\":\"2020-06-01T13:00\",\"spatialCoverage\":{\"type\":\"Country\",\"name\":\"USA\"},\"diseasePreventionInfo\":\"https:\\\\/\\\\/www.cdc.gov\\\\/coronavirus\\\\/2019-ncov\\\\/prevent-getting-sick\\\\/index.html\",\"diseaseSpreadStatistics\":\"https:\\\\/\\\\/www.cdc.gov\\\\/coronavirus\\\\/2019-ncov\\\\/covid-data\\\\/covidview\\\\/index.html\"}]']"
      ]
     },
     "execution_count": 6,
     "metadata": {},
     "output_type": "execute_result"
    }
   ],
   "source": [
    "data = soup.findAll(text=re.compile(\"Total Cases = (\\d+).*Total Deaths = (\\d+)\"))\n",
    "data"
   ]
  },
  {
   "cell_type": "code",
   "execution_count": 7,
   "metadata": {},
   "outputs": [],
   "source": [
    "\n",
    "m = re.search(\"Total Cases = ([,\\d]+).*Total Deaths = ([,\\d]+)\", _removeNonAscii(data[0]))\n"
   ]
  },
  {
   "cell_type": "code",
   "execution_count": 8,
   "metadata": {},
   "outputs": [
    {
     "data": {
      "text/plain": [
       "1787680"
      ]
     },
     "execution_count": 8,
     "metadata": {},
     "output_type": "execute_result"
    }
   ],
   "source": [
    "total_cases = int(m.group(1).replace(',',''))\n",
    "total_cases"
   ]
  },
  {
   "cell_type": "code",
   "execution_count": 9,
   "metadata": {},
   "outputs": [
    {
     "data": {
      "text/plain": [
       "104396"
      ]
     },
     "execution_count": 9,
     "metadata": {},
     "output_type": "execute_result"
    }
   ],
   "source": [
    "total_deaths = int(m.group(2).replace(',',''))\n",
    "total_deaths"
   ]
  },
  {
   "cell_type": "code",
   "execution_count": 10,
   "metadata": {},
   "outputs": [],
   "source": [
    "df = pd.DataFrame({'datetime':[data_date], \n",
    "                   'total_cases': [total_cases],\n",
    "                   'total_deaths': [total_deaths]})"
   ]
  },
  {
   "cell_type": "code",
   "execution_count": 11,
   "metadata": {},
   "outputs": [
    {
     "data": {
      "text/html": [
       "<div>\n",
       "<style scoped>\n",
       "    .dataframe tbody tr th:only-of-type {\n",
       "        vertical-align: middle;\n",
       "    }\n",
       "\n",
       "    .dataframe tbody tr th {\n",
       "        vertical-align: top;\n",
       "    }\n",
       "\n",
       "    .dataframe thead th {\n",
       "        text-align: right;\n",
       "    }\n",
       "</style>\n",
       "<table border=\"1\" class=\"dataframe\">\n",
       "  <thead>\n",
       "    <tr style=\"text-align: right;\">\n",
       "      <th></th>\n",
       "      <th>datetime</th>\n",
       "      <th>total_cases</th>\n",
       "      <th>total_deaths</th>\n",
       "    </tr>\n",
       "  </thead>\n",
       "  <tbody>\n",
       "    <tr>\n",
       "      <th>0</th>\n",
       "      <td>2020-06-01</td>\n",
       "      <td>1787680</td>\n",
       "      <td>104396</td>\n",
       "    </tr>\n",
       "  </tbody>\n",
       "</table>\n",
       "</div>"
      ],
      "text/plain": [
       "     datetime  total_cases  total_deaths\n",
       "0  2020-06-01      1787680        104396"
      ]
     },
     "execution_count": 11,
     "metadata": {},
     "output_type": "execute_result"
    }
   ],
   "source": [
    "df"
   ]
  },
  {
   "cell_type": "markdown",
   "metadata": {},
   "source": [
    "### Save to file (old data)\n"
   ]
  },
  {
   "cell_type": "code",
   "execution_count": 12,
   "metadata": {},
   "outputs": [
    {
     "data": {
      "text/html": [
       "<div>\n",
       "<style scoped>\n",
       "    .dataframe tbody tr th:only-of-type {\n",
       "        vertical-align: middle;\n",
       "    }\n",
       "\n",
       "    .dataframe tbody tr th {\n",
       "        vertical-align: top;\n",
       "    }\n",
       "\n",
       "    .dataframe thead th {\n",
       "        text-align: right;\n",
       "    }\n",
       "</style>\n",
       "<table border=\"1\" class=\"dataframe\">\n",
       "  <thead>\n",
       "    <tr style=\"text-align: right;\">\n",
       "      <th></th>\n",
       "      <th>datetime</th>\n",
       "      <th>total_cases</th>\n",
       "      <th>total_deaths</th>\n",
       "    </tr>\n",
       "  </thead>\n",
       "  <tbody>\n",
       "    <tr>\n",
       "      <th>0</th>\n",
       "      <td>2020-06-01</td>\n",
       "      <td>1787680</td>\n",
       "      <td>104396</td>\n",
       "    </tr>\n",
       "    <tr>\n",
       "      <th>0</th>\n",
       "      <td>2020-05-07</td>\n",
       "      <td>1219066</td>\n",
       "      <td>73297</td>\n",
       "    </tr>\n",
       "    <tr>\n",
       "      <th>1</th>\n",
       "      <td>2020-05-08</td>\n",
       "      <td>1248040</td>\n",
       "      <td>75477</td>\n",
       "    </tr>\n",
       "    <tr>\n",
       "      <th>2</th>\n",
       "      <td>2020-05-09</td>\n",
       "      <td>1274036</td>\n",
       "      <td>77034</td>\n",
       "    </tr>\n",
       "    <tr>\n",
       "      <th>3</th>\n",
       "      <td>2020-05-10</td>\n",
       "      <td>1300696</td>\n",
       "      <td>78771</td>\n",
       "    </tr>\n",
       "    <tr>\n",
       "      <th>4</th>\n",
       "      <td>2020-05-11</td>\n",
       "      <td>1324488</td>\n",
       "      <td>79756</td>\n",
       "    </tr>\n",
       "    <tr>\n",
       "      <th>5</th>\n",
       "      <td>2020-05-12</td>\n",
       "      <td>1342594</td>\n",
       "      <td>80820</td>\n",
       "    </tr>\n",
       "    <tr>\n",
       "      <th>6</th>\n",
       "      <td>2020-05-13</td>\n",
       "      <td>1364061</td>\n",
       "      <td>82246</td>\n",
       "    </tr>\n",
       "    <tr>\n",
       "      <th>7</th>\n",
       "      <td>2020-05-14</td>\n",
       "      <td>1384930</td>\n",
       "      <td>83947</td>\n",
       "    </tr>\n",
       "    <tr>\n",
       "      <th>8</th>\n",
       "      <td>2020-05-15</td>\n",
       "      <td>1412121</td>\n",
       "      <td>85990</td>\n",
       "    </tr>\n",
       "    <tr>\n",
       "      <th>9</th>\n",
       "      <td>2020-05-16</td>\n",
       "      <td>1435098</td>\n",
       "      <td>87315</td>\n",
       "    </tr>\n",
       "    <tr>\n",
       "      <th>10</th>\n",
       "      <td>2020-05-17</td>\n",
       "      <td>1467065</td>\n",
       "      <td>88709</td>\n",
       "    </tr>\n",
       "    <tr>\n",
       "      <th>11</th>\n",
       "      <td>2020-05-18</td>\n",
       "      <td>1480349</td>\n",
       "      <td>89407</td>\n",
       "    </tr>\n",
       "    <tr>\n",
       "      <th>12</th>\n",
       "      <td>2020-05-19</td>\n",
       "      <td>1504830</td>\n",
       "      <td>90340</td>\n",
       "    </tr>\n",
       "    <tr>\n",
       "      <th>13</th>\n",
       "      <td>2020-05-20</td>\n",
       "      <td>1528235</td>\n",
       "      <td>91664</td>\n",
       "    </tr>\n",
       "    <tr>\n",
       "      <th>14</th>\n",
       "      <td>2020-05-21</td>\n",
       "      <td>1551095</td>\n",
       "      <td>93061</td>\n",
       "    </tr>\n",
       "    <tr>\n",
       "      <th>15</th>\n",
       "      <td>2020-05-22</td>\n",
       "      <td>1571617</td>\n",
       "      <td>94150</td>\n",
       "    </tr>\n",
       "    <tr>\n",
       "      <th>16</th>\n",
       "      <td>2020-05-23</td>\n",
       "      <td>1595885</td>\n",
       "      <td>96002</td>\n",
       "    </tr>\n",
       "    <tr>\n",
       "      <th>17</th>\n",
       "      <td>2020-05-24</td>\n",
       "      <td>1622114</td>\n",
       "      <td>97049</td>\n",
       "    </tr>\n",
       "    <tr>\n",
       "      <th>18</th>\n",
       "      <td>2020-05-25</td>\n",
       "      <td>1637456</td>\n",
       "      <td>97669</td>\n",
       "    </tr>\n",
       "    <tr>\n",
       "      <th>19</th>\n",
       "      <td>2020-05-26</td>\n",
       "      <td>1662414</td>\n",
       "      <td>98261</td>\n",
       "    </tr>\n",
       "    <tr>\n",
       "      <th>20</th>\n",
       "      <td>2020-05-27</td>\n",
       "      <td>1678843</td>\n",
       "      <td>99031</td>\n",
       "    </tr>\n",
       "    <tr>\n",
       "      <th>21</th>\n",
       "      <td>2020-05-28</td>\n",
       "      <td>1698523</td>\n",
       "      <td>100446</td>\n",
       "    </tr>\n",
       "    <tr>\n",
       "      <th>22</th>\n",
       "      <td>2020-05-29</td>\n",
       "      <td>1719827</td>\n",
       "      <td>101711</td>\n",
       "    </tr>\n",
       "    <tr>\n",
       "      <th>23</th>\n",
       "      <td>2020-05-30</td>\n",
       "      <td>1737950</td>\n",
       "      <td>102785</td>\n",
       "    </tr>\n",
       "    <tr>\n",
       "      <th>24</th>\n",
       "      <td>2020-05-31</td>\n",
       "      <td>1761503</td>\n",
       "      <td>103700</td>\n",
       "    </tr>\n",
       "  </tbody>\n",
       "</table>\n",
       "</div>"
      ],
      "text/plain": [
       "      datetime  total_cases  total_deaths\n",
       "0   2020-06-01      1787680        104396\n",
       "0   2020-05-07      1219066         73297\n",
       "1   2020-05-08      1248040         75477\n",
       "2   2020-05-09      1274036         77034\n",
       "3   2020-05-10      1300696         78771\n",
       "4   2020-05-11      1324488         79756\n",
       "5   2020-05-12      1342594         80820\n",
       "6   2020-05-13      1364061         82246\n",
       "7   2020-05-14      1384930         83947\n",
       "8   2020-05-15      1412121         85990\n",
       "9   2020-05-16      1435098         87315\n",
       "10  2020-05-17      1467065         88709\n",
       "11  2020-05-18      1480349         89407\n",
       "12  2020-05-19      1504830         90340\n",
       "13  2020-05-20      1528235         91664\n",
       "14  2020-05-21      1551095         93061\n",
       "15  2020-05-22      1571617         94150\n",
       "16  2020-05-23      1595885         96002\n",
       "17  2020-05-24      1622114         97049\n",
       "18  2020-05-25      1637456         97669\n",
       "19  2020-05-26      1662414         98261\n",
       "20  2020-05-27      1678843         99031\n",
       "21  2020-05-28      1698523        100446\n",
       "22  2020-05-29      1719827        101711\n",
       "23  2020-05-30      1737950        102785\n",
       "24  2020-05-31      1761503        103700"
      ]
     },
     "execution_count": 12,
     "metadata": {},
     "output_type": "execute_result"
    }
   ],
   "source": [
    "from pathlib import Path\n",
    "csv_file = '../data/us-cdc-total-cases-deaths.csv'\n",
    "\n",
    "if Path(csv_file).exists():\n",
    "    # read out the old dat\n",
    "    old_df = pd.read_csv(csv_file)\n",
    "    df = df.append(old_df)\n",
    "df.drop_duplicates(subset=['datetime'], inplace=True)\n",
    "df"
   ]
  },
  {
   "cell_type": "code",
   "execution_count": 13,
   "metadata": {},
   "outputs": [],
   "source": [
    "df.sort_values(by=['datetime'], inplace=True)\n",
    "df.to_csv(csv_file, index=False)"
   ]
  },
  {
   "cell_type": "code",
   "execution_count": 14,
   "metadata": {},
   "outputs": [
    {
     "data": {
      "text/html": [
       "<div>\n",
       "<style scoped>\n",
       "    .dataframe tbody tr th:only-of-type {\n",
       "        vertical-align: middle;\n",
       "    }\n",
       "\n",
       "    .dataframe tbody tr th {\n",
       "        vertical-align: top;\n",
       "    }\n",
       "\n",
       "    .dataframe thead th {\n",
       "        text-align: right;\n",
       "    }\n",
       "</style>\n",
       "<table border=\"1\" class=\"dataframe\">\n",
       "  <thead>\n",
       "    <tr style=\"text-align: right;\">\n",
       "      <th></th>\n",
       "      <th>datetime</th>\n",
       "      <th>total_cases</th>\n",
       "      <th>total_deaths</th>\n",
       "    </tr>\n",
       "  </thead>\n",
       "  <tbody>\n",
       "    <tr>\n",
       "      <th>0</th>\n",
       "      <td>2020-05-07</td>\n",
       "      <td>1219066</td>\n",
       "      <td>73297</td>\n",
       "    </tr>\n",
       "    <tr>\n",
       "      <th>1</th>\n",
       "      <td>2020-05-08</td>\n",
       "      <td>1248040</td>\n",
       "      <td>75477</td>\n",
       "    </tr>\n",
       "    <tr>\n",
       "      <th>2</th>\n",
       "      <td>2020-05-09</td>\n",
       "      <td>1274036</td>\n",
       "      <td>77034</td>\n",
       "    </tr>\n",
       "    <tr>\n",
       "      <th>3</th>\n",
       "      <td>2020-05-10</td>\n",
       "      <td>1300696</td>\n",
       "      <td>78771</td>\n",
       "    </tr>\n",
       "    <tr>\n",
       "      <th>4</th>\n",
       "      <td>2020-05-11</td>\n",
       "      <td>1324488</td>\n",
       "      <td>79756</td>\n",
       "    </tr>\n",
       "    <tr>\n",
       "      <th>5</th>\n",
       "      <td>2020-05-12</td>\n",
       "      <td>1342594</td>\n",
       "      <td>80820</td>\n",
       "    </tr>\n",
       "    <tr>\n",
       "      <th>6</th>\n",
       "      <td>2020-05-13</td>\n",
       "      <td>1364061</td>\n",
       "      <td>82246</td>\n",
       "    </tr>\n",
       "    <tr>\n",
       "      <th>7</th>\n",
       "      <td>2020-05-14</td>\n",
       "      <td>1384930</td>\n",
       "      <td>83947</td>\n",
       "    </tr>\n",
       "    <tr>\n",
       "      <th>8</th>\n",
       "      <td>2020-05-15</td>\n",
       "      <td>1412121</td>\n",
       "      <td>85990</td>\n",
       "    </tr>\n",
       "    <tr>\n",
       "      <th>9</th>\n",
       "      <td>2020-05-16</td>\n",
       "      <td>1435098</td>\n",
       "      <td>87315</td>\n",
       "    </tr>\n",
       "    <tr>\n",
       "      <th>10</th>\n",
       "      <td>2020-05-17</td>\n",
       "      <td>1467065</td>\n",
       "      <td>88709</td>\n",
       "    </tr>\n",
       "    <tr>\n",
       "      <th>11</th>\n",
       "      <td>2020-05-18</td>\n",
       "      <td>1480349</td>\n",
       "      <td>89407</td>\n",
       "    </tr>\n",
       "    <tr>\n",
       "      <th>12</th>\n",
       "      <td>2020-05-19</td>\n",
       "      <td>1504830</td>\n",
       "      <td>90340</td>\n",
       "    </tr>\n",
       "    <tr>\n",
       "      <th>13</th>\n",
       "      <td>2020-05-20</td>\n",
       "      <td>1528235</td>\n",
       "      <td>91664</td>\n",
       "    </tr>\n",
       "    <tr>\n",
       "      <th>14</th>\n",
       "      <td>2020-05-21</td>\n",
       "      <td>1551095</td>\n",
       "      <td>93061</td>\n",
       "    </tr>\n",
       "    <tr>\n",
       "      <th>15</th>\n",
       "      <td>2020-05-22</td>\n",
       "      <td>1571617</td>\n",
       "      <td>94150</td>\n",
       "    </tr>\n",
       "    <tr>\n",
       "      <th>16</th>\n",
       "      <td>2020-05-23</td>\n",
       "      <td>1595885</td>\n",
       "      <td>96002</td>\n",
       "    </tr>\n",
       "    <tr>\n",
       "      <th>17</th>\n",
       "      <td>2020-05-24</td>\n",
       "      <td>1622114</td>\n",
       "      <td>97049</td>\n",
       "    </tr>\n",
       "    <tr>\n",
       "      <th>18</th>\n",
       "      <td>2020-05-25</td>\n",
       "      <td>1637456</td>\n",
       "      <td>97669</td>\n",
       "    </tr>\n",
       "    <tr>\n",
       "      <th>19</th>\n",
       "      <td>2020-05-26</td>\n",
       "      <td>1662414</td>\n",
       "      <td>98261</td>\n",
       "    </tr>\n",
       "    <tr>\n",
       "      <th>20</th>\n",
       "      <td>2020-05-27</td>\n",
       "      <td>1678843</td>\n",
       "      <td>99031</td>\n",
       "    </tr>\n",
       "    <tr>\n",
       "      <th>21</th>\n",
       "      <td>2020-05-28</td>\n",
       "      <td>1698523</td>\n",
       "      <td>100446</td>\n",
       "    </tr>\n",
       "    <tr>\n",
       "      <th>22</th>\n",
       "      <td>2020-05-29</td>\n",
       "      <td>1719827</td>\n",
       "      <td>101711</td>\n",
       "    </tr>\n",
       "    <tr>\n",
       "      <th>23</th>\n",
       "      <td>2020-05-30</td>\n",
       "      <td>1737950</td>\n",
       "      <td>102785</td>\n",
       "    </tr>\n",
       "    <tr>\n",
       "      <th>24</th>\n",
       "      <td>2020-05-31</td>\n",
       "      <td>1761503</td>\n",
       "      <td>103700</td>\n",
       "    </tr>\n",
       "    <tr>\n",
       "      <th>0</th>\n",
       "      <td>2020-06-01</td>\n",
       "      <td>1787680</td>\n",
       "      <td>104396</td>\n",
       "    </tr>\n",
       "  </tbody>\n",
       "</table>\n",
       "</div>"
      ],
      "text/plain": [
       "      datetime  total_cases  total_deaths\n",
       "0   2020-05-07      1219066         73297\n",
       "1   2020-05-08      1248040         75477\n",
       "2   2020-05-09      1274036         77034\n",
       "3   2020-05-10      1300696         78771\n",
       "4   2020-05-11      1324488         79756\n",
       "5   2020-05-12      1342594         80820\n",
       "6   2020-05-13      1364061         82246\n",
       "7   2020-05-14      1384930         83947\n",
       "8   2020-05-15      1412121         85990\n",
       "9   2020-05-16      1435098         87315\n",
       "10  2020-05-17      1467065         88709\n",
       "11  2020-05-18      1480349         89407\n",
       "12  2020-05-19      1504830         90340\n",
       "13  2020-05-20      1528235         91664\n",
       "14  2020-05-21      1551095         93061\n",
       "15  2020-05-22      1571617         94150\n",
       "16  2020-05-23      1595885         96002\n",
       "17  2020-05-24      1622114         97049\n",
       "18  2020-05-25      1637456         97669\n",
       "19  2020-05-26      1662414         98261\n",
       "20  2020-05-27      1678843         99031\n",
       "21  2020-05-28      1698523        100446\n",
       "22  2020-05-29      1719827        101711\n",
       "23  2020-05-30      1737950        102785\n",
       "24  2020-05-31      1761503        103700\n",
       "0   2020-06-01      1787680        104396"
      ]
     },
     "execution_count": 14,
     "metadata": {},
     "output_type": "execute_result"
    }
   ],
   "source": [
    "df"
   ]
  },
  {
   "cell_type": "code",
   "execution_count": null,
   "metadata": {},
   "outputs": [],
   "source": []
  },
  {
   "cell_type": "code",
   "execution_count": null,
   "metadata": {},
   "outputs": [],
   "source": []
  }
 ],
 "metadata": {
  "kernelspec": {
   "display_name": "Python 3",
   "language": "python",
   "name": "python3"
  },
  "language_info": {
   "codemirror_mode": {
    "name": "ipython",
    "version": 3
   },
   "file_extension": ".py",
   "mimetype": "text/x-python",
   "name": "python",
   "nbconvert_exporter": "python",
   "pygments_lexer": "ipython3",
   "version": "3.7.6"
  }
 },
 "nbformat": 4,
 "nbformat_minor": 2
}
