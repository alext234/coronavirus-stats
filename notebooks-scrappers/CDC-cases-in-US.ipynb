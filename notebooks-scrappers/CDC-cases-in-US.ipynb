{
 "cells": [
  {
   "cell_type": "code",
   "execution_count": 1,
   "metadata": {},
   "outputs": [],
   "source": [
    "import pandas as pd\n",
    "import requests\n",
    "from bs4 import BeautifulSoup\n",
    "import re\n",
    "from datetime import datetime"
   ]
  },
  {
   "cell_type": "code",
   "execution_count": 2,
   "metadata": {},
   "outputs": [],
   "source": [
    "url = 'https://www.cdc.gov/coronavirus/2019-ncov/cases-updates/cases-in-us.html'"
   ]
  },
  {
   "cell_type": "markdown",
   "metadata": {},
   "source": [
    "### Extract date"
   ]
  },
  {
   "cell_type": "code",
   "execution_count": 3,
   "metadata": {},
   "outputs": [],
   "source": [
    "content = requests.get(url).content\n",
    "soup =BeautifulSoup(content, 'lxml')"
   ]
  },
  {
   "cell_type": "code",
   "execution_count": 4,
   "metadata": {},
   "outputs": [
    {
     "data": {
      "text/plain": [
       "['Updated April 15, 2020']"
      ]
     },
     "execution_count": 4,
     "metadata": {},
     "output_type": "execute_result"
    }
   ],
   "source": [
    "data = soup.findAll(text=re.compile(\"Updated .*202\"))\n",
    "data"
   ]
  },
  {
   "cell_type": "code",
   "execution_count": 5,
   "metadata": {},
   "outputs": [
    {
     "data": {
      "text/plain": [
       "'2020-04-15'"
      ]
     },
     "execution_count": 5,
     "metadata": {},
     "output_type": "execute_result"
    }
   ],
   "source": [
    "m = re.search(\"Updated (\\w+ \\d+, 202\\d)\", data[0])\n",
    "data_date_str = m.group(1)\n",
    "data_date = datetime.strptime(data_date_str, '%B %d, %Y').strftime('%Y-%m-%d')\n",
    "data_date"
   ]
  },
  {
   "cell_type": "markdown",
   "metadata": {},
   "source": [
    "### Extract data and add into Dataframe"
   ]
  },
  {
   "cell_type": "code",
   "execution_count": 6,
   "metadata": {},
   "outputs": [],
   "source": [
    "dfs = pd.read_html(url)"
   ]
  },
  {
   "cell_type": "code",
   "execution_count": 7,
   "metadata": {},
   "outputs": [],
   "source": [
    "if len(dfs) == 0 :\n",
    "    raise Exception('There is no dataframes detected')"
   ]
  },
  {
   "cell_type": "code",
   "execution_count": 8,
   "metadata": {},
   "outputs": [
    {
     "data": {
      "text/html": [
       "<div>\n",
       "<style scoped>\n",
       "    .dataframe tbody tr th:only-of-type {\n",
       "        vertical-align: middle;\n",
       "    }\n",
       "\n",
       "    .dataframe tbody tr th {\n",
       "        vertical-align: top;\n",
       "    }\n",
       "\n",
       "    .dataframe thead tr th {\n",
       "        text-align: left;\n",
       "    }\n",
       "</style>\n",
       "<table border=\"1\" class=\"dataframe\">\n",
       "  <thead>\n",
       "    <tr>\n",
       "      <th></th>\n",
       "      <th>Unnamed: 0_level_0</th>\n",
       "      <th colspan=\"6\" halign=\"left\">No. of cases (% of total)</th>\n",
       "    </tr>\n",
       "    <tr>\n",
       "      <th></th>\n",
       "      <th>Age group (years)</th>\n",
       "      <th>&lt; 18</th>\n",
       "      <th>18-44</th>\n",
       "      <th>45-64</th>\n",
       "      <th>65+</th>\n",
       "      <th>Unknown</th>\n",
       "      <th>Total</th>\n",
       "    </tr>\n",
       "  </thead>\n",
       "  <tbody>\n",
       "    <tr>\n",
       "      <th>0</th>\n",
       "      <td>Totals</td>\n",
       "      <td>7001</td>\n",
       "      <td>145499</td>\n",
       "      <td>147003</td>\n",
       "      <td>90619</td>\n",
       "      <td>8730</td>\n",
       "      <td>398852</td>\n",
       "    </tr>\n",
       "    <tr>\n",
       "      <th>1</th>\n",
       "      <td>Race missing/unspecified</td>\n",
       "      <td>5,958 (85%)</td>\n",
       "      <td>119,683 (82%)</td>\n",
       "      <td>115,997 (79%)</td>\n",
       "      <td>63,449 (70%)</td>\n",
       "      <td>5,687 (65%)</td>\n",
       "      <td>310,774 (78%)</td>\n",
       "    </tr>\n",
       "    <tr>\n",
       "      <th>2</th>\n",
       "      <td>Race specified</td>\n",
       "      <td>1,043 (15%)</td>\n",
       "      <td>25,816 (18%)</td>\n",
       "      <td>31,006 (21%)</td>\n",
       "      <td>27,170 (30%)</td>\n",
       "      <td>3,043 (35%)</td>\n",
       "      <td>88,078 (22%)</td>\n",
       "    </tr>\n",
       "    <tr>\n",
       "      <th>3</th>\n",
       "      <td>Among those with race specified</td>\n",
       "      <td>Among those with race specified</td>\n",
       "      <td>Among those with race specified</td>\n",
       "      <td>Among those with race specified</td>\n",
       "      <td>Among those with race specified</td>\n",
       "      <td>Among those with race specified</td>\n",
       "      <td>Among those with race specified</td>\n",
       "    </tr>\n",
       "    <tr>\n",
       "      <th>4</th>\n",
       "      <td>American Indian or Alaska Native</td>\n",
       "      <td>2 (0.2%)</td>\n",
       "      <td>128 (0.5%)</td>\n",
       "      <td>106 (0.3%)</td>\n",
       "      <td>54 (0.2%)</td>\n",
       "      <td>3 (0.1%)</td>\n",
       "      <td>293 (0.3%)</td>\n",
       "    </tr>\n",
       "    <tr>\n",
       "      <th>5</th>\n",
       "      <td>Asian</td>\n",
       "      <td>41 (4%)</td>\n",
       "      <td>1,238 (5%)</td>\n",
       "      <td>1,368 (4%)</td>\n",
       "      <td>826 (3%)</td>\n",
       "      <td>217 (7%)</td>\n",
       "      <td>3,690 (4%)</td>\n",
       "    </tr>\n",
       "    <tr>\n",
       "      <th>6</th>\n",
       "      <td>Black or African American</td>\n",
       "      <td>301 (29%)</td>\n",
       "      <td>8,092 (31%)</td>\n",
       "      <td>10,666 (34%)</td>\n",
       "      <td>7,729 (28%)</td>\n",
       "      <td>374 (12%)</td>\n",
       "      <td>27,162 (31%)</td>\n",
       "    </tr>\n",
       "    <tr>\n",
       "      <th>7</th>\n",
       "      <td>Native Hawaiian or other Pacific Islander</td>\n",
       "      <td>4 (0.4%)</td>\n",
       "      <td>131 (0.5%)</td>\n",
       "      <td>114 (0.4%)</td>\n",
       "      <td>57 (0.2%)</td>\n",
       "      <td>10 (0.3%)</td>\n",
       "      <td>316 (0.4%)</td>\n",
       "    </tr>\n",
       "    <tr>\n",
       "      <th>8</th>\n",
       "      <td>White</td>\n",
       "      <td>683 (65%)</td>\n",
       "      <td>16,120 (62%)</td>\n",
       "      <td>18,662 (60%)</td>\n",
       "      <td>18,452 (68%)</td>\n",
       "      <td>2,438 (80%)</td>\n",
       "      <td>56,355 (64%)</td>\n",
       "    </tr>\n",
       "    <tr>\n",
       "      <th>9</th>\n",
       "      <td>Multiple/other</td>\n",
       "      <td>12 (1.2%)</td>\n",
       "      <td>107 (0.4%)</td>\n",
       "      <td>90 (0.3%)</td>\n",
       "      <td>52 (0.2%)</td>\n",
       "      <td>1 (0%)</td>\n",
       "      <td>262 (0.3%)</td>\n",
       "    </tr>\n",
       "    <tr>\n",
       "      <th>10</th>\n",
       "      <td>NaN</td>\n",
       "      <td>NaN</td>\n",
       "      <td>NaN</td>\n",
       "      <td>NaN</td>\n",
       "      <td>NaN</td>\n",
       "      <td>NaN</td>\n",
       "      <td>NaN</td>\n",
       "    </tr>\n",
       "    <tr>\n",
       "      <th>11</th>\n",
       "      <td>Missing/unspecified</td>\n",
       "      <td>5,962 (85%)</td>\n",
       "      <td>12,0883 (83%)</td>\n",
       "      <td>11,8912 (81%)</td>\n",
       "      <td>68,857 (76%)</td>\n",
       "      <td>4,191 (48%)</td>\n",
       "      <td>318,805 (80%)</td>\n",
       "    </tr>\n",
       "    <tr>\n",
       "      <th>12</th>\n",
       "      <td>Hispanic/Latino</td>\n",
       "      <td>315 (4%)</td>\n",
       "      <td>5911 (4%)</td>\n",
       "      <td>5108 (3%)</td>\n",
       "      <td>2097 (2%)</td>\n",
       "      <td>572 (7%)</td>\n",
       "      <td>14,003 (4%)</td>\n",
       "    </tr>\n",
       "    <tr>\n",
       "      <th>13</th>\n",
       "      <td>Non-Hispanic/Latino</td>\n",
       "      <td>724 (10%)</td>\n",
       "      <td>18,705 (13%)</td>\n",
       "      <td>22,983 (16%)</td>\n",
       "      <td>19,665 (22%)</td>\n",
       "      <td>3,967 (45%)</td>\n",
       "      <td>66,044 (17%)</td>\n",
       "    </tr>\n",
       "  </tbody>\n",
       "</table>\n",
       "</div>"
      ],
      "text/plain": [
       "                           Unnamed: 0_level_0  \\\n",
       "                            Age group (years)   \n",
       "0                                      Totals   \n",
       "1                    Race missing/unspecified   \n",
       "2                              Race specified   \n",
       "3             Among those with race specified   \n",
       "4            American Indian or Alaska Native   \n",
       "5                                       Asian   \n",
       "6                   Black or African American   \n",
       "7   Native Hawaiian or other Pacific Islander   \n",
       "8                                       White   \n",
       "9                              Multiple/other   \n",
       "10                                        NaN   \n",
       "11                        Missing/unspecified   \n",
       "12                            Hispanic/Latino   \n",
       "13                        Non-Hispanic/Latino   \n",
       "\n",
       "          No. of cases (% of total)                                   \\\n",
       "                               < 18                            18-44   \n",
       "0                              7001                           145499   \n",
       "1                       5,958 (85%)                    119,683 (82%)   \n",
       "2                       1,043 (15%)                     25,816 (18%)   \n",
       "3   Among those with race specified  Among those with race specified   \n",
       "4                          2 (0.2%)                       128 (0.5%)   \n",
       "5                           41 (4%)                       1,238 (5%)   \n",
       "6                         301 (29%)                      8,092 (31%)   \n",
       "7                          4 (0.4%)                       131 (0.5%)   \n",
       "8                         683 (65%)                     16,120 (62%)   \n",
       "9                         12 (1.2%)                       107 (0.4%)   \n",
       "10                              NaN                              NaN   \n",
       "11                      5,962 (85%)                    12,0883 (83%)   \n",
       "12                         315 (4%)                        5911 (4%)   \n",
       "13                        724 (10%)                     18,705 (13%)   \n",
       "\n",
       "                                                                      \\\n",
       "                              45-64                              65+   \n",
       "0                            147003                            90619   \n",
       "1                     115,997 (79%)                     63,449 (70%)   \n",
       "2                      31,006 (21%)                     27,170 (30%)   \n",
       "3   Among those with race specified  Among those with race specified   \n",
       "4                        106 (0.3%)                        54 (0.2%)   \n",
       "5                        1,368 (4%)                         826 (3%)   \n",
       "6                      10,666 (34%)                      7,729 (28%)   \n",
       "7                        114 (0.4%)                        57 (0.2%)   \n",
       "8                      18,662 (60%)                     18,452 (68%)   \n",
       "9                         90 (0.3%)                        52 (0.2%)   \n",
       "10                              NaN                              NaN   \n",
       "11                    11,8912 (81%)                     68,857 (76%)   \n",
       "12                        5108 (3%)                        2097 (2%)   \n",
       "13                     22,983 (16%)                     19,665 (22%)   \n",
       "\n",
       "                                                                      \n",
       "                            Unknown                            Total  \n",
       "0                              8730                           398852  \n",
       "1                       5,687 (65%)                    310,774 (78%)  \n",
       "2                       3,043 (35%)                     88,078 (22%)  \n",
       "3   Among those with race specified  Among those with race specified  \n",
       "4                          3 (0.1%)                       293 (0.3%)  \n",
       "5                          217 (7%)                       3,690 (4%)  \n",
       "6                         374 (12%)                     27,162 (31%)  \n",
       "7                         10 (0.3%)                       316 (0.4%)  \n",
       "8                       2,438 (80%)                     56,355 (64%)  \n",
       "9                            1 (0%)                       262 (0.3%)  \n",
       "10                              NaN                              NaN  \n",
       "11                      4,191 (48%)                    318,805 (80%)  \n",
       "12                         572 (7%)                      14,003 (4%)  \n",
       "13                      3,967 (45%)                     66,044 (17%)  "
      ]
     },
     "execution_count": 8,
     "metadata": {},
     "output_type": "execute_result"
    }
   ],
   "source": [
    "df = dfs[0]\n",
    "df"
   ]
  },
  {
   "cell_type": "code",
   "execution_count": 9,
   "metadata": {},
   "outputs": [],
   "source": [
    "# col0 = df.columns[0]\n",
    "# df = df.set_index(col0).T\n",
    "# df\n",
    "\n"
   ]
  },
  {
   "cell_type": "code",
   "execution_count": 10,
   "metadata": {},
   "outputs": [],
   "source": [
    "# # remove non alphanumeric characters from the columns\n",
    "# # also lowercase them\n",
    "# df.columns = df.columns.map(lambda x: re.sub('\\W+', '', str.lower(x)))\n",
    "\n",
    "# # add column date to the front\n",
    "# df.insert(0, 'date', data_date)\n"
   ]
  },
  {
   "cell_type": "code",
   "execution_count": 11,
   "metadata": {},
   "outputs": [],
   "source": [
    "# df"
   ]
  },
  {
   "cell_type": "markdown",
   "metadata": {},
   "source": [
    "### Save to file"
   ]
  },
  {
   "cell_type": "code",
   "execution_count": 12,
   "metadata": {},
   "outputs": [],
   "source": [
    "# from pathlib import Path\n",
    "# csv_file = '../data/cdc-us-cases.csv'\n",
    "\n",
    "# if Path(csv_file).exists():\n",
    "#     # read out the old dat\n",
    "#     old_df = pd.read_csv(csv_file)\n",
    "#     df = df.append(old_df)\n",
    "# df.drop_duplicates(subset=['date'], inplace=True)"
   ]
  },
  {
   "cell_type": "code",
   "execution_count": 13,
   "metadata": {},
   "outputs": [],
   "source": [
    "# df.sort_values(by=['date'], inplace=True)\n",
    "# df\n",
    "# df.to_csv(csv_file, index=False)"
   ]
  },
  {
   "cell_type": "markdown",
   "metadata": {},
   "source": [
    "### Plot graph"
   ]
  },
  {
   "cell_type": "code",
   "execution_count": 14,
   "metadata": {},
   "outputs": [],
   "source": [
    "# import seaborn as sns\n",
    "# import matplotlib.pyplot as plt\n",
    "# from pandas.plotting import register_matplotlib_converters\n",
    "# register_matplotlib_converters()\n",
    "\n",
    "# png_file = '../images/cdc-us-cases.png'\n",
    "\n",
    "# # convert to pd.datetime\n",
    "# df['datetime_idx'] = pd.to_datetime(df['date'], format=\"%Y-%m-%d\")\n",
    "\n",
    "# df.set_index('datetime_idx', inplace=True)\n",
    "# df"
   ]
  },
  {
   "cell_type": "code",
   "execution_count": null,
   "metadata": {},
   "outputs": [],
   "source": []
  }
 ],
 "metadata": {
  "kernelspec": {
   "display_name": "Python 3",
   "language": "python",
   "name": "python3"
  },
  "language_info": {
   "codemirror_mode": {
    "name": "ipython",
    "version": 3
   },
   "file_extension": ".py",
   "mimetype": "text/x-python",
   "name": "python",
   "nbconvert_exporter": "python",
   "pygments_lexer": "ipython3",
   "version": "3.7.6"
  }
 },
 "nbformat": 4,
 "nbformat_minor": 2
}
