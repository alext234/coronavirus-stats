{
 "cells": [
  {
   "cell_type": "code",
   "execution_count": 1,
   "metadata": {},
   "outputs": [],
   "source": [
    "import pandas as pd\n",
    "import requests\n",
    "from bs4 import BeautifulSoup\n",
    "import re\n",
    "from datetime import datetime\n",
    "import unicodedata"
   ]
  },
  {
   "cell_type": "code",
   "execution_count": 2,
   "metadata": {},
   "outputs": [
    {
     "data": {
      "text/plain": [
       "datetime.datetime(2020, 4, 29, 8, 6, 57, 673499)"
      ]
     },
     "execution_count": 2,
     "metadata": {},
     "output_type": "execute_result"
    }
   ],
   "source": [
    "datetime.now()"
   ]
  },
  {
   "cell_type": "code",
   "execution_count": 3,
   "metadata": {},
   "outputs": [],
   "source": [
    "url = 'https://www.health.gov.au/news/health-alerts/novel-coronavirus-2019-ncov-health-alert/coronavirus-covid-19-current-situation-and-case-numbers'\n",
    "content = requests.get(url).content"
   ]
  },
  {
   "cell_type": "code",
   "execution_count": 4,
   "metadata": {},
   "outputs": [
    {
     "data": {
      "text/plain": [
       "'\\n        As at 6:30am on 29 April 2020, there have been 6,738 confirmed cases of COVID-19 in Australia. There have been 13 new cases since 6:00am yesterday.        Australian Capital Territory New South Wales Northern Territory Queensland South Australia Tasmania Victoria Western Australia'"
      ]
     },
     "execution_count": 4,
     "metadata": {},
     "output_type": "execute_result"
    }
   ],
   "source": [
    "soup = BeautifulSoup(content)\n",
    "data = soup.findAll(text=re.compile('As .+')) + \\\n",
    "        soup.findAll(text=re.compile('.*(?:(Australian Capital Territory)|(Queensland)|(Victoria)|(New South Wales)|(South Australia)|(Western Australia)|(Northern Territory)|(Tasmania)|(Diamond Princess))')) \n",
    "data = ' '.join(data)\n",
    "data"
   ]
  },
  {
   "cell_type": "code",
   "execution_count": 5,
   "metadata": {},
   "outputs": [],
   "source": [
    "cases_str = unicodedata.normalize(\"NFKD\", data)"
   ]
  },
  {
   "cell_type": "code",
   "execution_count": 6,
   "metadata": {},
   "outputs": [
    {
     "data": {
      "text/plain": [
       "'\\n        As at 6:30am on 29 April 2020, there have been 6,738 confirmed cases of COVID-19 in Australia. There have been 13 new cases since 6:00am yesterday.        Australian Capital Territory New South Wales Northern Territory Queensland South Australia Tasmania Victoria Western Australia'"
      ]
     },
     "execution_count": 6,
     "metadata": {},
     "output_type": "execute_result"
    }
   ],
   "source": [
    "cases_str"
   ]
  },
  {
   "cell_type": "code",
   "execution_count": 7,
   "metadata": {},
   "outputs": [
    {
     "data": {
      "text/plain": [
       "'29 April 2020'"
      ]
     },
     "execution_count": 7,
     "metadata": {},
     "output_type": "execute_result"
    }
   ],
   "source": [
    "date_time_str = re.search('As .+ (\\d+ \\w+ 202\\d)' ,cases_str).group(1)\n",
    "date_time_str"
   ]
  },
  {
   "cell_type": "code",
   "execution_count": 8,
   "metadata": {},
   "outputs": [
    {
     "data": {
      "text/plain": [
       "'2020-04-29'"
      ]
     },
     "execution_count": 8,
     "metadata": {},
     "output_type": "execute_result"
    }
   ],
   "source": [
    "data_date_time = datetime.strptime(date_time_str, '%d %B %Y').strftime('%Y-%m-%d')\n",
    "data_date_time"
   ]
  },
  {
   "cell_type": "code",
   "execution_count": 9,
   "metadata": {},
   "outputs": [],
   "source": [
    "# m = re.search('there were (\\d+) confirmed cases', cases_str)\n",
    "# australia = int(m.group(1))\n",
    "# australia"
   ]
  },
  {
   "cell_type": "code",
   "execution_count": 10,
   "metadata": {},
   "outputs": [],
   "source": [
    "# m = re.search('(\\d+) in New South Wales', cases_str)\n",
    "# nsw = int(m.group(1))\n"
   ]
  },
  {
   "cell_type": "code",
   "execution_count": 11,
   "metadata": {},
   "outputs": [],
   "source": [
    "# m = re.search('(\\d+) in Victoria', cases_str)\n",
    "# victoria = int(m.group(1))"
   ]
  },
  {
   "cell_type": "code",
   "execution_count": 12,
   "metadata": {},
   "outputs": [],
   "source": [
    "# m = re.search('(\\d+) in South Australia', cases_str)\n",
    "# sa = int(m.group(1))"
   ]
  },
  {
   "cell_type": "code",
   "execution_count": 13,
   "metadata": {},
   "outputs": [],
   "source": [
    "# m = re.search('(\\d+) in Queensland', cases_str)\n",
    "# qld = int(m.group(1))"
   ]
  },
  {
   "cell_type": "code",
   "execution_count": 14,
   "metadata": {},
   "outputs": [],
   "source": [
    "# m = re.search('(\\d+) in Tasmania', cases_str)\n",
    "# tas = int(m.group(1))\n"
   ]
  },
  {
   "cell_type": "code",
   "execution_count": 15,
   "metadata": {},
   "outputs": [],
   "source": [
    "# m = re.search('(\\d+) in .* Australian Capital Territory', cases_str)\n",
    "# act = int(m.group(1))\n",
    "\n"
   ]
  },
  {
   "cell_type": "code",
   "execution_count": 16,
   "metadata": {},
   "outputs": [],
   "source": [
    "# m = re.search('(\\d+) in Northern Territory', cases_str)\n",
    "# nt = int(m.group(1))\n"
   ]
  },
  {
   "cell_type": "code",
   "execution_count": 17,
   "metadata": {},
   "outputs": [],
   "source": [
    "# m = re.search('(\\d+) .* Diamond Princess', cases_str)\n",
    "# wa = int(m.group(1))\n"
   ]
  },
  {
   "cell_type": "markdown",
   "metadata": {},
   "source": [
    "### Dataframe"
   ]
  },
  {
   "cell_type": "code",
   "execution_count": 18,
   "metadata": {},
   "outputs": [
    {
     "data": {
      "text/html": [
       "<div>\n",
       "<style scoped>\n",
       "    .dataframe tbody tr th:only-of-type {\n",
       "        vertical-align: middle;\n",
       "    }\n",
       "\n",
       "    .dataframe tbody tr th {\n",
       "        vertical-align: top;\n",
       "    }\n",
       "\n",
       "    .dataframe thead th {\n",
       "        text-align: right;\n",
       "    }\n",
       "</style>\n",
       "<table border=\"1\" class=\"dataframe\">\n",
       "  <thead>\n",
       "    <tr style=\"text-align: right;\">\n",
       "      <th>Location</th>\n",
       "      <th>Australian Capital Territory</th>\n",
       "      <th>New South Wales</th>\n",
       "      <th>Northern Territory</th>\n",
       "      <th>Queensland</th>\n",
       "      <th>South Australia</th>\n",
       "      <th>Tasmania</th>\n",
       "      <th>Victoria</th>\n",
       "      <th>Western Australia</th>\n",
       "      <th>Total</th>\n",
       "      <th>* Note that under National Notifiable Diseases Surveillance System reporting requirements, cases are reported based on their Australian jurisdiction of residence rather than where they were detected. For example, a case reported previously in the NT in a NSW resident is counted in the national figures as a NSW case.</th>\n",
       "    </tr>\n",
       "  </thead>\n",
       "  <tbody>\n",
       "    <tr>\n",
       "      <th>Confirmed cases*</th>\n",
       "      <td>106</td>\n",
       "      <td>3016</td>\n",
       "      <td>27</td>\n",
       "      <td>1033</td>\n",
       "      <td>438</td>\n",
       "      <td>217</td>\n",
       "      <td>1351</td>\n",
       "      <td>550</td>\n",
       "      <td>6738</td>\n",
       "      <td>* Note that under National Notifiable Diseases...</td>\n",
       "    </tr>\n",
       "  </tbody>\n",
       "</table>\n",
       "</div>"
      ],
      "text/plain": [
       "Location         Australian Capital Territory New South Wales  \\\n",
       "Confirmed cases*                          106            3016   \n",
       "\n",
       "Location         Northern Territory Queensland South Australia Tasmania  \\\n",
       "Confirmed cases*                 27       1033             438      217   \n",
       "\n",
       "Location         Victoria Western Australia Total  \\\n",
       "Confirmed cases*     1351               550  6738   \n",
       "\n",
       "Location         * Note that under National Notifiable Diseases Surveillance System reporting requirements, cases are reported based on their Australian jurisdiction of residence rather than where they were detected. For example, a case reported previously in the NT in a NSW resident is counted in the national figures as a NSW case.  \n",
       "Confirmed cases*  * Note that under National Notifiable Diseases...                                                                                                                                                                                                                                                                             "
      ]
     },
     "execution_count": 18,
     "metadata": {},
     "output_type": "execute_result"
    }
   ],
   "source": [
    "df1 = pd.read_html(url)[0]\n",
    "df1 = df1.set_index('Location').T\n",
    "df1"
   ]
  },
  {
   "cell_type": "code",
   "execution_count": 19,
   "metadata": {},
   "outputs": [
    {
     "data": {
      "text/html": [
       "<div>\n",
       "<style scoped>\n",
       "    .dataframe tbody tr th:only-of-type {\n",
       "        vertical-align: middle;\n",
       "    }\n",
       "\n",
       "    .dataframe tbody tr th {\n",
       "        vertical-align: top;\n",
       "    }\n",
       "\n",
       "    .dataframe thead th {\n",
       "        text-align: right;\n",
       "    }\n",
       "</style>\n",
       "<table border=\"1\" class=\"dataframe\">\n",
       "  <thead>\n",
       "    <tr style=\"text-align: right;\">\n",
       "      <th>Location</th>\n",
       "      <th>date</th>\n",
       "      <th>act</th>\n",
       "      <th>nsw</th>\n",
       "      <th>nt</th>\n",
       "      <th>qld</th>\n",
       "      <th>sa</th>\n",
       "      <th>tas</th>\n",
       "      <th>victoria</th>\n",
       "      <th>wa</th>\n",
       "      <th>australia</th>\n",
       "      <th>* Note that under National Notifiable Diseases Surveillance System reporting requirements, cases are reported based on their Australian jurisdiction of residence rather than where they were detected. For example, a case reported previously in the NT in a NSW resident is counted in the national figures as a NSW case.</th>\n",
       "    </tr>\n",
       "  </thead>\n",
       "  <tbody>\n",
       "    <tr>\n",
       "      <th>Confirmed cases*</th>\n",
       "      <td>2020-04-29</td>\n",
       "      <td>106</td>\n",
       "      <td>3016</td>\n",
       "      <td>27</td>\n",
       "      <td>1033</td>\n",
       "      <td>438</td>\n",
       "      <td>217</td>\n",
       "      <td>1351</td>\n",
       "      <td>550</td>\n",
       "      <td>6738</td>\n",
       "      <td>* Note that under National Notifiable Diseases...</td>\n",
       "    </tr>\n",
       "  </tbody>\n",
       "</table>\n",
       "</div>"
      ],
      "text/plain": [
       "Location                date  act   nsw  nt   qld   sa  tas victoria   wa  \\\n",
       "Confirmed cases*  2020-04-29  106  3016  27  1033  438  217     1351  550   \n",
       "\n",
       "Location         australia  \\\n",
       "Confirmed cases*      6738   \n",
       "\n",
       "Location         * Note that under National Notifiable Diseases Surveillance System reporting requirements, cases are reported based on their Australian jurisdiction of residence rather than where they were detected. For example, a case reported previously in the NT in a NSW resident is counted in the national figures as a NSW case.  \n",
       "Confirmed cases*  * Note that under National Notifiable Diseases...                                                                                                                                                                                                                                                                             "
      ]
     },
     "execution_count": 19,
     "metadata": {},
     "output_type": "execute_result"
    }
   ],
   "source": [
    "\n",
    "\n",
    "df1.insert(0, 'date', data_date_time)\n",
    "df = df1.rename(columns={\n",
    "    'Total':'australia',\n",
    "    'Australian Capital Territory':'act',\n",
    "    'New South Wales':'nsw',\n",
    "    'Queensland':'qld',\n",
    "    'South Australia':'sa',\n",
    "    'Tasmania':'tas',\n",
    "    'Victoria':'victoria',\n",
    "    'Western Australia':'wa',\n",
    "    'Northern Territory':'nt',\n",
    "})\n",
    "df"
   ]
  },
  {
   "cell_type": "code",
   "execution_count": 20,
   "metadata": {},
   "outputs": [
    {
     "data": {
      "text/html": [
       "<div>\n",
       "<style scoped>\n",
       "    .dataframe tbody tr th:only-of-type {\n",
       "        vertical-align: middle;\n",
       "    }\n",
       "\n",
       "    .dataframe tbody tr th {\n",
       "        vertical-align: top;\n",
       "    }\n",
       "\n",
       "    .dataframe thead th {\n",
       "        text-align: right;\n",
       "    }\n",
       "</style>\n",
       "<table border=\"1\" class=\"dataframe\">\n",
       "  <thead>\n",
       "    <tr style=\"text-align: right;\">\n",
       "      <th>Location</th>\n",
       "      <th>date</th>\n",
       "      <th>act</th>\n",
       "      <th>nsw</th>\n",
       "      <th>nt</th>\n",
       "      <th>qld</th>\n",
       "      <th>sa</th>\n",
       "      <th>tas</th>\n",
       "      <th>victoria</th>\n",
       "      <th>wa</th>\n",
       "      <th>australia</th>\n",
       "    </tr>\n",
       "  </thead>\n",
       "  <tbody>\n",
       "    <tr>\n",
       "      <th>Confirmed cases*</th>\n",
       "      <td>2020-04-29</td>\n",
       "      <td>106</td>\n",
       "      <td>3016</td>\n",
       "      <td>27</td>\n",
       "      <td>1033</td>\n",
       "      <td>438</td>\n",
       "      <td>217</td>\n",
       "      <td>1351</td>\n",
       "      <td>550</td>\n",
       "      <td>6738</td>\n",
       "    </tr>\n",
       "  </tbody>\n",
       "</table>\n",
       "</div>"
      ],
      "text/plain": [
       "Location                date  act   nsw  nt   qld   sa  tas victoria   wa  \\\n",
       "Confirmed cases*  2020-04-29  106  3016  27  1033  438  217     1351  550   \n",
       "\n",
       "Location         australia  \n",
       "Confirmed cases*      6738  "
      ]
     },
     "execution_count": 20,
     "metadata": {},
     "output_type": "execute_result"
    }
   ],
   "source": [
    "df.drop(columns=df.columns[-1], inplace=True)\n",
    "df"
   ]
  },
  {
   "cell_type": "code",
   "execution_count": 21,
   "metadata": {},
   "outputs": [],
   "source": [
    "assert int(df['australia'])>0"
   ]
  },
  {
   "cell_type": "code",
   "execution_count": 22,
   "metadata": {},
   "outputs": [
    {
     "data": {
      "text/html": [
       "<div>\n",
       "<style scoped>\n",
       "    .dataframe tbody tr th:only-of-type {\n",
       "        vertical-align: middle;\n",
       "    }\n",
       "\n",
       "    .dataframe tbody tr th {\n",
       "        vertical-align: top;\n",
       "    }\n",
       "\n",
       "    .dataframe thead th {\n",
       "        text-align: right;\n",
       "    }\n",
       "</style>\n",
       "<table border=\"1\" class=\"dataframe\">\n",
       "  <thead>\n",
       "    <tr style=\"text-align: right;\">\n",
       "      <th>Location</th>\n",
       "      <th>date</th>\n",
       "      <th>act</th>\n",
       "      <th>nsw</th>\n",
       "      <th>nt</th>\n",
       "      <th>qld</th>\n",
       "      <th>sa</th>\n",
       "      <th>tas</th>\n",
       "      <th>victoria</th>\n",
       "      <th>wa</th>\n",
       "      <th>australia</th>\n",
       "    </tr>\n",
       "  </thead>\n",
       "  <tbody>\n",
       "    <tr>\n",
       "      <th>Confirmed cases*</th>\n",
       "      <td>2020-04-29</td>\n",
       "      <td>106</td>\n",
       "      <td>3016</td>\n",
       "      <td>27</td>\n",
       "      <td>1033</td>\n",
       "      <td>438</td>\n",
       "      <td>217</td>\n",
       "      <td>1351</td>\n",
       "      <td>550</td>\n",
       "      <td>6738</td>\n",
       "    </tr>\n",
       "  </tbody>\n",
       "</table>\n",
       "</div>"
      ],
      "text/plain": [
       "Location                date  act   nsw  nt   qld   sa  tas victoria   wa  \\\n",
       "Confirmed cases*  2020-04-29  106  3016  27  1033  438  217     1351  550   \n",
       "\n",
       "Location         australia  \n",
       "Confirmed cases*      6738  "
      ]
     },
     "execution_count": 22,
     "metadata": {},
     "output_type": "execute_result"
    }
   ],
   "source": [
    "df"
   ]
  },
  {
   "cell_type": "markdown",
   "metadata": {},
   "source": [
    "### Save to file"
   ]
  },
  {
   "cell_type": "code",
   "execution_count": 23,
   "metadata": {},
   "outputs": [],
   "source": [
    "from pathlib import Path\n",
    "csv_file = '../data/australia-cases.csv'\n",
    "\n",
    "if Path(csv_file).exists():\n",
    "    # read out the old data\n",
    "    old_df = pd.read_csv(csv_file)\n",
    "    df = df.append(old_df)\n",
    "df.drop_duplicates(subset=['date'], inplace=True)"
   ]
  },
  {
   "cell_type": "code",
   "execution_count": 24,
   "metadata": {},
   "outputs": [
    {
     "data": {
      "text/html": [
       "<div>\n",
       "<style scoped>\n",
       "    .dataframe tbody tr th:only-of-type {\n",
       "        vertical-align: middle;\n",
       "    }\n",
       "\n",
       "    .dataframe tbody tr th {\n",
       "        vertical-align: top;\n",
       "    }\n",
       "\n",
       "    .dataframe thead th {\n",
       "        text-align: right;\n",
       "    }\n",
       "</style>\n",
       "<table border=\"1\" class=\"dataframe\">\n",
       "  <thead>\n",
       "    <tr style=\"text-align: right;\">\n",
       "      <th>Location</th>\n",
       "      <th>date</th>\n",
       "      <th>act</th>\n",
       "      <th>nsw</th>\n",
       "      <th>nt</th>\n",
       "      <th>qld</th>\n",
       "      <th>sa</th>\n",
       "      <th>tas</th>\n",
       "      <th>victoria</th>\n",
       "      <th>wa</th>\n",
       "      <th>australia</th>\n",
       "    </tr>\n",
       "  </thead>\n",
       "  <tbody>\n",
       "    <tr>\n",
       "      <th>0</th>\n",
       "      <td>2020-02-04</td>\n",
       "      <td>NaN</td>\n",
       "      <td>4</td>\n",
       "      <td>NaN</td>\n",
       "      <td>2</td>\n",
       "      <td>2</td>\n",
       "      <td>NaN</td>\n",
       "      <td>4</td>\n",
       "      <td>NaN</td>\n",
       "      <td>12</td>\n",
       "    </tr>\n",
       "    <tr>\n",
       "      <th>1</th>\n",
       "      <td>2020-02-05</td>\n",
       "      <td>NaN</td>\n",
       "      <td>4</td>\n",
       "      <td>NaN</td>\n",
       "      <td>3</td>\n",
       "      <td>2</td>\n",
       "      <td>NaN</td>\n",
       "      <td>4</td>\n",
       "      <td>NaN</td>\n",
       "      <td>13</td>\n",
       "    </tr>\n",
       "    <tr>\n",
       "      <th>2</th>\n",
       "      <td>2020-02-06</td>\n",
       "      <td>NaN</td>\n",
       "      <td>4</td>\n",
       "      <td>NaN</td>\n",
       "      <td>4</td>\n",
       "      <td>2</td>\n",
       "      <td>NaN</td>\n",
       "      <td>4</td>\n",
       "      <td>NaN</td>\n",
       "      <td>14</td>\n",
       "    </tr>\n",
       "    <tr>\n",
       "      <th>3</th>\n",
       "      <td>2020-02-07</td>\n",
       "      <td>NaN</td>\n",
       "      <td>4</td>\n",
       "      <td>NaN</td>\n",
       "      <td>5</td>\n",
       "      <td>2</td>\n",
       "      <td>NaN</td>\n",
       "      <td>4</td>\n",
       "      <td>NaN</td>\n",
       "      <td>15</td>\n",
       "    </tr>\n",
       "    <tr>\n",
       "      <th>4</th>\n",
       "      <td>2020-02-08</td>\n",
       "      <td>NaN</td>\n",
       "      <td>4</td>\n",
       "      <td>NaN</td>\n",
       "      <td>5</td>\n",
       "      <td>2</td>\n",
       "      <td>NaN</td>\n",
       "      <td>4</td>\n",
       "      <td>NaN</td>\n",
       "      <td>15</td>\n",
       "    </tr>\n",
       "    <tr>\n",
       "      <th>...</th>\n",
       "      <td>...</td>\n",
       "      <td>...</td>\n",
       "      <td>...</td>\n",
       "      <td>...</td>\n",
       "      <td>...</td>\n",
       "      <td>...</td>\n",
       "      <td>...</td>\n",
       "      <td>...</td>\n",
       "      <td>...</td>\n",
       "      <td>...</td>\n",
       "    </tr>\n",
       "    <tr>\n",
       "      <th>80</th>\n",
       "      <td>2020-04-25</td>\n",
       "      <td>106</td>\n",
       "      <td>2994</td>\n",
       "      <td>27</td>\n",
       "      <td>1026</td>\n",
       "      <td>438</td>\n",
       "      <td>209</td>\n",
       "      <td>1346</td>\n",
       "      <td>549</td>\n",
       "      <td>6695</td>\n",
       "    </tr>\n",
       "    <tr>\n",
       "      <th>81</th>\n",
       "      <td>2020-04-26</td>\n",
       "      <td>106</td>\n",
       "      <td>3002</td>\n",
       "      <td>27</td>\n",
       "      <td>1030</td>\n",
       "      <td>438</td>\n",
       "      <td>210</td>\n",
       "      <td>1349</td>\n",
       "      <td>549</td>\n",
       "      <td>6711</td>\n",
       "    </tr>\n",
       "    <tr>\n",
       "      <th>82</th>\n",
       "      <td>2020-04-27</td>\n",
       "      <td>106</td>\n",
       "      <td>3004</td>\n",
       "      <td>27</td>\n",
       "      <td>1033</td>\n",
       "      <td>438</td>\n",
       "      <td>214</td>\n",
       "      <td>1349</td>\n",
       "      <td>549</td>\n",
       "      <td>6720</td>\n",
       "    </tr>\n",
       "    <tr>\n",
       "      <th>83</th>\n",
       "      <td>2020-04-28</td>\n",
       "      <td>106</td>\n",
       "      <td>3009</td>\n",
       "      <td>27</td>\n",
       "      <td>1033</td>\n",
       "      <td>438</td>\n",
       "      <td>217</td>\n",
       "      <td>1351</td>\n",
       "      <td>550</td>\n",
       "      <td>6731</td>\n",
       "    </tr>\n",
       "    <tr>\n",
       "      <th>Confirmed cases*</th>\n",
       "      <td>2020-04-29</td>\n",
       "      <td>106</td>\n",
       "      <td>3016</td>\n",
       "      <td>27</td>\n",
       "      <td>1033</td>\n",
       "      <td>438</td>\n",
       "      <td>217</td>\n",
       "      <td>1351</td>\n",
       "      <td>550</td>\n",
       "      <td>6738</td>\n",
       "    </tr>\n",
       "  </tbody>\n",
       "</table>\n",
       "<p>85 rows × 10 columns</p>\n",
       "</div>"
      ],
      "text/plain": [
       "Location                date  act   nsw   nt   qld   sa  tas victoria   wa  \\\n",
       "0                 2020-02-04  NaN     4  NaN     2    2  NaN        4  NaN   \n",
       "1                 2020-02-05  NaN     4  NaN     3    2  NaN        4  NaN   \n",
       "2                 2020-02-06  NaN     4  NaN     4    2  NaN        4  NaN   \n",
       "3                 2020-02-07  NaN     4  NaN     5    2  NaN        4  NaN   \n",
       "4                 2020-02-08  NaN     4  NaN     5    2  NaN        4  NaN   \n",
       "...                      ...  ...   ...  ...   ...  ...  ...      ...  ...   \n",
       "80                2020-04-25  106  2994   27  1026  438  209     1346  549   \n",
       "81                2020-04-26  106  3002   27  1030  438  210     1349  549   \n",
       "82                2020-04-27  106  3004   27  1033  438  214     1349  549   \n",
       "83                2020-04-28  106  3009   27  1033  438  217     1351  550   \n",
       "Confirmed cases*  2020-04-29  106  3016   27  1033  438  217     1351  550   \n",
       "\n",
       "Location         australia  \n",
       "0                       12  \n",
       "1                       13  \n",
       "2                       14  \n",
       "3                       15  \n",
       "4                       15  \n",
       "...                    ...  \n",
       "80                    6695  \n",
       "81                    6711  \n",
       "82                    6720  \n",
       "83                    6731  \n",
       "Confirmed cases*      6738  \n",
       "\n",
       "[85 rows x 10 columns]"
      ]
     },
     "execution_count": 24,
     "metadata": {},
     "output_type": "execute_result"
    }
   ],
   "source": [
    "df.sort_values(by=['date'], inplace=True)\n",
    "df.to_csv(csv_file, index=False)\n",
    "df"
   ]
  },
  {
   "cell_type": "code",
   "execution_count": null,
   "metadata": {},
   "outputs": [],
   "source": []
  },
  {
   "cell_type": "code",
   "execution_count": 25,
   "metadata": {},
   "outputs": [
    {
     "data": {
      "image/png": "[encoded data removed]",
      "text/plain": [
       "<Figure size 1152x468 with 1 Axes>"
      ]
     },
     "metadata": {},
     "output_type": "display_data"
    }
   ],
   "source": [
    "# plot\n",
    "df['australia_cases']= df['australia'].apply(lambda x: int(x))\n",
    "\n",
    "import seaborn as sns\n",
    "\n",
    "\n",
    "sns.set(rc={'figure.figsize':(16,6.5)})\n",
    "sns.set(style=\"whitegrid\")\n",
    "\n",
    "\n",
    "bar_chart = sns.barplot(x='date', y='australia_cases', color='dodgerblue', data=df)\n",
    "bar_chart.tick_params(axis='x', labelrotation=70)\n"
   ]
  },
  {
   "cell_type": "code",
   "execution_count": 26,
   "metadata": {},
   "outputs": [],
   "source": [
    "png_file = '../images/australia-cases.png'\n",
    "bar_chart_fig = bar_chart.get_figure()\n",
    "bar_chart_fig.savefig(png_file)\n"
   ]
  },
  {
   "cell_type": "code",
   "execution_count": null,
   "metadata": {},
   "outputs": [],
   "source": []
  }
 ],
 "metadata": {
  "kernelspec": {
   "display_name": "Python 3",
   "language": "python",
   "name": "python3"
  },
  "language_info": {
   "codemirror_mode": {
    "name": "ipython",
    "version": 3
   },
   "file_extension": ".py",
   "mimetype": "text/x-python",
   "name": "python",
   "nbconvert_exporter": "python",
   "pygments_lexer": "ipython3",
   "version": "3.7.6"
  }
 },
 "nbformat": 4,
 "nbformat_minor": 4
}
