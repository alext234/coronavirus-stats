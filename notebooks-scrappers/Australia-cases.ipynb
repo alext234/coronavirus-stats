{
 "cells": [
  {
   "cell_type": "code",
   "execution_count": 1,
   "metadata": {},
   "outputs": [],
   "source": [
    "import pandas as pd\n",
    "import requests\n",
    "from bs4 import BeautifulSoup\n",
    "import re\n",
    "from datetime import datetime\n",
    "import time\n",
    "import unicodedata\n",
    "\n",
    "from selenium import webdriver\n",
    "from selenium.webdriver.chrome.options import Options  "
   ]
  },
  {
   "cell_type": "code",
   "execution_count": 2,
   "metadata": {},
   "outputs": [],
   "source": [
    "chrome_options = Options()  \n",
    "chrome_options.add_argument(\"--headless\")  \n",
    "chrome_options.add_argument(\"--no-sandbox\")\n",
    "\n",
    "driver = webdriver.Chrome('chromedriver', options=chrome_options)"
   ]
  },
  {
   "cell_type": "code",
   "execution_count": null,
   "metadata": {},
   "outputs": [],
   "source": []
  },
  {
   "cell_type": "code",
   "execution_count": 3,
   "metadata": {},
   "outputs": [
    {
     "data": {
      "text/plain": [
       "datetime.datetime(2020, 7, 1, 15, 10, 17, 974746)"
      ]
     },
     "execution_count": 3,
     "metadata": {},
     "output_type": "execute_result"
    }
   ],
   "source": [
    "datetime.now()"
   ]
  },
  {
   "cell_type": "code",
   "execution_count": 4,
   "metadata": {},
   "outputs": [],
   "source": [
    "url = 'https://www.health.gov.au/news/health-alerts/novel-coronavirus-2019-ncov-health-alert/coronavirus-covid-19-current-situation-and-case-numbers'\n",
    "\n",
    "\n",
    "driver.get(url)\n",
    "\n"
   ]
  },
  {
   "cell_type": "code",
   "execution_count": 5,
   "metadata": {},
   "outputs": [],
   "source": [
    "content = driver.page_source"
   ]
  },
  {
   "cell_type": "code",
   "execution_count": 6,
   "metadata": {},
   "outputs": [
    {
     "data": {
      "text/plain": [
       "'01 July 2020'"
      ]
     },
     "execution_count": 6,
     "metadata": {},
     "output_type": "execute_result"
    }
   ],
   "source": [
    "date_time_str = re.search('(\\d+ \\w+ 202\\d)' ,str(content)).group(1)\n",
    "date_time_str"
   ]
  },
  {
   "cell_type": "code",
   "execution_count": 7,
   "metadata": {},
   "outputs": [
    {
     "data": {
      "text/plain": [
       "'2020-07-01'"
      ]
     },
     "execution_count": 7,
     "metadata": {},
     "output_type": "execute_result"
    }
   ],
   "source": [
    "data_date_time = datetime.strptime(date_time_str, '%d %B %Y').strftime('%Y-%m-%d')\n",
    "data_date_time"
   ]
  },
  {
   "cell_type": "code",
   "execution_count": null,
   "metadata": {},
   "outputs": [],
   "source": []
  },
  {
   "cell_type": "markdown",
   "metadata": {},
   "source": [
    "### Dataframe"
   ]
  },
  {
   "cell_type": "code",
   "execution_count": 8,
   "metadata": {},
   "outputs": [
    {
     "name": "stdout",
     "output_type": "stream",
     "text": [
      "No tables found\n",
      "No tables found\n",
      "No tables found\n",
      "No tables found\n",
      "No tables found\n",
      "No tables found\n",
      "No tables found\n",
      "No tables found\n",
      "No tables found\n",
      "No tables found\n"
     ]
    },
    {
     "data": {
      "text/plain": [
       "[  Jurisdiction  Total confirmed cases  New cases in last 24 hours  Deaths\n",
       " 0    Australia                   7920                          87     104\n",
       " 1          ACT                    108                           0       3\n",
       " 2          NSW                   3203                          14      49\n",
       " 3           NT                     29                           0       0\n",
       " 4          QLD                   1067                           0       6\n",
       " 5           SA                    443                           0       4\n",
       " 6          TAS                    228                           0      13\n",
       " 7          VIC                   2231                          73      20\n",
       " 8           WA                    611                           0       9,\n",
       "    Unnamed: 0                           Source of Infection  Cases      %\n",
       " 0         NaN                                      Overseas   4702  59.4%\n",
       " 1         NaN  Locally acquired - contact of confirmed case   2227  28.1%\n",
       " 2         NaN     Locally acquired - contact not identified    843  10.6%\n",
       " 3         NaN                           Under investigation    148   1.9%,\n",
       "   Jurisdiction  Total tests conducted Positive tests (%)\n",
       " 0    Australia                2505923               0.3%\n",
       " 1          ACT                  30332               0.4%\n",
       " 2          NSW                 871567               0.4%\n",
       " 3           NT                  13604               0.2%\n",
       " 4          QLD                 370973               0.3%\n",
       " 5           SA                 153559               0.3%\n",
       " 6          TAS                  49767               0.5%\n",
       " 7          VIC                 830271               0.3%\n",
       " 8           WA                 185850               0.3%]"
      ]
     },
     "execution_count": 8,
     "metadata": {},
     "output_type": "execute_result"
    }
   ],
   "source": [
    "for i in range(40): # retry and wait till the tables are loaded\n",
    "    try:\n",
    "        dfs = pd.read_html(driver.page_source)\n",
    "        if len(dfs)>0:\n",
    "            break\n",
    "    except ValueError as e:\n",
    "        print(e)\n",
    "    time.sleep(1)\n",
    "dfs"
   ]
  },
  {
   "cell_type": "code",
   "execution_count": 9,
   "metadata": {},
   "outputs": [
    {
     "data": {
      "text/html": [
       "<div>\n",
       "<style scoped>\n",
       "    .dataframe tbody tr th:only-of-type {\n",
       "        vertical-align: middle;\n",
       "    }\n",
       "\n",
       "    .dataframe tbody tr th {\n",
       "        vertical-align: top;\n",
       "    }\n",
       "\n",
       "    .dataframe thead th {\n",
       "        text-align: right;\n",
       "    }\n",
       "</style>\n",
       "<table border=\"1\" class=\"dataframe\">\n",
       "  <thead>\n",
       "    <tr style=\"text-align: right;\">\n",
       "      <th>Jurisdiction</th>\n",
       "      <th>Australia</th>\n",
       "      <th>ACT</th>\n",
       "      <th>NSW</th>\n",
       "      <th>NT</th>\n",
       "      <th>QLD</th>\n",
       "      <th>SA</th>\n",
       "      <th>TAS</th>\n",
       "      <th>VIC</th>\n",
       "      <th>WA</th>\n",
       "    </tr>\n",
       "  </thead>\n",
       "  <tbody>\n",
       "    <tr>\n",
       "      <th>Total confirmed cases</th>\n",
       "      <td>7920</td>\n",
       "      <td>108</td>\n",
       "      <td>3203</td>\n",
       "      <td>29</td>\n",
       "      <td>1067</td>\n",
       "      <td>443</td>\n",
       "      <td>228</td>\n",
       "      <td>2231</td>\n",
       "      <td>611</td>\n",
       "    </tr>\n",
       "  </tbody>\n",
       "</table>\n",
       "</div>"
      ],
      "text/plain": [
       "Jurisdiction          Australia  ACT   NSW  NT   QLD   SA  TAS   VIC   WA\n",
       "Total confirmed cases      7920  108  3203  29  1067  443  228  2231  611"
      ]
     },
     "execution_count": 9,
     "metadata": {},
     "output_type": "execute_result"
    }
   ],
   "source": [
    "df = dfs[0]\n",
    "df = df.iloc[:,0:2].T \n",
    "df.columns = df.iloc[0]\n",
    "df = df.drop(df.index[0])\n",
    "df\n"
   ]
  },
  {
   "cell_type": "code",
   "execution_count": 10,
   "metadata": {},
   "outputs": [
    {
     "data": {
      "text/html": [
       "<div>\n",
       "<style scoped>\n",
       "    .dataframe tbody tr th:only-of-type {\n",
       "        vertical-align: middle;\n",
       "    }\n",
       "\n",
       "    .dataframe tbody tr th {\n",
       "        vertical-align: top;\n",
       "    }\n",
       "\n",
       "    .dataframe thead th {\n",
       "        text-align: right;\n",
       "    }\n",
       "</style>\n",
       "<table border=\"1\" class=\"dataframe\">\n",
       "  <thead>\n",
       "    <tr style=\"text-align: right;\">\n",
       "      <th>Jurisdiction</th>\n",
       "      <th>date</th>\n",
       "      <th>australia</th>\n",
       "      <th>act</th>\n",
       "      <th>nsw</th>\n",
       "      <th>nt</th>\n",
       "      <th>qld</th>\n",
       "      <th>sa</th>\n",
       "      <th>tas</th>\n",
       "      <th>victoria</th>\n",
       "      <th>wa</th>\n",
       "    </tr>\n",
       "  </thead>\n",
       "  <tbody>\n",
       "    <tr>\n",
       "      <th>Total confirmed cases</th>\n",
       "      <td>2020-07-01</td>\n",
       "      <td>7920</td>\n",
       "      <td>108</td>\n",
       "      <td>3203</td>\n",
       "      <td>29</td>\n",
       "      <td>1067</td>\n",
       "      <td>443</td>\n",
       "      <td>228</td>\n",
       "      <td>2231</td>\n",
       "      <td>611</td>\n",
       "    </tr>\n",
       "  </tbody>\n",
       "</table>\n",
       "</div>"
      ],
      "text/plain": [
       "Jurisdiction                 date australia  act   nsw  nt   qld   sa  tas  \\\n",
       "Total confirmed cases  2020-07-01      7920  108  3203  29  1067  443  228   \n",
       "\n",
       "Jurisdiction          victoria   wa  \n",
       "Total confirmed cases     2231  611  "
      ]
     },
     "execution_count": 10,
     "metadata": {},
     "output_type": "execute_result"
    }
   ],
   "source": [
    "\n",
    "\n",
    "df.insert(0, 'date', data_date_time)\n",
    "df = df.rename(columns={\n",
    "    'Australia':'australia',\n",
    "    'ACT':'act',\n",
    "    'NSW':'nsw',\n",
    "    'QLD':'qld',\n",
    "    'SA':'sa',\n",
    "    'TAS':'tas',\n",
    "    'VIC':'victoria',\n",
    "    'WA':'wa',\n",
    "    'NT':'nt',\n",
    "})\n",
    "df"
   ]
  },
  {
   "cell_type": "code",
   "execution_count": 11,
   "metadata": {},
   "outputs": [],
   "source": [
    "assert int(df['australia'])>0"
   ]
  },
  {
   "cell_type": "code",
   "execution_count": 12,
   "metadata": {},
   "outputs": [
    {
     "data": {
      "text/html": [
       "<div>\n",
       "<style scoped>\n",
       "    .dataframe tbody tr th:only-of-type {\n",
       "        vertical-align: middle;\n",
       "    }\n",
       "\n",
       "    .dataframe tbody tr th {\n",
       "        vertical-align: top;\n",
       "    }\n",
       "\n",
       "    .dataframe thead th {\n",
       "        text-align: right;\n",
       "    }\n",
       "</style>\n",
       "<table border=\"1\" class=\"dataframe\">\n",
       "  <thead>\n",
       "    <tr style=\"text-align: right;\">\n",
       "      <th>Jurisdiction</th>\n",
       "      <th>date</th>\n",
       "      <th>australia</th>\n",
       "      <th>act</th>\n",
       "      <th>nsw</th>\n",
       "      <th>nt</th>\n",
       "      <th>qld</th>\n",
       "      <th>sa</th>\n",
       "      <th>tas</th>\n",
       "      <th>victoria</th>\n",
       "      <th>wa</th>\n",
       "    </tr>\n",
       "  </thead>\n",
       "  <tbody>\n",
       "    <tr>\n",
       "      <th>Total confirmed cases</th>\n",
       "      <td>2020-07-01</td>\n",
       "      <td>7920</td>\n",
       "      <td>108</td>\n",
       "      <td>3203</td>\n",
       "      <td>29</td>\n",
       "      <td>1067</td>\n",
       "      <td>443</td>\n",
       "      <td>228</td>\n",
       "      <td>2231</td>\n",
       "      <td>611</td>\n",
       "    </tr>\n",
       "  </tbody>\n",
       "</table>\n",
       "</div>"
      ],
      "text/plain": [
       "Jurisdiction                 date australia  act   nsw  nt   qld   sa  tas  \\\n",
       "Total confirmed cases  2020-07-01      7920  108  3203  29  1067  443  228   \n",
       "\n",
       "Jurisdiction          victoria   wa  \n",
       "Total confirmed cases     2231  611  "
      ]
     },
     "execution_count": 12,
     "metadata": {},
     "output_type": "execute_result"
    }
   ],
   "source": [
    "df"
   ]
  },
  {
   "cell_type": "markdown",
   "metadata": {},
   "source": [
    "### Save to file"
   ]
  },
  {
   "cell_type": "code",
   "execution_count": 13,
   "metadata": {},
   "outputs": [
    {
     "name": "stderr",
     "output_type": "stream",
     "text": [
      "/opt/conda/lib/python3.7/site-packages/pandas/core/frame.py:7138: FutureWarning: Sorting because non-concatenation axis is not aligned. A future version\n",
      "of pandas will change to not sort by default.\n",
      "\n",
      "To accept the future behavior, pass 'sort=False'.\n",
      "\n",
      "To retain the current behavior and silence the warning, pass 'sort=True'.\n",
      "\n",
      "  sort=sort,\n"
     ]
    }
   ],
   "source": [
    "from pathlib import Path\n",
    "csv_file = '../data/australia-cases.csv'\n",
    "\n",
    "if Path(csv_file).exists():\n",
    "    # read out the old data\n",
    "    old_df = pd.read_csv(csv_file)\n",
    "    df = df.append(old_df)\n",
    "df.drop_duplicates(subset=['date'], inplace=True)"
   ]
  },
  {
   "cell_type": "code",
   "execution_count": 14,
   "metadata": {},
   "outputs": [
    {
     "data": {
      "text/html": [
       "<div>\n",
       "<style scoped>\n",
       "    .dataframe tbody tr th:only-of-type {\n",
       "        vertical-align: middle;\n",
       "    }\n",
       "\n",
       "    .dataframe tbody tr th {\n",
       "        vertical-align: top;\n",
       "    }\n",
       "\n",
       "    .dataframe thead th {\n",
       "        text-align: right;\n",
       "    }\n",
       "</style>\n",
       "<table border=\"1\" class=\"dataframe\">\n",
       "  <thead>\n",
       "    <tr style=\"text-align: right;\">\n",
       "      <th></th>\n",
       "      <th>act</th>\n",
       "      <th>australia</th>\n",
       "      <th>date</th>\n",
       "      <th>nsw</th>\n",
       "      <th>nt</th>\n",
       "      <th>qld</th>\n",
       "      <th>sa</th>\n",
       "      <th>tas</th>\n",
       "      <th>victoria</th>\n",
       "      <th>wa</th>\n",
       "    </tr>\n",
       "  </thead>\n",
       "  <tbody>\n",
       "    <tr>\n",
       "      <th>0</th>\n",
       "      <td>NaN</td>\n",
       "      <td>12</td>\n",
       "      <td>2020-02-04</td>\n",
       "      <td>4</td>\n",
       "      <td>NaN</td>\n",
       "      <td>2</td>\n",
       "      <td>2</td>\n",
       "      <td>NaN</td>\n",
       "      <td>4</td>\n",
       "      <td>NaN</td>\n",
       "    </tr>\n",
       "    <tr>\n",
       "      <th>1</th>\n",
       "      <td>NaN</td>\n",
       "      <td>13</td>\n",
       "      <td>2020-02-05</td>\n",
       "      <td>4</td>\n",
       "      <td>NaN</td>\n",
       "      <td>3</td>\n",
       "      <td>2</td>\n",
       "      <td>NaN</td>\n",
       "      <td>4</td>\n",
       "      <td>NaN</td>\n",
       "    </tr>\n",
       "    <tr>\n",
       "      <th>2</th>\n",
       "      <td>NaN</td>\n",
       "      <td>14</td>\n",
       "      <td>2020-02-06</td>\n",
       "      <td>4</td>\n",
       "      <td>NaN</td>\n",
       "      <td>4</td>\n",
       "      <td>2</td>\n",
       "      <td>NaN</td>\n",
       "      <td>4</td>\n",
       "      <td>NaN</td>\n",
       "    </tr>\n",
       "    <tr>\n",
       "      <th>3</th>\n",
       "      <td>NaN</td>\n",
       "      <td>15</td>\n",
       "      <td>2020-02-07</td>\n",
       "      <td>4</td>\n",
       "      <td>NaN</td>\n",
       "      <td>5</td>\n",
       "      <td>2</td>\n",
       "      <td>NaN</td>\n",
       "      <td>4</td>\n",
       "      <td>NaN</td>\n",
       "    </tr>\n",
       "    <tr>\n",
       "      <th>4</th>\n",
       "      <td>NaN</td>\n",
       "      <td>15</td>\n",
       "      <td>2020-02-08</td>\n",
       "      <td>4</td>\n",
       "      <td>NaN</td>\n",
       "      <td>5</td>\n",
       "      <td>2</td>\n",
       "      <td>NaN</td>\n",
       "      <td>4</td>\n",
       "      <td>NaN</td>\n",
       "    </tr>\n",
       "    <tr>\n",
       "      <th>...</th>\n",
       "      <td>...</td>\n",
       "      <td>...</td>\n",
       "      <td>...</td>\n",
       "      <td>...</td>\n",
       "      <td>...</td>\n",
       "      <td>...</td>\n",
       "      <td>...</td>\n",
       "      <td>...</td>\n",
       "      <td>...</td>\n",
       "      <td>...</td>\n",
       "    </tr>\n",
       "    <tr>\n",
       "      <th>143</th>\n",
       "      <td>108</td>\n",
       "      <td>7641</td>\n",
       "      <td>2020-06-27</td>\n",
       "      <td>3174</td>\n",
       "      <td>29</td>\n",
       "      <td>1067</td>\n",
       "      <td>440</td>\n",
       "      <td>228</td>\n",
       "      <td>1987</td>\n",
       "      <td>608</td>\n",
       "    </tr>\n",
       "    <tr>\n",
       "      <th>144</th>\n",
       "      <td>108</td>\n",
       "      <td>7686</td>\n",
       "      <td>2020-06-28</td>\n",
       "      <td>3177</td>\n",
       "      <td>29</td>\n",
       "      <td>1067</td>\n",
       "      <td>440</td>\n",
       "      <td>228</td>\n",
       "      <td>2028</td>\n",
       "      <td>609</td>\n",
       "    </tr>\n",
       "    <tr>\n",
       "      <th>145</th>\n",
       "      <td>108</td>\n",
       "      <td>7767</td>\n",
       "      <td>2020-06-29</td>\n",
       "      <td>3184</td>\n",
       "      <td>29</td>\n",
       "      <td>1067</td>\n",
       "      <td>443</td>\n",
       "      <td>228</td>\n",
       "      <td>2099</td>\n",
       "      <td>609</td>\n",
       "    </tr>\n",
       "    <tr>\n",
       "      <th>146</th>\n",
       "      <td>108</td>\n",
       "      <td>7834</td>\n",
       "      <td>2020-06-30</td>\n",
       "      <td>3189</td>\n",
       "      <td>29</td>\n",
       "      <td>1067</td>\n",
       "      <td>443</td>\n",
       "      <td>228</td>\n",
       "      <td>2159</td>\n",
       "      <td>611</td>\n",
       "    </tr>\n",
       "    <tr>\n",
       "      <th>Total confirmed cases</th>\n",
       "      <td>108</td>\n",
       "      <td>7920</td>\n",
       "      <td>2020-07-01</td>\n",
       "      <td>3203</td>\n",
       "      <td>29</td>\n",
       "      <td>1067</td>\n",
       "      <td>443</td>\n",
       "      <td>228</td>\n",
       "      <td>2231</td>\n",
       "      <td>611</td>\n",
       "    </tr>\n",
       "  </tbody>\n",
       "</table>\n",
       "<p>148 rows × 10 columns</p>\n",
       "</div>"
      ],
      "text/plain": [
       "                       act australia        date   nsw   nt   qld   sa  tas  \\\n",
       "0                      NaN        12  2020-02-04     4  NaN     2    2  NaN   \n",
       "1                      NaN        13  2020-02-05     4  NaN     3    2  NaN   \n",
       "2                      NaN        14  2020-02-06     4  NaN     4    2  NaN   \n",
       "3                      NaN        15  2020-02-07     4  NaN     5    2  NaN   \n",
       "4                      NaN        15  2020-02-08     4  NaN     5    2  NaN   \n",
       "...                    ...       ...         ...   ...  ...   ...  ...  ...   \n",
       "143                    108      7641  2020-06-27  3174   29  1067  440  228   \n",
       "144                    108      7686  2020-06-28  3177   29  1067  440  228   \n",
       "145                    108      7767  2020-06-29  3184   29  1067  443  228   \n",
       "146                    108      7834  2020-06-30  3189   29  1067  443  228   \n",
       "Total confirmed cases  108      7920  2020-07-01  3203   29  1067  443  228   \n",
       "\n",
       "                      victoria   wa  \n",
       "0                            4  NaN  \n",
       "1                            4  NaN  \n",
       "2                            4  NaN  \n",
       "3                            4  NaN  \n",
       "4                            4  NaN  \n",
       "...                        ...  ...  \n",
       "143                       1987  608  \n",
       "144                       2028  609  \n",
       "145                       2099  609  \n",
       "146                       2159  611  \n",
       "Total confirmed cases     2231  611  \n",
       "\n",
       "[148 rows x 10 columns]"
      ]
     },
     "execution_count": 14,
     "metadata": {},
     "output_type": "execute_result"
    }
   ],
   "source": [
    "df.sort_values(by=['date'], inplace=True)\n",
    "df.to_csv(csv_file, index=False)\n",
    "df"
   ]
  },
  {
   "cell_type": "code",
   "execution_count": null,
   "metadata": {},
   "outputs": [],
   "source": []
  },
  {
   "cell_type": "code",
   "execution_count": 15,
   "metadata": {},
   "outputs": [
    {
     "data": {
      "image/png": "[encoded data removed]",
      "text/plain": [
       "<Figure size 1152x468 with 1 Axes>"
      ]
     },
     "metadata": {},
     "output_type": "display_data"
    }
   ],
   "source": [
    "# plot\n",
    "df['australia_cases']= df['australia'].apply(lambda x: int(x))\n",
    "\n",
    "import seaborn as sns\n",
    "\n",
    "\n",
    "sns.set(rc={'figure.figsize':(16,6.5)})\n",
    "sns.set(style=\"whitegrid\")\n",
    "\n",
    "\n",
    "bar_chart = sns.barplot(x='date', y='australia_cases', color='dodgerblue', data=df)\n",
    "bar_chart.tick_params(axis='x', labelrotation=70)\n"
   ]
  },
  {
   "cell_type": "code",
   "execution_count": 16,
   "metadata": {},
   "outputs": [],
   "source": [
    "png_file = '../images/australia-cases.png'\n",
    "bar_chart_fig = bar_chart.get_figure()\n",
    "bar_chart_fig.savefig(png_file)\n"
   ]
  },
  {
   "cell_type": "code",
   "execution_count": null,
   "metadata": {},
   "outputs": [],
   "source": []
  }
 ],
 "metadata": {
  "kernelspec": {
   "display_name": "Python 3",
   "language": "python",
   "name": "python3"
  },
  "language_info": {
   "codemirror_mode": {
    "name": "ipython",
    "version": 3
   },
   "file_extension": ".py",
   "mimetype": "text/x-python",
   "name": "python",
   "nbconvert_exporter": "python",
   "pygments_lexer": "ipython3",
   "version": "3.7.6"
  }
 },
 "nbformat": 4,
 "nbformat_minor": 4
}
