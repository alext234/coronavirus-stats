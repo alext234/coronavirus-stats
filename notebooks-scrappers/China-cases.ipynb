{
 "cells": [
  {
   "cell_type": "code",
   "execution_count": 1,
   "metadata": {},
   "outputs": [],
   "source": [
    "import pandas as pd\n",
    "import requests\n",
    "from bs4 import BeautifulSoup\n",
    "import re\n",
    "from datetime import datetime\n",
    "from selenium import webdriver\n",
    "from selenium.webdriver.chrome.options import Options  \n"
   ]
  },
  {
   "cell_type": "code",
   "execution_count": 2,
   "metadata": {},
   "outputs": [
    {
     "data": {
      "text/plain": [
       "datetime.datetime(2020, 4, 14, 3, 6, 37, 439621)"
      ]
     },
     "execution_count": 2,
     "metadata": {},
     "output_type": "execute_result"
    }
   ],
   "source": [
    "datetime.now()"
   ]
  },
  {
   "cell_type": "code",
   "execution_count": 3,
   "metadata": {},
   "outputs": [],
   "source": [
    "chrome_options = Options()  \n",
    "chrome_options.add_argument(\"--headless\")  \n",
    "chrome_options.add_argument(\"--no-sandbox\")\n",
    "\n",
    "driver = webdriver.Chrome('chromedriver', options=chrome_options)"
   ]
  },
  {
   "cell_type": "code",
   "execution_count": 4,
   "metadata": {},
   "outputs": [],
   "source": [
    "url = 'https://ncov.dxy.cn/ncovh5/view/pneumonia'\n",
    "driver.get(url)"
   ]
  },
  {
   "cell_type": "markdown",
   "metadata": {},
   "source": [
    "### Extract date"
   ]
  },
  {
   "cell_type": "code",
   "execution_count": 5,
   "metadata": {},
   "outputs": [],
   "source": [
    "content = driver.page_source\n",
    "soup =BeautifulSoup(content, 'lxml')\n"
   ]
  },
  {
   "cell_type": "code",
   "execution_count": 6,
   "metadata": {},
   "outputs": [
    {
     "data": {
      "text/plain": [
       "['try { window.getTimelineService1 = [{\"id\":28839,\"pubDate\":1586832950000,\"pubDateStr\":\"6分钟前\",\"title\":\"日本新增5例新冠肺炎确诊病例 累计7693例\",\"summary\":\"据日本放送协会消息，根据日本各地的地方自治团体和厚生劳动省通报的数据，截至当地时间14日晚上10点半至上午10点半，日本新增感染者5人，日本累计新冠肺炎确诊病例达到7693人。目前日本国内感染新冠肺炎患者的死亡人数为146人。\",\"infoSource\":\"央视新闻app\",\"sourceUrl\":\"http://app.cctv.com/special/cportal/detail/arti/index.html?id=ArtiNwe4P9jIneJo6y9gCsyN200414&isfromapp=1\",\"provinceId\":\"\"},{\"id\":28833,\"pubDate\":1586831398000,\"pubDateStr\":\"31分钟前\",\"title\":\"在泰国确诊新冠肺炎的26名中国公民 已经治愈返回中国\",\"summary\":\"13日，中国驻泰国大使馆代办杨欣向总台记者透露，自从今年1月12日在泰国发现首位中国海外公民确诊新冠肺炎病例以来，中国驻泰国使馆密切与泰国相关部门和医院联系和协调，保障在泰确诊中国公民能够获得最好的医治，到目前为止，共有26名在泰国确诊新冠肺炎中国公民已经治愈返回中国。\",\"infoSource\":\"央视新闻app\",\"sourceUrl\":\"http://app.cctv.com/special/cportal/detail/arti/index.html?id=ArtiRXE2YZ1Bf3AL14adaUjp200414&isfromapp=1\",\"provinceId\":\"\"},{\"id\":28825,\"pubDate\":1586830081000,\"pubDateStr\":\"53分钟前\",\"title\":\"天津14日最新通报：无新增新冠肺炎确诊病例\",\"summary\":\"4月13日18时至14日6时，天津无新增报告境外输入新冠肺炎确诊病例。累计报告境外输入确诊病例48例（中国籍44例、美国籍2例、法国籍1例、菲律宾籍1例），治愈出院31例，在院17例（危重型1例、普通型11例、轻型5例）。\",\"infoSource\":\"央视新闻app\",\"sourceUrl\":\"http://app.cctv.com/special/cportal/detail/arti/index.html?id=ArtiSlxEXFchRhfmUCnh2TQ3200414&isfromapp=1\",\"provinceId\":\"\"},{\"id\":28818,\"pubDate\":1586828574000,\"pubDateStr\":\"1小时前\",\"title\":\"宁夏连续41天无新增确诊病例\",\"summary\":\"4月14日，宁夏应对新型冠状病毒肺炎疫情工作指挥部发布最新全区新冠肺炎疫情通报。截至2020年4月13日24时，宁夏连续41天无新增确诊病例，无无症状感染者报告。宁夏全区累计报告确诊病例75例（含境外输入病例3例），已全部治愈出院。无疑似病例。\",\"infoSource\":\"央视新闻app\",\"sourceUrl\":\"http://app.cctv.com/special/cportal/detail/arti/index.html?id=ArtivfPjnZcUlFQT2sEJwSPt200414&isfromapp=1\",\"provinceId\":\"\"},{\"id\":28813,\"pubDate\":1586828020000,\"pubDateStr\":\"1小时前\",\"title\":\"2020年4月13日青海省无新型冠状病毒肺炎新增确诊病例\",\"summary\":\"2020年4月13日0-24时，当日青海省无新型冠状病毒肺炎新增确诊病例、疑似病例和无症状感染者。\\\\n\\\\t\\\\t\\\\n\\\\t\\\\t\",\"infoSource\":\"青海卫健委\",\"sourceUrl\":\"https://wsjkw.qinghai.gov.cn/ztbd/yqjk/yqtb/2020/04/14/1586827335314.html\",\"provinceId\":\"\"},{\"id\":28814,\"pubDate\":1586828020000,\"pubDateStr\":\"1小时前\",\"title\":\"2020年4月14日天津市报告境外输入性新型冠状病毒肺炎确诊病例0例\",\"summary\":\"2020年4月13日0－24时，天津市报告境外输入性新型冠状病毒肺炎确诊病例0例，治愈出院3人。截至4月13日24时，天津市累计报告境外输入性新型冠状病毒肺炎确诊病例48例，出院病例31例，在院17例（其中危重型1例，普通型11例，轻型5例）。\",\"infoSource\":\"天津卫健委\",\"sourceUrl\":\"http://wsjk.tj.gov.cn/art/2020/4/14/art_87_73155.html\",\"provinceId\":\"\"},{\"id\":28812,\"pubDate\":1586828018000,\"pubDateStr\":\"1小时前\",\"title\":\"2020年4月13日西藏自治区新冠肺炎确诊病例0例\",\"summary\":\"截止4月13日24时，我区现有新冠肺炎确诊病例0例，重症病例0例，死亡病例0例，疑似病例0例，无症状感染者0例，治愈出院病例1例，累计确诊新冠肺炎病例1例。连续75天无新增确诊或疑似病例。\",\"infoSource\":\"西藏卫健委\",\"sourceUrl\":\"http://wjw.xizang.gov.cn/xwzx/wsjkdt/202004/t20200414_137069.html\",\"provinceId\":\"\"},{\"id\":28816,\"pubDate\":1586827950000,\"pubDateStr\":\"1小时前\",\"title\":\"黑龙江通报新增79例境外输入确诊病例\",\"summary\":\"2020年4月13日0—24时，黑龙江省新增境外输入确诊病例79例，均为中国籍，从俄罗斯输入。\",\"infoSource\":\"央视新闻app\",\"sourceUrl\":\"http://app.cctv.com/special/cportal/detail/arti/index.html?id=Artib3p540sG5cqsRANK7Dh2200414&isfromapp=1\",\"provinceId\":\"\"},{\"id\":28809,\"pubDate\":1586827762000,\"pubDateStr\":\"1小时前\",\"title\":\"韩国新增新冠肺炎确诊病例27例 累计10564例\",\"summary\":\"韩国中央防疫对策本部14日通报，4月13日0时至4月14日0时，韩国新增新冠肺炎确诊病例27例，连续6天新增确诊人数少于40例，累计确诊病例为10564例。\",\"infoSource\":\"央视新闻app\",\"sourceUrl\":\"http://app.cctv.com/special/cportal/detail/arti/index.html?id=Arti7bZDD4KfJVWGjHmEKKik200414&isfromapp=1\",\"provinceId\":\"\"},{\"id\":28810,\"pubDate\":1586827620000,\"pubDateStr\":\"1小时前\",\"title\":\"新突破！我国新冠病毒灭活疫苗获批进入临床试验\",\"summary\":\"记者14日从国务院联防联控机制科研攻关组获悉，我国两款新冠病毒灭活疫苗获得国家药品监督管理局一二期合并的临床试验许可，相关临床试验同步启动。这是首批获得临床研究批件的新冠病毒灭活疫苗。\",\"infoSource\":\"央视新闻app\",\"sourceUrl\":\"http://app.cctv.com/special/cportal/detail/arti/index.html?id=ArtiRR3KXXeS5WIzAURDLqrH200413&isfromapp=1\",\"provinceId\":\"\"},{\"id\":28815,\"pubDate\":1586827579000,\"pubDateStr\":\"1小时前\",\"title\":\"武汉肺科医院ICU新冠患者清零\",\"summary\":\"4月11日，随着最后3名新冠肺炎危重症患者核酸检测陆续转阴。至此，参与抗疫整100天的肺科医院ICU实现新冠肺炎患者“清零”。武汉肺科医院曾以7台ECMO同启创抗疫纪录。4月13日，该医院ICU正式更名为ICU过渡病区。\\\\n\",\"infoSource\":\"人民日报\",\"sourceUrl\":\"http://m.weibo.cn/2803301701/4493542913706921\",\"provinceId\":\"\"},{\"id\":28811,\"pubDate\":1586827541000,\"pubDateStr\":\"1小时前\",\"title\":\"新西兰新增8例新冠肺炎确诊病例 累计确诊1072例\",\"summary\":\"据新西兰卫生部最新数据， 截至当地时间4月14日上午，新西兰新增8例新冠肺炎确诊病例，累计确诊病例1072例。累计有628名确诊患者已经康复，累计死亡9例。\",\"infoSource\":\"央视新闻app\",\"sourceUrl\":\"http://app.cctv.com/special/cportal/detail/arti/index.html?id=ArtilyeNfmM8cJCiog0BFZN3200414&isfromapp=1\",\"provinceId\":\"\"},{\"id\":28808,\"pubDate\":1586827454000,\"pubDateStr\":\"1小时前\",\"title\":\"江西14日最新通报：无新增新冠肺炎确诊病例\",\"summary\":\"2020年4月13日0-24时，江西省无新增本地新冠肺炎确诊病例报告，无新增本地疑似病例，无本地住院确诊病例。截至4月13日24时，全省累计报告本地确诊病例935例，累计出院病例934例，累计死亡病例1例。\",\"infoSource\":\"央视新闻app\",\"sourceUrl\":\"http://app.cctv.com/special/cportal/detail/arti/index.html?id=ArtiFtkR6A7fyrTJ0HWeatZ6200414&isfromapp=1\",\"provinceId\":\"\"},{\"id\":28807,\"pubDate\":1586826865000,\"pubDateStr\":\"1小时前\",\"title\":\"浙江14日最新通报：无新增境外输入新冠肺炎确诊病例  新增无症状感染者1例\",\"summary\":\"4月13日0-24时，浙江无新增境外输入新冠肺炎确诊病例。新增出院病例2例。截至4月13日24时，累计报告境外输入确诊病例49例，累计出院25例。\",\"infoSource\":\"央视新闻app\",\"sourceUrl\":\"http://app.cctv.com/special/cportal/detail/arti/index.html?id=ArtisU3i8USDUMsopm8ptIUM200414&isfromapp=1\",\"provinceId\":\"\"},{\"id\":28804,\"pubDate\":1586826720000,\"pubDateStr\":\"1小时前\",\"title\":\"\\u200b福建新增境外输入确诊病例1例 累计报告境外输入确诊病例57例\",\"summary\":\"4月13日0—24时，福建省报告新增境外输入确诊病例1例（无症状感染者转确诊），为墨西哥输入（福州市报告）。当日报告新增境外输入疑似病例0例。\",\"infoSource\":\"央视新闻app\",\"sourceUrl\":\"http://app.cctv.com/special/cportal/detail/arti/index.html?id=ArtiFh2AEwGSqcor5skPzOC1200414&isfromapp=1\",\"provinceId\":\"\"},{\"id\":28805,\"pubDate\":1586826628000,\"pubDateStr\":\"1小时前\",\"title\":\"\\u200b利比亚新增新冠肺炎确诊病例1例 累计确诊26例\",\"summary\":\"当地时间14日，利比亚国家疾病控制中心发布声明称，利比亚境内新发现1例新冠肺炎确诊病例。\",\"infoSource\":\"央视新闻app\",\"sourceUrl\":\"http://app.cctv.com/special/cportal/detail/arti/index.html?id=ArtiwN9Bim7IbqgDzBh2CR9Q200414&isfromapp=1\",\"provinceId\":\"\"}]}catch(e){}',\n",
       " '截至北京时间 2020-04-14 02:44',\n",
       " '截至北京时间 2020-04-14 02:44',\n",
       " '据日本放送协会消息，根据日本各地的地方自治团体和厚生劳动省通报的数据，截至当地时间14日晚上10点半至上午10点半，日本新增感染者5人，日本累计新冠肺炎确诊病例达到7693人。目前日本国内感染新冠肺炎患者的死亡人数为146人。',\n",
       " '4月14日，宁夏应对新型冠状病毒肺炎疫情工作指挥部发布最新全区新冠肺炎疫情通报。截至2020年4月13日24时，宁夏连续41天无新增确诊病例，无无症状感染者报告。宁夏全区累计报告确诊病例75例（含境外输入病例3例），已全部治愈出院。无疑似病例。',\n",
       " '2020年4月13日0－24时，天津市报告境外输入性新型冠状病毒肺炎确诊病例0例，治愈出院3人。截至4月13日24时，天津市累计报告境外输入性新型冠状病毒肺炎确诊病例48例，出院病例31例，在院17例（其中危重型1例，普通型11例，轻型5例）。',\n",
       " '据新西兰卫生部最新数据， 截至当地时间4月14日上午，新西兰新增8例新冠肺炎确诊病例，累计确诊病例1072例。累计有628名确诊患者已经康复，累计死亡9例。',\n",
       " '2020年4月13日0-24时，江西省无新增本地新冠肺炎确诊病例报告，无新增本地疑似病例，无本地住院确诊病例。截至4月13日24时，全省累计报告本地确诊病例935例，累计出院病例934例，累计死亡病例1例。',\n",
       " '4月13日0-24时，浙江无新增境外输入新冠肺炎确诊病例。新增出院病例2例。截至4月13日24时，累计报告境外输入确诊病例49例，累计出院25例。']"
      ]
     },
     "execution_count": 6,
     "metadata": {},
     "output_type": "execute_result"
    }
   ],
   "source": [
    "data = soup.findAll(text=re.compile(\"截至.+\"))\n",
    "data"
   ]
  },
  {
   "cell_type": "code",
   "execution_count": 7,
   "metadata": {},
   "outputs": [
    {
     "data": {
      "text/plain": [
       "'2020-04-14 02:44'"
      ]
     },
     "execution_count": 7,
     "metadata": {},
     "output_type": "execute_result"
    }
   ],
   "source": [
    "for s in data:\n",
    "    m = re.search(\"截至.*(202\\d-\\d+-\\d+ \\d+:\\d+)\", s)\n",
    "    if m is not None:\n",
    "        data_date_time = m.group(1)\n",
    "data_date_time"
   ]
  },
  {
   "cell_type": "markdown",
   "metadata": {},
   "source": [
    "### Extract data (summary)"
   ]
  },
  {
   "cell_type": "code",
   "execution_count": 8,
   "metadata": {},
   "outputs": [
    {
     "data": {
      "text/plain": [
       "['try { window.getStatisticsService = {\"id\":1,\"createTime\":1579537899000,\"modifyTime\":1586832299000,\"infectSource\":\"该字段已替换为说明2\",\"passWay\":\"该字段已替换为说明3\",\"imgUrl\":\"https://img1.dxycdn.com/2020/0201/450/3394153392393266839-135.png\",\"dailyPic\":\"https://img1.dxycdn.com/2020/0211/763/3395998884005602079-135.png,https://img1.dxycdn.com/2020/0211/362/3395998896890788910-135.png,https://img1.dxycdn.com/2020/0211/365/3395998905480724211-135.png,https://img1.dxycdn.com/2020/0211/364/3395998916217859778-135.png,https://img1.dxycdn.com/2020/0211/922/3395998929103046444-135.png,https://img1.dxycdn.com/2020/0211/089/3395998939840182072-135.png\",\"dailyPics\":[\"https://img1.dxycdn.com/2020/0211/763/3395998884005602079-135.png\",\"https://img1.dxycdn.com/2020/0211/362/3395998896890788910-135.png\",\"https://img1.dxycdn.com/2020/0211/365/3395998905480724211-135.png\",\"https://img1.dxycdn.com/2020/0211/364/3395998916217859778-135.png\",\"https://img1.dxycdn.com/2020/0211/922/3395998929103046444-135.png\",\"https://img1.dxycdn.com/2020/0211/089/3395998939840182072-135.png\"],\"summary\":\"\",\"deleted\":false,\"countRemark\":\"\",\"currentConfirmedCount\":2083,\"confirmedCount\":83696,\"suspectedCount\":1464,\"curedCount\":78262,\"deadCount\":3351,\"seriousCount\":1005,\"suspectedIncr\":86,\"currentConfirmedIncr\":-18,\"confirmedIncr\":99,\"curedIncr\":117,\"deadIncr\":0,\"seriousIncr\":-59,\"virus\":\"该字段已替换为说明1\",\"remark1\":\"易感人群：人群普遍易感。老年人及有基础疾病者感染后病情较重，儿童及婴幼儿也有发病\",\"remark2\":\"潜伏期：一般为 3～7 天，最长不超过 14 天，潜伏期内可能存在传染性，其中无症状病例传染性非常罕见\",\"remark3\":\"宿主：野生动物，可能为中华菊头蝠\",\"remark4\":\"\",\"remark5\":\"\",\"note1\":\"病毒：SARS-CoV-2，其导致疾病命名 COVID-19\",\"note2\":\"传染源：新冠肺炎的患者。无症状感染者也可能成为传染源。\",\"note3\":\"传播途径：经呼吸道飞沫、接触传播是主要的传播途径。气溶胶传播和消化道等传播途径尚待明确。\",\"generalRemark\":\"1. 3 月 12 日国家卫健委确诊补订遗漏 12 例确诊病例（非 12 日新增），暂无具体省份信息。 2. 浙江省 12 例外省治愈暂无具体省份信息。\",\"abroadRemark\":\"\",\"marquee\":[{\"id\":2034,\"marqueeLabel\":\"专家说\",\"marqueeContent\":\"钟南山院士关于新冠疫情的最新判断\",\"marqueeLink\":\"https://dxy.me/OUhxbg\"},{\"id\":2035,\"marqueeLabel\":\"严防\",\"marqueeContent\":\"绥芬河市对边境线 24 小时巡逻\",\"marqueeLink\":\"https://dxy.me/Mp7DAL\"},{\"id\":2036,\"marqueeLabel\":\"数字新冠\",\"marqueeContent\":\"4 月 13 日，世界因新冠而变\",\"marqueeLink\":\"https://dxy.me/03FQu2\"}],\"quanguoTrendChart\":[{\"imgUrl\":\"https://img1.dxycdn.com/2020/0324/278/3403801351376518263-135.png\",\"title\":\"新增疑似/新增确诊\"},{\"imgUrl\":\"https://img1.dxycdn.com/2020/0324/812/3403847865872006755-135.png\",\"title\":\"境外输入\"},{\"imgUrl\":\"https://img1.dxycdn.com/2020/0324/547/3403847848692336947-135.png\",\"title\":\"现存确诊\"},{\"imgUrl\":\"https://img1.dxycdn.com/2020/0324/775/3403801407211095604-135.png\",\"title\":\"治愈\"},{\"imgUrl\":\"https://img1.dxycdn.com/2020/0324/250/3403801424390727199-135.png\",\"title\":\"死亡\"}],\"hbFeiHbTrendChart\":[{\"imgUrl\":\"https://img1.dxycdn.com/2020/0326/624/3404177508906904585-135.png\",\"title\":\"非湖北新增确诊\"},{\"imgUrl\":\"https://img1.dxycdn.com/2020/0326/777/3404177532529485065-135.png\",\"title\":\"湖北新增确诊\"},{\"imgUrl\":\"https://img1.dxycdn.com/2020/0326/376/3404177556151805921-135.png\",\"title\":\"湖北现存确诊\"},{\"imgUrl\":\"https://img1.dxycdn.com/2020/0326/527/3404177575478899995-135.png\",\"title\":\"非湖北现存确诊\"},{\"imgUrl\":\"https://img1.dxycdn.com/2020/0326/419/3404177596953996726-135.png\",\"title\":\"治愈/死亡\"}],\"foreignTrendChart\":[{\"imgUrl\":\"https://img1.dxycdn.com/2020/0320/702/3403079914982117944-135.png\",\"title\":\"国外新增确诊\"},{\"imgUrl\":\"https://img1.dxycdn.com/2020/0320/396/3403079925719536561-135.png\",\"title\":\"国外累计确诊\"},{\"imgUrl\":\"https://img1.dxycdn.com/2020/0320/139/3403079936457225524-135.png\",\"title\":\"国外死亡\"}],\"importantForeignTrendChart\":[{\"imgUrl\":\"https://img1.dxycdn.com/2020/0320/450/3403077453965772423-135.png\",\"title\":\"重点国家新增确诊\"},{\"imgUrl\":\"https://img1.dxycdn.com/2020/0320/276/3403077462555980566-135.png\",\"title\":\"日本新增确诊\"},{\"imgUrl\":\"https://img1.dxycdn.com/2020/0320/340/3403077473293125942-135.png\",\"title\":\"意大利新增确诊\"},{\"imgUrl\":\"https://img1.dxycdn.com/2020/0320/723/3403077481883334043-135.png\",\"title\":\"伊朗新增确诊\"},{\"imgUrl\":\"https://img1.dxycdn.com/2020/0320/266/3403077492620752785-135.png\",\"title\":\"美国新增确诊\"},{\"imgUrl\":\"https://img1.dxycdn.com/2020/0320/870/3403077503358171278-135.png\",\"title\":\"法国新增确诊\"},{\"imgUrl\":\"https://img1.dxycdn.com/2020/0320/053/3403077511947832997-135.png\",\"title\":\"德国新增确诊\"},{\"imgUrl\":\"https://img1.dxycdn.com/2020/0320/878/3403077520537768006-135.png\",\"title\":\"西班牙新增确诊\"},{\"imgUrl\":\"https://img1.dxycdn.com/2020/0320/443/3403077531275186665-135.png\",\"title\":\"韩国新增确诊\"}],\"foreignTrendChartGlobal\":[{\"imgUrl\":\"https://img1.dxycdn.com/2020/0319/740/3402859458605738923-135.png\",\"title\":\"Daily New Cases\"},{\"imgUrl\":\"https://img1.dxycdn.com/2020/0319/351/3402856772103846114-135.png\",\"title\":\"Total Confirmed Cases\"},{\"imgUrl\":\"https://img1.dxycdn.com/2020/0319/236/3402856782841001789-135.png\",\"title\":\"Total Deaths Cases\"}],\"importantForeignTrendChartGlobal\":[{\"imgUrl\":\"https://img1.dxycdn.com/2020/0319/122/3402856838675578578-135.png\",\"title\":\"Daily New Cases\"},{\"imgUrl\":\"https://img1.dxycdn.com/2020/0319/685/3402856849412997239-135.png\",\"title\":\"Japan\"},{\"imgUrl\":\"https://img1.dxycdn.com/2020/0319/477/3402856860150678804-135.png\",\"title\":\"Italy\"},{\"imgUrl\":\"https://img1.dxycdn.com/2020/0319/454/3402856873035581014-135.png\",\"title\":\"Iran\"},{\"imgUrl\":\"https://img1.dxycdn.com/2020/0319/022/3402856883772999714-135.png\",\"title\":\"U.S.A.\"},{\"imgUrl\":\"https://img1.dxycdn.com/2020/0319/529/3402856894510155506-135.png\",\"title\":\"France\"},{\"imgUrl\":\"https://img1.dxycdn.com/2020/0319/211/3402856905247574064-135.png\",\"title\":\"Germany\"},{\"imgUrl\":\"https://img1.dxycdn.com/2020/0319/054/3402856913837508985-135.png\",\"title\":\"Spain\"},{\"imgUrl\":\"https://img1.dxycdn.com/2020/0319/088/3402856928870157852-135.png\",\"title\":\"Republic of Korea\"}],\"foreignStatistics\":{\"currentConfirmedCount\":1323669,\"confirmedCount\":1790378,\"suspectedCount\":4,\"curedCount\":350929,\"deadCount\":115780,\"suspectedIncr\":0,\"currentConfirmedIncr\":-820,\"confirmedIncr\":202,\"curedIncr\":1000,\"deadIncr\":22},\"globalStatistics\":{\"currentConfirmedCount\":1325752,\"confirmedCount\":1874074,\"curedCount\":429191,\"deadCount\":119131,\"currentConfirmedIncr\":-838,\"confirmedIncr\":301,\"curedIncr\":1117,\"deadIncr\":22},\"globalOtherTrendChartData\":\"https://file1.dxycdn.com/2020/0414/360/3407690695518318089-135.json\"}}catch(e){}']"
      ]
     },
     "execution_count": 8,
     "metadata": {},
     "output_type": "execute_result"
    }
   ],
   "source": [
    "data = soup.findAll(text=re.compile('\\\"summary.+\\\"confirmedCount\\\":\\d'))\n",
    "\n",
    "data\n"
   ]
  },
  {
   "cell_type": "code",
   "execution_count": 9,
   "metadata": {},
   "outputs": [],
   "source": [
    "m = re.search('\\\"confirmedCount\\\":(\\d+)', data[0])\n",
    "summary_confirmed_count = int(m.group(1))\n",
    "\n",
    "\n",
    "m = re.search('\\\"curedCount\\\":(\\d+)', data[0])\n",
    "summary_cured_count = int(m.group(1))\n",
    "\n",
    "m = re.search('\\\"deadCount\\\":(\\d+)', data[0])\n",
    "summary_dead_count = int(m.group(1))\n"
   ]
  },
  {
   "cell_type": "code",
   "execution_count": 10,
   "metadata": {},
   "outputs": [
    {
     "data": {
      "text/html": [
       "<div>\n",
       "<style scoped>\n",
       "    .dataframe tbody tr th:only-of-type {\n",
       "        vertical-align: middle;\n",
       "    }\n",
       "\n",
       "    .dataframe tbody tr th {\n",
       "        vertical-align: top;\n",
       "    }\n",
       "\n",
       "    .dataframe thead th {\n",
       "        text-align: right;\n",
       "    }\n",
       "</style>\n",
       "<table border=\"1\" class=\"dataframe\">\n",
       "  <thead>\n",
       "    <tr style=\"text-align: right;\">\n",
       "      <th></th>\n",
       "      <th>datetime</th>\n",
       "      <th>confirmed</th>\n",
       "      <th>cured</th>\n",
       "      <th>dead</th>\n",
       "    </tr>\n",
       "  </thead>\n",
       "  <tbody>\n",
       "    <tr>\n",
       "      <th>0</th>\n",
       "      <td>2020-04-14 02:44</td>\n",
       "      <td>83696</td>\n",
       "      <td>78262</td>\n",
       "      <td>3351</td>\n",
       "    </tr>\n",
       "  </tbody>\n",
       "</table>\n",
       "</div>"
      ],
      "text/plain": [
       "           datetime  confirmed  cured  dead\n",
       "0  2020-04-14 02:44      83696  78262  3351"
      ]
     },
     "execution_count": 10,
     "metadata": {},
     "output_type": "execute_result"
    }
   ],
   "source": [
    "# make a dataframe\n",
    "df = pd.DataFrame({\n",
    "    'datetime': data_date_time,\n",
    "    'confirmed': summary_confirmed_count,\n",
    "    'cured': summary_cured_count,\n",
    "    'dead': summary_dead_count\n",
    "}, index=[0])\n",
    "df"
   ]
  },
  {
   "cell_type": "markdown",
   "metadata": {},
   "source": [
    "### Save to file"
   ]
  },
  {
   "cell_type": "code",
   "execution_count": 11,
   "metadata": {},
   "outputs": [],
   "source": [
    "from pathlib import Path\n",
    "csv_file = '../data/china-summary-cases.csv'\n",
    "\n",
    "if Path(csv_file).exists():\n",
    "    # read out the old data - then merge with new data and remove duplicates based on datetime\n",
    "    old_df = pd.read_csv(csv_file)\n",
    "    df = df.append(old_df)\n",
    "df.drop_duplicates(subset=['datetime'], inplace=True)"
   ]
  },
  {
   "cell_type": "code",
   "execution_count": 12,
   "metadata": {},
   "outputs": [],
   "source": [
    "df.sort_values(by=['datetime'], inplace=True)\n",
    "\n",
    "df.to_csv(csv_file, index=False)\n"
   ]
  },
  {
   "cell_type": "markdown",
   "metadata": {},
   "source": [
    "### Plot graph"
   ]
  },
  {
   "cell_type": "code",
   "execution_count": 13,
   "metadata": {},
   "outputs": [],
   "source": [
    "import seaborn as sns\n",
    "import matplotlib.pyplot as plt\n",
    "from pandas.plotting import register_matplotlib_converters\n",
    "register_matplotlib_converters()\n",
    "\n",
    "png_file = '../images/china-summary-cases.png'\n",
    "# convert to pd.datetime\n",
    "df['datetime_idx'] = pd.to_datetime(df['datetime'], format=\"%Y-%m-%d %H:%M\")\n",
    "\n",
    "df.set_index('datetime_idx', inplace=True)\n",
    "df.drop(['datetime'], axis=1, inplace=True)\n"
   ]
  },
  {
   "cell_type": "code",
   "execution_count": 14,
   "metadata": {},
   "outputs": [
    {
     "data": {
      "text/html": [
       "<div>\n",
       "<style scoped>\n",
       "    .dataframe tbody tr th:only-of-type {\n",
       "        vertical-align: middle;\n",
       "    }\n",
       "\n",
       "    .dataframe tbody tr th {\n",
       "        vertical-align: top;\n",
       "    }\n",
       "\n",
       "    .dataframe thead th {\n",
       "        text-align: right;\n",
       "    }\n",
       "</style>\n",
       "<table border=\"1\" class=\"dataframe\">\n",
       "  <thead>\n",
       "    <tr style=\"text-align: right;\">\n",
       "      <th></th>\n",
       "      <th>confirmed</th>\n",
       "      <th>cured</th>\n",
       "      <th>dead</th>\n",
       "    </tr>\n",
       "    <tr>\n",
       "      <th>datetime_idx</th>\n",
       "      <th></th>\n",
       "      <th></th>\n",
       "      <th></th>\n",
       "    </tr>\n",
       "  </thead>\n",
       "  <tbody>\n",
       "    <tr>\n",
       "      <th>2020-02-02 10:22:00</th>\n",
       "      <td>14483</td>\n",
       "      <td>379</td>\n",
       "      <td>304</td>\n",
       "    </tr>\n",
       "    <tr>\n",
       "      <th>2020-02-02 10:28:00</th>\n",
       "      <td>14483</td>\n",
       "      <td>380</td>\n",
       "      <td>304</td>\n",
       "    </tr>\n",
       "    <tr>\n",
       "      <th>2020-02-02 11:19:00</th>\n",
       "      <td>14489</td>\n",
       "      <td>385</td>\n",
       "      <td>304</td>\n",
       "    </tr>\n",
       "    <tr>\n",
       "      <th>2020-02-02 11:54:00</th>\n",
       "      <td>14489</td>\n",
       "      <td>397</td>\n",
       "      <td>304</td>\n",
       "    </tr>\n",
       "    <tr>\n",
       "      <th>2020-02-02 15:01:00</th>\n",
       "      <td>14490</td>\n",
       "      <td>430</td>\n",
       "      <td>304</td>\n",
       "    </tr>\n",
       "    <tr>\n",
       "      <th>...</th>\n",
       "      <td>...</td>\n",
       "      <td>...</td>\n",
       "      <td>...</td>\n",
       "    </tr>\n",
       "    <tr>\n",
       "      <th>2020-04-13 17:05:00</th>\n",
       "      <td>83607</td>\n",
       "      <td>78148</td>\n",
       "      <td>3351</td>\n",
       "    </tr>\n",
       "    <tr>\n",
       "      <th>2020-04-14 00:17:00</th>\n",
       "      <td>83607</td>\n",
       "      <td>78159</td>\n",
       "      <td>3351</td>\n",
       "    </tr>\n",
       "    <tr>\n",
       "      <th>2020-04-14 01:53:00</th>\n",
       "      <td>83696</td>\n",
       "      <td>78262</td>\n",
       "      <td>3351</td>\n",
       "    </tr>\n",
       "    <tr>\n",
       "      <th>2020-04-14 01:58:00</th>\n",
       "      <td>83696</td>\n",
       "      <td>78262</td>\n",
       "      <td>3351</td>\n",
       "    </tr>\n",
       "    <tr>\n",
       "      <th>2020-04-14 02:44:00</th>\n",
       "      <td>83696</td>\n",
       "      <td>78262</td>\n",
       "      <td>3351</td>\n",
       "    </tr>\n",
       "  </tbody>\n",
       "</table>\n",
       "<p>1099 rows × 3 columns</p>\n",
       "</div>"
      ],
      "text/plain": [
       "                     confirmed  cured  dead\n",
       "datetime_idx                               \n",
       "2020-02-02 10:22:00      14483    379   304\n",
       "2020-02-02 10:28:00      14483    380   304\n",
       "2020-02-02 11:19:00      14489    385   304\n",
       "2020-02-02 11:54:00      14489    397   304\n",
       "2020-02-02 15:01:00      14490    430   304\n",
       "...                        ...    ...   ...\n",
       "2020-04-13 17:05:00      83607  78148  3351\n",
       "2020-04-14 00:17:00      83607  78159  3351\n",
       "2020-04-14 01:53:00      83696  78262  3351\n",
       "2020-04-14 01:58:00      83696  78262  3351\n",
       "2020-04-14 02:44:00      83696  78262  3351\n",
       "\n",
       "[1099 rows x 3 columns]"
      ]
     },
     "execution_count": 14,
     "metadata": {},
     "output_type": "execute_result"
    }
   ],
   "source": [
    "df"
   ]
  },
  {
   "cell_type": "code",
   "execution_count": 15,
   "metadata": {
    "scrolled": true
   },
   "outputs": [
    {
     "data": {
      "image/png": "[encoded data removed]",
      "text/plain": [
       "<Figure size 1008x1008 with 3 Axes>"
      ]
     },
     "metadata": {},
     "output_type": "display_data"
    }
   ],
   "source": [
    "if df.shape[0]>1:\n",
    "    # line chart when having at least a few points\n",
    "    sns.set(rc={'figure.figsize':(14,14)})\n",
    "    sns.set(style=\"whitegrid\")\n",
    "\n",
    "    fig, axs = plt.subplots(nrows=3)\n",
    "\n",
    "    sns.lineplot(x=df.index, y = 'confirmed', data=df, ax= axs[0], estimator=None, color='orange')\n",
    "    sns.lineplot(x=df.index, y = 'cured', data=df, ax= axs[1], estimator=None, color='green')\n",
    "    sns.lineplot(x=df.index, y = 'dead', data=df, ax= axs[2], estimator=None, color='darkred')\n",
    "\n",
    "    for ax in axs:\n",
    "        ax.set_xlabel('')\n",
    "        ax.tick_params(axis='x', labelrotation=30)\n",
    "else:\n",
    "\n",
    "    ax = df.plot(kind='bar', stacked=True, figsize=(9,6))\n",
    "    fig = ax.get_figure()\n",
    "    ax.set_xlabel('')\n",
    "    for label in ax.get_xticklabels():\n",
    "        label.set_rotation(0) \n"
   ]
  },
  {
   "cell_type": "code",
   "execution_count": 16,
   "metadata": {},
   "outputs": [],
   "source": [
    "fig.savefig(png_file)"
   ]
  },
  {
   "cell_type": "code",
   "execution_count": null,
   "metadata": {},
   "outputs": [],
   "source": []
  },
  {
   "cell_type": "code",
   "execution_count": null,
   "metadata": {},
   "outputs": [],
   "source": []
  }
 ],
 "metadata": {
  "kernelspec": {
   "display_name": "Python 3",
   "language": "python",
   "name": "python3"
  },
  "language_info": {
   "codemirror_mode": {
    "name": "ipython",
    "version": 3
   },
   "file_extension": ".py",
   "mimetype": "text/x-python",
   "name": "python",
   "nbconvert_exporter": "python",
   "pygments_lexer": "ipython3",
   "version": "3.7.6"
  }
 },
 "nbformat": 4,
 "nbformat_minor": 2
}
