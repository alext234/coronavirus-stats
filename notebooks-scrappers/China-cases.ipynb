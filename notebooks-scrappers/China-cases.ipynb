{
 "cells": [
  {
   "cell_type": "code",
   "execution_count": 1,
   "metadata": {},
   "outputs": [],
   "source": [
    "import pandas as pd\n",
    "import requests\n",
    "from bs4 import BeautifulSoup\n",
    "import re\n",
    "from datetime import datetime\n",
    "from selenium import webdriver\n",
    "from selenium.webdriver.chrome.options import Options  \n"
   ]
  },
  {
   "cell_type": "code",
   "execution_count": 2,
   "metadata": {},
   "outputs": [
    {
     "data": {
      "text/plain": [
       "datetime.datetime(2020, 5, 8, 0, 22, 6, 744547)"
      ]
     },
     "execution_count": 2,
     "metadata": {},
     "output_type": "execute_result"
    }
   ],
   "source": [
    "datetime.now()"
   ]
  },
  {
   "cell_type": "code",
   "execution_count": 3,
   "metadata": {},
   "outputs": [],
   "source": [
    "chrome_options = Options()  \n",
    "chrome_options.add_argument(\"--headless\")  \n",
    "chrome_options.add_argument(\"--no-sandbox\")\n",
    "\n",
    "driver = webdriver.Chrome('chromedriver', options=chrome_options)"
   ]
  },
  {
   "cell_type": "code",
   "execution_count": 4,
   "metadata": {},
   "outputs": [],
   "source": [
    "url = 'https://ncov.dxy.cn/ncovh5/view/pneumonia'\n",
    "driver.get(url)"
   ]
  },
  {
   "cell_type": "markdown",
   "metadata": {},
   "source": [
    "### Extract date"
   ]
  },
  {
   "cell_type": "code",
   "execution_count": 5,
   "metadata": {},
   "outputs": [],
   "source": [
    "content = driver.page_source\n",
    "soup =BeautifulSoup(content, 'lxml')\n"
   ]
  },
  {
   "cell_type": "code",
   "execution_count": 6,
   "metadata": {},
   "outputs": [
    {
     "data": {
      "text/plain": [
       "['try { window.getTimelineService1 = [{\"id\":39921,\"pubDate\":1588892172000,\"pubDateStr\":\"58分钟前\",\"title\":\"西班牙已有近五万人参与血清抗体测试项目\",\"summary\":\"西班牙卫生部7日发布的数据显示，截至当地时间6日晚9时，通过聚合酶链式反应检测确诊的新冠肺炎病例数为221447例，新增确诊754例——如果再加上35408名抗体检测结果呈阳性者，西班牙全国累计感染人数达到256855人。\",\"infoSource\":\"央视新闻app\",\"sourceUrl\":\"http://app.cctv.com/special/cportal/detail/arti/index.html?id=ArtiaqoNtE850nwxPDB0muZ9200508&isfromapp=1\",\"provinceId\":\"\"},{\"id\":39891,\"pubDate\":1588880454000,\"pubDateStr\":\"4小时前\",\"title\":\"\\u200b世卫组织：全球新冠肺炎确诊病例近368万例\",\"summary\":\"据世卫组织于欧洲中部夏令时间5月7日18时32分（北京时间5月8日0时32分）更新的统计数据，全球确诊新冠肺炎病例累计3679499例，死亡254199例，中国以外近360万例。\",\"infoSource\":\"央视新闻app\",\"sourceUrl\":\"http://app.cctv.com/special/cportal/detail/arti/index.html?id=ArtiqxRYTVf7mD8wD2QW1zOj200508&isfromapp=1\",\"provinceId\":\"\"},{\"id\":39860,\"pubDate\":1588868021000,\"pubDateStr\":\"7小时前\",\"title\":\"新冠肺炎疫情重创洛杉矶旅游业\",\"summary\":\"洛杉矶曾经是世界上最受欢迎的旅游目的地之一。据美国媒体当地时间5月7日报道，由于新冠疫情的暴发，预计洛杉矶今年将减少大约2200万游客，并损失超过130亿美元的旅游收入。\",\"infoSource\":\"央视新闻app\",\"sourceUrl\":\"http://app.cctv.com/special/cportal/detail/arti/index.html?id=ArtiNn7FWVHsdKux9tiiIbdN200508&isfromapp=1\",\"provinceId\":\"\"},{\"id\":39840,\"pubDate\":1588864990000,\"pubDateStr\":\"8小时前\",\"title\":\"\\u200b世卫组织：全球新冠肺炎确诊病例超367万例\",\"summary\":\"根据世卫组织最新实时统计数据显示，截至欧洲中部夏令时间5月7日14时27分（北京时间20时27分），全球累计新冠肺炎确诊病例3672238例，死亡254045例，中国以外超过358万例。\",\"infoSource\":\"央视新闻app\",\"sourceUrl\":\"http://app.cctv.com/special/cportal/detail/arti/index.html?id=ArtiYFMd4OLtZj2hOFnXcOwm200507&isfromapp=1\",\"provinceId\":\"\"},{\"id\":39821,\"pubDate\":1588862337000,\"pubDateStr\":\"9小时前\",\"title\":\"印度专家称印度新冠肺炎的高峰期可能在6、7月\",\"summary\":\"全印医学科学研究所主任兰迪普·古勒里亚警告说，印度新冠肺炎确诊病例数还没有达到高峰。根据建模数据和确诊病例的增加方式，高峰期可能在6月或7月。目前疫情的发展变化有很多变量，还要看具体情况，才能知道疫情的影响程度以及扩大封锁产生的效果。\",\"infoSource\":\"央视新闻app\",\"sourceUrl\":\"http://app.cctv.com/special/cportal/detail/arti/index.html?id=ArtitmAIHwtuEyopLf9Tr6AL200507&isfromapp=1\",\"provinceId\":\"\"}]}catch(e){}',\n",
       " '截至北京时间 2020-05-08 08:06',\n",
       " '截至北京时间 2020-05-08 08:06',\n",
       " '西班牙卫生部7日发布的数据显示，截至当地时间6日晚9时，通过聚合酶链式反应检测确诊的新冠肺炎病例数为221447例，新增确诊754例——如果再加上35408名抗体检测结果呈阳性者，西班牙全国累计感染人数达到256855人。',\n",
       " '根据世卫组织最新实时统计数据显示，截至欧洲中部夏令时间5月7日14时27分（北京时间20时27分），全球累计新冠肺炎确诊病例3672238例，死亡254045例，中国以外超过358万例。']"
      ]
     },
     "execution_count": 6,
     "metadata": {},
     "output_type": "execute_result"
    }
   ],
   "source": [
    "data = soup.findAll(text=re.compile(\"截至.+\"))\n",
    "data"
   ]
  },
  {
   "cell_type": "code",
   "execution_count": 7,
   "metadata": {},
   "outputs": [
    {
     "data": {
      "text/plain": [
       "'2020-05-08 08:06'"
      ]
     },
     "execution_count": 7,
     "metadata": {},
     "output_type": "execute_result"
    }
   ],
   "source": [
    "for s in data:\n",
    "    m = re.search(\"截至.*(202\\d-\\d+-\\d+ \\d+:\\d+)\", s)\n",
    "    if m is not None:\n",
    "        data_date_time = m.group(1)\n",
    "data_date_time"
   ]
  },
  {
   "cell_type": "markdown",
   "metadata": {},
   "source": [
    "### Extract data (summary)"
   ]
  },
  {
   "cell_type": "code",
   "execution_count": 8,
   "metadata": {},
   "outputs": [
    {
     "data": {
      "text/plain": [
       "['try { window.getStatisticsService = {\"id\":1,\"createTime\":1579537899000,\"modifyTime\":1588896388000,\"infectSource\":\"该字段已替换为说明2\",\"passWay\":\"该字段已替换为说明3\",\"imgUrl\":\"https://img1.dxycdn.com/2020/0201/450/3394153392393266839-135.png\",\"dailyPic\":\"https://img1.dxycdn.com/2020/0211/763/3395998884005602079-135.png,https://img1.dxycdn.com/2020/0211/362/3395998896890788910-135.png,https://img1.dxycdn.com/2020/0211/365/3395998905480724211-135.png,https://img1.dxycdn.com/2020/0211/364/3395998916217859778-135.png,https://img1.dxycdn.com/2020/0211/922/3395998929103046444-135.png,https://img1.dxycdn.com/2020/0211/089/3395998939840182072-135.png\",\"dailyPics\":[\"https://img1.dxycdn.com/2020/0211/763/3395998884005602079-135.png\",\"https://img1.dxycdn.com/2020/0211/362/3395998896890788910-135.png\",\"https://img1.dxycdn.com/2020/0211/365/3395998905480724211-135.png\",\"https://img1.dxycdn.com/2020/0211/364/3395998916217859778-135.png\",\"https://img1.dxycdn.com/2020/0211/922/3395998929103046444-135.png\",\"https://img1.dxycdn.com/2020/0211/089/3395998939840182072-135.png\"],\"summary\":\"\",\"deleted\":false,\"countRemark\":\"\",\"currentConfirmedCount\":478,\"confirmedCount\":84414,\"suspectedCount\":1680,\"curedCount\":79293,\"deadCount\":4643,\"seriousCount\":880,\"virus\":\"该字段已替换为说明1\",\"remark1\":\"易感人群：人群普遍易感。老年人及有基础疾病者感染后病情较重，儿童及婴幼儿也有发病\",\"remark2\":\"潜伏期：一般为 3～7 天，最长不超过 14 天，潜伏期内可能存在传染性，其中无症状病例传染性非常罕见\",\"remark3\":\"宿主：野生动物，可能为中华菊头蝠\",\"remark4\":\"\",\"remark5\":\"\",\"note1\":\"病毒：SARS-CoV-2，其导致疾病命名 COVID-19\",\"note2\":\"传染源：新冠肺炎的患者。无症状感染者也可能成为传染源。\",\"note3\":\"传播途径：经呼吸道飞沫、接触传播是主要的传播途径。气溶胶传播和消化道等传播途径尚待明确。\",\"generalRemark\":\"1. 3 月 12 日国家卫健委确诊补订遗漏 12 例确诊病例（非 12 日新增），暂无具体省份信息。 2. 浙江省 12 例外省治愈暂无具体省份信息。\",\"abroadRemark\":\"\",\"marquee\":[{\"id\":2295,\"marqueeLabel\":\"加油冲鸭\",\"marqueeContent\":\"湖北高三开学，驻汉高校寄语学子\",\"marqueeLink\":\"https://dxy.me/2qI9NQ\"},{\"id\":2296,\"marqueeLabel\":\"海外观察\",\"marqueeContent\":\"警惕新冠次生伤害--癌症死亡增加\",\"marqueeLink\":\"https://dxy.me/7tz3EG\"},{\"id\":2297,\"marqueeLabel\":\"数字新冠\",\"marqueeContent\":\"5 月 6 日，世界因新冠而变\",\"marqueeLink\":\"https://dxy.me/Ld8Quo\"}],\"quanguoTrendChart\":[{\"imgUrl\":\"https://img1.dxycdn.com/2020/0324/278/3403801351376518263-135.png\",\"title\":\"新增疑似/新增确诊\"},{\"imgUrl\":\"https://img1.dxycdn.com/2020/0324/812/3403847865872006755-135.png\",\"title\":\"境外输入\"},{\"imgUrl\":\"https://img1.dxycdn.com/2020/0324/547/3403847848692336947-135.png\",\"title\":\"现存确诊\"},{\"imgUrl\":\"https://img1.dxycdn.com/2020/0324/775/3403801407211095604-135.png\",\"title\":\"治愈\"},{\"imgUrl\":\"https://img1.dxycdn.com/2020/0324/250/3403801424390727199-135.png\",\"title\":\"死亡\"}],\"hbFeiHbTrendChart\":[{\"imgUrl\":\"https://img1.dxycdn.com/2020/0326/624/3404177508906904585-135.png\",\"title\":\"非湖北新增确诊\"},{\"imgUrl\":\"https://img1.dxycdn.com/2020/0326/777/3404177532529485065-135.png\",\"title\":\"湖北新增确诊\"},{\"imgUrl\":\"https://img1.dxycdn.com/2020/0326/376/3404177556151805921-135.png\",\"title\":\"湖北现存确诊\"},{\"imgUrl\":\"https://img1.dxycdn.com/2020/0326/527/3404177575478899995-135.png\",\"title\":\"非湖北现存确诊\"},{\"imgUrl\":\"https://img1.dxycdn.com/2020/0326/419/3404177596953996726-135.png\",\"title\":\"治愈/死亡\"}],\"foreignTrendChart\":[{\"imgUrl\":\"https://img1.dxycdn.com/2020/0320/702/3403079914982117944-135.png\",\"title\":\"国外新增确诊\"},{\"imgUrl\":\"https://img1.dxycdn.com/2020/0320/396/3403079925719536561-135.png\",\"title\":\"国外累计确诊\"},{\"imgUrl\":\"https://img1.dxycdn.com/2020/0320/139/3403079936457225524-135.png\",\"title\":\"国外死亡\"}],\"importantForeignTrendChart\":[{\"imgUrl\":\"https://img1.dxycdn.com/2020/0320/450/3403077453965772423-135.png\",\"title\":\"重点国家新增确诊\"},{\"imgUrl\":\"https://img1.dxycdn.com/2020/0320/276/3403077462555980566-135.png\",\"title\":\"日本新增确诊\"},{\"imgUrl\":\"https://img1.dxycdn.com/2020/0320/340/3403077473293125942-135.png\",\"title\":\"意大利新增确诊\"},{\"imgUrl\":\"https://img1.dxycdn.com/2020/0320/723/3403077481883334043-135.png\",\"title\":\"伊朗新增确诊\"},{\"imgUrl\":\"https://img1.dxycdn.com/2020/0320/266/3403077492620752785-135.png\",\"title\":\"美国新增确诊\"},{\"imgUrl\":\"https://img1.dxycdn.com/2020/0320/870/3403077503358171278-135.png\",\"title\":\"法国新增确诊\"},{\"imgUrl\":\"https://img1.dxycdn.com/2020/0320/053/3403077511947832997-135.png\",\"title\":\"德国新增确诊\"},{\"imgUrl\":\"https://img1.dxycdn.com/2020/0320/878/3403077520537768006-135.png\",\"title\":\"西班牙新增确诊\"},{\"imgUrl\":\"https://img1.dxycdn.com/2020/0320/443/3403077531275186665-135.png\",\"title\":\"韩国新增确诊\"}],\"foreignTrendChartGlobal\":[{\"imgUrl\":\"https://img1.dxycdn.com/2020/0319/740/3402859458605738923-135.png\",\"title\":\"Daily New Cases\"},{\"imgUrl\":\"https://img1.dxycdn.com/2020/0319/351/3402856772103846114-135.png\",\"title\":\"Total Confirmed Cases\"},{\"imgUrl\":\"https://img1.dxycdn.com/2020/0319/236/3402856782841001789-135.png\",\"title\":\"Total Deaths Cases\"}],\"importantForeignTrendChartGlobal\":[{\"imgUrl\":\"https://img1.dxycdn.com/2020/0319/122/3402856838675578578-135.png\",\"title\":\"Daily New Cases\"},{\"imgUrl\":\"https://img1.dxycdn.com/2020/0319/685/3402856849412997239-135.png\",\"title\":\"Japan\"},{\"imgUrl\":\"https://img1.dxycdn.com/2020/0319/477/3402856860150678804-135.png\",\"title\":\"Italy\"},{\"imgUrl\":\"https://img1.dxycdn.com/2020/0319/454/3402856873035581014-135.png\",\"title\":\"Iran\"},{\"imgUrl\":\"https://img1.dxycdn.com/2020/0319/022/3402856883772999714-135.png\",\"title\":\"U.S.A.\"},{\"imgUrl\":\"https://img1.dxycdn.com/2020/0319/529/3402856894510155506-135.png\",\"title\":\"France\"},{\"imgUrl\":\"https://img1.dxycdn.com/2020/0319/211/3402856905247574064-135.png\",\"title\":\"Germany\"},{\"imgUrl\":\"https://img1.dxycdn.com/2020/0319/054/3402856913837508985-135.png\",\"title\":\"Spain\"},{\"imgUrl\":\"https://img1.dxycdn.com/2020/0319/088/3402856928870157852-135.png\",\"title\":\"Republic of Korea\"}],\"foreignStatistics\":{\"currentConfirmedCount\":2268730,\"confirmedCount\":3706309,\"suspectedCount\":4,\"curedCount\":1174232,\"deadCount\":263347},\"globalStatistics\":{\"currentConfirmedCount\":2269208,\"confirmedCount\":3790723,\"curedCount\":1253525,\"deadCount\":267990},\"globalOtherTrendChartData\":\"https://file1.dxycdn.com/2020/0507/948/3411958164286255829-135.json\"}}catch(e){}']"
      ]
     },
     "execution_count": 8,
     "metadata": {},
     "output_type": "execute_result"
    }
   ],
   "source": [
    "data = soup.findAll(text=re.compile('\\\"summary.+\\\"confirmedCount\\\":\\d'))\n",
    "\n",
    "data\n"
   ]
  },
  {
   "cell_type": "code",
   "execution_count": 9,
   "metadata": {},
   "outputs": [],
   "source": [
    "m = re.search('\\\"confirmedCount\\\":(\\d+)', data[0])\n",
    "summary_confirmed_count = int(m.group(1))\n",
    "\n",
    "\n",
    "m = re.search('\\\"curedCount\\\":(\\d+)', data[0])\n",
    "summary_cured_count = int(m.group(1))\n",
    "\n",
    "m = re.search('\\\"deadCount\\\":(\\d+)', data[0])\n",
    "summary_dead_count = int(m.group(1))\n"
   ]
  },
  {
   "cell_type": "code",
   "execution_count": 10,
   "metadata": {},
   "outputs": [
    {
     "data": {
      "text/html": [
       "<div>\n",
       "<style scoped>\n",
       "    .dataframe tbody tr th:only-of-type {\n",
       "        vertical-align: middle;\n",
       "    }\n",
       "\n",
       "    .dataframe tbody tr th {\n",
       "        vertical-align: top;\n",
       "    }\n",
       "\n",
       "    .dataframe thead th {\n",
       "        text-align: right;\n",
       "    }\n",
       "</style>\n",
       "<table border=\"1\" class=\"dataframe\">\n",
       "  <thead>\n",
       "    <tr style=\"text-align: right;\">\n",
       "      <th></th>\n",
       "      <th>datetime</th>\n",
       "      <th>confirmed</th>\n",
       "      <th>cured</th>\n",
       "      <th>dead</th>\n",
       "    </tr>\n",
       "  </thead>\n",
       "  <tbody>\n",
       "    <tr>\n",
       "      <th>0</th>\n",
       "      <td>2020-05-08 08:06</td>\n",
       "      <td>84414</td>\n",
       "      <td>79293</td>\n",
       "      <td>4643</td>\n",
       "    </tr>\n",
       "  </tbody>\n",
       "</table>\n",
       "</div>"
      ],
      "text/plain": [
       "           datetime  confirmed  cured  dead\n",
       "0  2020-05-08 08:06      84414  79293  4643"
      ]
     },
     "execution_count": 10,
     "metadata": {},
     "output_type": "execute_result"
    }
   ],
   "source": [
    "# make a dataframe\n",
    "df = pd.DataFrame({\n",
    "    'datetime': data_date_time,\n",
    "    'confirmed': summary_confirmed_count,\n",
    "    'cured': summary_cured_count,\n",
    "    'dead': summary_dead_count\n",
    "}, index=[0])\n",
    "df"
   ]
  },
  {
   "cell_type": "markdown",
   "metadata": {},
   "source": [
    "### Save to file"
   ]
  },
  {
   "cell_type": "code",
   "execution_count": 11,
   "metadata": {},
   "outputs": [],
   "source": [
    "from pathlib import Path\n",
    "csv_file = '../data/china-summary-cases.csv'\n",
    "\n",
    "if Path(csv_file).exists():\n",
    "    # read out the old data - then merge with new data and remove duplicates based on datetime\n",
    "    old_df = pd.read_csv(csv_file)\n",
    "    df = df.append(old_df)\n",
    "df.drop_duplicates(subset=['datetime'], inplace=True)"
   ]
  },
  {
   "cell_type": "code",
   "execution_count": 12,
   "metadata": {},
   "outputs": [],
   "source": [
    "df.sort_values(by=['datetime'], inplace=True)\n",
    "\n",
    "df.to_csv(csv_file, index=False)\n"
   ]
  },
  {
   "cell_type": "markdown",
   "metadata": {},
   "source": [
    "### Plot graph"
   ]
  },
  {
   "cell_type": "code",
   "execution_count": 13,
   "metadata": {},
   "outputs": [],
   "source": [
    "import seaborn as sns\n",
    "import matplotlib.pyplot as plt\n",
    "from pandas.plotting import register_matplotlib_converters\n",
    "register_matplotlib_converters()\n",
    "\n",
    "png_file = '../images/china-summary-cases.png'\n",
    "# convert to pd.datetime\n",
    "df['datetime_idx'] = pd.to_datetime(df['datetime'], format=\"%Y-%m-%d %H:%M\")\n",
    "\n",
    "df.set_index('datetime_idx', inplace=True)\n",
    "df.drop(['datetime'], axis=1, inplace=True)\n"
   ]
  },
  {
   "cell_type": "code",
   "execution_count": 14,
   "metadata": {},
   "outputs": [
    {
     "data": {
      "text/html": [
       "<div>\n",
       "<style scoped>\n",
       "    .dataframe tbody tr th:only-of-type {\n",
       "        vertical-align: middle;\n",
       "    }\n",
       "\n",
       "    .dataframe tbody tr th {\n",
       "        vertical-align: top;\n",
       "    }\n",
       "\n",
       "    .dataframe thead th {\n",
       "        text-align: right;\n",
       "    }\n",
       "</style>\n",
       "<table border=\"1\" class=\"dataframe\">\n",
       "  <thead>\n",
       "    <tr style=\"text-align: right;\">\n",
       "      <th></th>\n",
       "      <th>confirmed</th>\n",
       "      <th>cured</th>\n",
       "      <th>dead</th>\n",
       "    </tr>\n",
       "    <tr>\n",
       "      <th>datetime_idx</th>\n",
       "      <th></th>\n",
       "      <th></th>\n",
       "      <th></th>\n",
       "    </tr>\n",
       "  </thead>\n",
       "  <tbody>\n",
       "    <tr>\n",
       "      <th>2020-02-02 10:22:00</th>\n",
       "      <td>14483</td>\n",
       "      <td>379</td>\n",
       "      <td>304</td>\n",
       "    </tr>\n",
       "    <tr>\n",
       "      <th>2020-02-02 10:28:00</th>\n",
       "      <td>14483</td>\n",
       "      <td>380</td>\n",
       "      <td>304</td>\n",
       "    </tr>\n",
       "    <tr>\n",
       "      <th>2020-02-02 11:19:00</th>\n",
       "      <td>14489</td>\n",
       "      <td>385</td>\n",
       "      <td>304</td>\n",
       "    </tr>\n",
       "    <tr>\n",
       "      <th>2020-02-02 11:54:00</th>\n",
       "      <td>14489</td>\n",
       "      <td>397</td>\n",
       "      <td>304</td>\n",
       "    </tr>\n",
       "    <tr>\n",
       "      <th>2020-02-02 15:01:00</th>\n",
       "      <td>14490</td>\n",
       "      <td>430</td>\n",
       "      <td>304</td>\n",
       "    </tr>\n",
       "    <tr>\n",
       "      <th>...</th>\n",
       "      <td>...</td>\n",
       "      <td>...</td>\n",
       "      <td>...</td>\n",
       "    </tr>\n",
       "    <tr>\n",
       "      <th>2020-05-07 19:05:00</th>\n",
       "      <td>84413</td>\n",
       "      <td>79268</td>\n",
       "      <td>4643</td>\n",
       "    </tr>\n",
       "    <tr>\n",
       "      <th>2020-05-07 20:45:00</th>\n",
       "      <td>84414</td>\n",
       "      <td>79291</td>\n",
       "      <td>4643</td>\n",
       "    </tr>\n",
       "    <tr>\n",
       "      <th>2020-05-07 23:40:00</th>\n",
       "      <td>84414</td>\n",
       "      <td>79291</td>\n",
       "      <td>4643</td>\n",
       "    </tr>\n",
       "    <tr>\n",
       "      <th>2020-05-08 00:29:00</th>\n",
       "      <td>84414</td>\n",
       "      <td>79291</td>\n",
       "      <td>4643</td>\n",
       "    </tr>\n",
       "    <tr>\n",
       "      <th>2020-05-08 08:06:00</th>\n",
       "      <td>84414</td>\n",
       "      <td>79293</td>\n",
       "      <td>4643</td>\n",
       "    </tr>\n",
       "  </tbody>\n",
       "</table>\n",
       "<p>1403 rows × 3 columns</p>\n",
       "</div>"
      ],
      "text/plain": [
       "                     confirmed  cured  dead\n",
       "datetime_idx                               \n",
       "2020-02-02 10:22:00      14483    379   304\n",
       "2020-02-02 10:28:00      14483    380   304\n",
       "2020-02-02 11:19:00      14489    385   304\n",
       "2020-02-02 11:54:00      14489    397   304\n",
       "2020-02-02 15:01:00      14490    430   304\n",
       "...                        ...    ...   ...\n",
       "2020-05-07 19:05:00      84413  79268  4643\n",
       "2020-05-07 20:45:00      84414  79291  4643\n",
       "2020-05-07 23:40:00      84414  79291  4643\n",
       "2020-05-08 00:29:00      84414  79291  4643\n",
       "2020-05-08 08:06:00      84414  79293  4643\n",
       "\n",
       "[1403 rows x 3 columns]"
      ]
     },
     "execution_count": 14,
     "metadata": {},
     "output_type": "execute_result"
    }
   ],
   "source": [
    "df"
   ]
  },
  {
   "cell_type": "code",
   "execution_count": 15,
   "metadata": {
    "scrolled": true
   },
   "outputs": [
    {
     "data": {
      "image/png": "[encoded data removed]",
      "text/plain": [
       "<Figure size 1008x1008 with 3 Axes>"
      ]
     },
     "metadata": {},
     "output_type": "display_data"
    }
   ],
   "source": [
    "if df.shape[0]>1:\n",
    "    # line chart when having at least a few points\n",
    "    sns.set(rc={'figure.figsize':(14,14)})\n",
    "    sns.set(style=\"whitegrid\")\n",
    "\n",
    "    fig, axs = plt.subplots(nrows=3)\n",
    "\n",
    "    sns.lineplot(x=df.index, y = 'confirmed', data=df, ax= axs[0], estimator=None, color='orange')\n",
    "    sns.lineplot(x=df.index, y = 'cured', data=df, ax= axs[1], estimator=None, color='green')\n",
    "    sns.lineplot(x=df.index, y = 'dead', data=df, ax= axs[2], estimator=None, color='darkred')\n",
    "\n",
    "    for ax in axs:\n",
    "        ax.set_xlabel('')\n",
    "        ax.tick_params(axis='x', labelrotation=30)\n",
    "else:\n",
    "\n",
    "    ax = df.plot(kind='bar', stacked=True, figsize=(9,6))\n",
    "    fig = ax.get_figure()\n",
    "    ax.set_xlabel('')\n",
    "    for label in ax.get_xticklabels():\n",
    "        label.set_rotation(0) \n"
   ]
  },
  {
   "cell_type": "code",
   "execution_count": 16,
   "metadata": {},
   "outputs": [],
   "source": [
    "fig.savefig(png_file)"
   ]
  },
  {
   "cell_type": "code",
   "execution_count": null,
   "metadata": {},
   "outputs": [],
   "source": []
  },
  {
   "cell_type": "code",
   "execution_count": null,
   "metadata": {},
   "outputs": [],
   "source": []
  }
 ],
 "metadata": {
  "kernelspec": {
   "display_name": "Python 3",
   "language": "python",
   "name": "python3"
  },
  "language_info": {
   "codemirror_mode": {
    "name": "ipython",
    "version": 3
   },
   "file_extension": ".py",
   "mimetype": "text/x-python",
   "name": "python",
   "nbconvert_exporter": "python",
   "pygments_lexer": "ipython3",
   "version": "3.7.6"
  }
 },
 "nbformat": 4,
 "nbformat_minor": 2
}
