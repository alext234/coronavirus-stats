{
 "cells": [
  {
   "cell_type": "code",
   "execution_count": 1,
   "metadata": {},
   "outputs": [],
   "source": [
    "import pandas as pd\n",
    "import requests\n",
    "from bs4 import BeautifulSoup\n",
    "import re\n",
    "from datetime import datetime\n",
    "from selenium import webdriver\n",
    "from selenium.webdriver.chrome.options import Options  \n"
   ]
  },
  {
   "cell_type": "code",
   "execution_count": 2,
   "metadata": {},
   "outputs": [
    {
     "data": {
      "text/plain": [
       "datetime.datetime(2020, 5, 9, 8, 8, 59, 646348)"
      ]
     },
     "execution_count": 2,
     "metadata": {},
     "output_type": "execute_result"
    }
   ],
   "source": [
    "datetime.now()"
   ]
  },
  {
   "cell_type": "code",
   "execution_count": 3,
   "metadata": {},
   "outputs": [],
   "source": [
    "chrome_options = Options()  \n",
    "chrome_options.add_argument(\"--headless\")  \n",
    "chrome_options.add_argument(\"--no-sandbox\")\n",
    "\n",
    "driver = webdriver.Chrome('chromedriver', options=chrome_options)"
   ]
  },
  {
   "cell_type": "code",
   "execution_count": 4,
   "metadata": {},
   "outputs": [],
   "source": [
    "url = 'https://ncov.dxy.cn/ncovh5/view/pneumonia'\n",
    "driver.get(url)"
   ]
  },
  {
   "cell_type": "markdown",
   "metadata": {},
   "source": [
    "### Extract date"
   ]
  },
  {
   "cell_type": "code",
   "execution_count": 5,
   "metadata": {},
   "outputs": [],
   "source": [
    "content = driver.page_source\n",
    "soup =BeautifulSoup(content, 'lxml')\n"
   ]
  },
  {
   "cell_type": "code",
   "execution_count": 6,
   "metadata": {},
   "outputs": [
    {
     "data": {
      "text/plain": [
       "['try { window.getTimelineService1 = [{\"id\":40438,\"pubDate\":1589007884000,\"pubDateStr\":\"6分钟前\",\"title\":\"上海3例确诊病例今日出院 共计626例治愈出院\",\"summary\":\"上海市卫生健康委今日（9日）通报：3例新冠肺炎病例，经定点医疗机构医护人员精心诊治和护理，专家组评估，认为符合国家卫生健康委最新的新型冠状病毒肺炎确诊病例出院标准，于今日出院。目前，上海已累计治愈出院626例。为做好出院患者的健康管理，卫生健康部门将对患者开展必要的随访观察。\",\"infoSource\":\"央视新闻app\",\"sourceUrl\":\"http://app.cctv.com/special/cportal/detail/arti/index.html?id=ArtiBLkplhr3roq6u2ctQ4RN200509&isfromapp=1\",\"provinceId\":\"\"},{\"id\":40435,\"pubDate\":1589007505000,\"pubDateStr\":\"12分钟前\",\"title\":\"非洲战“疫”\",\"summary\":\"非洲疾控中心数据显示，目前非洲确诊病例已超过5.4万。为应对新冠肺炎疫情，一些国家陆续调整防疫举措。\",\"infoSource\":\"央视新闻app\",\"sourceUrl\":\"http://app.cctv.com/special/cportal/detail/arti/index.html?id=ArtihLZyHBfLGtWb42UgapXY200509&isfromapp=1\",\"provinceId\":\"\"},{\"id\":40420,\"pubDate\":1589004330000,\"pubDateStr\":\"1小时前\",\"title\":\"4月份以来共有3万余名海外归来马来西亚人接受14天强制隔离医学观察\",\"summary\":\"当地时间8日，马来西亚国防部高级部长依斯迈沙比里表示，自4月3日起至今，共有30315名马来西亚人从国外返回家园时接受了为期14天的强制医学隔离观察。此后，共有19873名被隔离的人被准许回家。他说：“目前仍有16820人正在接受强制隔离医学观察，有245个集中隔离中心仍正在运营。\",\"infoSource\":\"央视新闻app\",\"sourceUrl\":\"http://app.cctv.com/special/cportal/detail/arti/index.html?id=ArtiuEtlcr5KYMajq2g5YNWA200509&isfromapp=1\",\"provinceId\":\"\"},{\"id\":40370,\"pubDate\":1588993822000,\"pubDateStr\":\"4小时前\",\"title\":\"美国4月份的失业率达到了14.7%\",\"summary\":\"当地时间5月8日，美国劳工部公布的最新失业数据显示，美国4月份的失业率达到了14.7%，为上世纪30年代经济大萧条以来的最高值。数据显示，美国已经有累计超过3350万人失去收入，可见经济萎缩之严重，这也是为什么正处在连任竞选关键期的特朗普一直着急推进美国重启。然而，美联社5月7日报道，其实美国疾控中心（CDC）曾专门制定针对重启的“防疫指导手册”，对重启进程作了非常详细的科学规划与指导。但是，急于\",\"infoSource\":\"央视新闻app\",\"sourceUrl\":\"http://app.cctv.com/special/cportal/detail/arti/index.html?id=ArtizT3Uhh83LyeZyFGevrcn200509&isfromapp=1\",\"provinceId\":\"\"},{\"id\":40367,\"pubDate\":1588993457000,\"pubDateStr\":\"4小时前\",\"title\":\"巴西多地收到中方捐赠防疫物品 巴方感谢中国人民的支持\",\"summary\":\"截至目前，巴西新冠肺炎累计确诊病例超过14万例、死亡病例接近1万例，位于东南部的圣保罗州是疫情最为集中的地区。当地时间8日，中国工商银行巴西子行从中国筹集的15万只医用口罩正式交付圣保罗州州政府。\\\\n中国驻巴西大使杨万明在线上捐赠仪式中表示，目前已有近30个中国省市和20余家中国企业已经或即将向巴友好州市捐赠医疗物资，包括呼吸机、口罩防护服、检测试剂、病床等。在巴华侨也在积极捐款捐物。\",\"infoSource\":\"央视新闻app\",\"sourceUrl\":\"http://app.cctv.com/special/cportal/detail/arti/index.html?id=ArtiFPKyTqbUGUR9ohbmYFxZ200509&isfromapp=1\",\"provinceId\":\"\"}]}catch(e){}',\n",
       " '截至北京时间 2020-05-09 16:07',\n",
       " '截至北京时间 2020-05-09 16:07',\n",
       " '截至目前，巴西新冠肺炎累计确诊病例超过14万例、死亡病例接近1万例，位于东南部的圣保罗州是疫情最为集中的地区。当地时间8日，中国工商银行巴西子行从中国筹集的15万只医用口罩正式交付圣保罗州州政府。\\n中国驻巴西大使杨万明在线上捐赠仪式中表示，目前已有近30个中国省市和20余家中国企业已经或即将向巴友好州市捐赠医疗物资，包括呼吸机、口罩防护服、检测试剂、病床等。在巴华侨也在积极捐款捐物。']"
      ]
     },
     "execution_count": 6,
     "metadata": {},
     "output_type": "execute_result"
    }
   ],
   "source": [
    "data = soup.findAll(text=re.compile(\"截至.+\"))\n",
    "data"
   ]
  },
  {
   "cell_type": "code",
   "execution_count": 7,
   "metadata": {},
   "outputs": [
    {
     "data": {
      "text/plain": [
       "'2020-05-09 16:07'"
      ]
     },
     "execution_count": 7,
     "metadata": {},
     "output_type": "execute_result"
    }
   ],
   "source": [
    "for s in data:\n",
    "    m = re.search(\"截至.*(202\\d-\\d+-\\d+ \\d+:\\d+)\", s)\n",
    "    if m is not None:\n",
    "        data_date_time = m.group(1)\n",
    "data_date_time"
   ]
  },
  {
   "cell_type": "markdown",
   "metadata": {},
   "source": [
    "### Extract data (summary)"
   ]
  },
  {
   "cell_type": "code",
   "execution_count": 8,
   "metadata": {},
   "outputs": [
    {
     "data": {
      "text/plain": [
       "['try { window.getStatisticsService = {\"id\":1,\"createTime\":1579537899000,\"modifyTime\":1589011665000,\"infectSource\":\"该字段已替换为说明2\",\"passWay\":\"该字段已替换为说明3\",\"imgUrl\":\"https://img1.dxycdn.com/2020/0201/450/3394153392393266839-135.png\",\"dailyPic\":\"https://img1.dxycdn.com/2020/0211/763/3395998884005602079-135.png,https://img1.dxycdn.com/2020/0211/362/3395998896890788910-135.png,https://img1.dxycdn.com/2020/0211/365/3395998905480724211-135.png,https://img1.dxycdn.com/2020/0211/364/3395998916217859778-135.png,https://img1.dxycdn.com/2020/0211/922/3395998929103046444-135.png,https://img1.dxycdn.com/2020/0211/089/3395998939840182072-135.png\",\"dailyPics\":[\"https://img1.dxycdn.com/2020/0211/763/3395998884005602079-135.png\",\"https://img1.dxycdn.com/2020/0211/362/3395998896890788910-135.png\",\"https://img1.dxycdn.com/2020/0211/365/3395998905480724211-135.png\",\"https://img1.dxycdn.com/2020/0211/364/3395998916217859778-135.png\",\"https://img1.dxycdn.com/2020/0211/922/3395998929103046444-135.png\",\"https://img1.dxycdn.com/2020/0211/089/3395998939840182072-135.png\"],\"summary\":\"\",\"deleted\":false,\"countRemark\":\"\",\"currentConfirmedCount\":363,\"confirmedCount\":84416,\"suspectedCount\":1681,\"curedCount\":79410,\"deadCount\":4643,\"seriousCount\":836,\"suspectedIncr\":1,\"currentConfirmedIncr\":-85,\"confirmedIncr\":1,\"curedIncr\":86,\"deadIncr\":0,\"seriousIncr\":-18,\"virus\":\"该字段已替换为说明1\",\"remark1\":\"易感人群：人群普遍易感。老年人及有基础疾病者感染后病情较重，儿童及婴幼儿也有发病\",\"remark2\":\"潜伏期：一般为 3～7 天，最长不超过 14 天，潜伏期内可能存在传染性，其中无症状病例传染性非常罕见\",\"remark3\":\"宿主：野生动物，可能为中华菊头蝠\",\"remark4\":\"\",\"remark5\":\"\",\"note1\":\"病毒：SARS-CoV-2，其导致疾病命名 COVID-19\",\"note2\":\"传染源：新冠肺炎的患者。无症状感染者也可能成为传染源。\",\"note3\":\"传播途径：经呼吸道飞沫、接触传播是主要的传播途径。气溶胶传播和消化道等传播途径尚待明确。\",\"generalRemark\":\"1. 3 月 12 日国家卫健委确诊补订遗漏 12 例确诊病例（非 12 日新增），暂无具体省份信息。 2. 浙江省 12 例外省治愈暂无具体省份信息。\",\"abroadRemark\":\"\",\"marquee\":[{\"id\":2307,\"marqueeLabel\":\"加油冲鸭\",\"marqueeContent\":\"湖北高三开学，驻汉高校寄语学子\",\"marqueeLink\":\"https://dxy.me/2qI9NQ\"},{\"id\":2308,\"marqueeLabel\":\"海外观察\",\"marqueeContent\":\"警惕新冠次生伤害--癌症死亡增加\",\"marqueeLink\":\"https://dxy.me/7tz3EG\"},{\"id\":2309,\"marqueeLabel\":\"数字新冠\",\"marqueeContent\":\"5 月 8 日，世界因新冠而变\",\"marqueeLink\":\"https://dxy.me/oISqLU\"}],\"quanguoTrendChart\":[{\"imgUrl\":\"https://img1.dxycdn.com/2020/0324/278/3403801351376518263-135.png\",\"title\":\"新增疑似/新增确诊\"},{\"imgUrl\":\"https://img1.dxycdn.com/2020/0324/812/3403847865872006755-135.png\",\"title\":\"境外输入\"},{\"imgUrl\":\"https://img1.dxycdn.com/2020/0324/547/3403847848692336947-135.png\",\"title\":\"现存确诊\"},{\"imgUrl\":\"https://img1.dxycdn.com/2020/0324/775/3403801407211095604-135.png\",\"title\":\"治愈\"},{\"imgUrl\":\"https://img1.dxycdn.com/2020/0324/250/3403801424390727199-135.png\",\"title\":\"死亡\"}],\"hbFeiHbTrendChart\":[{\"imgUrl\":\"https://img1.dxycdn.com/2020/0326/624/3404177508906904585-135.png\",\"title\":\"非湖北新增确诊\"},{\"imgUrl\":\"https://img1.dxycdn.com/2020/0326/777/3404177532529485065-135.png\",\"title\":\"湖北新增确诊\"},{\"imgUrl\":\"https://img1.dxycdn.com/2020/0326/376/3404177556151805921-135.png\",\"title\":\"湖北现存确诊\"},{\"imgUrl\":\"https://img1.dxycdn.com/2020/0326/527/3404177575478899995-135.png\",\"title\":\"非湖北现存确诊\"},{\"imgUrl\":\"https://img1.dxycdn.com/2020/0326/419/3404177596953996726-135.png\",\"title\":\"治愈/死亡\"}],\"foreignTrendChart\":[{\"imgUrl\":\"https://img1.dxycdn.com/2020/0320/702/3403079914982117944-135.png\",\"title\":\"国外新增确诊\"},{\"imgUrl\":\"https://img1.dxycdn.com/2020/0320/396/3403079925719536561-135.png\",\"title\":\"国外累计确诊\"},{\"imgUrl\":\"https://img1.dxycdn.com/2020/0320/139/3403079936457225524-135.png\",\"title\":\"国外死亡\"}],\"importantForeignTrendChart\":[{\"imgUrl\":\"https://img1.dxycdn.com/2020/0320/450/3403077453965772423-135.png\",\"title\":\"重点国家新增确诊\"},{\"imgUrl\":\"https://img1.dxycdn.com/2020/0320/276/3403077462555980566-135.png\",\"title\":\"日本新增确诊\"},{\"imgUrl\":\"https://img1.dxycdn.com/2020/0320/340/3403077473293125942-135.png\",\"title\":\"意大利新增确诊\"},{\"imgUrl\":\"https://img1.dxycdn.com/2020/0320/723/3403077481883334043-135.png\",\"title\":\"伊朗新增确诊\"},{\"imgUrl\":\"https://img1.dxycdn.com/2020/0320/266/3403077492620752785-135.png\",\"title\":\"美国新增确诊\"},{\"imgUrl\":\"https://img1.dxycdn.com/2020/0320/870/3403077503358171278-135.png\",\"title\":\"法国新增确诊\"},{\"imgUrl\":\"https://img1.dxycdn.com/2020/0320/053/3403077511947832997-135.png\",\"title\":\"德国新增确诊\"},{\"imgUrl\":\"https://img1.dxycdn.com/2020/0320/878/3403077520537768006-135.png\",\"title\":\"西班牙新增确诊\"},{\"imgUrl\":\"https://img1.dxycdn.com/2020/0320/443/3403077531275186665-135.png\",\"title\":\"韩国新增确诊\"}],\"foreignTrendChartGlobal\":[{\"imgUrl\":\"https://img1.dxycdn.com/2020/0319/740/3402859458605738923-135.png\",\"title\":\"Daily New Cases\"},{\"imgUrl\":\"https://img1.dxycdn.com/2020/0319/351/3402856772103846114-135.png\",\"title\":\"Total Confirmed Cases\"},{\"imgUrl\":\"https://img1.dxycdn.com/2020/0319/236/3402856782841001789-135.png\",\"title\":\"Total Deaths Cases\"}],\"importantForeignTrendChartGlobal\":[{\"imgUrl\":\"https://img1.dxycdn.com/2020/0319/122/3402856838675578578-135.png\",\"title\":\"Daily New Cases\"},{\"imgUrl\":\"https://img1.dxycdn.com/2020/0319/685/3402856849412997239-135.png\",\"title\":\"Japan\"},{\"imgUrl\":\"https://img1.dxycdn.com/2020/0319/477/3402856860150678804-135.png\",\"title\":\"Italy\"},{\"imgUrl\":\"https://img1.dxycdn.com/2020/0319/454/3402856873035581014-135.png\",\"title\":\"Iran\"},{\"imgUrl\":\"https://img1.dxycdn.com/2020/0319/022/3402856883772999714-135.png\",\"title\":\"U.S.A.\"},{\"imgUrl\":\"https://img1.dxycdn.com/2020/0319/529/3402856894510155506-135.png\",\"title\":\"France\"},{\"imgUrl\":\"https://img1.dxycdn.com/2020/0319/211/3402856905247574064-135.png\",\"title\":\"Germany\"},{\"imgUrl\":\"https://img1.dxycdn.com/2020/0319/054/3402856913837508985-135.png\",\"title\":\"Spain\"},{\"imgUrl\":\"https://img1.dxycdn.com/2020/0319/088/3402856928870157852-135.png\",\"title\":\"Republic of Korea\"}],\"foreignStatistics\":{\"currentConfirmedCount\":2329064,\"confirmedCount\":3810213,\"suspectedCount\":4,\"curedCount\":1211460,\"deadCount\":269689,\"suspectedIncr\":0,\"currentConfirmedIncr\":3476,\"confirmedIncr\":7031,\"curedIncr\":3225,\"deadIncr\":330},\"globalStatistics\":{\"currentConfirmedCount\":2329427,\"confirmedCount\":3894629,\"curedCount\":1290870,\"deadCount\":274332,\"currentConfirmedIncr\":3391,\"confirmedIncr\":7032,\"curedIncr\":3311,\"deadIncr\":330},\"globalOtherTrendChartData\":\"https://file1.dxycdn.com/2020/0509/221/3412329251608283051-135.json\"}}catch(e){}']"
      ]
     },
     "execution_count": 8,
     "metadata": {},
     "output_type": "execute_result"
    }
   ],
   "source": [
    "data = soup.findAll(text=re.compile('\\\"summary.+\\\"confirmedCount\\\":\\d'))\n",
    "\n",
    "data\n"
   ]
  },
  {
   "cell_type": "code",
   "execution_count": 9,
   "metadata": {},
   "outputs": [],
   "source": [
    "m = re.search('\\\"confirmedCount\\\":(\\d+)', data[0])\n",
    "summary_confirmed_count = int(m.group(1))\n",
    "\n",
    "\n",
    "m = re.search('\\\"curedCount\\\":(\\d+)', data[0])\n",
    "summary_cured_count = int(m.group(1))\n",
    "\n",
    "m = re.search('\\\"deadCount\\\":(\\d+)', data[0])\n",
    "summary_dead_count = int(m.group(1))\n"
   ]
  },
  {
   "cell_type": "code",
   "execution_count": 10,
   "metadata": {},
   "outputs": [
    {
     "data": {
      "text/html": [
       "<div>\n",
       "<style scoped>\n",
       "    .dataframe tbody tr th:only-of-type {\n",
       "        vertical-align: middle;\n",
       "    }\n",
       "\n",
       "    .dataframe tbody tr th {\n",
       "        vertical-align: top;\n",
       "    }\n",
       "\n",
       "    .dataframe thead th {\n",
       "        text-align: right;\n",
       "    }\n",
       "</style>\n",
       "<table border=\"1\" class=\"dataframe\">\n",
       "  <thead>\n",
       "    <tr style=\"text-align: right;\">\n",
       "      <th></th>\n",
       "      <th>datetime</th>\n",
       "      <th>confirmed</th>\n",
       "      <th>cured</th>\n",
       "      <th>dead</th>\n",
       "    </tr>\n",
       "  </thead>\n",
       "  <tbody>\n",
       "    <tr>\n",
       "      <th>0</th>\n",
       "      <td>2020-05-09 16:07</td>\n",
       "      <td>84416</td>\n",
       "      <td>79410</td>\n",
       "      <td>4643</td>\n",
       "    </tr>\n",
       "  </tbody>\n",
       "</table>\n",
       "</div>"
      ],
      "text/plain": [
       "           datetime  confirmed  cured  dead\n",
       "0  2020-05-09 16:07      84416  79410  4643"
      ]
     },
     "execution_count": 10,
     "metadata": {},
     "output_type": "execute_result"
    }
   ],
   "source": [
    "# make a dataframe\n",
    "df = pd.DataFrame({\n",
    "    'datetime': data_date_time,\n",
    "    'confirmed': summary_confirmed_count,\n",
    "    'cured': summary_cured_count,\n",
    "    'dead': summary_dead_count\n",
    "}, index=[0])\n",
    "df"
   ]
  },
  {
   "cell_type": "markdown",
   "metadata": {},
   "source": [
    "### Save to file"
   ]
  },
  {
   "cell_type": "code",
   "execution_count": 11,
   "metadata": {},
   "outputs": [],
   "source": [
    "from pathlib import Path\n",
    "csv_file = '../data/china-summary-cases.csv'\n",
    "\n",
    "if Path(csv_file).exists():\n",
    "    # read out the old data - then merge with new data and remove duplicates based on datetime\n",
    "    old_df = pd.read_csv(csv_file)\n",
    "    df = df.append(old_df)\n",
    "df.drop_duplicates(subset=['datetime'], inplace=True)"
   ]
  },
  {
   "cell_type": "code",
   "execution_count": 12,
   "metadata": {},
   "outputs": [],
   "source": [
    "df.sort_values(by=['datetime'], inplace=True)\n",
    "\n",
    "df.to_csv(csv_file, index=False)\n"
   ]
  },
  {
   "cell_type": "markdown",
   "metadata": {},
   "source": [
    "### Plot graph"
   ]
  },
  {
   "cell_type": "code",
   "execution_count": 13,
   "metadata": {},
   "outputs": [],
   "source": [
    "import seaborn as sns\n",
    "import matplotlib.pyplot as plt\n",
    "from pandas.plotting import register_matplotlib_converters\n",
    "register_matplotlib_converters()\n",
    "\n",
    "png_file = '../images/china-summary-cases.png'\n",
    "# convert to pd.datetime\n",
    "df['datetime_idx'] = pd.to_datetime(df['datetime'], format=\"%Y-%m-%d %H:%M\")\n",
    "\n",
    "df.set_index('datetime_idx', inplace=True)\n",
    "df.drop(['datetime'], axis=1, inplace=True)\n"
   ]
  },
  {
   "cell_type": "code",
   "execution_count": 14,
   "metadata": {},
   "outputs": [
    {
     "data": {
      "text/html": [
       "<div>\n",
       "<style scoped>\n",
       "    .dataframe tbody tr th:only-of-type {\n",
       "        vertical-align: middle;\n",
       "    }\n",
       "\n",
       "    .dataframe tbody tr th {\n",
       "        vertical-align: top;\n",
       "    }\n",
       "\n",
       "    .dataframe thead th {\n",
       "        text-align: right;\n",
       "    }\n",
       "</style>\n",
       "<table border=\"1\" class=\"dataframe\">\n",
       "  <thead>\n",
       "    <tr style=\"text-align: right;\">\n",
       "      <th></th>\n",
       "      <th>confirmed</th>\n",
       "      <th>cured</th>\n",
       "      <th>dead</th>\n",
       "    </tr>\n",
       "    <tr>\n",
       "      <th>datetime_idx</th>\n",
       "      <th></th>\n",
       "      <th></th>\n",
       "      <th></th>\n",
       "    </tr>\n",
       "  </thead>\n",
       "  <tbody>\n",
       "    <tr>\n",
       "      <th>2020-02-02 10:22:00</th>\n",
       "      <td>14483</td>\n",
       "      <td>379</td>\n",
       "      <td>304</td>\n",
       "    </tr>\n",
       "    <tr>\n",
       "      <th>2020-02-02 10:28:00</th>\n",
       "      <td>14483</td>\n",
       "      <td>380</td>\n",
       "      <td>304</td>\n",
       "    </tr>\n",
       "    <tr>\n",
       "      <th>2020-02-02 11:19:00</th>\n",
       "      <td>14489</td>\n",
       "      <td>385</td>\n",
       "      <td>304</td>\n",
       "    </tr>\n",
       "    <tr>\n",
       "      <th>2020-02-02 11:54:00</th>\n",
       "      <td>14489</td>\n",
       "      <td>397</td>\n",
       "      <td>304</td>\n",
       "    </tr>\n",
       "    <tr>\n",
       "      <th>2020-02-02 15:01:00</th>\n",
       "      <td>14490</td>\n",
       "      <td>430</td>\n",
       "      <td>304</td>\n",
       "    </tr>\n",
       "    <tr>\n",
       "      <th>...</th>\n",
       "      <td>...</td>\n",
       "      <td>...</td>\n",
       "      <td>...</td>\n",
       "    </tr>\n",
       "    <tr>\n",
       "      <th>2020-05-09 09:53:00</th>\n",
       "      <td>84416</td>\n",
       "      <td>79401</td>\n",
       "      <td>4643</td>\n",
       "    </tr>\n",
       "    <tr>\n",
       "      <th>2020-05-09 11:05:00</th>\n",
       "      <td>84416</td>\n",
       "      <td>79401</td>\n",
       "      <td>4643</td>\n",
       "    </tr>\n",
       "    <tr>\n",
       "      <th>2020-05-09 11:45:00</th>\n",
       "      <td>84416</td>\n",
       "      <td>79401</td>\n",
       "      <td>4643</td>\n",
       "    </tr>\n",
       "    <tr>\n",
       "      <th>2020-05-09 14:59:00</th>\n",
       "      <td>84416</td>\n",
       "      <td>79404</td>\n",
       "      <td>4643</td>\n",
       "    </tr>\n",
       "    <tr>\n",
       "      <th>2020-05-09 16:07:00</th>\n",
       "      <td>84416</td>\n",
       "      <td>79410</td>\n",
       "      <td>4643</td>\n",
       "    </tr>\n",
       "  </tbody>\n",
       "</table>\n",
       "<p>1417 rows × 3 columns</p>\n",
       "</div>"
      ],
      "text/plain": [
       "                     confirmed  cured  dead\n",
       "datetime_idx                               \n",
       "2020-02-02 10:22:00      14483    379   304\n",
       "2020-02-02 10:28:00      14483    380   304\n",
       "2020-02-02 11:19:00      14489    385   304\n",
       "2020-02-02 11:54:00      14489    397   304\n",
       "2020-02-02 15:01:00      14490    430   304\n",
       "...                        ...    ...   ...\n",
       "2020-05-09 09:53:00      84416  79401  4643\n",
       "2020-05-09 11:05:00      84416  79401  4643\n",
       "2020-05-09 11:45:00      84416  79401  4643\n",
       "2020-05-09 14:59:00      84416  79404  4643\n",
       "2020-05-09 16:07:00      84416  79410  4643\n",
       "\n",
       "[1417 rows x 3 columns]"
      ]
     },
     "execution_count": 14,
     "metadata": {},
     "output_type": "execute_result"
    }
   ],
   "source": [
    "df"
   ]
  },
  {
   "cell_type": "code",
   "execution_count": 15,
   "metadata": {
    "scrolled": true
   },
   "outputs": [
    {
     "data": {
      "image/png": "[encoded data removed]",
      "text/plain": [
       "<Figure size 1008x1008 with 3 Axes>"
      ]
     },
     "metadata": {},
     "output_type": "display_data"
    }
   ],
   "source": [
    "if df.shape[0]>1:\n",
    "    # line chart when having at least a few points\n",
    "    sns.set(rc={'figure.figsize':(14,14)})\n",
    "    sns.set(style=\"whitegrid\")\n",
    "\n",
    "    fig, axs = plt.subplots(nrows=3)\n",
    "\n",
    "    sns.lineplot(x=df.index, y = 'confirmed', data=df, ax= axs[0], estimator=None, color='orange')\n",
    "    sns.lineplot(x=df.index, y = 'cured', data=df, ax= axs[1], estimator=None, color='green')\n",
    "    sns.lineplot(x=df.index, y = 'dead', data=df, ax= axs[2], estimator=None, color='darkred')\n",
    "\n",
    "    for ax in axs:\n",
    "        ax.set_xlabel('')\n",
    "        ax.tick_params(axis='x', labelrotation=30)\n",
    "else:\n",
    "\n",
    "    ax = df.plot(kind='bar', stacked=True, figsize=(9,6))\n",
    "    fig = ax.get_figure()\n",
    "    ax.set_xlabel('')\n",
    "    for label in ax.get_xticklabels():\n",
    "        label.set_rotation(0) \n"
   ]
  },
  {
   "cell_type": "code",
   "execution_count": 16,
   "metadata": {},
   "outputs": [],
   "source": [
    "fig.savefig(png_file)"
   ]
  },
  {
   "cell_type": "code",
   "execution_count": null,
   "metadata": {},
   "outputs": [],
   "source": []
  },
  {
   "cell_type": "code",
   "execution_count": null,
   "metadata": {},
   "outputs": [],
   "source": []
  }
 ],
 "metadata": {
  "kernelspec": {
   "display_name": "Python 3",
   "language": "python",
   "name": "python3"
  },
  "language_info": {
   "codemirror_mode": {
    "name": "ipython",
    "version": 3
   },
   "file_extension": ".py",
   "mimetype": "text/x-python",
   "name": "python",
   "nbconvert_exporter": "python",
   "pygments_lexer": "ipython3",
   "version": "3.7.6"
  }
 },
 "nbformat": 4,
 "nbformat_minor": 2
}
