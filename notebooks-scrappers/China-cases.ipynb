{
 "cells": [
  {
   "cell_type": "code",
   "execution_count": 1,
   "metadata": {},
   "outputs": [],
   "source": [
    "import pandas as pd\n",
    "import requests\n",
    "from bs4 import BeautifulSoup\n",
    "import re\n",
    "from datetime import datetime\n",
    "from selenium import webdriver\n",
    "from selenium.webdriver.chrome.options import Options  \n"
   ]
  },
  {
   "cell_type": "code",
   "execution_count": 2,
   "metadata": {},
   "outputs": [
    {
     "data": {
      "text/plain": [
       "datetime.datetime(2020, 4, 7, 2, 8, 39, 233717)"
      ]
     },
     "execution_count": 2,
     "metadata": {},
     "output_type": "execute_result"
    }
   ],
   "source": [
    "datetime.now()"
   ]
  },
  {
   "cell_type": "code",
   "execution_count": 3,
   "metadata": {},
   "outputs": [],
   "source": [
    "chrome_options = Options()  \n",
    "chrome_options.add_argument(\"--headless\")  \n",
    "chrome_options.add_argument(\"--no-sandbox\")\n",
    "\n",
    "driver = webdriver.Chrome('chromedriver', options=chrome_options)"
   ]
  },
  {
   "cell_type": "code",
   "execution_count": 4,
   "metadata": {},
   "outputs": [],
   "source": [
    "url = 'https://ncov.dxy.cn/ncovh5/view/pneumonia'\n",
    "driver.get(url)"
   ]
  },
  {
   "cell_type": "markdown",
   "metadata": {},
   "source": [
    "### Extract date"
   ]
  },
  {
   "cell_type": "code",
   "execution_count": 5,
   "metadata": {},
   "outputs": [],
   "source": [
    "content = driver.page_source\n",
    "soup =BeautifulSoup(content, 'lxml')\n"
   ]
  },
  {
   "cell_type": "code",
   "execution_count": 6,
   "metadata": {},
   "outputs": [
    {
     "data": {
      "text/plain": [
       "['try { window.getTimelineService1 = [{\"id\":26664,\"pubDate\":1586224907000,\"pubDateStr\":\"5分钟前\",\"title\":\"天津4月7日通报：6日18时至7日6时 无新增新冠肺炎确诊病例\",\"summary\":\"4月6日18时至7日6时，天津无新增报告境外输入确诊病例。累计报告境外输入确诊病例44例（中国籍40例、美国籍2例、法国籍1例、菲律宾籍1例），治愈出院18例，在院26例（危重型1例、普通型17例、轻型8例）。天津市尚在医学观察的无症状感染者1例（境外输入）。4月6日18时至7日6时，天津无新增报告本地新冠肺炎确诊病例，累计报告本地新冠肺炎确诊病例136例，\",\"infoSource\":\"央视新闻app\",\"sourceUrl\":\"http://app.cctv.com/special/cportal/detail/arti/index.html?id=ArtiKQqVHTQ7Yg0dPvGLW6Mx200407&isfromapp=1\",\"provinceId\":\"\"},{\"id\":26666,\"pubDate\":1586224802000,\"pubDateStr\":\"7分钟前\",\"title\":\"新西兰新增32例新冠肺炎病例 累计确诊943例\",\"summary\":\"根据新西兰卫生部门数据，截至当地时间4月7日下午，新西兰新增32例新冠肺炎确诊病例，新增22例疑似病例。新西兰累计确诊病例943例，疑似217例。截至目前，有241人已经康复。（总台记者 林清辉）\",\"infoSource\":\"央视新闻app\",\"sourceUrl\":\"http://app.cctv.com/special/cportal/detail/arti/index.html?id=ArtiQ7nKkyQP5gl6njC8hae6200407&isfromapp=1\",\"provinceId\":\"\"},{\"id\":26653,\"pubDate\":1586223938000,\"pubDateStr\":\"21分钟前\",\"title\":\"2020年4月6日西藏自治区新型冠状病毒肺炎疫情情况\",\"summary\":\" 截止4月6日24时，我区现有新冠肺炎确诊病例0例，重症病例0例，死亡病例0例，疑似病例0例，无症状感染者0例，治愈出院病例1例，累计确诊新冠肺炎病例1例。连续68天无新增确诊或疑似病例。\",\"infoSource\":\"西藏卫健委\",\"sourceUrl\":\"http://wjw.xizang.gov.cn/xwzx/wsjkdt/202004/t20200407_136392.html\",\"provinceId\":\"\"},{\"id\":26658,\"pubDate\":1586223900000,\"pubDateStr\":\"22分钟前\",\"title\":\"巴拉圭新增9例新冠肺炎确诊病例 累计113例\",\"summary\":\"当地时间4月6日，巴拉圭卫生部宣布，该国单日新增新冠肺炎确诊病例9例，累计确诊113例。新增死亡2人，累计死亡5人。另有12名感染者痊愈出院。另据报道，为应对疫情蔓延和缓解其可能对国家医疗系统带来的压力，巴拉圭政府正在加速修建两所临时医院，设计床位236张，专门用于收治新冠肺炎感染者。\",\"infoSource\":\"央视新闻app\",\"sourceUrl\":\"http://app.cctv.com/special/cportal/detail/arti/index.html?id=ArtimF6retcDsAHNxo2P2wss200407&isfromapp=1\",\"provinceId\":\"\"},{\"id\":26659,\"pubDate\":1586223720000,\"pubDateStr\":\"25分钟前\",\"title\":\"4月7日安徽省报告新冠肺炎疫情情况\",\"summary\":\"\\xa0 2020年4月6日0-24时，安徽省报告无新增确诊病例，无新增疑似病例。\\\\n截至4月6日24时，安徽省累计报告确诊病例990例，累计治愈出院病例984例，累计死亡病例6例，尚在医学观察194人，累计医学观察29069人。\\\\n2020年4月6日0-24时，安徽省报告新增境外输入无症状感染者1例，转为确诊0例，解除隔离2例。截至4月6日24时，尚在医学观察无症状感染者7例，其中境外来皖（返皖）6例。\",\"infoSource\":\"安徽卫健委\",\"sourceUrl\":\"http://wjw.ah.gov.cn/news_details_56339.html\",\"provinceId\":\"\"},{\"id\":26639,\"pubDate\":1586222489000,\"pubDateStr\":\"46分钟前\",\"title\":\"澳大利亚新冠肺炎确诊病例累计5844例\",\"summary\":\"根据澳大利亚联邦卫生部4月7日最新统计，截至当地时间6时，澳大利亚累计确诊新冠肺炎病例增至5844例，包括42个死亡病例，过去的24小时累计新增100例。\",\"infoSource\":\"央视新闻app\",\"sourceUrl\":\"http://app.cctv.com/special/cportal/detail/arti/index.html?id=Artik6w3POMxT3kbCIDk29Q6200407&isfromapp=1\",\"provinceId\":\"\"},{\"id\":26643,\"pubDate\":1586222269000,\"pubDateStr\":\"49分钟前\",\"title\":\"韩国新增47例新冠肺炎确诊病例 累计10331例\",\"summary\":\"韩国中央防疫对策本部7日通报，4月6日0时至4月7日0时，韩国新增新冠肺炎确诊病例47例，累计确诊病例升至10331例。这是韩国连续两天单日新增确诊人数低于50例。此外，新增死亡病例6例，累计死亡病例升至192例。累计治愈并解除隔离6694例，较前一日新增96例。\",\"infoSource\":\"央视新闻app\",\"sourceUrl\":\"http://app.cctv.com/special/cportal/detail/arti/index.html?id=ArtiXpThPq0l9U7Lz69TDmKA200407&isfromapp=1\",\"provinceId\":\"\"},{\"id\":26633,\"pubDate\":1586222151000,\"pubDateStr\":\"51分钟前\",\"title\":\"阿根廷新冠肺炎确诊新增74例 累计1628例 多地强制居民外出佩戴口罩\",\"summary\":\"当地时间4月6日，根据阿根廷卫生部发布的官方数据，该国新冠肺炎确诊病例单日新增74例，死亡5例；累计确诊1628例，死亡53例。\",\"infoSource\":\"央视新闻app\",\"sourceUrl\":\"http://app.cctv.com/special/cportal/detail/arti/index.html?id=Artiod8RMhRnh3pgXPbS9egL200407&isfromapp=1\",\"provinceId\":\"\"},{\"id\":26636,\"pubDate\":1586221934000,\"pubDateStr\":\"55分钟前\",\"title\":\"巴西新冠肺炎确诊病例突破1.2万例  “远程诊疗”服务需求大涨\",\"summary\":\"截至当地时间4月6日16时，巴西全国共确诊新冠肺炎病例12056例，比昨日新增926例，全国累计死亡病例为553例。巴西东北部塞阿腊州报告了一名3月龄的婴儿不幸因感染新冠病毒病逝，成为巴西年龄最小的死亡患者。\",\"infoSource\":\"央视新闻app\",\"sourceUrl\":\"http://app.cctv.com/special/cportal/detail/arti/index.html?id=ArtiSXzQoPak5qJPhA6eTRMu200407&isfromapp=1\",\"provinceId\":\"\"},{\"id\":26622,\"pubDate\":1586220897000,\"pubDateStr\":\"1小时前\",\"title\":\"湖北新增18例无症状感染者\",\"summary\":\"2020年4月6日0—24时，湖北全省新增新冠肺炎确诊病例0例，无境外输入病例。全省新增病亡0例。全省新增出院59例。目前仍在院治疗518例，其中：重症111例、危重症73例，均在定点医疗机构接受隔离治疗。现有疑似病例数为0，当日新增数为0，当日排除0人，集中隔离人数为0。累计追踪密切接触者279385人，尚在接受医学观察1611人。全省新增无症状感染者18例，转确诊0例，解除隔离33例，尚在医学观察的无症状感染者690例。\\\\n\",\"infoSource\":\"人民日报\",\"sourceUrl\":\"http://m.weibo.cn/2803301701/4490998304707172\",\"provinceId\":\"\"},{\"id\":26616,\"pubDate\":1586220770000,\"pubDateStr\":\"1小时前\",\"title\":\"截至4月6日24时新型冠状病毒肺炎疫情最新情况\",\"summary\":\"4月6日0—24时，31个省（自治区、直辖市）和新疆生产建设兵团报告新增确诊病例32例，均为境外输入病例；无新增死亡病例；新增疑似病例12例，均为境外输入病例。\\\\n当日新增治愈出院病例89例，解除医学观察的密切接触者2365人，重症病例减少54例。\\\\n境外输入现有确诊病例698例（含重症病例21例），现有疑似病例89例。累计确诊病例983例，累计治愈出院病例285例，无死亡病例。 \",\"infoSource\":\"中国卫健委\",\"sourceUrl\":\"http://www.nhc.gov.cn/xcs/yqtb/202004/4c63d42ef61142d6a3d827b9f9fd2fe9.shtml\",\"provinceId\":\"\"},{\"id\":26614,\"pubDate\":1586220759000,\"pubDateStr\":\"1小时前\",\"title\":\"青海省发现1例境外输入新型冠状病毒无症状感染者\",\"summary\":\"\\xa04月6日，我省发现1例境外输入新型冠状病毒无症状感染者。\\\\t\",\"infoSource\":\"青海卫健委\",\"sourceUrl\":\"https://wsjkw.qinghai.gov.cn/ztbd/yqjk/yqtb/2020/04/07/1586220196527.html\",\"provinceId\":\"\"},{\"id\":26600,\"pubDate\":1586220301000,\"pubDateStr\":\"1小时前\",\"title\":\"国家卫健委4月7日最新通报：新增32例境外输入病例 新增无症状感染者30例\",\"summary\":\"4月6日0—24时，31个省（自治区、直辖市）和新疆生产建设兵团报告新增确诊病例32例，均为境外输入病例；无新增死亡病例；新增疑似病例12例，均为境外输入病例。当日新增治愈出院病例89例，解除医学观察的密切接触者2365人，重症病例减少54例。境外输入现有确诊病例698例（含重症病例21例），现有疑似病例89例。累计确诊病例983例，累计治愈出院病例285例，无死亡病例。\",\"infoSource\":\"央视新闻app\",\"sourceUrl\":\"http://app.cctv.com/special/cportal/detail/arti/index.html?id=ArtiTWDfKJH84g8ITd2yleXI200407&isfromapp=1\",\"provinceId\":\"\"},{\"id\":26603,\"pubDate\":1586220082000,\"pubDateStr\":\"1小时前\",\"title\":\"四川4月7日通报：新增境外输入病例1例 新增治愈出院病例1例\",\"summary\":\"4月6日0-24时，四川省新型冠状病毒肺炎新增1例确诊病例（为境外输入，无症状感染者转确诊），新增治愈出院病例1例，无新增疑似病例，无新增死亡病例。\",\"infoSource\":\"央视新闻app\",\"sourceUrl\":\"http://app.cctv.com/special/cportal/detail/arti/index.html?id=Arti8yGFbmbDx6TOE6dfuNB5200407&isfromapp=1\",\"provinceId\":\"\"},{\"id\":26585,\"pubDate\":1586219557000,\"pubDateStr\":\"1小时前\",\"title\":\"北京昨日无新增报告新冠肺炎确诊病例，出院5例 \",\"summary\":\"4月6日0时至24时，无新增报告境外输入新冠肺炎确诊病例，新增报告疑似病例1例，无新增报告无症状感染者，治愈出院病例4例。截至4月6日24时，累计报告境外输入确诊病例171例，无境外输入无症状感染者报告，治愈出院病例46例。\\xa0\",\"infoSource\":\"北京卫健委\",\"sourceUrl\":\"http://wjw.beijing.gov.cn/xwzx_20031/xwfb/202004/t20200407_1790793.html\",\"provinceId\":\"\"},{\"id\":26588,\"pubDate\":1586219499000,\"pubDateStr\":\"1小时前\",\"title\":\"福建4月7日通报：新增境外输入确诊病例1例  累计报告境外输入确诊病例55例\",\"summary\":\"4月6日0—24时，福建省报告新增境外输入确诊病例1例，为英国输入（厦门市报告）。 当日报告新增境外输入疑似病例0例。当日报告新增境外输入无症状感染者0例。截至4月6日24时，福建省累计报告境外输入确诊病例55例（已治愈出院病例10例、目前住院病例45例，无死亡病例）；现有报告境外输入疑似病例2例；现有报告境外输入无症状感染者尚在接受集中隔离医学观察6例。\",\"infoSource\":\"央视新闻app\",\"sourceUrl\":\"http://app.cctv.com/special/cportal/detail/arti/index.html?id=ArtiRePqw65NBssVJKwg6YFK200407&isfromapp=1\",\"provinceId\":\"\"},{\"id\":26587,\"pubDate\":1586219417000,\"pubDateStr\":\"1小时前\",\"title\":\"4月6日贵州省新冠肺炎疫情信息发布\",\"summary\":\"2020年4月6日0—24时，贵州省无新增新冠肺炎确诊病例，无新增疑似病例，无新增无症状感染者。截至4月6日24时，贵州省累计报告本地确诊病例146例、境外输入病例1例，累计治愈出院病例144例、死亡病例2例、在院治疗确诊病例1例（境外输入确诊病例），现有疑似病例0例、在院治疗境外输入无症状感染者1例。\",\"infoSource\":\"贵州卫健委\",\"sourceUrl\":\"http://www.gzhfpc.gov.cn/xwzx_500663/zwyw/202004/t20200407_55804742.html\",\"provinceId\":\"\"},{\"id\":26583,\"pubDate\":1586219150000,\"pubDateStr\":\"1小时前\",\"title\":\"海南4月7日通报：无新增新冠肺炎确诊病例 尚有7例无症状感染者在医学观察\",\"summary\":\"4月6日0-24时，海南省报告新冠肺炎新增确诊病例0例，新增重症病例0例，新增死亡病例0例，新增出院0例。截至4月6日24时，海南省累计报告新冠肺炎确诊病例168例，重症病例0例，死亡病例6例，出院病例162例。截至4月6日24时，追踪到密切接触者6601人，已解除医学观察6561人，尚有40人正在接受集中医学观察。截至4月6日24时，海南省报告无症状感染者29例，当日无新增，累计解除隔离22例，\",\"infoSource\":\"央视新闻app\",\"sourceUrl\":\"http://app.cctv.com/special/cportal/detail/arti/index.html?id=ArtiQtIagnvMlrZUV91p9F2B200407&isfromapp=1\",\"provinceId\":\"\"},{\"id\":26577,\"pubDate\":1586219043000,\"pubDateStr\":\"1小时前\",\"title\":\"\\u200b墨西哥全国确诊新冠肺炎病例2439例  死亡病例上升到125例\",\"summary\":\"墨西哥当地时间4月6日，墨西哥卫生部宣布，截止到墨西哥当地时间4月6日晚上7点，墨西哥全国确诊2439例新冠肺炎病例，较前一天新增了296例，刷新了单日新增病例最高数量。\\\\n另外还有6295例疑似病例，而此前已经排除的疑似病例已经累计到11741例。同时，墨西哥全国确诊死亡病例较前一天新增31例，总数已经上升到125例。（总台记者 盛嘉迪 吕兴林）\",\"infoSource\":\"央视新闻app\",\"sourceUrl\":\"http://app.cctv.com/special/cportal/detail/arti/index.html?id=ArtiYBJr1wJIHwDm5313b8TB200407&isfromapp=1\",\"provinceId\":\"\"},{\"id\":26578,\"pubDate\":1586219022000,\"pubDateStr\":\"1小时前\",\"title\":\"河南4月7日最新通报：无新增新冠肺炎确诊病例\",\"summary\":\"2020年4月6日0时-24时，河南省无新增新冠肺炎确诊病例。截至4月6日24时，全省累计报告本地新冠肺炎确诊病例1273例，累计死亡病例22例，累计出院病例1250例。\",\"infoSource\":\"央视新闻app\",\"sourceUrl\":\"http://app.cctv.com/special/cportal/detail/arti/index.html?id=ArtiJGXYbRreom6wvjWtwKt7200407&isfromapp=1\",\"provinceId\":\"\"},{\"id\":26579,\"pubDate\":1586218979000,\"pubDateStr\":\"1小时前\",\"title\":\"山东4月7日通报：新增境外输入确诊病1例 新增境外输入无症状感染者1例\",\"summary\":\"4月7日，山东省卫生健康委员会通报了山东省新冠肺炎疫情情况。2020年4月6日0时至24时：山东无本地住院疑似病例、确诊病例。累计报告确诊病例759例，死亡病例7例，治愈出院752例。山东无新增境外输入疑似病例，青岛市报告美国输入确诊病例1例。\",\"infoSource\":\"央视新闻app\",\"sourceUrl\":\"http://app.cctv.com/special/cportal/detail/arti/index.html?id=ArtiQYwzuO67oB2wlGycql2e200407&isfromapp=1\",\"provinceId\":\"\"},{\"id\":26586,\"pubDate\":1586218860000,\"pubDateStr\":\"1小时前\",\"title\":\"截至4月6日24时新疆(含兵团)新型冠状病毒肺炎疫情最新情况\",\"summary\":\"2020年4月6日0-24时，新疆（含兵团）报告新型冠状病毒肺炎新增确诊病例0例，新增无症状感染者0例。\\\\n截至4月6日24时，新疆（含兵团）累计报告新型冠状病毒肺炎确诊病例76例（其中治愈出院病例73例、死亡病例3例），现有确诊病例0例，无症状感染者0例，正在接受医学观察0人。\",\"infoSource\":\"新疆卫健委\",\"sourceUrl\":\"http://www.xjhfpc.gov.cn/info/2070/19982.htm\",\"provinceId\":\"\"},{\"id\":26566,\"pubDate\":1586218341000,\"pubDateStr\":\"1小时前\",\"title\":\"辽宁7日通报：新增2例境外输入新冠肺炎确诊病例\",\"summary\":\"4月6日0时至24时，辽宁省新增2例境外（美国）输入新冠肺炎确诊病例，均为沈阳市报告病例，属普通型病例。新增境外输入确诊病例治愈出院2例。辽宁省累计报告境外输入确诊病例20例，治愈出院9例，在院治疗11例。辽宁省累计报告本土确诊病例124例，治愈出院121例，死亡2例，在院治疗1例（为境外输入关联病例）。\",\"infoSource\":\"央视新闻app\",\"sourceUrl\":\"http://app.cctv.com/special/cportal/detail/arti/index.html?id=ArtiHPPcmSG4p7UHuHtXbzqE200407&isfromapp=1\",\"provinceId\":\"\"},{\"id\":26560,\"pubDate\":1586217862000,\"pubDateStr\":\"2小时前\",\"title\":\"上海4月7日通报：新增2例境外输入新冠肺炎确诊病例\",\"summary\":\"上海市卫健委今早（7日）通报：4月6日0—24时，通过口岸联防联控机制，报告2例境外输入性新冠肺炎确诊病例。新增治愈出院6例，其中来自英国2例，来自法国2例，来自美国1例，来自瑞士1例。\",\"infoSource\":\"央视新闻app\",\"sourceUrl\":\"http://app.cctv.com/special/cportal/detail/arti/index.html?id=ArtisEfQ3ybaOraiyI1b20gN200407&isfromapp=1\",\"provinceId\":\"\"}]}catch(e){}',\n",
       " '截至北京时间 2020-04-07 02:05',\n",
       " '截至北京时间 2020-04-07 02:05',\n",
       " '根据新西兰卫生部门数据，截至当地时间4月7日下午，新西兰新增32例新冠肺炎确诊病例，新增22例疑似病例。新西兰累计确诊病例943例，疑似217例。截至目前，有241人已经康复。（总台记者 林清辉）',\n",
       " '\\xa0 2020年4月6日0-24时，安徽省报告无新增确诊病例，无新增疑似病例。\\n截至4月6日24时，安徽省累计报告确诊病例990例，累计治愈出院病例984例，累计死亡病例6例，尚在医学观察194人，累计医学观察29069人。\\n2020年4月6日0-24时，安徽省报告新增境外输入无症状感染者1例，转为确诊0例，解除隔离2例。截至4月6日24时，尚在医学观察无症状感染者7例，其中境外来皖（返皖）6例。',\n",
       " '根据澳大利亚联邦卫生部4月7日最新统计，截至当地时间6时，澳大利亚累计确诊新冠肺炎病例增至5844例，包括42个死亡病例，过去的24小时累计新增100例。',\n",
       " '截至当地时间4月6日16时，巴西全国共确诊新冠肺炎病例12056例，比昨日新增926例，全国累计死亡病例为553例。巴西东北部塞阿腊州报告了一名3月龄的婴儿不幸因感染新冠病毒病逝，成为巴西年龄最小的死亡患者。',\n",
       " '截至4月6日24时新型冠状病毒肺炎疫情最新情况',\n",
       " '4月6日0时至24时，无新增报告境外输入新冠肺炎确诊病例，新增报告疑似病例1例，无新增报告无症状感染者，治愈出院病例4例。截至4月6日24时，累计报告境外输入确诊病例171例，无境外输入无症状感染者报告，治愈出院病例46例。\\xa0',\n",
       " '4月6日0—24时，福建省报告新增境外输入确诊病例1例，为英国输入（厦门市报告）。 当日报告新增境外输入疑似病例0例。当日报告新增境外输入无症状感染者0例。截至4月6日24时，福建省累计报告境外输入确诊病例55例（已治愈出院病例10例、目前住院病例45例，无死亡病例）；现有报告境外输入疑似病例2例；现有报告境外输入无症状感染者尚在接受集中隔离医学观察6例。',\n",
       " '2020年4月6日0—24时，贵州省无新增新冠肺炎确诊病例，无新增疑似病例，无新增无症状感染者。截至4月6日24时，贵州省累计报告本地确诊病例146例、境外输入病例1例，累计治愈出院病例144例、死亡病例2例、在院治疗确诊病例1例（境外输入确诊病例），现有疑似病例0例、在院治疗境外输入无症状感染者1例。',\n",
       " '4月6日0-24时，海南省报告新冠肺炎新增确诊病例0例，新增重症病例0例，新增死亡病例0例，新增出院0例。截至4月6日24时，海南省累计报告新冠肺炎确诊病例168例，重症病例0例，死亡病例6例，出院病例162例。截至4月6日24时，追踪到密切接触者6601人，已解除医学观察6561人，尚有40人正在接受集中医学观察。截至4月6日24时，海南省报告无症状感染者29例，当日无新增，累计解除隔离22例，',\n",
       " '2020年4月6日0时-24时，河南省无新增新冠肺炎确诊病例。截至4月6日24时，全省累计报告本地新冠肺炎确诊病例1273例，累计死亡病例22例，累计出院病例1250例。',\n",
       " '截至4月6日24时新疆(含兵团)新型冠状病毒肺炎疫情最新情况',\n",
       " '2020年4月6日0-24时，新疆（含兵团）报告新型冠状病毒肺炎新增确诊病例0例，新增无症状感染者0例。\\n截至4月6日24时，新疆（含兵团）累计报告新型冠状病毒肺炎确诊病例76例（其中治愈出院病例73例、死亡病例3例），现有确诊病例0例，无症状感染者0例，正在接受医学观察0人。']"
      ]
     },
     "execution_count": 6,
     "metadata": {},
     "output_type": "execute_result"
    }
   ],
   "source": [
    "data = soup.findAll(text=re.compile(\"截至.+\"))\n",
    "data"
   ]
  },
  {
   "cell_type": "code",
   "execution_count": 7,
   "metadata": {},
   "outputs": [
    {
     "data": {
      "text/plain": [
       "'2020-04-07 02:05'"
      ]
     },
     "execution_count": 7,
     "metadata": {},
     "output_type": "execute_result"
    }
   ],
   "source": [
    "for s in data:\n",
    "    m = re.search(\"截至.*(202\\d-\\d+-\\d+ \\d+:\\d+)\", s)\n",
    "    if m is not None:\n",
    "        data_date_time = m.group(1)\n",
    "data_date_time"
   ]
  },
  {
   "cell_type": "markdown",
   "metadata": {},
   "source": [
    "### Extract data (summary)"
   ]
  },
  {
   "cell_type": "code",
   "execution_count": 8,
   "metadata": {},
   "outputs": [
    {
     "data": {
      "text/plain": [
       "['try { window.getStatisticsService = {\"id\":1,\"createTime\":1579537899000,\"modifyTime\":1586225133000,\"infectSource\":\"该字段已替换为说明2\",\"passWay\":\"该字段已替换为说明3\",\"imgUrl\":\"https://img1.dxycdn.com/2020/0201/450/3394153392393266839-135.png\",\"dailyPic\":\"https://img1.dxycdn.com/2020/0211/763/3395998884005602079-135.png,https://img1.dxycdn.com/2020/0211/362/3395998896890788910-135.png,https://img1.dxycdn.com/2020/0211/365/3395998905480724211-135.png,https://img1.dxycdn.com/2020/0211/364/3395998916217859778-135.png,https://img1.dxycdn.com/2020/0211/922/3395998929103046444-135.png,https://img1.dxycdn.com/2020/0211/089/3395998939840182072-135.png\",\"dailyPics\":[\"https://img1.dxycdn.com/2020/0211/763/3395998884005602079-135.png\",\"https://img1.dxycdn.com/2020/0211/362/3395998896890788910-135.png\",\"https://img1.dxycdn.com/2020/0211/365/3395998905480724211-135.png\",\"https://img1.dxycdn.com/2020/0211/364/3395998916217859778-135.png\",\"https://img1.dxycdn.com/2020/0211/922/3395998929103046444-135.png\",\"https://img1.dxycdn.com/2020/0211/089/3395998939840182072-135.png\"],\"summary\":\"\",\"deleted\":false,\"countRemark\":\"\",\"currentConfirmedCount\":2281,\"confirmedCount\":83071,\"suspectedCount\":983,\"curedCount\":77450,\"deadCount\":3340,\"seriousCount\":1033,\"suspectedIncr\":32,\"currentConfirmedIncr\":-68,\"confirmedIncr\":34,\"curedIncr\":102,\"deadIncr\":0,\"seriousIncr\":30,\"virus\":\"该字段已替换为说明1\",\"remark1\":\"易感人群：人群普遍易感。老年人及有基础疾病者感染后病情较重，儿童及婴幼儿也有发病\",\"remark2\":\"潜伏期：一般为 3～7 天，最长不超过 14 天，潜伏期内可能存在传染性，其中无症状病例传染性非常罕见\",\"remark3\":\"宿主：野生动物，可能为中华菊头蝠\",\"remark4\":\"\",\"remark5\":\"\",\"note1\":\"病毒：SARS-CoV-2，其导致疾病命名 COVID-19\",\"note2\":\"传染源：新冠肺炎的患者。无症状感染者也可能成为传染源。\",\"note3\":\"传播途径：经呼吸道飞沫、接触传播是主要的传播途径。气溶胶传播和消化道等传播途径尚待明确。\",\"generalRemark\":\"1. 3 月 12 日国家卫健委确诊补订遗漏 12 例确诊病例（非 12 日新增），暂无具体省份信息。 2. 浙江省 12 例外省治愈暂无具体省份信息。\",\"abroadRemark\":\"\",\"marquee\":[{\"id\":1938,\"marqueeLabel\":\"观察\",\"marqueeContent\":\"美国抗击新冠疫情中的 5 个教训\",\"marqueeLink\":\"https://dxy.me/VyCNTO\"},{\"id\":1939,\"marqueeLabel\":\"恶化\",\"marqueeContent\":\"英国首相鲍里斯约翰逊转入重症监护室\",\"marqueeLink\":\"https://dxy.me/ygEfC0\"},{\"id\":1940,\"marqueeLabel\":\"数字新冠\",\"marqueeContent\":\"4 月 6 日，世界因新冠而变\",\"marqueeLink\":\"https://dxy.me/n6brol\"}],\"quanguoTrendChart\":[{\"imgUrl\":\"https://img1.dxycdn.com/2020/0324/278/3403801351376518263-135.png\",\"title\":\"新增疑似/新增确诊\"},{\"imgUrl\":\"https://img1.dxycdn.com/2020/0324/812/3403847865872006755-135.png\",\"title\":\"境外输入\"},{\"imgUrl\":\"https://img1.dxycdn.com/2020/0324/547/3403847848692336947-135.png\",\"title\":\"现存确诊\"},{\"imgUrl\":\"https://img1.dxycdn.com/2020/0324/775/3403801407211095604-135.png\",\"title\":\"治愈\"},{\"imgUrl\":\"https://img1.dxycdn.com/2020/0324/250/3403801424390727199-135.png\",\"title\":\"死亡\"}],\"hbFeiHbTrendChart\":[{\"imgUrl\":\"https://img1.dxycdn.com/2020/0326/624/3404177508906904585-135.png\",\"title\":\"非湖北新增确诊\"},{\"imgUrl\":\"https://img1.dxycdn.com/2020/0326/777/3404177532529485065-135.png\",\"title\":\"湖北新增确诊\"},{\"imgUrl\":\"https://img1.dxycdn.com/2020/0326/376/3404177556151805921-135.png\",\"title\":\"湖北现存确诊\"},{\"imgUrl\":\"https://img1.dxycdn.com/2020/0326/527/3404177575478899995-135.png\",\"title\":\"非湖北现存确诊\"},{\"imgUrl\":\"https://img1.dxycdn.com/2020/0326/419/3404177596953996726-135.png\",\"title\":\"治愈/死亡\"}],\"foreignTrendChart\":[{\"imgUrl\":\"https://img1.dxycdn.com/2020/0320/702/3403079914982117944-135.png\",\"title\":\"国外新增确诊\"},{\"imgUrl\":\"https://img1.dxycdn.com/2020/0320/396/3403079925719536561-135.png\",\"title\":\"国外累计确诊\"},{\"imgUrl\":\"https://img1.dxycdn.com/2020/0320/139/3403079936457225524-135.png\",\"title\":\"国外死亡\"}],\"importantForeignTrendChart\":[{\"imgUrl\":\"https://img1.dxycdn.com/2020/0320/450/3403077453965772423-135.png\",\"title\":\"重点国家新增确诊\"},{\"imgUrl\":\"https://img1.dxycdn.com/2020/0320/276/3403077462555980566-135.png\",\"title\":\"日本新增确诊\"},{\"imgUrl\":\"https://img1.dxycdn.com/2020/0320/340/3403077473293125942-135.png\",\"title\":\"意大利新增确诊\"},{\"imgUrl\":\"https://img1.dxycdn.com/2020/0320/723/3403077481883334043-135.png\",\"title\":\"伊朗新增确诊\"},{\"imgUrl\":\"https://img1.dxycdn.com/2020/0320/266/3403077492620752785-135.png\",\"title\":\"美国新增确诊\"},{\"imgUrl\":\"https://img1.dxycdn.com/2020/0320/870/3403077503358171278-135.png\",\"title\":\"法国新增确诊\"},{\"imgUrl\":\"https://img1.dxycdn.com/2020/0320/053/3403077511947832997-135.png\",\"title\":\"德国新增确诊\"},{\"imgUrl\":\"https://img1.dxycdn.com/2020/0320/878/3403077520537768006-135.png\",\"title\":\"西班牙新增确诊\"},{\"imgUrl\":\"https://img1.dxycdn.com/2020/0320/443/3403077531275186665-135.png\",\"title\":\"韩国新增确诊\"}],\"foreignTrendChartGlobal\":[{\"imgUrl\":\"https://img1.dxycdn.com/2020/0319/740/3402859458605738923-135.png\",\"title\":\"Daily New Cases\"},{\"imgUrl\":\"https://img1.dxycdn.com/2020/0319/351/3402856772103846114-135.png\",\"title\":\"Total Confirmed Cases\"},{\"imgUrl\":\"https://img1.dxycdn.com/2020/0319/236/3402856782841001789-135.png\",\"title\":\"Total Deaths Cases\"}],\"importantForeignTrendChartGlobal\":[{\"imgUrl\":\"https://img1.dxycdn.com/2020/0319/122/3402856838675578578-135.png\",\"title\":\"Daily New Cases\"},{\"imgUrl\":\"https://img1.dxycdn.com/2020/0319/685/3402856849412997239-135.png\",\"title\":\"Japan\"},{\"imgUrl\":\"https://img1.dxycdn.com/2020/0319/477/3402856860150678804-135.png\",\"title\":\"Italy\"},{\"imgUrl\":\"https://img1.dxycdn.com/2020/0319/454/3402856873035581014-135.png\",\"title\":\"Iran\"},{\"imgUrl\":\"https://img1.dxycdn.com/2020/0319/022/3402856883772999714-135.png\",\"title\":\"U.S.A.\"},{\"imgUrl\":\"https://img1.dxycdn.com/2020/0319/529/3402856894510155506-135.png\",\"title\":\"France\"},{\"imgUrl\":\"https://img1.dxycdn.com/2020/0319/211/3402856905247574064-135.png\",\"title\":\"Germany\"},{\"imgUrl\":\"https://img1.dxycdn.com/2020/0319/054/3402856913837508985-135.png\",\"title\":\"Spain\"},{\"imgUrl\":\"https://img1.dxycdn.com/2020/0319/088/3402856928870157852-135.png\",\"title\":\"Republic of Korea\"}],\"foreignStatistics\":{\"currentConfirmedCount\":985357,\"confirmedCount\":1222299,\"suspectedCount\":4,\"curedCount\":167490,\"deadCount\":69452,\"suspectedIncr\":0,\"currentConfirmedIncr\":0,\"confirmedIncr\":0,\"curedIncr\":0,\"deadIncr\":0},\"globalStatistics\":{\"currentConfirmedCount\":987638,\"confirmedCount\":1305370,\"curedCount\":244940,\"deadCount\":72792,\"currentConfirmedIncr\":-68,\"confirmedIncr\":34,\"curedIncr\":102,\"deadIncr\":0},\"globalOtherTrendChartData\":\"https://file1.dxycdn.com/2020/0407/503/3406391893113208147-135.json\"}}catch(e){}']"
      ]
     },
     "execution_count": 8,
     "metadata": {},
     "output_type": "execute_result"
    }
   ],
   "source": [
    "data = soup.findAll(text=re.compile('\\\"summary.+\\\"confirmedCount\\\":\\d'))\n",
    "\n",
    "data\n"
   ]
  },
  {
   "cell_type": "code",
   "execution_count": 9,
   "metadata": {},
   "outputs": [],
   "source": [
    "m = re.search('\\\"confirmedCount\\\":(\\d+)', data[0])\n",
    "summary_confirmed_count = int(m.group(1))\n",
    "\n",
    "\n",
    "m = re.search('\\\"curedCount\\\":(\\d+)', data[0])\n",
    "summary_cured_count = int(m.group(1))\n",
    "\n",
    "m = re.search('\\\"deadCount\\\":(\\d+)', data[0])\n",
    "summary_dead_count = int(m.group(1))\n"
   ]
  },
  {
   "cell_type": "code",
   "execution_count": 10,
   "metadata": {},
   "outputs": [
    {
     "data": {
      "text/html": [
       "<div>\n",
       "<style scoped>\n",
       "    .dataframe tbody tr th:only-of-type {\n",
       "        vertical-align: middle;\n",
       "    }\n",
       "\n",
       "    .dataframe tbody tr th {\n",
       "        vertical-align: top;\n",
       "    }\n",
       "\n",
       "    .dataframe thead th {\n",
       "        text-align: right;\n",
       "    }\n",
       "</style>\n",
       "<table border=\"1\" class=\"dataframe\">\n",
       "  <thead>\n",
       "    <tr style=\"text-align: right;\">\n",
       "      <th></th>\n",
       "      <th>datetime</th>\n",
       "      <th>confirmed</th>\n",
       "      <th>cured</th>\n",
       "      <th>dead</th>\n",
       "    </tr>\n",
       "  </thead>\n",
       "  <tbody>\n",
       "    <tr>\n",
       "      <th>0</th>\n",
       "      <td>2020-04-07 02:05</td>\n",
       "      <td>83071</td>\n",
       "      <td>77450</td>\n",
       "      <td>3340</td>\n",
       "    </tr>\n",
       "  </tbody>\n",
       "</table>\n",
       "</div>"
      ],
      "text/plain": [
       "           datetime  confirmed  cured  dead\n",
       "0  2020-04-07 02:05      83071  77450  3340"
      ]
     },
     "execution_count": 10,
     "metadata": {},
     "output_type": "execute_result"
    }
   ],
   "source": [
    "# make a dataframe\n",
    "df = pd.DataFrame({\n",
    "    'datetime': data_date_time,\n",
    "    'confirmed': summary_confirmed_count,\n",
    "    'cured': summary_cured_count,\n",
    "    'dead': summary_dead_count\n",
    "}, index=[0])\n",
    "df"
   ]
  },
  {
   "cell_type": "markdown",
   "metadata": {},
   "source": [
    "### Save to file"
   ]
  },
  {
   "cell_type": "code",
   "execution_count": 11,
   "metadata": {},
   "outputs": [],
   "source": [
    "from pathlib import Path\n",
    "csv_file = '../data/china-summary-cases.csv'\n",
    "\n",
    "if Path(csv_file).exists():\n",
    "    # read out the old data - then merge with new data and remove duplicates based on datetime\n",
    "    old_df = pd.read_csv(csv_file)\n",
    "    df = df.append(old_df)\n",
    "df.drop_duplicates(subset=['datetime'], inplace=True)"
   ]
  },
  {
   "cell_type": "code",
   "execution_count": 12,
   "metadata": {},
   "outputs": [],
   "source": [
    "df.sort_values(by=['datetime'], inplace=True)\n",
    "\n",
    "df.to_csv(csv_file, index=False)\n"
   ]
  },
  {
   "cell_type": "markdown",
   "metadata": {},
   "source": [
    "### Plot graph"
   ]
  },
  {
   "cell_type": "code",
   "execution_count": 13,
   "metadata": {},
   "outputs": [],
   "source": [
    "import seaborn as sns\n",
    "import matplotlib.pyplot as plt\n",
    "from pandas.plotting import register_matplotlib_converters\n",
    "register_matplotlib_converters()\n",
    "\n",
    "png_file = '../images/china-summary-cases.png'\n",
    "# convert to pd.datetime\n",
    "df['datetime_idx'] = pd.to_datetime(df['datetime'], format=\"%Y-%m-%d %H:%M\")\n",
    "\n",
    "df.set_index('datetime_idx', inplace=True)\n",
    "df.drop(['datetime'], axis=1, inplace=True)\n"
   ]
  },
  {
   "cell_type": "code",
   "execution_count": 14,
   "metadata": {},
   "outputs": [
    {
     "data": {
      "text/html": [
       "<div>\n",
       "<style scoped>\n",
       "    .dataframe tbody tr th:only-of-type {\n",
       "        vertical-align: middle;\n",
       "    }\n",
       "\n",
       "    .dataframe tbody tr th {\n",
       "        vertical-align: top;\n",
       "    }\n",
       "\n",
       "    .dataframe thead th {\n",
       "        text-align: right;\n",
       "    }\n",
       "</style>\n",
       "<table border=\"1\" class=\"dataframe\">\n",
       "  <thead>\n",
       "    <tr style=\"text-align: right;\">\n",
       "      <th></th>\n",
       "      <th>confirmed</th>\n",
       "      <th>cured</th>\n",
       "      <th>dead</th>\n",
       "    </tr>\n",
       "    <tr>\n",
       "      <th>datetime_idx</th>\n",
       "      <th></th>\n",
       "      <th></th>\n",
       "      <th></th>\n",
       "    </tr>\n",
       "  </thead>\n",
       "  <tbody>\n",
       "    <tr>\n",
       "      <th>2020-02-02 10:22:00</th>\n",
       "      <td>14483</td>\n",
       "      <td>379</td>\n",
       "      <td>304</td>\n",
       "    </tr>\n",
       "    <tr>\n",
       "      <th>2020-02-02 10:28:00</th>\n",
       "      <td>14483</td>\n",
       "      <td>380</td>\n",
       "      <td>304</td>\n",
       "    </tr>\n",
       "    <tr>\n",
       "      <th>2020-02-02 11:19:00</th>\n",
       "      <td>14489</td>\n",
       "      <td>385</td>\n",
       "      <td>304</td>\n",
       "    </tr>\n",
       "    <tr>\n",
       "      <th>2020-02-02 11:54:00</th>\n",
       "      <td>14489</td>\n",
       "      <td>397</td>\n",
       "      <td>304</td>\n",
       "    </tr>\n",
       "    <tr>\n",
       "      <th>2020-02-02 15:01:00</th>\n",
       "      <td>14490</td>\n",
       "      <td>430</td>\n",
       "      <td>304</td>\n",
       "    </tr>\n",
       "    <tr>\n",
       "      <th>...</th>\n",
       "      <td>...</td>\n",
       "      <td>...</td>\n",
       "      <td>...</td>\n",
       "    </tr>\n",
       "    <tr>\n",
       "      <th>2020-04-06 16:31:00</th>\n",
       "      <td>83039</td>\n",
       "      <td>77367</td>\n",
       "      <td>3340</td>\n",
       "    </tr>\n",
       "    <tr>\n",
       "      <th>2020-04-06 17:16:00</th>\n",
       "      <td>83039</td>\n",
       "      <td>77367</td>\n",
       "      <td>3340</td>\n",
       "    </tr>\n",
       "    <tr>\n",
       "      <th>2020-04-06 23:53:00</th>\n",
       "      <td>83039</td>\n",
       "      <td>77367</td>\n",
       "      <td>3340</td>\n",
       "    </tr>\n",
       "    <tr>\n",
       "      <th>2020-04-07 00:54:00</th>\n",
       "      <td>83063</td>\n",
       "      <td>77384</td>\n",
       "      <td>3340</td>\n",
       "    </tr>\n",
       "    <tr>\n",
       "      <th>2020-04-07 02:05:00</th>\n",
       "      <td>83071</td>\n",
       "      <td>77450</td>\n",
       "      <td>3340</td>\n",
       "    </tr>\n",
       "  </tbody>\n",
       "</table>\n",
       "<p>999 rows × 3 columns</p>\n",
       "</div>"
      ],
      "text/plain": [
       "                     confirmed  cured  dead\n",
       "datetime_idx                               \n",
       "2020-02-02 10:22:00      14483    379   304\n",
       "2020-02-02 10:28:00      14483    380   304\n",
       "2020-02-02 11:19:00      14489    385   304\n",
       "2020-02-02 11:54:00      14489    397   304\n",
       "2020-02-02 15:01:00      14490    430   304\n",
       "...                        ...    ...   ...\n",
       "2020-04-06 16:31:00      83039  77367  3340\n",
       "2020-04-06 17:16:00      83039  77367  3340\n",
       "2020-04-06 23:53:00      83039  77367  3340\n",
       "2020-04-07 00:54:00      83063  77384  3340\n",
       "2020-04-07 02:05:00      83071  77450  3340\n",
       "\n",
       "[999 rows x 3 columns]"
      ]
     },
     "execution_count": 14,
     "metadata": {},
     "output_type": "execute_result"
    }
   ],
   "source": [
    "df"
   ]
  },
  {
   "cell_type": "code",
   "execution_count": 15,
   "metadata": {
    "scrolled": true
   },
   "outputs": [
    {
     "data": {
      "image/png": "[encoded data removed]",
      "text/plain": [
       "<Figure size 1008x1008 with 3 Axes>"
      ]
     },
     "metadata": {},
     "output_type": "display_data"
    }
   ],
   "source": [
    "if df.shape[0]>1:\n",
    "    # line chart when having at least a few points\n",
    "    sns.set(rc={'figure.figsize':(14,14)})\n",
    "    sns.set(style=\"whitegrid\")\n",
    "\n",
    "    fig, axs = plt.subplots(nrows=3)\n",
    "\n",
    "    sns.lineplot(x=df.index, y = 'confirmed', data=df, ax= axs[0], estimator=None, color='orange')\n",
    "    sns.lineplot(x=df.index, y = 'cured', data=df, ax= axs[1], estimator=None, color='green')\n",
    "    sns.lineplot(x=df.index, y = 'dead', data=df, ax= axs[2], estimator=None, color='darkred')\n",
    "\n",
    "    for ax in axs:\n",
    "        ax.set_xlabel('')\n",
    "        ax.tick_params(axis='x', labelrotation=30)\n",
    "else:\n",
    "\n",
    "    ax = df.plot(kind='bar', stacked=True, figsize=(9,6))\n",
    "    fig = ax.get_figure()\n",
    "    ax.set_xlabel('')\n",
    "    for label in ax.get_xticklabels():\n",
    "        label.set_rotation(0) \n"
   ]
  },
  {
   "cell_type": "code",
   "execution_count": 16,
   "metadata": {},
   "outputs": [],
   "source": [
    "fig.savefig(png_file)"
   ]
  },
  {
   "cell_type": "code",
   "execution_count": null,
   "metadata": {},
   "outputs": [],
   "source": []
  },
  {
   "cell_type": "code",
   "execution_count": null,
   "metadata": {},
   "outputs": [],
   "source": []
  }
 ],
 "metadata": {
  "kernelspec": {
   "display_name": "Python 3",
   "language": "python",
   "name": "python3"
  },
  "language_info": {
   "codemirror_mode": {
    "name": "ipython",
    "version": 3
   },
   "file_extension": ".py",
   "mimetype": "text/x-python",
   "name": "python",
   "nbconvert_exporter": "python",
   "pygments_lexer": "ipython3",
   "version": "3.7.6"
  }
 },
 "nbformat": 4,
 "nbformat_minor": 2
}
