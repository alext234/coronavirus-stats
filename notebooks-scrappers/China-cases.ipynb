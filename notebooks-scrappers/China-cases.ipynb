{
 "cells": [
  {
   "cell_type": "code",
   "execution_count": 1,
   "metadata": {},
   "outputs": [],
   "source": [
    "import pandas as pd\n",
    "import requests\n",
    "from bs4 import BeautifulSoup\n",
    "import re\n",
    "from datetime import datetime\n",
    "from selenium import webdriver\n",
    "from selenium.webdriver.chrome.options import Options  \n"
   ]
  },
  {
   "cell_type": "code",
   "execution_count": 2,
   "metadata": {},
   "outputs": [
    {
     "data": {
      "text/plain": [
       "datetime.datetime(2020, 8, 24, 2, 14, 37, 289716)"
      ]
     },
     "execution_count": 2,
     "metadata": {},
     "output_type": "execute_result"
    }
   ],
   "source": [
    "datetime.now()"
   ]
  },
  {
   "cell_type": "code",
   "execution_count": 3,
   "metadata": {},
   "outputs": [],
   "source": [
    "chrome_options = Options()  \n",
    "chrome_options.add_argument(\"--headless\")  \n",
    "chrome_options.add_argument(\"--no-sandbox\")\n",
    "\n",
    "driver = webdriver.Chrome('chromedriver', options=chrome_options)"
   ]
  },
  {
   "cell_type": "code",
   "execution_count": 4,
   "metadata": {},
   "outputs": [],
   "source": [
    "url = 'https://ncov.dxy.cn/ncovh5/view/pneumonia'\n",
    "driver.get(url)"
   ]
  },
  {
   "cell_type": "markdown",
   "metadata": {},
   "source": [
    "### Extract date"
   ]
  },
  {
   "cell_type": "code",
   "execution_count": 5,
   "metadata": {},
   "outputs": [],
   "source": [
    "content = driver.page_source\n",
    "soup =BeautifulSoup(content, 'lxml')\n"
   ]
  },
  {
   "cell_type": "code",
   "execution_count": 6,
   "metadata": {},
   "outputs": [
    {
     "data": {
      "text/plain": [
       "['try { window.getTimelineService1 = [{\"id\":78629,\"pubDate\":1598234277000,\"pubDateStr\":\"12分钟前\",\"title\":\"墨西哥新冠肺炎确诊病例累计超56万例\",\"summary\":\"当地时间8月23日，墨西哥卫生部宣布，截止到23日晚7时，墨西哥全国确诊560164例新冠肺炎确诊病例，较前一天新增了3948例，墨西哥全国确诊死亡病例较前一天新增226例，总数已经上升到60480例。\",\"infoSource\":\"央视新闻app\",\"sourceUrl\":\"http://app.cctv.com/special/cportal/detail/arti/index.html?id=ArtiMMewFLG4R4xp3lQoMgbE200824&isfromapp=1\",\"provinceId\":\"\"},{\"id\":78598,\"pubDate\":1598230205000,\"pubDateStr\":\"1小时前\",\"title\":\"截至8月23日24时新型冠状病毒肺炎疫情最新情况\",\"summary\":\"8月23日0—24时，31个省（自治区、直辖市）和新疆生产建设兵团报告新增确诊病例16例，均为境外输入病例（上海5例，福建3例，四川3例，云南3例，山西1例，山东1例）；无新增死亡病例；新增疑似病例1例，为境外输入病例（在上海）。\\u3000\\u3000\",\"infoSource\":\"河北卫健委\",\"sourceUrl\":\"http://wsjkw.hebei.gov.cn/content/content_3714/414001.jhtml\",\"provinceId\":\"\"},{\"id\":78586,\"pubDate\":1598227824000,\"pubDateStr\":\"2小时前\",\"title\":\"截至8月23日24时新型冠状病毒肺炎疫情最新情况\",\"summary\":\"\\\\n          \\u3000\\u30008月23日0—24时，31个省（自治区、直辖市）和新疆生产建设兵团报告新增确诊病例16例，均为境外输入病例（上海5例，福建3例，四川3例，云南3例，山西1例，山东1例）；无新增死亡病例；新增疑似病例1例，为境外输入病例（在上海）。\\\\n\\u3000\\u3000当日新增治愈出院病例30例，解除医学观察的密切接触者1375人，重症病例较前一日减少2例。\\\\n\\u3000\\u3000境外输入现有确诊病例215例（其中重症病例2例），现有疑似病例2例。累计确诊病例2418例，累计治愈出院病例2203例，无死亡病例。\\\\n\\u3000\\u3000截至8月23日24时，据31个省（自治区、直辖市）和新疆生产建设兵团报告，现有确诊病例408例（其中重症病例14例），累计治愈出院病例79925例，累计死亡病例4634例，累计报告确诊病例84967例，现有疑似病例2例。累计追踪到密切接触者811824人，尚在医学观察的密切接触者13220人。\\\\n\\u3000\\u300031个省（自治区、直辖市）和新疆生产建设兵团报告新增无症状感染者27例（均为境外输入）；当日转为确诊病例1例（为境外输入）；当日解除医学观察22例（境外输入9例）；尚在医学观察无症状感染者374例（境外输入306例）。\\\\n\\u3000\\u3000累计收到港澳台地区通报确诊病例5215例。其中，香港特别行政区4682例（出院4018例，死亡77例），澳门特别行政区46例（出院46例），台湾地区487例（出院457例，死亡7例）。\\\\n\\\\n\\u2002\\\\n\\u2002\\\\n（注：媒体引用时，请标注“信息来自国家卫生健康委员会官方网站”。）\\\\n          \\\\n            \\\\n            \\\\n            \\\\n             window._bd_share_config={\\\\\"common\\\\\":{\\\\\"bdSnsKey\\\\\":{},\\\\\"bdText\\\\\":\\\\\"\\\\\",\\\\\"bdMini\\\\\":\\\\\"2\\\\\",\\\\\"bdPic\\\\\":\\\\\"\\\\\",\\\\\"bdStyle\\\\\":\\\\\"0\\\\\",\\\\\"bdSize\\\\\":\\\\\"16\\\\\"},\\\\\"share\\\\\":{}};with(document)0[(getElementsByTagName(\\'head\\')[0]||body).appendChild(createElement(\\'script\\')).src=\\'http://bdimg.share.baidu.com/static/api/js/share.js?v=89860593.js?cdnversion=\\'+~(-new Date()/36e5)];\\\\n                分享到\\xa0\\xa0\\\\n          \\\\n          \\\\n        \",\"infoSource\":\"中国卫健委\",\"sourceUrl\":\"http://www.nhc.gov.cn/xcs/yqtb/202008/ac1fb9f4a3a94e91ae86aaec7a6b44d6.shtml\",\"provinceId\":\"\"},{\"id\":78581,\"pubDate\":1598225400000,\"pubDateStr\":\"2小时前\",\"title\":\"全球抗疫24小时丨全球确诊病例超2305万例 乌克兰前总理季莫申科确诊\",\"summary\":\"世卫组织：全球新冠肺炎确诊病例累计超2305万例\\\\n根据世卫组织最新实时统计数据，截至欧洲中部夏令时间8月23日12时48分（北京时间8月23日18时48分），全球累计新冠肺炎确诊病例23057288例，累计死亡病例800906例。\",\"infoSource\":\"央视新闻app\",\"sourceUrl\":\"http://app.cctv.com/special/cportal/detail/arti/index.html?id=Arti9YfQeRhSz4vGTCwoKTZc200824&isfromapp=1\",\"provinceId\":\"\"},{\"id\":78570,\"pubDate\":1598219855000,\"pubDateStr\":\"4小时前\",\"title\":\"美国新冠病毒感染者将近570万\",\"summary\":\"当地时间8月23日，截至美东时间下午5点27分（北京时间24日凌晨5点27分），美国新冠肺炎感染确诊病例达到5693403例，死亡人数达到176645例。该数据与24小时前相比，确诊新增32684例，死亡新增402例。\",\"infoSource\":\"央视新闻app\",\"sourceUrl\":\"http://app.cctv.com/special/cportal/detail/arti/index.html?id=ArtiG5dK86xxVUVRtBCEOzw7200824&isfromapp=1\",\"provinceId\":\"\"}]}catch(e){}',\n",
       " '截至北京时间 2020-08-24 10:08',\n",
       " '截至北京时间 2020-08-24 10:08',\n",
       " '截至8月23日24时新型冠状病毒肺炎疫情最新情况',\n",
       " '截至8月23日24时新型冠状病毒肺炎疫情最新情况',\n",
       " '\\n          \\u3000\\u30008月23日0—24时，31个省（自治区、直辖市）和新疆生产建设兵团报告新增确诊病例16例，均为境外输入病例（上海5例，福建3例，四川3例，云南3例，山西1例，山东1例）；无新增死亡病例；新增疑似病例1例，为境外输入病例（在上海）。\\n\\u3000\\u3000当日新增治愈出院病例30例，解除医学观察的密切接触者1375人，重症病例较前一日减少2例。\\n\\u3000\\u3000境外输入现有确诊病例215例（其中重症病例2例），现有疑似病例2例。累计确诊病例2418例，累计治愈出院病例2203例，无死亡病例。\\n\\u3000\\u3000截至8月23日24时，据31个省（自治区、直辖市）和新疆生产建设兵团报告，现有确诊病例408例（其中重症病例14例），累计治愈出院病例79925例，累计死亡病例4634例，累计报告确诊病例84967例，现有疑似病例2例。累计追踪到密切接触者811824人，尚在医学观察的密切接触者13220人。\\n\\u3000\\u300031个省（自治区、直辖市）和新疆生产建设兵团报告新增无症状感染者27例（均为境外输入）；当日转为确诊病例1例（为境外输入）；当日解除医学观察22例（境外输入9例）；尚在医学观察无症状感染者374例（境外输入306例）。\\n\\u3000\\u3000累计收到港澳台地区通报确诊病例5215例。其中，香港特别行政区4682例（出院4018例，死亡77例），澳门特别行政区46例（出院46例），台湾地区487例（出院457例，死亡7例）。\\n\\n\\u2002\\n\\u2002\\n（注：媒体引用时，请标注“信息来自国家卫生健康委员会官方网站”。）\\n          \\n            \\n            \\n            \\n             window._bd_share_config={\"common\":{\"bdSnsKey\":{},\"bdText\":\"\",\"bdMini\":\"2\",\"bdPic\":\"\",\"bdStyle\":\"0\",\"bdSize\":\"16\"},\"share\":{}};with(document)0[(getElementsByTagName(\\'head\\')[0]||body).appendChild(createElement(\\'script\\')).src=\\'http://bdimg.share.baidu.com/static/api/js/share.js?v=89860593.js?cdnversion=\\'+~(-new Date()/36e5)];\\n                分享到\\xa0\\xa0\\n          \\n          \\n        ',\n",
       " '世卫组织：全球新冠肺炎确诊病例累计超2305万例\\n根据世卫组织最新实时统计数据，截至欧洲中部夏令时间8月23日12时48分（北京时间8月23日18时48分），全球累计新冠肺炎确诊病例23057288例，累计死亡病例800906例。',\n",
       " '当地时间8月23日，截至美东时间下午5点27分（北京时间24日凌晨5点27分），美国新冠肺炎感染确诊病例达到5693403例，死亡人数达到176645例。该数据与24小时前相比，确诊新增32684例，死亡新增402例。']"
      ]
     },
     "execution_count": 6,
     "metadata": {},
     "output_type": "execute_result"
    }
   ],
   "source": [
    "data = soup.findAll(text=re.compile(\"截至.+\"))\n",
    "data"
   ]
  },
  {
   "cell_type": "code",
   "execution_count": 7,
   "metadata": {},
   "outputs": [
    {
     "data": {
      "text/plain": [
       "'2020-08-24 10:08'"
      ]
     },
     "execution_count": 7,
     "metadata": {},
     "output_type": "execute_result"
    }
   ],
   "source": [
    "for s in data:\n",
    "    m = re.search(\"截至.*(202\\d-\\d+-\\d+ \\d+:\\d+)\", s)\n",
    "    if m is not None:\n",
    "        data_date_time = m.group(1)\n",
    "data_date_time"
   ]
  },
  {
   "cell_type": "markdown",
   "metadata": {},
   "source": [
    "### Extract data (summary)"
   ]
  },
  {
   "cell_type": "code",
   "execution_count": 8,
   "metadata": {},
   "outputs": [
    {
     "data": {
      "text/plain": [
       "['try { window.getStatisticsService = {\"id\":1,\"createTime\":1579537899000,\"modifyTime\":1598234936000,\"infectSource\":\"该字段已替换为说明2\",\"passWay\":\"该字段已替换为说明3\",\"imgUrl\":\"https://img1.dxycdn.com/2020/0201/450/3394153392393266839-135.png\",\"dailyPic\":\"https://img1.dxycdn.com/2020/0211/763/3395998884005602079-135.png,https://img1.dxycdn.com/2020/0211/362/3395998896890788910-135.png,https://img1.dxycdn.com/2020/0211/365/3395998905480724211-135.png,https://img1.dxycdn.com/2020/0211/364/3395998916217859778-135.png,https://img1.dxycdn.com/2020/0211/922/3395998929103046444-135.png,https://img1.dxycdn.com/2020/0211/089/3395998939840182072-135.png\",\"dailyPics\":[\"https://img1.dxycdn.com/2020/0211/763/3395998884005602079-135.png\",\"https://img1.dxycdn.com/2020/0211/362/3395998896890788910-135.png\",\"https://img1.dxycdn.com/2020/0211/365/3395998905480724211-135.png\",\"https://img1.dxycdn.com/2020/0211/364/3395998916217859778-135.png\",\"https://img1.dxycdn.com/2020/0211/922/3395998929103046444-135.png\",\"https://img1.dxycdn.com/2020/0211/089/3395998939840182072-135.png\"],\"summary\":\"\",\"deleted\":false,\"countRemark\":\"\",\"currentConfirmedCount\":1018,\"confirmedCount\":90182,\"suspectedCount\":2418,\"curedCount\":84446,\"deadCount\":4718,\"seriousCount\":374,\"suspectedIncr\":16,\"currentConfirmedIncr\":-34,\"confirmedIncr\":41,\"curedIncr\":74,\"deadIncr\":1,\"seriousIncr\":4,\"virus\":\"该字段已替换为说明1\",\"remark1\":\"易感人群：人群普遍易感。老年人及有基础疾病者感染后病情较重，儿童及婴幼儿也有发病\",\"remark2\":\"潜伏期：一般为 3～7 天，最长不超过 14 天，潜伏期内可能存在传染性，其中无症状病例传染性非常罕见\",\"remark3\":\"宿主：野生动物，可能为中华菊头蝠\",\"remark4\":\"\",\"remark5\":\"\",\"note1\":\"病毒：SARS-CoV-2，其导致疾病命名 COVID-19\",\"note2\":\"传染源：新冠肺炎的患者。无症状感染者也可能成为传染源。\",\"note3\":\"传播途径：经呼吸道飞沫、接触传播是主要的传播途径。气溶胶传播和消化道等传播途径尚待明确。\",\"generalRemark\":\"1. 3 月 12 日国家卫健委确诊补订遗漏 12 例确诊病例（非 12 日新增），暂无具体省份信息。 2. 浙江省 12 例外省治愈暂无具体省份信息。\",\"abroadRemark\":\"\",\"marquee\":[{\"id\":2980,\"marqueeLabel\":\"数字新冠\",\"marqueeContent\":\"8 月 21 日，世界因新冠而变\",\"marqueeLink\":\"https://dxy.me/Gva9Qo\"}],\"quanguoTrendChart\":[{\"imgUrl\":\"https://img1.dxycdn.com/2020/0324/278/3403801351376518263-135.png\",\"title\":\"新增疑似/新增确诊\"},{\"imgUrl\":\"https://img1.dxycdn.com/2020/0324/812/3403847865872006755-135.png\",\"title\":\"境外输入\"},{\"imgUrl\":\"https://img1.dxycdn.com/2020/0324/547/3403847848692336947-135.png\",\"title\":\"现存确诊\"},{\"imgUrl\":\"https://img1.dxycdn.com/2020/0324/775/3403801407211095604-135.png\",\"title\":\"治愈\"},{\"imgUrl\":\"https://img1.dxycdn.com/2020/0324/250/3403801424390727199-135.png\",\"title\":\"死亡\"}],\"hbFeiHbTrendChart\":[{\"imgUrl\":\"https://img1.dxycdn.com/2020/0326/624/3404177508906904585-135.png\",\"title\":\"非湖北新增确诊\"},{\"imgUrl\":\"https://img1.dxycdn.com/2020/0326/777/3404177532529485065-135.png\",\"title\":\"湖北新增确诊\"},{\"imgUrl\":\"https://img1.dxycdn.com/2020/0326/376/3404177556151805921-135.png\",\"title\":\"湖北现存确诊\"},{\"imgUrl\":\"https://img1.dxycdn.com/2020/0326/527/3404177575478899995-135.png\",\"title\":\"非湖北现存确诊\"},{\"imgUrl\":\"https://img1.dxycdn.com/2020/0326/419/3404177596953996726-135.png\",\"title\":\"治愈/死亡\"}],\"foreignTrendChart\":[{\"imgUrl\":\"https://img1.dxycdn.com/2020/0320/702/3403079914982117944-135.png\",\"title\":\"国外新增确诊\"},{\"imgUrl\":\"https://img1.dxycdn.com/2020/0320/396/3403079925719536561-135.png\",\"title\":\"国外累计确诊\"},{\"imgUrl\":\"https://img1.dxycdn.com/2020/0320/139/3403079936457225524-135.png\",\"title\":\"国外死亡\"}],\"importantForeignTrendChart\":[{\"imgUrl\":\"https://img1.dxycdn.com/2020/0320/450/3403077453965772423-135.png\",\"title\":\"重点国家新增确诊\"},{\"imgUrl\":\"https://img1.dxycdn.com/2020/0320/276/3403077462555980566-135.png\",\"title\":\"日本新增确诊\"},{\"imgUrl\":\"https://img1.dxycdn.com/2020/0320/340/3403077473293125942-135.png\",\"title\":\"意大利新增确诊\"},{\"imgUrl\":\"https://img1.dxycdn.com/2020/0320/723/3403077481883334043-135.png\",\"title\":\"伊朗新增确诊\"},{\"imgUrl\":\"https://img1.dxycdn.com/2020/0320/266/3403077492620752785-135.png\",\"title\":\"美国新增确诊\"},{\"imgUrl\":\"https://img1.dxycdn.com/2020/0320/870/3403077503358171278-135.png\",\"title\":\"法国新增确诊\"},{\"imgUrl\":\"https://img1.dxycdn.com/2020/0320/053/3403077511947832997-135.png\",\"title\":\"德国新增确诊\"},{\"imgUrl\":\"https://img1.dxycdn.com/2020/0320/878/3403077520537768006-135.png\",\"title\":\"西班牙新增确诊\"},{\"imgUrl\":\"https://img1.dxycdn.com/2020/0320/443/3403077531275186665-135.png\",\"title\":\"韩国新增确诊\"}],\"foreignTrendChartGlobal\":[{\"imgUrl\":\"https://img1.dxycdn.com/2020/0319/740/3402859458605738923-135.png\",\"title\":\"Daily New Cases\"},{\"imgUrl\":\"https://img1.dxycdn.com/2020/0319/351/3402856772103846114-135.png\",\"title\":\"Total Confirmed Cases\"},{\"imgUrl\":\"https://img1.dxycdn.com/2020/0319/236/3402856782841001789-135.png\",\"title\":\"Total Deaths Cases\"}],\"importantForeignTrendChartGlobal\":[{\"imgUrl\":\"https://img1.dxycdn.com/2020/0319/122/3402856838675578578-135.png\",\"title\":\"Daily New Cases\"},{\"imgUrl\":\"https://img1.dxycdn.com/2020/0319/685/3402856849412997239-135.png\",\"title\":\"Japan\"},{\"imgUrl\":\"https://img1.dxycdn.com/2020/0319/477/3402856860150678804-135.png\",\"title\":\"Italy\"},{\"imgUrl\":\"https://img1.dxycdn.com/2020/0319/454/3402856873035581014-135.png\",\"title\":\"Iran\"},{\"imgUrl\":\"https://img1.dxycdn.com/2020/0319/022/3402856883772999714-135.png\",\"title\":\"U.S.A.\"},{\"imgUrl\":\"https://img1.dxycdn.com/2020/0319/529/3402856894510155506-135.png\",\"title\":\"France\"},{\"imgUrl\":\"https://img1.dxycdn.com/2020/0319/211/3402856905247574064-135.png\",\"title\":\"Germany\"},{\"imgUrl\":\"https://img1.dxycdn.com/2020/0319/054/3402856913837508985-135.png\",\"title\":\"Spain\"},{\"imgUrl\":\"https://img1.dxycdn.com/2020/0319/088/3402856928870157852-135.png\",\"title\":\"Republic of Korea\"}],\"foreignStatistics\":{\"currentConfirmedCount\":8009389,\"confirmedCount\":23277439,\"suspectedCount\":4,\"curedCount\":14464963,\"deadCount\":803087,\"suspectedIncr\":0,\"currentConfirmedIncr\":0,\"confirmedIncr\":0,\"curedIncr\":0,\"deadIncr\":0},\"globalStatistics\":{\"currentConfirmedCount\":8010407,\"confirmedCount\":23367621,\"curedCount\":14549409,\"deadCount\":807805,\"currentConfirmedIncr\":-34,\"confirmedIncr\":41,\"curedIncr\":74,\"deadIncr\":1},\"globalOtherTrendChartData\":\"https://file1.dxycdn.com/2020/0824/865/3759814170732812343-135.json\"}}catch(e){}']"
      ]
     },
     "execution_count": 8,
     "metadata": {},
     "output_type": "execute_result"
    }
   ],
   "source": [
    "data = soup.findAll(text=re.compile('\\\"summary.+\\\"confirmedCount\\\":\\d'))\n",
    "\n",
    "data\n"
   ]
  },
  {
   "cell_type": "code",
   "execution_count": 9,
   "metadata": {},
   "outputs": [],
   "source": [
    "m = re.search('\\\"confirmedCount\\\":(\\d+)', data[0])\n",
    "summary_confirmed_count = int(m.group(1))\n",
    "\n",
    "\n",
    "m = re.search('\\\"curedCount\\\":(\\d+)', data[0])\n",
    "summary_cured_count = int(m.group(1))\n",
    "\n",
    "m = re.search('\\\"deadCount\\\":(\\d+)', data[0])\n",
    "summary_dead_count = int(m.group(1))\n"
   ]
  },
  {
   "cell_type": "code",
   "execution_count": 10,
   "metadata": {},
   "outputs": [
    {
     "data": {
      "text/html": [
       "<div>\n",
       "<style scoped>\n",
       "    .dataframe tbody tr th:only-of-type {\n",
       "        vertical-align: middle;\n",
       "    }\n",
       "\n",
       "    .dataframe tbody tr th {\n",
       "        vertical-align: top;\n",
       "    }\n",
       "\n",
       "    .dataframe thead th {\n",
       "        text-align: right;\n",
       "    }\n",
       "</style>\n",
       "<table border=\"1\" class=\"dataframe\">\n",
       "  <thead>\n",
       "    <tr style=\"text-align: right;\">\n",
       "      <th></th>\n",
       "      <th>datetime</th>\n",
       "      <th>confirmed</th>\n",
       "      <th>cured</th>\n",
       "      <th>dead</th>\n",
       "    </tr>\n",
       "  </thead>\n",
       "  <tbody>\n",
       "    <tr>\n",
       "      <th>0</th>\n",
       "      <td>2020-08-24 10:08</td>\n",
       "      <td>90182</td>\n",
       "      <td>84446</td>\n",
       "      <td>4718</td>\n",
       "    </tr>\n",
       "  </tbody>\n",
       "</table>\n",
       "</div>"
      ],
      "text/plain": [
       "           datetime  confirmed  cured  dead\n",
       "0  2020-08-24 10:08      90182  84446  4718"
      ]
     },
     "execution_count": 10,
     "metadata": {},
     "output_type": "execute_result"
    }
   ],
   "source": [
    "# make a dataframe\n",
    "df = pd.DataFrame({\n",
    "    'datetime': data_date_time,\n",
    "    'confirmed': summary_confirmed_count,\n",
    "    'cured': summary_cured_count,\n",
    "    'dead': summary_dead_count\n",
    "}, index=[0])\n",
    "df"
   ]
  },
  {
   "cell_type": "markdown",
   "metadata": {},
   "source": [
    "### Save to file"
   ]
  },
  {
   "cell_type": "code",
   "execution_count": 11,
   "metadata": {},
   "outputs": [],
   "source": [
    "from pathlib import Path\n",
    "csv_file = '../data/china-summary-cases.csv'\n",
    "\n",
    "if Path(csv_file).exists():\n",
    "    # read out the old data - then merge with new data and remove duplicates based on datetime\n",
    "    old_df = pd.read_csv(csv_file)\n",
    "    df = df.append(old_df)\n",
    "df.drop_duplicates(subset=['datetime'], inplace=True)"
   ]
  },
  {
   "cell_type": "code",
   "execution_count": 12,
   "metadata": {},
   "outputs": [],
   "source": [
    "df.sort_values(by=['datetime'], inplace=True)\n",
    "\n",
    "df.to_csv(csv_file, index=False)\n"
   ]
  },
  {
   "cell_type": "markdown",
   "metadata": {},
   "source": [
    "### Plot graph"
   ]
  },
  {
   "cell_type": "code",
   "execution_count": 13,
   "metadata": {},
   "outputs": [],
   "source": [
    "import seaborn as sns\n",
    "import matplotlib.pyplot as plt\n",
    "from pandas.plotting import register_matplotlib_converters\n",
    "register_matplotlib_converters()\n",
    "\n",
    "png_file = '../images/china-summary-cases.png'\n",
    "# convert to pd.datetime\n",
    "df['datetime_idx'] = pd.to_datetime(df['datetime'], format=\"%Y-%m-%d %H:%M\")\n",
    "\n",
    "df.set_index('datetime_idx', inplace=True)\n",
    "df.drop(['datetime'], axis=1, inplace=True)\n"
   ]
  },
  {
   "cell_type": "code",
   "execution_count": 14,
   "metadata": {},
   "outputs": [
    {
     "data": {
      "text/html": [
       "<div>\n",
       "<style scoped>\n",
       "    .dataframe tbody tr th:only-of-type {\n",
       "        vertical-align: middle;\n",
       "    }\n",
       "\n",
       "    .dataframe tbody tr th {\n",
       "        vertical-align: top;\n",
       "    }\n",
       "\n",
       "    .dataframe thead th {\n",
       "        text-align: right;\n",
       "    }\n",
       "</style>\n",
       "<table border=\"1\" class=\"dataframe\">\n",
       "  <thead>\n",
       "    <tr style=\"text-align: right;\">\n",
       "      <th></th>\n",
       "      <th>confirmed</th>\n",
       "      <th>cured</th>\n",
       "      <th>dead</th>\n",
       "    </tr>\n",
       "    <tr>\n",
       "      <th>datetime_idx</th>\n",
       "      <th></th>\n",
       "      <th></th>\n",
       "      <th></th>\n",
       "    </tr>\n",
       "  </thead>\n",
       "  <tbody>\n",
       "    <tr>\n",
       "      <th>2020-02-02 10:22:00</th>\n",
       "      <td>14483</td>\n",
       "      <td>379</td>\n",
       "      <td>304</td>\n",
       "    </tr>\n",
       "    <tr>\n",
       "      <th>2020-02-02 10:28:00</th>\n",
       "      <td>14483</td>\n",
       "      <td>380</td>\n",
       "      <td>304</td>\n",
       "    </tr>\n",
       "    <tr>\n",
       "      <th>2020-02-02 11:19:00</th>\n",
       "      <td>14489</td>\n",
       "      <td>385</td>\n",
       "      <td>304</td>\n",
       "    </tr>\n",
       "    <tr>\n",
       "      <th>2020-02-02 11:54:00</th>\n",
       "      <td>14489</td>\n",
       "      <td>397</td>\n",
       "      <td>304</td>\n",
       "    </tr>\n",
       "    <tr>\n",
       "      <th>2020-02-02 15:01:00</th>\n",
       "      <td>14490</td>\n",
       "      <td>430</td>\n",
       "      <td>304</td>\n",
       "    </tr>\n",
       "    <tr>\n",
       "      <th>...</th>\n",
       "      <td>...</td>\n",
       "      <td>...</td>\n",
       "      <td>...</td>\n",
       "    </tr>\n",
       "    <tr>\n",
       "      <th>2020-08-23 20:20:00</th>\n",
       "      <td>90166</td>\n",
       "      <td>84425</td>\n",
       "      <td>4718</td>\n",
       "    </tr>\n",
       "    <tr>\n",
       "      <th>2020-08-23 21:35:00</th>\n",
       "      <td>90166</td>\n",
       "      <td>84425</td>\n",
       "      <td>4718</td>\n",
       "    </tr>\n",
       "    <tr>\n",
       "      <th>2020-08-24 08:07:00</th>\n",
       "      <td>90176</td>\n",
       "      <td>84425</td>\n",
       "      <td>4718</td>\n",
       "    </tr>\n",
       "    <tr>\n",
       "      <th>2020-08-24 08:31:00</th>\n",
       "      <td>90182</td>\n",
       "      <td>84446</td>\n",
       "      <td>4718</td>\n",
       "    </tr>\n",
       "    <tr>\n",
       "      <th>2020-08-24 10:08:00</th>\n",
       "      <td>90182</td>\n",
       "      <td>84446</td>\n",
       "      <td>4718</td>\n",
       "    </tr>\n",
       "  </tbody>\n",
       "</table>\n",
       "<p>2477 rows × 3 columns</p>\n",
       "</div>"
      ],
      "text/plain": [
       "                     confirmed  cured  dead\n",
       "datetime_idx                               \n",
       "2020-02-02 10:22:00      14483    379   304\n",
       "2020-02-02 10:28:00      14483    380   304\n",
       "2020-02-02 11:19:00      14489    385   304\n",
       "2020-02-02 11:54:00      14489    397   304\n",
       "2020-02-02 15:01:00      14490    430   304\n",
       "...                        ...    ...   ...\n",
       "2020-08-23 20:20:00      90166  84425  4718\n",
       "2020-08-23 21:35:00      90166  84425  4718\n",
       "2020-08-24 08:07:00      90176  84425  4718\n",
       "2020-08-24 08:31:00      90182  84446  4718\n",
       "2020-08-24 10:08:00      90182  84446  4718\n",
       "\n",
       "[2477 rows x 3 columns]"
      ]
     },
     "execution_count": 14,
     "metadata": {},
     "output_type": "execute_result"
    }
   ],
   "source": [
    "df"
   ]
  },
  {
   "cell_type": "code",
   "execution_count": 15,
   "metadata": {
    "scrolled": true
   },
   "outputs": [
    {
     "data": {
      "image/png": "[encoded data removed]",
      "text/plain": [
       "<Figure size 1008x1008 with 3 Axes>"
      ]
     },
     "metadata": {},
     "output_type": "display_data"
    }
   ],
   "source": [
    "if df.shape[0]>1:\n",
    "    # line chart when having at least a few points\n",
    "    sns.set(rc={'figure.figsize':(14,14)})\n",
    "    sns.set(style=\"whitegrid\")\n",
    "\n",
    "    fig, axs = plt.subplots(nrows=3)\n",
    "\n",
    "    sns.lineplot(x=df.index, y = 'confirmed', data=df, ax= axs[0], estimator=None, color='orange')\n",
    "    sns.lineplot(x=df.index, y = 'cured', data=df, ax= axs[1], estimator=None, color='green')\n",
    "    sns.lineplot(x=df.index, y = 'dead', data=df, ax= axs[2], estimator=None, color='darkred')\n",
    "\n",
    "    for ax in axs:\n",
    "        ax.set_xlabel('')\n",
    "        ax.tick_params(axis='x', labelrotation=30)\n",
    "else:\n",
    "\n",
    "    ax = df.plot(kind='bar', stacked=True, figsize=(9,6))\n",
    "    fig = ax.get_figure()\n",
    "    ax.set_xlabel('')\n",
    "    for label in ax.get_xticklabels():\n",
    "        label.set_rotation(0) \n"
   ]
  },
  {
   "cell_type": "code",
   "execution_count": 16,
   "metadata": {},
   "outputs": [],
   "source": [
    "fig.savefig(png_file)"
   ]
  },
  {
   "cell_type": "code",
   "execution_count": null,
   "metadata": {},
   "outputs": [],
   "source": []
  },
  {
   "cell_type": "code",
   "execution_count": null,
   "metadata": {},
   "outputs": [],
   "source": []
  }
 ],
 "metadata": {
  "kernelspec": {
   "display_name": "Python 3",
   "language": "python",
   "name": "python3"
  },
  "language_info": {
   "codemirror_mode": {
    "name": "ipython",
    "version": 3
   },
   "file_extension": ".py",
   "mimetype": "text/x-python",
   "name": "python",
   "nbconvert_exporter": "python",
   "pygments_lexer": "ipython3",
   "version": "3.7.6"
  }
 },
 "nbformat": 4,
 "nbformat_minor": 2
}
