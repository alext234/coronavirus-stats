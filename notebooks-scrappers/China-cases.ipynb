{
 "cells": [
  {
   "cell_type": "code",
   "execution_count": 1,
   "metadata": {},
   "outputs": [],
   "source": [
    "import pandas as pd\n",
    "import requests\n",
    "from bs4 import BeautifulSoup\n",
    "import re\n",
    "from datetime import datetime\n",
    "from selenium import webdriver\n",
    "from selenium.webdriver.chrome.options import Options  \n"
   ]
  },
  {
   "cell_type": "code",
   "execution_count": 2,
   "metadata": {},
   "outputs": [
    {
     "data": {
      "text/plain": [
       "datetime.datetime(2020, 4, 10, 11, 7, 2, 840394)"
      ]
     },
     "execution_count": 2,
     "metadata": {},
     "output_type": "execute_result"
    }
   ],
   "source": [
    "datetime.now()"
   ]
  },
  {
   "cell_type": "code",
   "execution_count": 3,
   "metadata": {},
   "outputs": [],
   "source": [
    "chrome_options = Options()  \n",
    "chrome_options.add_argument(\"--headless\")  \n",
    "chrome_options.add_argument(\"--no-sandbox\")\n",
    "\n",
    "driver = webdriver.Chrome('chromedriver', options=chrome_options)"
   ]
  },
  {
   "cell_type": "code",
   "execution_count": 4,
   "metadata": {},
   "outputs": [],
   "source": [
    "url = 'https://ncov.dxy.cn/ncovh5/view/pneumonia'\n",
    "driver.get(url)"
   ]
  },
  {
   "cell_type": "markdown",
   "metadata": {},
   "source": [
    "### Extract date"
   ]
  },
  {
   "cell_type": "code",
   "execution_count": 5,
   "metadata": {},
   "outputs": [],
   "source": [
    "content = driver.page_source\n",
    "soup =BeautifulSoup(content, 'lxml')\n"
   ]
  },
  {
   "cell_type": "code",
   "execution_count": 6,
   "metadata": {},
   "outputs": [
    {
     "data": {
      "text/plain": [
       "['try { window.getTimelineService1 = [{\"id\":27669,\"pubDate\":1586515846000,\"pubDateStr\":\"13分钟前\",\"title\":\"黎巴嫩累计新冠肺炎确诊病例609例\",\"summary\":\"黎巴嫩卫生部官网公布，截至10日中午黎新冠肺炎确诊总人数为609人，较昨日增加27人。过去24小时内共有5名患者被治愈，治愈总人数已达67人，死亡病例增加1例上升至20例，确诊患者中有危重病例28例，疑似病例目前为596例，另外有1282人处于隔离状态。（总台记者 孙虎）\",\"infoSource\":\"央视新闻app\",\"sourceUrl\":\"http://app.cctv.com/special/cportal/detail/arti/index.html?id=Arti2AsuzWi8UuRR3ajTNoFw200410&isfromapp=1\",\"provinceId\":\"\"},{\"id\":27665,\"pubDate\":1586515294000,\"pubDateStr\":\"22分钟前\",\"title\":\"白俄罗斯新增495例新冠肺炎确诊病例 累计达到1981例\",\"summary\":\"根据白俄罗斯卫生部新闻处发布的消息，截至4月10日，该国新冠肺炎确诊病例累计达到1981例，死亡病例达到19例，治愈病例达169例。目前，有1793名新冠肺炎患者正在医院进行治疗，其中72人需要接受呼吸机治疗。根据白俄罗斯卫生部前一天发布的数据，4月9日该国境内累计确诊病例数为1486例，因此，在过去的24小时，新增病例数达到495例。（总台记者 李俊翔）\",\"infoSource\":\"央视新闻app\",\"sourceUrl\":\"http://app.cctv.com/special/cportal/detail/arti/index.html?id=ArtinFQpKtBkWGIaM4EfNiqp200410&isfromapp=1\",\"provinceId\":\"\"},{\"id\":27663,\"pubDate\":1586514936000,\"pubDateStr\":\"28分钟前\",\"title\":\"埃塞俄比亚新增新冠肺炎确诊病例9例 累计65例\",\"summary\":\"当地时间4月10日13时，埃塞俄比亚卫生部发布消息，在过去24小时内进行了442次新冠病毒核酸检测，其中9例呈阳性，均为境外输入病例。其中包括7名埃塞俄比亚本地人、1名印度人和1名厄立特里亚人。目前埃塞俄比亚共完成3232次测试，累计确诊病例65例，治愈病例4例，死亡病例2例。确诊后离境2人，现存病例57人，其中1人处于重症监护状态。（总台记者 吴婷）\",\"infoSource\":\"央视新闻app\",\"sourceUrl\":\"http://app.cctv.com/special/cportal/detail/arti/index.html?id=ArtisI8PtKTY4m6FdyuVPVIK200410&isfromapp=1\",\"provinceId\":\"\"},{\"id\":27664,\"pubDate\":1586514833000,\"pubDateStr\":\"30分钟前\",\"title\":\"比利时新增确诊新冠肺炎病例1684例 累计26667例\",\"summary\":\"据比利时官方媒体当地时间4月10日上午报道，在过去24小时内，比利时境内新增新冠肺炎确诊病例1684例，新增死亡病例325例。截至目前，比利时累计确诊病例26667例，累计死亡3019例。目前有1278名患者处于重症监护中，比前日减少7人。在所有死亡人数中，57%死于医院，40%死于养老院，1%死于家中，2%死于其他场所。（总台记者 西佳）\",\"infoSource\":\"央视新闻app\",\"sourceUrl\":\"http://app.cctv.com/special/cportal/detail/arti/index.html?id=ArtitQbCPHbZRBCdi7o7ExZj200410&isfromapp=1\",\"provinceId\":\"\"},{\"id\":27661,\"pubDate\":1586514003000,\"pubDateStr\":\"44分钟前\",\"title\":\"伊朗新增新冠肺炎确诊病例1972例，累计68192例\",\"summary\":\"据阿联酋阿拉比亚电视台报道，伊朗卫生部4月10日通报，伊朗新增1972例新冠肺炎确诊病例，累计确诊68192例；累计死亡4332例。\",\"infoSource\":\"人民日报海外版\",\"sourceUrl\":\"http://m.weibo.cn/3057540037/4492227679936663\",\"provinceId\":\"\"},{\"id\":27633,\"pubDate\":1586512573000,\"pubDateStr\":\"1小时前\",\"title\":\"马来西亚新增118例新冠肺炎确诊病例，累计确诊4346例\",\"summary\":\"当地时间10日，马来西亚宣布新增118例新冠肺炎确诊病例，累计确诊4346例。新增死亡病例3例，累计死亡70例。\\xa0马来西亚卫生总监努尔·希萨姆·阿卜杜拉介绍说，今日（10日）共有222人治愈出院，累计治愈病例1830例。\",\"infoSource\":\"央视新闻app\",\"sourceUrl\":\"http://app.cctv.com/special/cportal/detail/arti/index.html?id=Arti4iFnOYNmV2x9GRNQlAJ1200410&isfromapp=1\",\"provinceId\":\"\"},{\"id\":27641,\"pubDate\":1586512020000,\"pubDateStr\":\"1小时前\",\"title\":\"伊朗新增新冠肺炎确诊病例1972例 累计确诊68192例\",\"summary\":\"根据伊朗卫生部最新消息，当地时间10日，伊朗新增新冠肺炎确诊病例1972例，新增死亡122例。截至当天中午，伊朗累计确诊新冠肺炎病例68192例，其中35465例康复，4232例死亡。\",\"infoSource\":\"央视新闻app\",\"sourceUrl\":\"http://app.cctv.com/special/cportal/detail/arti/index.html?id=ArtiWiBl5JvKgJhAiHk3r2aO200410&isfromapp=1\",\"provinceId\":\"\"},{\"id\":27645,\"pubDate\":1586511908000,\"pubDateStr\":\"1小时前\",\"title\":\"\\u200b坦桑尼亚桑给巴尔岛新增2例新冠肺炎确诊病例\",\"summary\":\"当地时间4月10日上午，坦桑尼亚桑给巴尔卫生部通报了两例新增新冠肺炎确诊病例。两个确诊病例均为坦桑尼亚人，其中一人4月7日开始发烧，新冠肺炎检测结果呈阳性；另一人有咳嗽和感冒症状，核酸检测呈阳性。这两名确诊病例均未有桑给巴尔岛之外的旅行史。\",\"infoSource\":\"央视新闻app\",\"sourceUrl\":\"http://app.cctv.com/special/cportal/detail/arti/index.html?id=ArtiZCmKhFzgDTEkqg2ICKTc200410&isfromapp=1\",\"provinceId\":\"\"},{\"id\":27646,\"pubDate\":1586511889000,\"pubDateStr\":\"1小时前\",\"title\":\"卢森堡新增新冠肺炎确诊病例64例 累计确诊3034例\",\"summary\":\"截至当地时间4月8日下午，据卢森堡卫生部门最新通报，过去24小时其境内新增新冠肺炎确诊病例64例，累计确诊3034例。其中死亡病例新增2例，共计46例。目前，共有231人住院治疗，其中34人在重症监护。另据统计，自疫情暴发以来，卢森堡已进行了26500次新冠病毒检测。（总台记者 西佳）\",\"infoSource\":\"央视新闻app\",\"sourceUrl\":\"http://app.cctv.com/special/cportal/detail/arti/index.html?id=Artin6aAIwAPwvOCskJ71dKI200410&isfromapp=1\",\"provinceId\":\"\"},{\"id\":27647,\"pubDate\":1586511884000,\"pubDateStr\":\"1小时前\",\"title\":\"西班牙新冠肺炎患者达157022例 单日新增死亡创新低\",\"summary\":\"当地时间10日据西班牙卫生部官网通报，过去24小时，该国新增 4576例新冠肺炎确诊病例，累计确诊157022例；累计死亡15843例，24小时新增死亡605例，是3月24日以来历史最低。（总台记者 魏帆）\",\"infoSource\":\"央视新闻app\",\"sourceUrl\":\"http://app.cctv.com/special/cportal/detail/arti/index.html?id=ArtipA3UdkTbOsl2hixEySeH200410&isfromapp=1\",\"provinceId\":\"\"},{\"id\":27648,\"pubDate\":1586511835000,\"pubDateStr\":\"1小时前\",\"title\":\"\\u200b阿尔巴尼亚：新增新冠肺炎确诊病例7例 累计416例\",\"summary\":\"当地时间4月10日，据《阿尔巴尼亚日报》消息，截止到记者发稿时，阿尔巴尼亚新增新冠肺炎确诊病例7例，累计416例。（总台记者 李冠男）\",\"infoSource\":\"央视新闻app\",\"sourceUrl\":\"http://app.cctv.com/special/cportal/detail/arti/index.html?id=ArtiodPJsliXqysRbRZkaleF200410&isfromapp=1\",\"provinceId\":\"\"},{\"id\":27649,\"pubDate\":1586511709000,\"pubDateStr\":\"1小时前\",\"title\":\"印尼新增219例新冠肺炎确诊病例 全国累计确诊病例3512人\",\"summary\":\"印尼最新疫情：4月10日，印尼卫生部宣布新增219例新冠肺炎确诊病例，全国累计确诊病例3512人，含306例死亡病例。（总台记者 贾建京）\",\"infoSource\":\"央视新闻app\",\"sourceUrl\":\"http://app.cctv.com/special/cportal/detail/arti/index.html?id=ArtimNWt2J0xYFDI7i09nN7K200410&isfromapp=1\",\"provinceId\":\"\"}]}catch(e){}',\n",
       " '截至北京时间 2020-04-10 11:05',\n",
       " '截至北京时间 2020-04-10 11:05',\n",
       " '黎巴嫩卫生部官网公布，截至10日中午黎新冠肺炎确诊总人数为609人，较昨日增加27人。过去24小时内共有5名患者被治愈，治愈总人数已达67人，死亡病例增加1例上升至20例，确诊患者中有危重病例28例，疑似病例目前为596例，另外有1282人处于隔离状态。（总台记者 孙虎）',\n",
       " '根据白俄罗斯卫生部新闻处发布的消息，截至4月10日，该国新冠肺炎确诊病例累计达到1981例，死亡病例达到19例，治愈病例达169例。目前，有1793名新冠肺炎患者正在医院进行治疗，其中72人需要接受呼吸机治疗。根据白俄罗斯卫生部前一天发布的数据，4月9日该国境内累计确诊病例数为1486例，因此，在过去的24小时，新增病例数达到495例。（总台记者 李俊翔）',\n",
       " '据比利时官方媒体当地时间4月10日上午报道，在过去24小时内，比利时境内新增新冠肺炎确诊病例1684例，新增死亡病例325例。截至目前，比利时累计确诊病例26667例，累计死亡3019例。目前有1278名患者处于重症监护中，比前日减少7人。在所有死亡人数中，57%死于医院，40%死于养老院，1%死于家中，2%死于其他场所。（总台记者 西佳）',\n",
       " '根据伊朗卫生部最新消息，当地时间10日，伊朗新增新冠肺炎确诊病例1972例，新增死亡122例。截至当天中午，伊朗累计确诊新冠肺炎病例68192例，其中35465例康复，4232例死亡。',\n",
       " '截至当地时间4月8日下午，据卢森堡卫生部门最新通报，过去24小时其境内新增新冠肺炎确诊病例64例，累计确诊3034例。其中死亡病例新增2例，共计46例。目前，共有231人住院治疗，其中34人在重症监护。另据统计，自疫情暴发以来，卢森堡已进行了26500次新冠病毒检测。（总台记者 西佳）']"
      ]
     },
     "execution_count": 6,
     "metadata": {},
     "output_type": "execute_result"
    }
   ],
   "source": [
    "data = soup.findAll(text=re.compile(\"截至.+\"))\n",
    "data"
   ]
  },
  {
   "cell_type": "code",
   "execution_count": 7,
   "metadata": {},
   "outputs": [
    {
     "data": {
      "text/plain": [
       "'2020-04-10 11:05'"
      ]
     },
     "execution_count": 7,
     "metadata": {},
     "output_type": "execute_result"
    }
   ],
   "source": [
    "for s in data:\n",
    "    m = re.search(\"截至.*(202\\d-\\d+-\\d+ \\d+:\\d+)\", s)\n",
    "    if m is not None:\n",
    "        data_date_time = m.group(1)\n",
    "data_date_time"
   ]
  },
  {
   "cell_type": "markdown",
   "metadata": {},
   "source": [
    "### Extract data (summary)"
   ]
  },
  {
   "cell_type": "code",
   "execution_count": 8,
   "metadata": {},
   "outputs": [
    {
     "data": {
      "text/plain": [
       "['try { window.getStatisticsService = {\"id\":1,\"createTime\":1579537899000,\"modifyTime\":1586516759000,\"infectSource\":\"该字段已替换为说明2\",\"passWay\":\"该字段已替换为说明3\",\"imgUrl\":\"https://img1.dxycdn.com/2020/0201/450/3394153392393266839-135.png\",\"dailyPic\":\"https://img1.dxycdn.com/2020/0211/763/3395998884005602079-135.png,https://img1.dxycdn.com/2020/0211/362/3395998896890788910-135.png,https://img1.dxycdn.com/2020/0211/365/3395998905480724211-135.png,https://img1.dxycdn.com/2020/0211/364/3395998916217859778-135.png,https://img1.dxycdn.com/2020/0211/922/3395998929103046444-135.png,https://img1.dxycdn.com/2020/0211/089/3395998939840182072-135.png\",\"dailyPics\":[\"https://img1.dxycdn.com/2020/0211/763/3395998884005602079-135.png\",\"https://img1.dxycdn.com/2020/0211/362/3395998896890788910-135.png\",\"https://img1.dxycdn.com/2020/0211/365/3395998905480724211-135.png\",\"https://img1.dxycdn.com/2020/0211/364/3395998916217859778-135.png\",\"https://img1.dxycdn.com/2020/0211/922/3395998929103046444-135.png\",\"https://img1.dxycdn.com/2020/0211/089/3395998939840182072-135.png\"],\"summary\":\"\",\"deleted\":false,\"countRemark\":\"\",\"currentConfirmedCount\":2110,\"confirmedCount\":83323,\"suspectedCount\":1141,\"curedCount\":77867,\"deadCount\":3346,\"seriousCount\":1097,\"suspectedIncr\":38,\"currentConfirmedIncr\":-84,\"confirmedIncr\":74,\"curedIncr\":156,\"deadIncr\":2,\"seriousIncr\":-7,\"virus\":\"该字段已替换为说明1\",\"remark1\":\"易感人群：人群普遍易感。老年人及有基础疾病者感染后病情较重，儿童及婴幼儿也有发病\",\"remark2\":\"潜伏期：一般为 3～7 天，最长不超过 14 天，潜伏期内可能存在传染性，其中无症状病例传染性非常罕见\",\"remark3\":\"宿主：野生动物，可能为中华菊头蝠\",\"remark4\":\"\",\"remark5\":\"\",\"note1\":\"病毒：SARS-CoV-2，其导致疾病命名 COVID-19\",\"note2\":\"传染源：新冠肺炎的患者。无症状感染者也可能成为传染源。\",\"note3\":\"传播途径：经呼吸道飞沫、接触传播是主要的传播途径。气溶胶传播和消化道等传播途径尚待明确。\",\"generalRemark\":\"1. 3 月 12 日国家卫健委确诊补订遗漏 12 例确诊病例（非 12 日新增），暂无具体省份信息。 2. 浙江省 12 例外省治愈暂无具体省份信息。\",\"abroadRemark\":\"\",\"marquee\":[{\"id\":1980,\"marqueeLabel\":\"上学去\",\"marqueeContent\":\"仅有湖北、北京尚未公布开学时间表\",\"marqueeLink\":\"https://dxy.me/XUt2Ae\"},{\"id\":1981,\"marqueeLabel\":\"快讯\",\"marqueeContent\":\"约翰逊首相病情好转离开重症监护室\",\"marqueeLink\":\"https://dxy.me/NRLOOY\"},{\"id\":1982,\"marqueeLabel\":\"数字新冠\",\"marqueeContent\":\"4 月 9 日，世界因新冠而变\",\"marqueeLink\":\"https://dxy.me/55FdkB\"}],\"quanguoTrendChart\":[{\"imgUrl\":\"https://img1.dxycdn.com/2020/0324/278/3403801351376518263-135.png\",\"title\":\"新增疑似/新增确诊\"},{\"imgUrl\":\"https://img1.dxycdn.com/2020/0324/812/3403847865872006755-135.png\",\"title\":\"境外输入\"},{\"imgUrl\":\"https://img1.dxycdn.com/2020/0324/547/3403847848692336947-135.png\",\"title\":\"现存确诊\"},{\"imgUrl\":\"https://img1.dxycdn.com/2020/0324/775/3403801407211095604-135.png\",\"title\":\"治愈\"},{\"imgUrl\":\"https://img1.dxycdn.com/2020/0324/250/3403801424390727199-135.png\",\"title\":\"死亡\"}],\"hbFeiHbTrendChart\":[{\"imgUrl\":\"https://img1.dxycdn.com/2020/0326/624/3404177508906904585-135.png\",\"title\":\"非湖北新增确诊\"},{\"imgUrl\":\"https://img1.dxycdn.com/2020/0326/777/3404177532529485065-135.png\",\"title\":\"湖北新增确诊\"},{\"imgUrl\":\"https://img1.dxycdn.com/2020/0326/376/3404177556151805921-135.png\",\"title\":\"湖北现存确诊\"},{\"imgUrl\":\"https://img1.dxycdn.com/2020/0326/527/3404177575478899995-135.png\",\"title\":\"非湖北现存确诊\"},{\"imgUrl\":\"https://img1.dxycdn.com/2020/0326/419/3404177596953996726-135.png\",\"title\":\"治愈/死亡\"}],\"foreignTrendChart\":[{\"imgUrl\":\"https://img1.dxycdn.com/2020/0320/702/3403079914982117944-135.png\",\"title\":\"国外新增确诊\"},{\"imgUrl\":\"https://img1.dxycdn.com/2020/0320/396/3403079925719536561-135.png\",\"title\":\"国外累计确诊\"},{\"imgUrl\":\"https://img1.dxycdn.com/2020/0320/139/3403079936457225524-135.png\",\"title\":\"国外死亡\"}],\"importantForeignTrendChart\":[{\"imgUrl\":\"https://img1.dxycdn.com/2020/0320/450/3403077453965772423-135.png\",\"title\":\"重点国家新增确诊\"},{\"imgUrl\":\"https://img1.dxycdn.com/2020/0320/276/3403077462555980566-135.png\",\"title\":\"日本新增确诊\"},{\"imgUrl\":\"https://img1.dxycdn.com/2020/0320/340/3403077473293125942-135.png\",\"title\":\"意大利新增确诊\"},{\"imgUrl\":\"https://img1.dxycdn.com/2020/0320/723/3403077481883334043-135.png\",\"title\":\"伊朗新增确诊\"},{\"imgUrl\":\"https://img1.dxycdn.com/2020/0320/266/3403077492620752785-135.png\",\"title\":\"美国新增确诊\"},{\"imgUrl\":\"https://img1.dxycdn.com/2020/0320/870/3403077503358171278-135.png\",\"title\":\"法国新增确诊\"},{\"imgUrl\":\"https://img1.dxycdn.com/2020/0320/053/3403077511947832997-135.png\",\"title\":\"德国新增确诊\"},{\"imgUrl\":\"https://img1.dxycdn.com/2020/0320/878/3403077520537768006-135.png\",\"title\":\"西班牙新增确诊\"},{\"imgUrl\":\"https://img1.dxycdn.com/2020/0320/443/3403077531275186665-135.png\",\"title\":\"韩国新增确诊\"}],\"foreignTrendChartGlobal\":[{\"imgUrl\":\"https://img1.dxycdn.com/2020/0319/740/3402859458605738923-135.png\",\"title\":\"Daily New Cases\"},{\"imgUrl\":\"https://img1.dxycdn.com/2020/0319/351/3402856772103846114-135.png\",\"title\":\"Total Confirmed Cases\"},{\"imgUrl\":\"https://img1.dxycdn.com/2020/0319/236/3402856782841001789-135.png\",\"title\":\"Total Deaths Cases\"}],\"importantForeignTrendChartGlobal\":[{\"imgUrl\":\"https://img1.dxycdn.com/2020/0319/122/3402856838675578578-135.png\",\"title\":\"Daily New Cases\"},{\"imgUrl\":\"https://img1.dxycdn.com/2020/0319/685/3402856849412997239-135.png\",\"title\":\"Japan\"},{\"imgUrl\":\"https://img1.dxycdn.com/2020/0319/477/3402856860150678804-135.png\",\"title\":\"Italy\"},{\"imgUrl\":\"https://img1.dxycdn.com/2020/0319/454/3402856873035581014-135.png\",\"title\":\"Iran\"},{\"imgUrl\":\"https://img1.dxycdn.com/2020/0319/022/3402856883772999714-135.png\",\"title\":\"U.S.A.\"},{\"imgUrl\":\"https://img1.dxycdn.com/2020/0319/529/3402856894510155506-135.png\",\"title\":\"France\"},{\"imgUrl\":\"https://img1.dxycdn.com/2020/0319/211/3402856905247574064-135.png\",\"title\":\"Germany\"},{\"imgUrl\":\"https://img1.dxycdn.com/2020/0319/054/3402856913837508985-135.png\",\"title\":\"Spain\"},{\"imgUrl\":\"https://img1.dxycdn.com/2020/0319/088/3402856928870157852-135.png\",\"title\":\"Republic of Korea\"}],\"foreignStatistics\":{\"currentConfirmedCount\":1123734,\"confirmedCount\":1487376,\"suspectedCount\":4,\"curedCount\":270652,\"deadCount\":92990,\"suspectedIncr\":0,\"currentConfirmedIncr\":5615,\"confirmedIncr\":15702,\"curedIncr\":8575,\"deadIncr\":1512},\"globalStatistics\":{\"currentConfirmedCount\":1125844,\"confirmedCount\":1570699,\"curedCount\":348519,\"deadCount\":96336,\"currentConfirmedIncr\":5531,\"confirmedIncr\":15776,\"curedIncr\":8731,\"deadIncr\":1514},\"globalOtherTrendChartData\":\"https://file1.dxycdn.com/2020/0410/585/3406948512285046461-135.json\"}}catch(e){}']"
      ]
     },
     "execution_count": 8,
     "metadata": {},
     "output_type": "execute_result"
    }
   ],
   "source": [
    "data = soup.findAll(text=re.compile('\\\"summary.+\\\"confirmedCount\\\":\\d'))\n",
    "\n",
    "data\n"
   ]
  },
  {
   "cell_type": "code",
   "execution_count": 9,
   "metadata": {},
   "outputs": [],
   "source": [
    "m = re.search('\\\"confirmedCount\\\":(\\d+)', data[0])\n",
    "summary_confirmed_count = int(m.group(1))\n",
    "\n",
    "\n",
    "m = re.search('\\\"curedCount\\\":(\\d+)', data[0])\n",
    "summary_cured_count = int(m.group(1))\n",
    "\n",
    "m = re.search('\\\"deadCount\\\":(\\d+)', data[0])\n",
    "summary_dead_count = int(m.group(1))\n"
   ]
  },
  {
   "cell_type": "code",
   "execution_count": 10,
   "metadata": {},
   "outputs": [
    {
     "data": {
      "text/html": [
       "<div>\n",
       "<style scoped>\n",
       "    .dataframe tbody tr th:only-of-type {\n",
       "        vertical-align: middle;\n",
       "    }\n",
       "\n",
       "    .dataframe tbody tr th {\n",
       "        vertical-align: top;\n",
       "    }\n",
       "\n",
       "    .dataframe thead th {\n",
       "        text-align: right;\n",
       "    }\n",
       "</style>\n",
       "<table border=\"1\" class=\"dataframe\">\n",
       "  <thead>\n",
       "    <tr style=\"text-align: right;\">\n",
       "      <th></th>\n",
       "      <th>datetime</th>\n",
       "      <th>confirmed</th>\n",
       "      <th>cured</th>\n",
       "      <th>dead</th>\n",
       "    </tr>\n",
       "  </thead>\n",
       "  <tbody>\n",
       "    <tr>\n",
       "      <th>0</th>\n",
       "      <td>2020-04-10 11:05</td>\n",
       "      <td>83323</td>\n",
       "      <td>77867</td>\n",
       "      <td>3346</td>\n",
       "    </tr>\n",
       "  </tbody>\n",
       "</table>\n",
       "</div>"
      ],
      "text/plain": [
       "           datetime  confirmed  cured  dead\n",
       "0  2020-04-10 11:05      83323  77867  3346"
      ]
     },
     "execution_count": 10,
     "metadata": {},
     "output_type": "execute_result"
    }
   ],
   "source": [
    "# make a dataframe\n",
    "df = pd.DataFrame({\n",
    "    'datetime': data_date_time,\n",
    "    'confirmed': summary_confirmed_count,\n",
    "    'cured': summary_cured_count,\n",
    "    'dead': summary_dead_count\n",
    "}, index=[0])\n",
    "df"
   ]
  },
  {
   "cell_type": "markdown",
   "metadata": {},
   "source": [
    "### Save to file"
   ]
  },
  {
   "cell_type": "code",
   "execution_count": 11,
   "metadata": {},
   "outputs": [],
   "source": [
    "from pathlib import Path\n",
    "csv_file = '../data/china-summary-cases.csv'\n",
    "\n",
    "if Path(csv_file).exists():\n",
    "    # read out the old data - then merge with new data and remove duplicates based on datetime\n",
    "    old_df = pd.read_csv(csv_file)\n",
    "    df = df.append(old_df)\n",
    "df.drop_duplicates(subset=['datetime'], inplace=True)"
   ]
  },
  {
   "cell_type": "code",
   "execution_count": 12,
   "metadata": {},
   "outputs": [],
   "source": [
    "df.sort_values(by=['datetime'], inplace=True)\n",
    "\n",
    "df.to_csv(csv_file, index=False)\n"
   ]
  },
  {
   "cell_type": "markdown",
   "metadata": {},
   "source": [
    "### Plot graph"
   ]
  },
  {
   "cell_type": "code",
   "execution_count": 13,
   "metadata": {},
   "outputs": [],
   "source": [
    "import seaborn as sns\n",
    "import matplotlib.pyplot as plt\n",
    "from pandas.plotting import register_matplotlib_converters\n",
    "register_matplotlib_converters()\n",
    "\n",
    "png_file = '../images/china-summary-cases.png'\n",
    "# convert to pd.datetime\n",
    "df['datetime_idx'] = pd.to_datetime(df['datetime'], format=\"%Y-%m-%d %H:%M\")\n",
    "\n",
    "df.set_index('datetime_idx', inplace=True)\n",
    "df.drop(['datetime'], axis=1, inplace=True)\n"
   ]
  },
  {
   "cell_type": "code",
   "execution_count": 14,
   "metadata": {},
   "outputs": [
    {
     "data": {
      "text/html": [
       "<div>\n",
       "<style scoped>\n",
       "    .dataframe tbody tr th:only-of-type {\n",
       "        vertical-align: middle;\n",
       "    }\n",
       "\n",
       "    .dataframe tbody tr th {\n",
       "        vertical-align: top;\n",
       "    }\n",
       "\n",
       "    .dataframe thead th {\n",
       "        text-align: right;\n",
       "    }\n",
       "</style>\n",
       "<table border=\"1\" class=\"dataframe\">\n",
       "  <thead>\n",
       "    <tr style=\"text-align: right;\">\n",
       "      <th></th>\n",
       "      <th>confirmed</th>\n",
       "      <th>cured</th>\n",
       "      <th>dead</th>\n",
       "    </tr>\n",
       "    <tr>\n",
       "      <th>datetime_idx</th>\n",
       "      <th></th>\n",
       "      <th></th>\n",
       "      <th></th>\n",
       "    </tr>\n",
       "  </thead>\n",
       "  <tbody>\n",
       "    <tr>\n",
       "      <th>2020-02-02 10:22:00</th>\n",
       "      <td>14483</td>\n",
       "      <td>379</td>\n",
       "      <td>304</td>\n",
       "    </tr>\n",
       "    <tr>\n",
       "      <th>2020-02-02 10:28:00</th>\n",
       "      <td>14483</td>\n",
       "      <td>380</td>\n",
       "      <td>304</td>\n",
       "    </tr>\n",
       "    <tr>\n",
       "      <th>2020-02-02 11:19:00</th>\n",
       "      <td>14489</td>\n",
       "      <td>385</td>\n",
       "      <td>304</td>\n",
       "    </tr>\n",
       "    <tr>\n",
       "      <th>2020-02-02 11:54:00</th>\n",
       "      <td>14489</td>\n",
       "      <td>397</td>\n",
       "      <td>304</td>\n",
       "    </tr>\n",
       "    <tr>\n",
       "      <th>2020-02-02 15:01:00</th>\n",
       "      <td>14490</td>\n",
       "      <td>430</td>\n",
       "      <td>304</td>\n",
       "    </tr>\n",
       "    <tr>\n",
       "      <th>...</th>\n",
       "      <td>...</td>\n",
       "      <td>...</td>\n",
       "      <td>...</td>\n",
       "    </tr>\n",
       "    <tr>\n",
       "      <th>2020-04-10 03:01:00</th>\n",
       "      <td>83305</td>\n",
       "      <td>77838</td>\n",
       "      <td>3345</td>\n",
       "    </tr>\n",
       "    <tr>\n",
       "      <th>2020-04-10 03:24:00</th>\n",
       "      <td>83305</td>\n",
       "      <td>77838</td>\n",
       "      <td>3345</td>\n",
       "    </tr>\n",
       "    <tr>\n",
       "      <th>2020-04-10 06:13:00</th>\n",
       "      <td>83305</td>\n",
       "      <td>77838</td>\n",
       "      <td>3345</td>\n",
       "    </tr>\n",
       "    <tr>\n",
       "      <th>2020-04-10 09:03:00</th>\n",
       "      <td>83323</td>\n",
       "      <td>77851</td>\n",
       "      <td>3346</td>\n",
       "    </tr>\n",
       "    <tr>\n",
       "      <th>2020-04-10 11:05:00</th>\n",
       "      <td>83323</td>\n",
       "      <td>77867</td>\n",
       "      <td>3346</td>\n",
       "    </tr>\n",
       "  </tbody>\n",
       "</table>\n",
       "<p>1045 rows × 3 columns</p>\n",
       "</div>"
      ],
      "text/plain": [
       "                     confirmed  cured  dead\n",
       "datetime_idx                               \n",
       "2020-02-02 10:22:00      14483    379   304\n",
       "2020-02-02 10:28:00      14483    380   304\n",
       "2020-02-02 11:19:00      14489    385   304\n",
       "2020-02-02 11:54:00      14489    397   304\n",
       "2020-02-02 15:01:00      14490    430   304\n",
       "...                        ...    ...   ...\n",
       "2020-04-10 03:01:00      83305  77838  3345\n",
       "2020-04-10 03:24:00      83305  77838  3345\n",
       "2020-04-10 06:13:00      83305  77838  3345\n",
       "2020-04-10 09:03:00      83323  77851  3346\n",
       "2020-04-10 11:05:00      83323  77867  3346\n",
       "\n",
       "[1045 rows x 3 columns]"
      ]
     },
     "execution_count": 14,
     "metadata": {},
     "output_type": "execute_result"
    }
   ],
   "source": [
    "df"
   ]
  },
  {
   "cell_type": "code",
   "execution_count": 15,
   "metadata": {
    "scrolled": true
   },
   "outputs": [
    {
     "data": {
      "image/png": "[encoded data removed]",
      "text/plain": [
       "<Figure size 1008x1008 with 3 Axes>"
      ]
     },
     "metadata": {},
     "output_type": "display_data"
    }
   ],
   "source": [
    "if df.shape[0]>1:\n",
    "    # line chart when having at least a few points\n",
    "    sns.set(rc={'figure.figsize':(14,14)})\n",
    "    sns.set(style=\"whitegrid\")\n",
    "\n",
    "    fig, axs = plt.subplots(nrows=3)\n",
    "\n",
    "    sns.lineplot(x=df.index, y = 'confirmed', data=df, ax= axs[0], estimator=None, color='orange')\n",
    "    sns.lineplot(x=df.index, y = 'cured', data=df, ax= axs[1], estimator=None, color='green')\n",
    "    sns.lineplot(x=df.index, y = 'dead', data=df, ax= axs[2], estimator=None, color='darkred')\n",
    "\n",
    "    for ax in axs:\n",
    "        ax.set_xlabel('')\n",
    "        ax.tick_params(axis='x', labelrotation=30)\n",
    "else:\n",
    "\n",
    "    ax = df.plot(kind='bar', stacked=True, figsize=(9,6))\n",
    "    fig = ax.get_figure()\n",
    "    ax.set_xlabel('')\n",
    "    for label in ax.get_xticklabels():\n",
    "        label.set_rotation(0) \n"
   ]
  },
  {
   "cell_type": "code",
   "execution_count": 16,
   "metadata": {},
   "outputs": [],
   "source": [
    "fig.savefig(png_file)"
   ]
  },
  {
   "cell_type": "code",
   "execution_count": null,
   "metadata": {},
   "outputs": [],
   "source": []
  },
  {
   "cell_type": "code",
   "execution_count": null,
   "metadata": {},
   "outputs": [],
   "source": []
  }
 ],
 "metadata": {
  "kernelspec": {
   "display_name": "Python 3",
   "language": "python",
   "name": "python3"
  },
  "language_info": {
   "codemirror_mode": {
    "name": "ipython",
    "version": 3
   },
   "file_extension": ".py",
   "mimetype": "text/x-python",
   "name": "python",
   "nbconvert_exporter": "python",
   "pygments_lexer": "ipython3",
   "version": "3.7.6"
  }
 },
 "nbformat": 4,
 "nbformat_minor": 2
}
