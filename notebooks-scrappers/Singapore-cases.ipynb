{
 "cells": [
  {
   "cell_type": "code",
   "execution_count": 1,
   "metadata": {},
   "outputs": [],
   "source": [
    "import pandas as pd\n",
    "import requests\n",
    "from bs4 import BeautifulSoup\n",
    "import re\n",
    "from datetime import datetime\n",
    "from selenium import webdriver\n",
    "from selenium.webdriver.chrome.options import Options  \n"
   ]
  },
  {
   "cell_type": "code",
   "execution_count": 2,
   "metadata": {},
   "outputs": [],
   "source": [
    "chrome_options = Options()  \n",
    "chrome_options.add_argument(\"--headless\")  \n",
    "chrome_options.add_argument(\"--no-sandbox\")\n",
    "\n",
    "driver = webdriver.Chrome('chromedriver', options=chrome_options)"
   ]
  },
  {
   "cell_type": "markdown",
   "metadata": {},
   "source": [
    "### Extract date\n",
    "\n"
   ]
  },
  {
   "cell_type": "code",
   "execution_count": 3,
   "metadata": {},
   "outputs": [],
   "source": [
    "url = 'https://www.moh.gov.sg/covid-19'\n",
    "\n",
    "driver.get(url)\n",
    "content = driver.page_source\n"
   ]
  },
  {
   "cell_type": "code",
   "execution_count": 4,
   "metadata": {},
   "outputs": [],
   "source": [
    "soup =BeautifulSoup(content, 'lxml')"
   ]
  },
  {
   "cell_type": "code",
   "execution_count": 5,
   "metadata": {},
   "outputs": [],
   "source": [
    "data = soup.findAll(text=re.compile(\"Case Summary in Singapore \\(as of .+\"))\n"
   ]
  },
  {
   "cell_type": "code",
   "execution_count": 6,
   "metadata": {},
   "outputs": [
    {
     "data": {
      "text/plain": [
       "['Case Summary in Singapore (as of 3 Jun 2020, 1200h)']"
      ]
     },
     "execution_count": 6,
     "metadata": {},
     "output_type": "execute_result"
    }
   ],
   "source": [
    "data"
   ]
  },
  {
   "cell_type": "code",
   "execution_count": 7,
   "metadata": {},
   "outputs": [
    {
     "data": {
      "text/plain": [
       "'2020-06-03'"
      ]
     },
     "execution_count": 7,
     "metadata": {},
     "output_type": "execute_result"
    }
   ],
   "source": [
    "m = re.search(\"(\\d+ \\w+ 202\\d, \\d+\\d+h)\", data[0])\n",
    "date_time_str = m.group(1)\n",
    "data_date_time = datetime.strptime(date_time_str, '%d %b %Y, %H%Mh').strftime('%Y-%m-%d')\n",
    "data_date_time\n"
   ]
  },
  {
   "cell_type": "markdown",
   "metadata": {},
   "source": [
    "### Extract Dataframes"
   ]
  },
  {
   "cell_type": "code",
   "execution_count": 8,
   "metadata": {},
   "outputs": [],
   "source": [
    "dfs = pd.read_html(content)"
   ]
  },
  {
   "cell_type": "code",
   "execution_count": 9,
   "metadata": {},
   "outputs": [
    {
     "data": {
      "text/plain": [
       "[    0   1\n",
       " 0 NaN NaN\n",
       " 1 NaN NaN,\n",
       "     0   1\n",
       " 0 NaN NaN\n",
       " 1 NaN NaN,\n",
       "                0       1\n",
       " 0  DORSCON Level  Orange,\n",
       "             0           1           2\n",
       " 0  IMPORTED**  IMPORTED**  IMPORTED**\n",
       " 1    580 (+0)    580 (+0)    580 (+0),\n",
       "                0\n",
       " 0  Active Cases#\n",
       " 1          12799,\n",
       "             0\n",
       " 0  Discharged\n",
       " 1       23582,\n",
       "                           0\n",
       " 0  In Community Facilities*\n",
       " 1                     12465,\n",
       "                        0\n",
       " 0  Hospitalised (Stable)\n",
       " 1                    329,\n",
       "                          0\n",
       " 0  Hospitalised (Critical)\n",
       " 1                        5,\n",
       "          0\n",
       " 0  Deaths^\n",
       " 1       24,\n",
       "         0\n",
       " 0  408495,\n",
       "         0\n",
       " 0  264393,\n",
       "          0\n",
       " 0  ~71,700,\n",
       "          0\n",
       " 0  ~46,400,\n",
       "               0                                                  1\n",
       " 0          Date                                              Title\n",
       " 1   04 Jun 2020                517 New Cases of COVID-19 Infection\n",
       " 2   03 Jun 2020  407 More Cases Discharged, 569 New Cases of CO...\n",
       " 3   03 Jun 2020  Additional Loan and Cashflow Support for Landl...\n",
       " 4   03 Jun 2020  Joint Press Statement by MInistry of Foreign A...\n",
       " 5   03 Jun 2020  Transcript of Permanent Secretary Mr Gabriel L...\n",
       " 6   03 Jun 2020  First Meeting of National Jobs Council - Minis...\n",
       " 7   03 Jun 2020  Update to Restart of Renovation Works from 2 J...\n",
       " 8   03 Jun 2020  More than 5,400 Renovation Projects Approved t...\n",
       " 9   03 Jun 2020                569 New Cases of COVID-19 Infection\n",
       " 10  02 Jun 2020  709 More Cases Discharged, 544 New Cases of CO...\n",
       " 11  02 Jun 2020                544 New Cases of COVID-19 Infection\n",
       " 12  01 Jun 2020  767 More Cases Discharged, 408 New Cases of CO...\n",
       " 13  01 Jun 2020         Guidance for Use of Masks and Face Shields\n",
       " 14  01 Jun 2020  Stay Safe, Stay Strong and Stay United as Circ...\n",
       " 15  01 Jun 2020  Joint MND-MOM Media Release on New Dormitories...\n",
       " 16  01 Jun 2020                408 New Cases of COVID-19 Infection\n",
       " 17  31 May 2020  972 More Cases Discharged, 518 New Cases of CO...\n",
       " 18  31 May 2020  Safe Resumption of In-person Muslim Marriage S...\n",
       " 19  31 May 2020                518 New Cases of COVID-19 Infection\n",
       " 20  30 May 2020  1,096 More Cases Discharged, 506 New Cases of ...\n",
       " 21  30 May 2020  Advisory to employers on Safe Living measures ...,\n",
       "                        0                                1\n",
       " 0                 Global  6,287,771 confirmed(93,246 new)\n",
       " 1                 Africa     111,486 confirmed(3,365 new)\n",
       " 2               Americas  2,949,455 confirmed(44,023 new)\n",
       " 3  Eastern Mediterranean   552,497 confirmed (16,349 new)\n",
       " 4                 Europe  2,191,614 confirmed(15,681 new)\n",
       " 5        South-East Asia   296,620 confirmed (12,775 new)\n",
       " 6        Western Pacific    185,358 confirmed (1,053 new),\n",
       "               0          1\n",
       " 0  Global Level  Very High]"
      ]
     },
     "execution_count": 9,
     "metadata": {},
     "output_type": "execute_result"
    }
   ],
   "source": [
    "dfs"
   ]
  },
  {
   "cell_type": "code",
   "execution_count": 10,
   "metadata": {},
   "outputs": [],
   "source": [
    "def find_idx(starts_with):\n",
    "    print('looking for idx that starts with', starts_with)\n",
    "    df_idx = 0\n",
    "    for idx in range(len(dfs)):\n",
    "        if starts_with in str(dfs[idx][0][0]):\n",
    "            print(\"found starting df\")\n",
    "            df_idx = idx\n",
    "            break\n",
    "    print(df_idx)\n",
    "    assert df_idx < len(dfs)    \n",
    "    return df_idx\n"
   ]
  },
  {
   "cell_type": "code",
   "execution_count": 11,
   "metadata": {},
   "outputs": [
    {
     "name": "stdout",
     "output_type": "stream",
     "text": [
      "looking for idx that starts with Active Cases\n",
      "found starting df\n",
      "4\n"
     ]
    },
    {
     "data": {
      "text/html": [
       "<div>\n",
       "<style scoped>\n",
       "    .dataframe tbody tr th:only-of-type {\n",
       "        vertical-align: middle;\n",
       "    }\n",
       "\n",
       "    .dataframe tbody tr th {\n",
       "        vertical-align: top;\n",
       "    }\n",
       "\n",
       "    .dataframe thead th {\n",
       "        text-align: right;\n",
       "    }\n",
       "</style>\n",
       "<table border=\"1\" class=\"dataframe\">\n",
       "  <thead>\n",
       "    <tr style=\"text-align: right;\">\n",
       "      <th></th>\n",
       "      <th>0</th>\n",
       "    </tr>\n",
       "  </thead>\n",
       "  <tbody>\n",
       "    <tr>\n",
       "      <th>0</th>\n",
       "      <td>Active Cases#</td>\n",
       "    </tr>\n",
       "    <tr>\n",
       "      <th>1</th>\n",
       "      <td>12799</td>\n",
       "    </tr>\n",
       "  </tbody>\n",
       "</table>\n",
       "</div>"
      ],
      "text/plain": [
       "               0\n",
       "0  Active Cases#\n",
       "1          12799"
      ]
     },
     "execution_count": 11,
     "metadata": {},
     "output_type": "execute_result"
    }
   ],
   "source": [
    "active=find_idx('Active Cases')\n",
    "dfs[active]\n"
   ]
  },
  {
   "cell_type": "code",
   "execution_count": 12,
   "metadata": {},
   "outputs": [],
   "source": [
    "# discharge = find_idx('Discharged')\n",
    "# dfs[discharge]"
   ]
  },
  {
   "cell_type": "code",
   "execution_count": 13,
   "metadata": {},
   "outputs": [
    {
     "name": "stdout",
     "output_type": "stream",
     "text": [
      "looking for idx that starts with Hospitalised (Stable)\n",
      "found starting df\n",
      "7\n"
     ]
    },
    {
     "data": {
      "text/html": [
       "<div>\n",
       "<style scoped>\n",
       "    .dataframe tbody tr th:only-of-type {\n",
       "        vertical-align: middle;\n",
       "    }\n",
       "\n",
       "    .dataframe tbody tr th {\n",
       "        vertical-align: top;\n",
       "    }\n",
       "\n",
       "    .dataframe thead th {\n",
       "        text-align: right;\n",
       "    }\n",
       "</style>\n",
       "<table border=\"1\" class=\"dataframe\">\n",
       "  <thead>\n",
       "    <tr style=\"text-align: right;\">\n",
       "      <th></th>\n",
       "      <th>0</th>\n",
       "    </tr>\n",
       "  </thead>\n",
       "  <tbody>\n",
       "    <tr>\n",
       "      <th>0</th>\n",
       "      <td>Hospitalised (Stable)</td>\n",
       "    </tr>\n",
       "    <tr>\n",
       "      <th>1</th>\n",
       "      <td>329</td>\n",
       "    </tr>\n",
       "  </tbody>\n",
       "</table>\n",
       "</div>"
      ],
      "text/plain": [
       "                       0\n",
       "0  Hospitalised (Stable)\n",
       "1                    329"
      ]
     },
     "execution_count": 13,
     "metadata": {},
     "output_type": "execute_result"
    }
   ],
   "source": [
    "hospitalised_stable = find_idx('Hospitalised (Stable)')\n",
    "\n",
    "dfs[hospitalised_stable]"
   ]
  },
  {
   "cell_type": "code",
   "execution_count": 14,
   "metadata": {},
   "outputs": [
    {
     "name": "stdout",
     "output_type": "stream",
     "text": [
      "looking for idx that starts with Hospitalised (Critical)\n",
      "found starting df\n",
      "8\n"
     ]
    },
    {
     "data": {
      "text/html": [
       "<div>\n",
       "<style scoped>\n",
       "    .dataframe tbody tr th:only-of-type {\n",
       "        vertical-align: middle;\n",
       "    }\n",
       "\n",
       "    .dataframe tbody tr th {\n",
       "        vertical-align: top;\n",
       "    }\n",
       "\n",
       "    .dataframe thead th {\n",
       "        text-align: right;\n",
       "    }\n",
       "</style>\n",
       "<table border=\"1\" class=\"dataframe\">\n",
       "  <thead>\n",
       "    <tr style=\"text-align: right;\">\n",
       "      <th></th>\n",
       "      <th>0</th>\n",
       "    </tr>\n",
       "  </thead>\n",
       "  <tbody>\n",
       "    <tr>\n",
       "      <th>0</th>\n",
       "      <td>Hospitalised (Critical)</td>\n",
       "    </tr>\n",
       "    <tr>\n",
       "      <th>1</th>\n",
       "      <td>5</td>\n",
       "    </tr>\n",
       "  </tbody>\n",
       "</table>\n",
       "</div>"
      ],
      "text/plain": [
       "                         0\n",
       "0  Hospitalised (Critical)\n",
       "1                        5"
      ]
     },
     "execution_count": 14,
     "metadata": {},
     "output_type": "execute_result"
    }
   ],
   "source": [
    "hospitalised_critical = find_idx('Hospitalised (Critical)')\n",
    "dfs[hospitalised_critical]"
   ]
  },
  {
   "cell_type": "code",
   "execution_count": 15,
   "metadata": {},
   "outputs": [
    {
     "name": "stdout",
     "output_type": "stream",
     "text": [
      "looking for idx that starts with Deaths\n",
      "found starting df\n",
      "9\n"
     ]
    },
    {
     "data": {
      "text/html": [
       "<div>\n",
       "<style scoped>\n",
       "    .dataframe tbody tr th:only-of-type {\n",
       "        vertical-align: middle;\n",
       "    }\n",
       "\n",
       "    .dataframe tbody tr th {\n",
       "        vertical-align: top;\n",
       "    }\n",
       "\n",
       "    .dataframe thead th {\n",
       "        text-align: right;\n",
       "    }\n",
       "</style>\n",
       "<table border=\"1\" class=\"dataframe\">\n",
       "  <thead>\n",
       "    <tr style=\"text-align: right;\">\n",
       "      <th></th>\n",
       "      <th>0</th>\n",
       "    </tr>\n",
       "  </thead>\n",
       "  <tbody>\n",
       "    <tr>\n",
       "      <th>0</th>\n",
       "      <td>Deaths^</td>\n",
       "    </tr>\n",
       "    <tr>\n",
       "      <th>1</th>\n",
       "      <td>24</td>\n",
       "    </tr>\n",
       "  </tbody>\n",
       "</table>\n",
       "</div>"
      ],
      "text/plain": [
       "         0\n",
       "0  Deaths^\n",
       "1       24"
      ]
     },
     "execution_count": 15,
     "metadata": {},
     "output_type": "execute_result"
    }
   ],
   "source": [
    "deaths = find_idx('Deaths')\n",
    "\n",
    "dfs[deaths]"
   ]
  },
  {
   "cell_type": "code",
   "execution_count": 16,
   "metadata": {},
   "outputs": [],
   "source": [
    "# # Look for df with confirmed cases, tested negative, ...\n",
    "\n",
    "# for df in dfs:\n",
    "#     combined_fields = df[3].to_string().lower()\n",
    "#     if \"active cases\" in combined_fields:\n",
    "#         sing_cases_df_temp = df\n",
    "        \n",
    "# sing_cases_df_temp"
   ]
  },
  {
   "cell_type": "code",
   "execution_count": 17,
   "metadata": {},
   "outputs": [],
   "source": [
    "def remove_non_numeric(s):\n",
    "    return re.sub('\\D','', s)\n"
   ]
  },
  {
   "cell_type": "code",
   "execution_count": 18,
   "metadata": {},
   "outputs": [
    {
     "data": {
      "text/html": [
       "<div>\n",
       "<style scoped>\n",
       "    .dataframe tbody tr th:only-of-type {\n",
       "        vertical-align: middle;\n",
       "    }\n",
       "\n",
       "    .dataframe tbody tr th {\n",
       "        vertical-align: top;\n",
       "    }\n",
       "\n",
       "    .dataframe thead th {\n",
       "        text-align: right;\n",
       "    }\n",
       "</style>\n",
       "<table border=\"1\" class=\"dataframe\">\n",
       "  <thead>\n",
       "    <tr style=\"text-align: right;\">\n",
       "      <th></th>\n",
       "      <th>active_cases</th>\n",
       "      <th>hospitalised_stable</th>\n",
       "      <th>hospitalised_critical</th>\n",
       "      <th>death</th>\n",
       "      <th>datetime</th>\n",
       "    </tr>\n",
       "  </thead>\n",
       "  <tbody>\n",
       "    <tr>\n",
       "      <th>0</th>\n",
       "      <td>12799</td>\n",
       "      <td>329</td>\n",
       "      <td>5</td>\n",
       "      <td>24</td>\n",
       "      <td>2020-06-03</td>\n",
       "    </tr>\n",
       "  </tbody>\n",
       "</table>\n",
       "</div>"
      ],
      "text/plain": [
       "   active_cases  hospitalised_stable  hospitalised_critical  death    datetime\n",
       "0         12799                  329                      5     24  2020-06-03"
      ]
     },
     "execution_count": 18,
     "metadata": {},
     "output_type": "execute_result"
    }
   ],
   "source": [
    "# very hacky to workaround with the change from MoH site\n",
    "sing_cases_df = pd.DataFrame({'active_cases': [int(remove_non_numeric(dfs[active][0][1]))],\n",
    "                             'hospitalised_stable': [int(remove_non_numeric(dfs[hospitalised_stable][0][1]))],\n",
    "                              'hospitalised_critical': [int(remove_non_numeric(dfs[hospitalised_critical][0][1]))],\n",
    "                              'death': [int(remove_non_numeric(dfs[deaths][0][1]))],\n",
    "#                               'discharge': [int(dfs[discharge][0][1])],\n",
    "                              'datetime': data_date_time\n",
    "                             },\n",
    "                            )\n",
    "sing_cases_df"
   ]
  },
  {
   "cell_type": "code",
   "execution_count": 19,
   "metadata": {},
   "outputs": [
    {
     "data": {
      "text/html": [
       "<div>\n",
       "<style scoped>\n",
       "    .dataframe tbody tr th:only-of-type {\n",
       "        vertical-align: middle;\n",
       "    }\n",
       "\n",
       "    .dataframe tbody tr th {\n",
       "        vertical-align: top;\n",
       "    }\n",
       "\n",
       "    .dataframe thead th {\n",
       "        text-align: right;\n",
       "    }\n",
       "</style>\n",
       "<table border=\"1\" class=\"dataframe\">\n",
       "  <thead>\n",
       "    <tr style=\"text-align: right;\">\n",
       "      <th></th>\n",
       "      <th>active_cases</th>\n",
       "      <th>hospitalised_stable</th>\n",
       "      <th>hospitalised_critical</th>\n",
       "      <th>death</th>\n",
       "      <th>datetime</th>\n",
       "    </tr>\n",
       "  </thead>\n",
       "  <tbody>\n",
       "    <tr>\n",
       "      <th>0</th>\n",
       "      <td>12799</td>\n",
       "      <td>329</td>\n",
       "      <td>5</td>\n",
       "      <td>24</td>\n",
       "      <td>2020-06-03</td>\n",
       "    </tr>\n",
       "  </tbody>\n",
       "</table>\n",
       "</div>"
      ],
      "text/plain": [
       "   active_cases  hospitalised_stable  hospitalised_critical  death    datetime\n",
       "0         12799                  329                      5     24  2020-06-03"
      ]
     },
     "execution_count": 19,
     "metadata": {},
     "output_type": "execute_result"
    }
   ],
   "source": [
    "df = sing_cases_df\n",
    "df"
   ]
  },
  {
   "cell_type": "markdown",
   "metadata": {},
   "source": [
    "### Save to file"
   ]
  },
  {
   "cell_type": "code",
   "execution_count": 20,
   "metadata": {},
   "outputs": [
    {
     "name": "stderr",
     "output_type": "stream",
     "text": [
      "/opt/conda/lib/python3.7/site-packages/pandas/core/frame.py:7138: FutureWarning: Sorting because non-concatenation axis is not aligned. A future version\n",
      "of pandas will change to not sort by default.\n",
      "\n",
      "To accept the future behavior, pass 'sort=False'.\n",
      "\n",
      "To retain the current behavior and silence the warning, pass 'sort=True'.\n",
      "\n",
      "  sort=sort,\n"
     ]
    }
   ],
   "source": [
    "from pathlib import Path\n",
    "csv_file = '../data/singapore-cases.csv'\n",
    "\n",
    "if Path(csv_file).exists():\n",
    "    # read out the old data\n",
    "    old_df = pd.read_csv(csv_file)\n",
    "    df = df.set_index('datetime').append(old_df.set_index('datetime'))\n",
    "\n"
   ]
  },
  {
   "cell_type": "code",
   "execution_count": 21,
   "metadata": {},
   "outputs": [],
   "source": [
    "df = df.reset_index()\n",
    "df.drop_duplicates(subset=['datetime'], inplace=True)"
   ]
  },
  {
   "cell_type": "code",
   "execution_count": 22,
   "metadata": {},
   "outputs": [
    {
     "data": {
      "text/html": [
       "<div>\n",
       "<style scoped>\n",
       "    .dataframe tbody tr th:only-of-type {\n",
       "        vertical-align: middle;\n",
       "    }\n",
       "\n",
       "    .dataframe tbody tr th {\n",
       "        vertical-align: top;\n",
       "    }\n",
       "\n",
       "    .dataframe thead th {\n",
       "        text-align: right;\n",
       "    }\n",
       "</style>\n",
       "<table border=\"1\" class=\"dataframe\">\n",
       "  <thead>\n",
       "    <tr style=\"text-align: right;\">\n",
       "      <th></th>\n",
       "      <th>datetime</th>\n",
       "      <th>active_cases</th>\n",
       "      <th>confirmed</th>\n",
       "      <th>death</th>\n",
       "      <th>discharge</th>\n",
       "      <th>discharged</th>\n",
       "      <th>hospitalised</th>\n",
       "      <th>hospitalised_critical</th>\n",
       "      <th>hospitalised_stable</th>\n",
       "      <th>negative</th>\n",
       "      <th>pending</th>\n",
       "    </tr>\n",
       "  </thead>\n",
       "  <tbody>\n",
       "    <tr>\n",
       "      <th>1</th>\n",
       "      <td>2020-02-02</td>\n",
       "      <td>NaN</td>\n",
       "      <td>18.0</td>\n",
       "      <td>NaN</td>\n",
       "      <td>NaN</td>\n",
       "      <td>NaN</td>\n",
       "      <td>NaN</td>\n",
       "      <td>NaN</td>\n",
       "      <td>NaN</td>\n",
       "      <td>240.0</td>\n",
       "      <td>43.0</td>\n",
       "    </tr>\n",
       "    <tr>\n",
       "      <th>2</th>\n",
       "      <td>2020-02-03</td>\n",
       "      <td>NaN</td>\n",
       "      <td>24.0</td>\n",
       "      <td>NaN</td>\n",
       "      <td>NaN</td>\n",
       "      <td>NaN</td>\n",
       "      <td>NaN</td>\n",
       "      <td>NaN</td>\n",
       "      <td>NaN</td>\n",
       "      <td>262.0</td>\n",
       "      <td>32.0</td>\n",
       "    </tr>\n",
       "    <tr>\n",
       "      <th>3</th>\n",
       "      <td>2020-02-04</td>\n",
       "      <td>NaN</td>\n",
       "      <td>24.0</td>\n",
       "      <td>NaN</td>\n",
       "      <td>NaN</td>\n",
       "      <td>NaN</td>\n",
       "      <td>NaN</td>\n",
       "      <td>NaN</td>\n",
       "      <td>NaN</td>\n",
       "      <td>289.0</td>\n",
       "      <td>20.0</td>\n",
       "    </tr>\n",
       "    <tr>\n",
       "      <th>4</th>\n",
       "      <td>2020-02-05</td>\n",
       "      <td>NaN</td>\n",
       "      <td>28.0</td>\n",
       "      <td>NaN</td>\n",
       "      <td>NaN</td>\n",
       "      <td>NaN</td>\n",
       "      <td>NaN</td>\n",
       "      <td>NaN</td>\n",
       "      <td>NaN</td>\n",
       "      <td>295.0</td>\n",
       "      <td>62.0</td>\n",
       "    </tr>\n",
       "    <tr>\n",
       "      <th>5</th>\n",
       "      <td>2020-02-06</td>\n",
       "      <td>NaN</td>\n",
       "      <td>33.0</td>\n",
       "      <td>NaN</td>\n",
       "      <td>NaN</td>\n",
       "      <td>NaN</td>\n",
       "      <td>NaN</td>\n",
       "      <td>NaN</td>\n",
       "      <td>NaN</td>\n",
       "      <td>310.0</td>\n",
       "      <td>147.0</td>\n",
       "    </tr>\n",
       "    <tr>\n",
       "      <th>...</th>\n",
       "      <td>...</td>\n",
       "      <td>...</td>\n",
       "      <td>...</td>\n",
       "      <td>...</td>\n",
       "      <td>...</td>\n",
       "      <td>...</td>\n",
       "      <td>...</td>\n",
       "      <td>...</td>\n",
       "      <td>...</td>\n",
       "      <td>...</td>\n",
       "      <td>...</td>\n",
       "    </tr>\n",
       "    <tr>\n",
       "      <th>119</th>\n",
       "      <td>2020-05-30</td>\n",
       "      <td>13616.0</td>\n",
       "      <td>NaN</td>\n",
       "      <td>23.0</td>\n",
       "      <td>NaN</td>\n",
       "      <td>NaN</td>\n",
       "      <td>NaN</td>\n",
       "      <td>7.0</td>\n",
       "      <td>367.0</td>\n",
       "      <td>NaN</td>\n",
       "      <td>NaN</td>\n",
       "    </tr>\n",
       "    <tr>\n",
       "      <th>120</th>\n",
       "      <td>2020-05-31</td>\n",
       "      <td>13162.0</td>\n",
       "      <td>NaN</td>\n",
       "      <td>23.0</td>\n",
       "      <td>NaN</td>\n",
       "      <td>NaN</td>\n",
       "      <td>NaN</td>\n",
       "      <td>8.0</td>\n",
       "      <td>313.0</td>\n",
       "      <td>NaN</td>\n",
       "      <td>NaN</td>\n",
       "    </tr>\n",
       "    <tr>\n",
       "      <th>121</th>\n",
       "      <td>2020-06-01</td>\n",
       "      <td>12802.0</td>\n",
       "      <td>NaN</td>\n",
       "      <td>24.0</td>\n",
       "      <td>NaN</td>\n",
       "      <td>NaN</td>\n",
       "      <td>NaN</td>\n",
       "      <td>7.0</td>\n",
       "      <td>337.0</td>\n",
       "      <td>NaN</td>\n",
       "      <td>NaN</td>\n",
       "    </tr>\n",
       "    <tr>\n",
       "      <th>122</th>\n",
       "      <td>2020-06-02</td>\n",
       "      <td>12637.0</td>\n",
       "      <td>NaN</td>\n",
       "      <td>24.0</td>\n",
       "      <td>NaN</td>\n",
       "      <td>NaN</td>\n",
       "      <td>NaN</td>\n",
       "      <td>6.0</td>\n",
       "      <td>325.0</td>\n",
       "      <td>NaN</td>\n",
       "      <td>NaN</td>\n",
       "    </tr>\n",
       "    <tr>\n",
       "      <th>0</th>\n",
       "      <td>2020-06-03</td>\n",
       "      <td>12799.0</td>\n",
       "      <td>NaN</td>\n",
       "      <td>24.0</td>\n",
       "      <td>NaN</td>\n",
       "      <td>NaN</td>\n",
       "      <td>NaN</td>\n",
       "      <td>5.0</td>\n",
       "      <td>329.0</td>\n",
       "      <td>NaN</td>\n",
       "      <td>NaN</td>\n",
       "    </tr>\n",
       "  </tbody>\n",
       "</table>\n",
       "<p>123 rows × 11 columns</p>\n",
       "</div>"
      ],
      "text/plain": [
       "       datetime  active_cases  confirmed  death  discharge  discharged  \\\n",
       "1    2020-02-02           NaN       18.0    NaN        NaN         NaN   \n",
       "2    2020-02-03           NaN       24.0    NaN        NaN         NaN   \n",
       "3    2020-02-04           NaN       24.0    NaN        NaN         NaN   \n",
       "4    2020-02-05           NaN       28.0    NaN        NaN         NaN   \n",
       "5    2020-02-06           NaN       33.0    NaN        NaN         NaN   \n",
       "..          ...           ...        ...    ...        ...         ...   \n",
       "119  2020-05-30       13616.0        NaN   23.0        NaN         NaN   \n",
       "120  2020-05-31       13162.0        NaN   23.0        NaN         NaN   \n",
       "121  2020-06-01       12802.0        NaN   24.0        NaN         NaN   \n",
       "122  2020-06-02       12637.0        NaN   24.0        NaN         NaN   \n",
       "0    2020-06-03       12799.0        NaN   24.0        NaN         NaN   \n",
       "\n",
       "     hospitalised  hospitalised_critical  hospitalised_stable  negative  \\\n",
       "1             NaN                    NaN                  NaN     240.0   \n",
       "2             NaN                    NaN                  NaN     262.0   \n",
       "3             NaN                    NaN                  NaN     289.0   \n",
       "4             NaN                    NaN                  NaN     295.0   \n",
       "5             NaN                    NaN                  NaN     310.0   \n",
       "..            ...                    ...                  ...       ...   \n",
       "119           NaN                    7.0                367.0       NaN   \n",
       "120           NaN                    8.0                313.0       NaN   \n",
       "121           NaN                    7.0                337.0       NaN   \n",
       "122           NaN                    6.0                325.0       NaN   \n",
       "0             NaN                    5.0                329.0       NaN   \n",
       "\n",
       "     pending  \n",
       "1       43.0  \n",
       "2       32.0  \n",
       "3       20.0  \n",
       "4       62.0  \n",
       "5      147.0  \n",
       "..       ...  \n",
       "119      NaN  \n",
       "120      NaN  \n",
       "121      NaN  \n",
       "122      NaN  \n",
       "0        NaN  \n",
       "\n",
       "[123 rows x 11 columns]"
      ]
     },
     "execution_count": 22,
     "metadata": {},
     "output_type": "execute_result"
    }
   ],
   "source": [
    "df.sort_values(by=['datetime'], inplace=True)\n",
    "df"
   ]
  },
  {
   "cell_type": "code",
   "execution_count": 23,
   "metadata": {},
   "outputs": [],
   "source": [
    "df.to_csv(csv_file, index=False)\n"
   ]
  },
  {
   "cell_type": "code",
   "execution_count": null,
   "metadata": {},
   "outputs": [],
   "source": []
  }
 ],
 "metadata": {
  "kernelspec": {
   "display_name": "Python 3",
   "language": "python",
   "name": "python3"
  },
  "language_info": {
   "codemirror_mode": {
    "name": "ipython",
    "version": 3
   },
   "file_extension": ".py",
   "mimetype": "text/x-python",
   "name": "python",
   "nbconvert_exporter": "python",
   "pygments_lexer": "ipython3",
   "version": "3.7.6"
  }
 },
 "nbformat": 4,
 "nbformat_minor": 2
}
