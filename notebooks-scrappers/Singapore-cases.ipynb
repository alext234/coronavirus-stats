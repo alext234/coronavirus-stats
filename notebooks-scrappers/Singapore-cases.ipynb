{
 "cells": [
  {
   "cell_type": "code",
   "execution_count": 1,
   "metadata": {},
   "outputs": [],
   "source": [
    "import pandas as pd\n",
    "import requests\n",
    "from bs4 import BeautifulSoup\n",
    "import re\n",
    "from datetime import datetime\n",
    "from selenium import webdriver\n",
    "from selenium.webdriver.chrome.options import Options  \n"
   ]
  },
  {
   "cell_type": "code",
   "execution_count": 2,
   "metadata": {},
   "outputs": [],
   "source": [
    "chrome_options = Options()  \n",
    "chrome_options.add_argument(\"--headless\")  \n",
    "chrome_options.add_argument(\"--no-sandbox\")\n",
    "\n",
    "driver = webdriver.Chrome('chromedriver', options=chrome_options)"
   ]
  },
  {
   "cell_type": "markdown",
   "metadata": {},
   "source": [
    "### Extract date\n",
    "\n"
   ]
  },
  {
   "cell_type": "code",
   "execution_count": 3,
   "metadata": {},
   "outputs": [],
   "source": [
    "url = 'https://www.moh.gov.sg/covid-19'\n",
    "\n",
    "driver.get(url)\n",
    "content = driver.page_source\n"
   ]
  },
  {
   "cell_type": "code",
   "execution_count": 4,
   "metadata": {},
   "outputs": [],
   "source": [
    "soup =BeautifulSoup(content, 'lxml')"
   ]
  },
  {
   "cell_type": "code",
   "execution_count": 5,
   "metadata": {},
   "outputs": [],
   "source": [
    "data = soup.findAll(text=re.compile(\"Case Summary in Singapore \\(as of .+\"))\n"
   ]
  },
  {
   "cell_type": "code",
   "execution_count": 6,
   "metadata": {},
   "outputs": [
    {
     "data": {
      "text/plain": [
       "['Case Summary in Singapore (as of 15 Apr 2020, 1200h)']"
      ]
     },
     "execution_count": 6,
     "metadata": {},
     "output_type": "execute_result"
    }
   ],
   "source": [
    "data"
   ]
  },
  {
   "cell_type": "code",
   "execution_count": 7,
   "metadata": {},
   "outputs": [
    {
     "data": {
      "text/plain": [
       "'2020-04-15'"
      ]
     },
     "execution_count": 7,
     "metadata": {},
     "output_type": "execute_result"
    }
   ],
   "source": [
    "m = re.search(\"(\\d+ \\w+ 202\\d, \\d+\\d+h)\", data[0])\n",
    "date_time_str = m.group(1)\n",
    "data_date_time = datetime.strptime(date_time_str, '%d %b %Y, %H%Mh').strftime('%Y-%m-%d')\n",
    "data_date_time\n"
   ]
  },
  {
   "cell_type": "markdown",
   "metadata": {},
   "source": [
    "### Extract Dataframes"
   ]
  },
  {
   "cell_type": "code",
   "execution_count": 8,
   "metadata": {},
   "outputs": [],
   "source": [
    "dfs = pd.read_html(content)"
   ]
  },
  {
   "cell_type": "code",
   "execution_count": 9,
   "metadata": {},
   "outputs": [
    {
     "data": {
      "text/plain": [
       "[    0   1\n",
       " 0 NaN NaN\n",
       " 1 NaN NaN,\n",
       "     0   1\n",
       " 0 NaN NaN\n",
       " 1 NaN NaN,\n",
       "                0       1\n",
       " 0  DORSCON Level  Orange,\n",
       "           0         1         2\n",
       " 0  IMPORTED  IMPORTED  IMPORTED\n",
       " 1   568 (0)   568 (0)   568 (0),\n",
       "                0\n",
       " 0  Active Cases#\n",
       " 1           1496,\n",
       "              0\n",
       " 0  Discharged^\n",
       " 1          653,\n",
       "                          0\n",
       " 0  Discharge to Isolation*\n",
       " 1                     1540,\n",
       "                        0\n",
       " 0  Hospitalised (Stable)\n",
       " 1                   1470,\n",
       "                          0\n",
       " 0  Hospitalised (Critical)\n",
       " 1                       26,\n",
       "         0\n",
       " 0  Deaths\n",
       " 1      10,\n",
       "        0\n",
       " 0  72680,\n",
       "        0\n",
       " 0  47486,\n",
       "          0\n",
       " 0  ~12,800,\n",
       "         0\n",
       " 0  ~8,300,\n",
       "               0                                                  1\n",
       " 0          Date                                              Title\n",
       " 1   15 Apr 2020  41 More Cases Discharged; 447 New Cases of COV...\n",
       " 2   15 Apr 2020  Letter to All Parents: Explaining ECDA's Fee O...\n",
       " 3   14 Apr 2020  25 More Cases Discharged; 334 New Cases of COV...\n",
       " 4   14 Apr 2020  Continued Stringent Implementation and Enforce...\n",
       " 5   14 Apr 2020  Delivered Remarks by Manpower Minister Josephi...\n",
       " 6   14 Apr 2020  Key Actions to Manage Transmission of COVID-19...\n",
       " 7   14 Apr 2020  Sweet Treats for Foreign Workers in Celebratio...\n",
       " 8   14 Apr 2020  Changes to Public Bus and Train Operating Hour...\n",
       " 9   14 Apr 2020  Singapore Media Sector Gets a Boost Amidst COV...\n",
       " 10  13 Apr 2020  26 More Cases Discharged; 386 New Cases of COV...\n",
       " 11  13 Apr 2020  MOM Intensifies Inspections of Factory-Convert...\n",
       " 12  13 Apr 2020  Additional Guidance on the Conduct of General ...\n",
       " 13  13 Apr 2020  31 Foreign Workers Moved into Floating Accommo...\n",
       " 14  13 Apr 2020  Update on Enforcement Actions and Refresher on...\n",
       " 15  13 Apr 2020  Police Advisory On China Officials Impersonati...\n",
       " 16  13 Apr 2020  Business Owners and Entrepreneurs to Gain Acce...\n",
       " 17  12 Apr 2020  More Staying Home with Tighter Enforcement Mea...\n",
       " 18  12 Apr 2020  32 More Cases Discharged; 233 New Cases of COV...\n",
       " 19  12 Apr 2020  (Updated) Tightening Safe Distancing Measures ...\n",
       " 20  12 Apr 2020  Work Pass Revoked and Fines Issued for Breachi...\n",
       " 21  11 Apr 2020  Stiffer Penalties for Breach of Safe Distancin...\n",
       " 22  11 Apr 2020  Advisory for Employers of Workers in Dormitori...,\n",
       "                               0                                1\n",
       " 0                        Global  1,914,916 confirmed(70,082 new)\n",
       " 1               European Region    977,596 confirmed(34,324 new)\n",
       " 2        Region of the Americas    673,361 confirmed(28,404 new)\n",
       " 3        Western Pacific Region     124,204 confirmed(1,399 new)\n",
       " 4  Eastern Mediterranean Region    107,389 confirmed (3,751 new)\n",
       " 5        South-East Asia Region     20,287 confirmed (1,624 new)\n",
       " 6                African Region       11,367 confirmed (580 new),\n",
       "               0          1\n",
       " 0  Global Level  Very High]"
      ]
     },
     "execution_count": 9,
     "metadata": {},
     "output_type": "execute_result"
    }
   ],
   "source": [
    "dfs"
   ]
  },
  {
   "cell_type": "code",
   "execution_count": 10,
   "metadata": {},
   "outputs": [
    {
     "name": "stdout",
     "output_type": "stream",
     "text": [
      "found starting df\n",
      "4\n"
     ]
    }
   ],
   "source": [
    "df_idx = 0\n",
    "for idx in range(len(dfs)):\n",
    "    if 'Active' in str(dfs[idx][0][0]):\n",
    "        print(\"found starting df\")\n",
    "        df_idx = idx\n",
    "        break\n",
    "print(df_idx)\n",
    "assert df_idx < len(dfs)"
   ]
  },
  {
   "cell_type": "code",
   "execution_count": null,
   "metadata": {},
   "outputs": [],
   "source": []
  },
  {
   "cell_type": "code",
   "execution_count": 11,
   "metadata": {},
   "outputs": [
    {
     "data": {
      "text/html": [
       "<div>\n",
       "<style scoped>\n",
       "    .dataframe tbody tr th:only-of-type {\n",
       "        vertical-align: middle;\n",
       "    }\n",
       "\n",
       "    .dataframe tbody tr th {\n",
       "        vertical-align: top;\n",
       "    }\n",
       "\n",
       "    .dataframe thead th {\n",
       "        text-align: right;\n",
       "    }\n",
       "</style>\n",
       "<table border=\"1\" class=\"dataframe\">\n",
       "  <thead>\n",
       "    <tr style=\"text-align: right;\">\n",
       "      <th></th>\n",
       "      <th>0</th>\n",
       "    </tr>\n",
       "  </thead>\n",
       "  <tbody>\n",
       "    <tr>\n",
       "      <th>0</th>\n",
       "      <td>Active Cases#</td>\n",
       "    </tr>\n",
       "    <tr>\n",
       "      <th>1</th>\n",
       "      <td>1496</td>\n",
       "    </tr>\n",
       "  </tbody>\n",
       "</table>\n",
       "</div>"
      ],
      "text/plain": [
       "               0\n",
       "0  Active Cases#\n",
       "1           1496"
      ]
     },
     "execution_count": 11,
     "metadata": {},
     "output_type": "execute_result"
    }
   ],
   "source": [
    "dfs[df_idx]"
   ]
  },
  {
   "cell_type": "code",
   "execution_count": 12,
   "metadata": {},
   "outputs": [
    {
     "data": {
      "text/html": [
       "<div>\n",
       "<style scoped>\n",
       "    .dataframe tbody tr th:only-of-type {\n",
       "        vertical-align: middle;\n",
       "    }\n",
       "\n",
       "    .dataframe tbody tr th {\n",
       "        vertical-align: top;\n",
       "    }\n",
       "\n",
       "    .dataframe thead th {\n",
       "        text-align: right;\n",
       "    }\n",
       "</style>\n",
       "<table border=\"1\" class=\"dataframe\">\n",
       "  <thead>\n",
       "    <tr style=\"text-align: right;\">\n",
       "      <th></th>\n",
       "      <th>0</th>\n",
       "    </tr>\n",
       "  </thead>\n",
       "  <tbody>\n",
       "    <tr>\n",
       "      <th>0</th>\n",
       "      <td>Active Cases#</td>\n",
       "    </tr>\n",
       "    <tr>\n",
       "      <th>1</th>\n",
       "      <td>1496</td>\n",
       "    </tr>\n",
       "  </tbody>\n",
       "</table>\n",
       "</div>"
      ],
      "text/plain": [
       "               0\n",
       "0  Active Cases#\n",
       "1           1496"
      ]
     },
     "execution_count": 12,
     "metadata": {},
     "output_type": "execute_result"
    }
   ],
   "source": [
    "active=df_idx\n",
    "assert dfs[active][0][0].strip().startswith('Active Cases')\n",
    "dfs[active]\n"
   ]
  },
  {
   "cell_type": "code",
   "execution_count": 13,
   "metadata": {},
   "outputs": [
    {
     "data": {
      "text/html": [
       "<div>\n",
       "<style scoped>\n",
       "    .dataframe tbody tr th:only-of-type {\n",
       "        vertical-align: middle;\n",
       "    }\n",
       "\n",
       "    .dataframe tbody tr th {\n",
       "        vertical-align: top;\n",
       "    }\n",
       "\n",
       "    .dataframe thead th {\n",
       "        text-align: right;\n",
       "    }\n",
       "</style>\n",
       "<table border=\"1\" class=\"dataframe\">\n",
       "  <thead>\n",
       "    <tr style=\"text-align: right;\">\n",
       "      <th></th>\n",
       "      <th>0</th>\n",
       "    </tr>\n",
       "  </thead>\n",
       "  <tbody>\n",
       "    <tr>\n",
       "      <th>0</th>\n",
       "      <td>Discharged^</td>\n",
       "    </tr>\n",
       "    <tr>\n",
       "      <th>1</th>\n",
       "      <td>653</td>\n",
       "    </tr>\n",
       "  </tbody>\n",
       "</table>\n",
       "</div>"
      ],
      "text/plain": [
       "             0\n",
       "0  Discharged^\n",
       "1          653"
      ]
     },
     "execution_count": 13,
     "metadata": {},
     "output_type": "execute_result"
    }
   ],
   "source": [
    "discharge = df_idx+1\n",
    "assert dfs[discharge][0][0].strip().startswith('Discharged')\n",
    "dfs[discharge]"
   ]
  },
  {
   "cell_type": "code",
   "execution_count": 14,
   "metadata": {},
   "outputs": [
    {
     "data": {
      "text/html": [
       "<div>\n",
       "<style scoped>\n",
       "    .dataframe tbody tr th:only-of-type {\n",
       "        vertical-align: middle;\n",
       "    }\n",
       "\n",
       "    .dataframe tbody tr th {\n",
       "        vertical-align: top;\n",
       "    }\n",
       "\n",
       "    .dataframe thead th {\n",
       "        text-align: right;\n",
       "    }\n",
       "</style>\n",
       "<table border=\"1\" class=\"dataframe\">\n",
       "  <thead>\n",
       "    <tr style=\"text-align: right;\">\n",
       "      <th></th>\n",
       "      <th>0</th>\n",
       "    </tr>\n",
       "  </thead>\n",
       "  <tbody>\n",
       "    <tr>\n",
       "      <th>0</th>\n",
       "      <td>Hospitalised (Stable)</td>\n",
       "    </tr>\n",
       "    <tr>\n",
       "      <th>1</th>\n",
       "      <td>1470</td>\n",
       "    </tr>\n",
       "  </tbody>\n",
       "</table>\n",
       "</div>"
      ],
      "text/plain": [
       "                       0\n",
       "0  Hospitalised (Stable)\n",
       "1                   1470"
      ]
     },
     "execution_count": 14,
     "metadata": {},
     "output_type": "execute_result"
    }
   ],
   "source": [
    "hospitalised_stable = df_idx+3\n",
    "assert dfs[hospitalised_stable][0][0].strip().startswith('Hospitalised (Stable)')\n",
    "\n",
    "dfs[hospitalised_stable]"
   ]
  },
  {
   "cell_type": "code",
   "execution_count": 15,
   "metadata": {},
   "outputs": [
    {
     "data": {
      "text/html": [
       "<div>\n",
       "<style scoped>\n",
       "    .dataframe tbody tr th:only-of-type {\n",
       "        vertical-align: middle;\n",
       "    }\n",
       "\n",
       "    .dataframe tbody tr th {\n",
       "        vertical-align: top;\n",
       "    }\n",
       "\n",
       "    .dataframe thead th {\n",
       "        text-align: right;\n",
       "    }\n",
       "</style>\n",
       "<table border=\"1\" class=\"dataframe\">\n",
       "  <thead>\n",
       "    <tr style=\"text-align: right;\">\n",
       "      <th></th>\n",
       "      <th>0</th>\n",
       "    </tr>\n",
       "  </thead>\n",
       "  <tbody>\n",
       "    <tr>\n",
       "      <th>0</th>\n",
       "      <td>Hospitalised (Critical)</td>\n",
       "    </tr>\n",
       "    <tr>\n",
       "      <th>1</th>\n",
       "      <td>26</td>\n",
       "    </tr>\n",
       "  </tbody>\n",
       "</table>\n",
       "</div>"
      ],
      "text/plain": [
       "                         0\n",
       "0  Hospitalised (Critical)\n",
       "1                       26"
      ]
     },
     "execution_count": 15,
     "metadata": {},
     "output_type": "execute_result"
    }
   ],
   "source": [
    "hospitalised_critical = df_idx+4\n",
    "assert dfs[hospitalised_critical][0][0].strip().startswith('Hospitalised (Critical)')\n",
    "\n",
    "dfs[hospitalised_critical]"
   ]
  },
  {
   "cell_type": "code",
   "execution_count": 16,
   "metadata": {},
   "outputs": [
    {
     "data": {
      "text/html": [
       "<div>\n",
       "<style scoped>\n",
       "    .dataframe tbody tr th:only-of-type {\n",
       "        vertical-align: middle;\n",
       "    }\n",
       "\n",
       "    .dataframe tbody tr th {\n",
       "        vertical-align: top;\n",
       "    }\n",
       "\n",
       "    .dataframe thead th {\n",
       "        text-align: right;\n",
       "    }\n",
       "</style>\n",
       "<table border=\"1\" class=\"dataframe\">\n",
       "  <thead>\n",
       "    <tr style=\"text-align: right;\">\n",
       "      <th></th>\n",
       "      <th>0</th>\n",
       "    </tr>\n",
       "  </thead>\n",
       "  <tbody>\n",
       "    <tr>\n",
       "      <th>0</th>\n",
       "      <td>Deaths</td>\n",
       "    </tr>\n",
       "    <tr>\n",
       "      <th>1</th>\n",
       "      <td>10</td>\n",
       "    </tr>\n",
       "  </tbody>\n",
       "</table>\n",
       "</div>"
      ],
      "text/plain": [
       "        0\n",
       "0  Deaths\n",
       "1      10"
      ]
     },
     "execution_count": 16,
     "metadata": {},
     "output_type": "execute_result"
    }
   ],
   "source": [
    "deaths = df_idx+5\n",
    "assert dfs[deaths][0][0].strip().startswith('Deaths')\n",
    "\n",
    "dfs[deaths]"
   ]
  },
  {
   "cell_type": "code",
   "execution_count": 17,
   "metadata": {},
   "outputs": [],
   "source": [
    "# # Look for df with confirmed cases, tested negative, ...\n",
    "\n",
    "# for df in dfs:\n",
    "#     combined_fields = df[3].to_string().lower()\n",
    "#     if \"active cases\" in combined_fields:\n",
    "#         sing_cases_df_temp = df\n",
    "        \n",
    "# sing_cases_df_temp"
   ]
  },
  {
   "cell_type": "code",
   "execution_count": 18,
   "metadata": {},
   "outputs": [],
   "source": [
    "def remove_non_numeric(s):\n",
    "    return re.sub('\\D','', s)\n"
   ]
  },
  {
   "cell_type": "code",
   "execution_count": 19,
   "metadata": {},
   "outputs": [
    {
     "data": {
      "text/html": [
       "<div>\n",
       "<style scoped>\n",
       "    .dataframe tbody tr th:only-of-type {\n",
       "        vertical-align: middle;\n",
       "    }\n",
       "\n",
       "    .dataframe tbody tr th {\n",
       "        vertical-align: top;\n",
       "    }\n",
       "\n",
       "    .dataframe thead th {\n",
       "        text-align: right;\n",
       "    }\n",
       "</style>\n",
       "<table border=\"1\" class=\"dataframe\">\n",
       "  <thead>\n",
       "    <tr style=\"text-align: right;\">\n",
       "      <th></th>\n",
       "      <th>active_cases</th>\n",
       "      <th>hospitalised_stable</th>\n",
       "      <th>hospitalised_critical</th>\n",
       "      <th>death</th>\n",
       "      <th>discharge</th>\n",
       "      <th>datetime</th>\n",
       "    </tr>\n",
       "  </thead>\n",
       "  <tbody>\n",
       "    <tr>\n",
       "      <th>0</th>\n",
       "      <td>1496</td>\n",
       "      <td>1470</td>\n",
       "      <td>26</td>\n",
       "      <td>10</td>\n",
       "      <td>653</td>\n",
       "      <td>2020-04-15</td>\n",
       "    </tr>\n",
       "  </tbody>\n",
       "</table>\n",
       "</div>"
      ],
      "text/plain": [
       "   active_cases  hospitalised_stable  hospitalised_critical  death  discharge  \\\n",
       "0          1496                 1470                     26     10        653   \n",
       "\n",
       "     datetime  \n",
       "0  2020-04-15  "
      ]
     },
     "execution_count": 19,
     "metadata": {},
     "output_type": "execute_result"
    }
   ],
   "source": [
    "# very hacky to workaround with the change from MoH site\n",
    "sing_cases_df = pd.DataFrame({'active_cases': [int(remove_non_numeric(dfs[active][0][1]))],\n",
    "                             'hospitalised_stable': [int(remove_non_numeric(dfs[hospitalised_stable][0][1]))],\n",
    "                              'hospitalised_critical': [int(remove_non_numeric(dfs[hospitalised_critical][0][1]))],\n",
    "                              'death': [int(remove_non_numeric(dfs[deaths][0][1]))],\n",
    "                              'discharge': [int(dfs[discharge][0][1])],\n",
    "                              'datetime': data_date_time\n",
    "                             },\n",
    "                            )\n",
    "sing_cases_df"
   ]
  },
  {
   "cell_type": "code",
   "execution_count": 20,
   "metadata": {},
   "outputs": [
    {
     "data": {
      "text/html": [
       "<div>\n",
       "<style scoped>\n",
       "    .dataframe tbody tr th:only-of-type {\n",
       "        vertical-align: middle;\n",
       "    }\n",
       "\n",
       "    .dataframe tbody tr th {\n",
       "        vertical-align: top;\n",
       "    }\n",
       "\n",
       "    .dataframe thead th {\n",
       "        text-align: right;\n",
       "    }\n",
       "</style>\n",
       "<table border=\"1\" class=\"dataframe\">\n",
       "  <thead>\n",
       "    <tr style=\"text-align: right;\">\n",
       "      <th></th>\n",
       "      <th>active_cases</th>\n",
       "      <th>hospitalised_stable</th>\n",
       "      <th>hospitalised_critical</th>\n",
       "      <th>death</th>\n",
       "      <th>discharge</th>\n",
       "      <th>datetime</th>\n",
       "    </tr>\n",
       "  </thead>\n",
       "  <tbody>\n",
       "    <tr>\n",
       "      <th>0</th>\n",
       "      <td>1496</td>\n",
       "      <td>1470</td>\n",
       "      <td>26</td>\n",
       "      <td>10</td>\n",
       "      <td>653</td>\n",
       "      <td>2020-04-15</td>\n",
       "    </tr>\n",
       "  </tbody>\n",
       "</table>\n",
       "</div>"
      ],
      "text/plain": [
       "   active_cases  hospitalised_stable  hospitalised_critical  death  discharge  \\\n",
       "0          1496                 1470                     26     10        653   \n",
       "\n",
       "     datetime  \n",
       "0  2020-04-15  "
      ]
     },
     "execution_count": 20,
     "metadata": {},
     "output_type": "execute_result"
    }
   ],
   "source": [
    "df = sing_cases_df\n",
    "df"
   ]
  },
  {
   "cell_type": "markdown",
   "metadata": {},
   "source": [
    "### Save to file"
   ]
  },
  {
   "cell_type": "code",
   "execution_count": 21,
   "metadata": {},
   "outputs": [
    {
     "name": "stderr",
     "output_type": "stream",
     "text": [
      "/opt/conda/lib/python3.7/site-packages/pandas/core/frame.py:7138: FutureWarning: Sorting because non-concatenation axis is not aligned. A future version\n",
      "of pandas will change to not sort by default.\n",
      "\n",
      "To accept the future behavior, pass 'sort=False'.\n",
      "\n",
      "To retain the current behavior and silence the warning, pass 'sort=True'.\n",
      "\n",
      "  sort=sort,\n"
     ]
    }
   ],
   "source": [
    "from pathlib import Path\n",
    "csv_file = '../data/singapore-cases.csv'\n",
    "\n",
    "if Path(csv_file).exists():\n",
    "    # read out the old data\n",
    "    old_df = pd.read_csv(csv_file)\n",
    "    df = df.set_index('datetime').append(old_df.set_index('datetime'))\n",
    "\n"
   ]
  },
  {
   "cell_type": "code",
   "execution_count": 22,
   "metadata": {},
   "outputs": [],
   "source": [
    "df = df.reset_index()\n",
    "df.drop_duplicates(subset=['datetime'], inplace=True)"
   ]
  },
  {
   "cell_type": "code",
   "execution_count": 23,
   "metadata": {},
   "outputs": [
    {
     "data": {
      "text/html": [
       "<div>\n",
       "<style scoped>\n",
       "    .dataframe tbody tr th:only-of-type {\n",
       "        vertical-align: middle;\n",
       "    }\n",
       "\n",
       "    .dataframe tbody tr th {\n",
       "        vertical-align: top;\n",
       "    }\n",
       "\n",
       "    .dataframe thead th {\n",
       "        text-align: right;\n",
       "    }\n",
       "</style>\n",
       "<table border=\"1\" class=\"dataframe\">\n",
       "  <thead>\n",
       "    <tr style=\"text-align: right;\">\n",
       "      <th></th>\n",
       "      <th>datetime</th>\n",
       "      <th>active_cases</th>\n",
       "      <th>confirmed</th>\n",
       "      <th>death</th>\n",
       "      <th>discharge</th>\n",
       "      <th>discharged</th>\n",
       "      <th>hospitalised</th>\n",
       "      <th>hospitalised_critical</th>\n",
       "      <th>hospitalised_stable</th>\n",
       "      <th>negative</th>\n",
       "      <th>pending</th>\n",
       "    </tr>\n",
       "  </thead>\n",
       "  <tbody>\n",
       "    <tr>\n",
       "      <th>1</th>\n",
       "      <td>2020-02-02</td>\n",
       "      <td>NaN</td>\n",
       "      <td>18.0</td>\n",
       "      <td>NaN</td>\n",
       "      <td>NaN</td>\n",
       "      <td>NaN</td>\n",
       "      <td>NaN</td>\n",
       "      <td>NaN</td>\n",
       "      <td>NaN</td>\n",
       "      <td>240.0</td>\n",
       "      <td>43.0</td>\n",
       "    </tr>\n",
       "    <tr>\n",
       "      <th>2</th>\n",
       "      <td>2020-02-03</td>\n",
       "      <td>NaN</td>\n",
       "      <td>24.0</td>\n",
       "      <td>NaN</td>\n",
       "      <td>NaN</td>\n",
       "      <td>NaN</td>\n",
       "      <td>NaN</td>\n",
       "      <td>NaN</td>\n",
       "      <td>NaN</td>\n",
       "      <td>262.0</td>\n",
       "      <td>32.0</td>\n",
       "    </tr>\n",
       "    <tr>\n",
       "      <th>3</th>\n",
       "      <td>2020-02-04</td>\n",
       "      <td>NaN</td>\n",
       "      <td>24.0</td>\n",
       "      <td>NaN</td>\n",
       "      <td>NaN</td>\n",
       "      <td>NaN</td>\n",
       "      <td>NaN</td>\n",
       "      <td>NaN</td>\n",
       "      <td>NaN</td>\n",
       "      <td>289.0</td>\n",
       "      <td>20.0</td>\n",
       "    </tr>\n",
       "    <tr>\n",
       "      <th>4</th>\n",
       "      <td>2020-02-05</td>\n",
       "      <td>NaN</td>\n",
       "      <td>28.0</td>\n",
       "      <td>NaN</td>\n",
       "      <td>NaN</td>\n",
       "      <td>NaN</td>\n",
       "      <td>NaN</td>\n",
       "      <td>NaN</td>\n",
       "      <td>NaN</td>\n",
       "      <td>295.0</td>\n",
       "      <td>62.0</td>\n",
       "    </tr>\n",
       "    <tr>\n",
       "      <th>5</th>\n",
       "      <td>2020-02-06</td>\n",
       "      <td>NaN</td>\n",
       "      <td>33.0</td>\n",
       "      <td>NaN</td>\n",
       "      <td>NaN</td>\n",
       "      <td>NaN</td>\n",
       "      <td>NaN</td>\n",
       "      <td>NaN</td>\n",
       "      <td>NaN</td>\n",
       "      <td>310.0</td>\n",
       "      <td>147.0</td>\n",
       "    </tr>\n",
       "    <tr>\n",
       "      <th>...</th>\n",
       "      <td>...</td>\n",
       "      <td>...</td>\n",
       "      <td>...</td>\n",
       "      <td>...</td>\n",
       "      <td>...</td>\n",
       "      <td>...</td>\n",
       "      <td>...</td>\n",
       "      <td>...</td>\n",
       "      <td>...</td>\n",
       "      <td>...</td>\n",
       "      <td>...</td>\n",
       "    </tr>\n",
       "    <tr>\n",
       "      <th>70</th>\n",
       "      <td>2020-04-11</td>\n",
       "      <td>943.0</td>\n",
       "      <td>NaN</td>\n",
       "      <td>8.0</td>\n",
       "      <td>529.0</td>\n",
       "      <td>NaN</td>\n",
       "      <td>NaN</td>\n",
       "      <td>31.0</td>\n",
       "      <td>912.0</td>\n",
       "      <td>NaN</td>\n",
       "      <td>NaN</td>\n",
       "    </tr>\n",
       "    <tr>\n",
       "      <th>71</th>\n",
       "      <td>2020-04-12</td>\n",
       "      <td>976.0</td>\n",
       "      <td>NaN</td>\n",
       "      <td>8.0</td>\n",
       "      <td>560.0</td>\n",
       "      <td>NaN</td>\n",
       "      <td>NaN</td>\n",
       "      <td>31.0</td>\n",
       "      <td>945.0</td>\n",
       "      <td>NaN</td>\n",
       "      <td>NaN</td>\n",
       "    </tr>\n",
       "    <tr>\n",
       "      <th>72</th>\n",
       "      <td>2020-04-13</td>\n",
       "      <td>1158.0</td>\n",
       "      <td>NaN</td>\n",
       "      <td>9.0</td>\n",
       "      <td>586.0</td>\n",
       "      <td>NaN</td>\n",
       "      <td>NaN</td>\n",
       "      <td>29.0</td>\n",
       "      <td>1129.0</td>\n",
       "      <td>NaN</td>\n",
       "      <td>NaN</td>\n",
       "    </tr>\n",
       "    <tr>\n",
       "      <th>73</th>\n",
       "      <td>2020-04-14</td>\n",
       "      <td>1315.0</td>\n",
       "      <td>NaN</td>\n",
       "      <td>10.0</td>\n",
       "      <td>611.0</td>\n",
       "      <td>NaN</td>\n",
       "      <td>NaN</td>\n",
       "      <td>28.0</td>\n",
       "      <td>1287.0</td>\n",
       "      <td>NaN</td>\n",
       "      <td>NaN</td>\n",
       "    </tr>\n",
       "    <tr>\n",
       "      <th>0</th>\n",
       "      <td>2020-04-15</td>\n",
       "      <td>1496.0</td>\n",
       "      <td>NaN</td>\n",
       "      <td>10.0</td>\n",
       "      <td>653.0</td>\n",
       "      <td>NaN</td>\n",
       "      <td>NaN</td>\n",
       "      <td>26.0</td>\n",
       "      <td>1470.0</td>\n",
       "      <td>NaN</td>\n",
       "      <td>NaN</td>\n",
       "    </tr>\n",
       "  </tbody>\n",
       "</table>\n",
       "<p>74 rows × 11 columns</p>\n",
       "</div>"
      ],
      "text/plain": [
       "      datetime  active_cases  confirmed  death  discharge  discharged  \\\n",
       "1   2020-02-02           NaN       18.0    NaN        NaN         NaN   \n",
       "2   2020-02-03           NaN       24.0    NaN        NaN         NaN   \n",
       "3   2020-02-04           NaN       24.0    NaN        NaN         NaN   \n",
       "4   2020-02-05           NaN       28.0    NaN        NaN         NaN   \n",
       "5   2020-02-06           NaN       33.0    NaN        NaN         NaN   \n",
       "..         ...           ...        ...    ...        ...         ...   \n",
       "70  2020-04-11         943.0        NaN    8.0      529.0         NaN   \n",
       "71  2020-04-12         976.0        NaN    8.0      560.0         NaN   \n",
       "72  2020-04-13        1158.0        NaN    9.0      586.0         NaN   \n",
       "73  2020-04-14        1315.0        NaN   10.0      611.0         NaN   \n",
       "0   2020-04-15        1496.0        NaN   10.0      653.0         NaN   \n",
       "\n",
       "    hospitalised  hospitalised_critical  hospitalised_stable  negative  \\\n",
       "1            NaN                    NaN                  NaN     240.0   \n",
       "2            NaN                    NaN                  NaN     262.0   \n",
       "3            NaN                    NaN                  NaN     289.0   \n",
       "4            NaN                    NaN                  NaN     295.0   \n",
       "5            NaN                    NaN                  NaN     310.0   \n",
       "..           ...                    ...                  ...       ...   \n",
       "70           NaN                   31.0                912.0       NaN   \n",
       "71           NaN                   31.0                945.0       NaN   \n",
       "72           NaN                   29.0               1129.0       NaN   \n",
       "73           NaN                   28.0               1287.0       NaN   \n",
       "0            NaN                   26.0               1470.0       NaN   \n",
       "\n",
       "    pending  \n",
       "1      43.0  \n",
       "2      32.0  \n",
       "3      20.0  \n",
       "4      62.0  \n",
       "5     147.0  \n",
       "..      ...  \n",
       "70      NaN  \n",
       "71      NaN  \n",
       "72      NaN  \n",
       "73      NaN  \n",
       "0       NaN  \n",
       "\n",
       "[74 rows x 11 columns]"
      ]
     },
     "execution_count": 23,
     "metadata": {},
     "output_type": "execute_result"
    }
   ],
   "source": [
    "df.sort_values(by=['datetime'], inplace=True)\n",
    "df"
   ]
  },
  {
   "cell_type": "code",
   "execution_count": 24,
   "metadata": {},
   "outputs": [],
   "source": [
    "df.to_csv(csv_file, index=False)\n"
   ]
  },
  {
   "cell_type": "code",
   "execution_count": null,
   "metadata": {},
   "outputs": [],
   "source": []
  }
 ],
 "metadata": {
  "kernelspec": {
   "display_name": "Python 3",
   "language": "python",
   "name": "python3"
  },
  "language_info": {
   "codemirror_mode": {
    "name": "ipython",
    "version": 3
   },
   "file_extension": ".py",
   "mimetype": "text/x-python",
   "name": "python",
   "nbconvert_exporter": "python",
   "pygments_lexer": "ipython3",
   "version": "3.7.6"
  }
 },
 "nbformat": 4,
 "nbformat_minor": 2
}
